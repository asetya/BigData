{
  "nbformat": 4,
  "nbformat_minor": 0,
  "metadata": {
    "colab": {
      "name": "Sound_prep.ipynb",
      "provenance": [],
      "collapsed_sections": [],
      "include_colab_link": true
    },
    "kernelspec": {
      "display_name": "Python 3",
      "name": "python3"
    }
  },
  "cells": [
    {
      "cell_type": "markdown",
      "metadata": {
        "id": "view-in-github",
        "colab_type": "text"
      },
      "source": [
        "<a href=\"https://colab.research.google.com/github/asetya/BigData/blob/master/Sound_prep.ipynb\" target=\"_parent\"><img src=\"https://colab.research.google.com/assets/colab-badge.svg\" alt=\"Open In Colab\"/></a>"
      ]
    },
    {
      "cell_type": "code",
      "metadata": {
        "colab": {
          "base_uri": "https://localhost:8080/"
        },
        "id": "nNRLr6_XgTQK",
        "outputId": "57a97e9f-200b-4572-d1c8-c8ec2d357249"
      },
      "source": [
        "from google.colab import drive\r\n",
        "drive.mount('/content/drive')"
      ],
      "execution_count": 128,
      "outputs": [
        {
          "output_type": "stream",
          "text": [
            "Drive already mounted at /content/drive; to attempt to forcibly remount, call drive.mount(\"/content/drive\", force_remount=True).\n"
          ],
          "name": "stdout"
        }
      ]
    },
    {
      "cell_type": "code",
      "metadata": {
        "id": "HuDKiNntgk3D"
      },
      "source": [
        "!cp /content/drive/My\\ Drive/Colab\\ Notebooks/EthnicSound/audio.zip /content/ "
      ],
      "execution_count": 129,
      "outputs": []
    },
    {
      "cell_type": "code",
      "metadata": {
        "colab": {
          "base_uri": "https://localhost:8080/"
        },
        "id": "rXbKoWWcrQpz",
        "outputId": "5baf2f50-00d1-44bd-f391-d29d711044d2"
      },
      "source": [
        "!unzip /content/audio.zip"
      ],
      "execution_count": 130,
      "outputs": [
        {
          "output_type": "stream",
          "text": [
            "Archive:  /content/audio.zip\n",
            "replace audio/.DS_Store? [y]es, [n]o, [A]ll, [N]one, [r]ename: A\n",
            "  inflating: audio/.DS_Store         \n",
            "  inflating: audio/10001-0-0-0.wav   \n",
            "  inflating: audio/10001-0-0-1.wav   \n",
            "  inflating: audio/10001-0-0-2.wav   \n",
            "  inflating: audio/10001-0-0-3.wav   \n",
            "  inflating: audio/10001-0-0-4.wav   \n",
            "  inflating: audio/10001-0-0-5.wav   \n",
            "  inflating: audio/10001-0-0-6.wav   \n",
            "  inflating: audio/10001-0-0-7.wav   \n",
            "  inflating: audio/10001-0-0-8.wav   \n",
            "  inflating: audio/10002-1-0-1.wav   \n",
            "  inflating: audio/10002-1-0-10.wav  \n",
            "  inflating: audio/10002-1-0-2.wav   \n",
            "  inflating: audio/10002-1-0-3.wav   \n",
            "  inflating: audio/10002-1-0-4.wav   \n",
            "  inflating: audio/10002-1-0-5.wav   \n",
            "  inflating: audio/10002-1-0-6.wav   \n",
            "  inflating: audio/10002-1-0-7.wav   \n",
            "  inflating: audio/10002-1-0-8.wav   \n",
            "  inflating: audio/10002-1-0-9.wav   \n",
            "  inflating: audio/10003-2-0-1.wav   \n",
            "  inflating: audio/10003-2-0-2.wav   \n",
            "  inflating: audio/10003-2-0-3.wav   \n",
            "  inflating: audio/10003-2-0-4.wav   \n",
            "  inflating: audio/10003-2-0-5.wav   \n",
            "  inflating: audio/10003-2-0-6.wav   \n",
            "  inflating: audio/10003-2-0-7.wav   \n",
            "  inflating: audio/10003-2-0-8.wav   \n",
            "  inflating: audio/10004-3-0-1.wav   \n",
            "  inflating: audio/10004-3-0-10.wav  \n",
            "  inflating: audio/10004-3-0-2.wav   \n",
            "  inflating: audio/10004-3-0-3.wav   \n",
            "  inflating: audio/10004-3-0-4.wav   \n",
            "  inflating: audio/10004-3-0-5.wav   \n",
            "  inflating: audio/10004-3-0-6.wav   \n",
            "  inflating: audio/10004-3-0-7.wav   \n",
            "  inflating: audio/10004-3-0-8.wav   \n",
            "  inflating: audio/10004-3-0-9.wav   \n",
            "  inflating: audio/10005-4-0-1.wav   \n",
            "  inflating: audio/10005-4-0-2.wav   \n",
            "  inflating: audio/10005-4-0-3.wav   \n",
            "  inflating: audio/10005-4-0-4.wav   \n",
            "  inflating: audio/10006-5-0-1.wav   \n",
            "  inflating: audio/10006-5-0-2.wav   \n",
            "  inflating: audio/10006-5-0-3.wav   \n",
            "  inflating: audio/10006-5-0-4.wav   \n",
            "  inflating: audio/10006-5-0-5.wav   \n",
            "  inflating: audio/10007-6-0-1.wav   \n",
            "  inflating: audio/10007-6-0-2.wav   \n",
            "  inflating: audio/10007-6-0-3.wav   \n",
            "  inflating: audio/10007-6-0-4.wav   \n",
            "  inflating: audio/10007-6-0-5.wav   \n",
            "  inflating: audio/10007-6-0-6.wav   \n",
            "  inflating: audio/10007-6-0-7.wav   \n",
            "  inflating: audio/10008-7-0-1.wav   \n",
            "  inflating: audio/10008-7-0-10.wav  \n",
            "  inflating: audio/10008-7-0-2.wav   \n",
            "  inflating: audio/10008-7-0-3.wav   \n",
            "  inflating: audio/10008-7-0-4.wav   \n",
            "  inflating: audio/10008-7-0-5.wav   \n",
            "  inflating: audio/10008-7-0-6.wav   \n",
            "  inflating: audio/10008-7-0-7.wav   \n",
            "  inflating: audio/10008-7-0-8.wav   \n",
            "  inflating: audio/10008-7-0-9.wav   \n",
            "  inflating: audio/data alat musik/.DS_Store  \n",
            "  inflating: audio/data alat musik/10001-0-0-0.wav  \n",
            "  inflating: audio/data alat musik/10001-0-0-1.wav  \n",
            "  inflating: audio/data alat musik/10001-0-0-2.wav  \n",
            "  inflating: audio/data alat musik/10001-0-0-3.wav  \n",
            "  inflating: audio/data alat musik/10001-0-0-4.wav  \n",
            "  inflating: audio/data alat musik/10001-0-0-5.wav  \n",
            "  inflating: audio/data alat musik/10001-0-0-6.wav  \n",
            "  inflating: audio/data alat musik/10001-0-0-7.wav  \n",
            "  inflating: audio/data alat musik/10002-1-0-1.wav  \n",
            "  inflating: audio/data alat musik/10002-1-0-10.wav  \n",
            "  inflating: audio/data alat musik/10002-1-0-2.wav  \n",
            "  inflating: audio/data alat musik/10002-1-0-3.wav  \n",
            "  inflating: audio/data alat musik/10002-1-0-4.wav  \n",
            "  inflating: audio/data alat musik/10002-1-0-5.wav  \n",
            "  inflating: audio/data alat musik/10002-1-0-6.wav  \n",
            "  inflating: audio/data alat musik/10002-1-0-7.wav  \n",
            "  inflating: audio/data alat musik/10002-1-0-8.wav  \n",
            "  inflating: audio/data alat musik/10002-1-0-9.wav  \n",
            "  inflating: audio/data alat musik/10003-2-0-1.wav  \n",
            "  inflating: audio/data alat musik/10003-2-0-2.wav  \n",
            "  inflating: audio/data alat musik/10003-2-0-3.wav  \n",
            "  inflating: audio/data alat musik/10003-2-0-4.wav  \n",
            "  inflating: audio/data alat musik/10003-2-0-5.wav  \n",
            "  inflating: audio/data alat musik/10003-2-0-6.wav  \n",
            "  inflating: audio/data alat musik/10003-2-0-7.wav  \n",
            "  inflating: audio/data alat musik/10003-2-0-8.wav  \n",
            "  inflating: audio/data alat musik/10004-3-0-1.wav  \n",
            "  inflating: audio/data alat musik/10004-3-0-10.wav  \n",
            "  inflating: audio/data alat musik/10004-3-0-2.wav  \n",
            "  inflating: audio/data alat musik/10004-3-0-3.wav  \n",
            "  inflating: audio/data alat musik/10004-3-0-4.wav  \n",
            "  inflating: audio/data alat musik/10004-3-0-5.wav  \n",
            "  inflating: audio/data alat musik/10004-3-0-6.wav  \n",
            "  inflating: audio/data alat musik/10004-3-0-7.wav  \n",
            "  inflating: audio/data alat musik/10004-3-0-8.wav  \n",
            "  inflating: audio/data alat musik/10004-3-0-9.wav  \n",
            "  inflating: audio/data alat musik/10005-4-0-1.wav  \n",
            "  inflating: audio/data alat musik/10005-4-0-2.wav  \n",
            "  inflating: audio/data alat musik/10005-4-0-3.wav  \n",
            "  inflating: audio/data alat musik/10005-4-0-4.wav  \n",
            "  inflating: audio/data alat musik/10006-5-0-1.wav  \n",
            "  inflating: audio/data alat musik/10006-5-0-2.wav  \n",
            "  inflating: audio/data alat musik/10006-5-0-3.wav  \n",
            "  inflating: audio/data alat musik/10006-5-0-4.wav  \n",
            "  inflating: audio/data alat musik/10006-5-0-5.wav  \n",
            "  inflating: audio/data alat musik/10007-6-0-1.wav  \n",
            "  inflating: audio/data alat musik/10007-6-0-2.wav  \n",
            "  inflating: audio/data alat musik/10007-6-0-3.wav  \n",
            "  inflating: audio/data alat musik/10007-6-0-4.wav  \n",
            "  inflating: audio/data alat musik/10007-6-0-5.wav  \n",
            "  inflating: audio/data alat musik/10007-6-0-6.wav  \n",
            "  inflating: audio/data alat musik/10007-6-0-7.wav  \n",
            "  inflating: audio/data alat musik/10008-7-0-1.wav  \n",
            "  inflating: audio/data alat musik/10008-7-0-10.wav  \n",
            "  inflating: audio/data alat musik/10008-7-0-2.wav  \n",
            "  inflating: audio/data alat musik/10008-7-0-3.wav  \n",
            "  inflating: audio/data alat musik/10008-7-0-4.wav  \n",
            "  inflating: audio/data alat musik/10008-7-0-5.wav  \n",
            "  inflating: audio/data alat musik/10008-7-0-6.wav  \n",
            "  inflating: audio/data alat musik/10008-7-0-7.wav  \n",
            "  inflating: audio/data alat musik/10008-7-0-8.wav  \n",
            "  inflating: audio/data alat musik/10008-7-0-9.wav  \n",
            "  inflating: audio/dog_bark_1.wav    \n",
            "  inflating: audio/WhatsApp Image 2021-02-05 at 11.10.13.jpeg  \n"
          ],
          "name": "stdout"
        }
      ]
    },
    {
      "cell_type": "code",
      "metadata": {
        "colab": {
          "base_uri": "https://localhost:8080/",
          "height": 459
        },
        "id": "Xvvzzd2ueqHP",
        "outputId": "35c63f51-dc37-4396-963e-bf03dd695b29"
      },
      "source": [
        "import librosa \r\n",
        "from scipy.io import wavfile as wav\r\n",
        "import numpy as np\r\n",
        "filename = '/audio/dog_bark_1.wav' \r\n",
        "#filename = '../EthnicSound Dataset sample/audio/dog_bark_1.wav'\r\n",
        "\r\n",
        "#import librosa    \r\n",
        "#y, s = librosa.load('test.wav', sr=8000)\r\n",
        "librosa_audio, librosa_sample_rate = librosa.load(filename) \r\n",
        "scipy_sample_rate, scipy_audio = wav.read(filename,'r') \r\n",
        "\r\n",
        "print('Original sample rate:', scipy_sample_rate) \r\n",
        "print('Librosa sample rate:', librosa_sample_rate) "
      ],
      "execution_count": null,
      "outputs": [
        {
          "output_type": "stream",
          "text": [
            "/usr/local/lib/python3.6/dist-packages/librosa/core/audio.py:162: UserWarning: PySoundFile failed. Trying audioread instead.\n",
            "  warnings.warn(\"PySoundFile failed. Trying audioread instead.\")\n"
          ],
          "name": "stderr"
        },
        {
          "output_type": "error",
          "ename": "FileNotFoundError",
          "evalue": "ignored",
          "traceback": [
            "\u001b[0;31m---------------------------------------------------------------------------\u001b[0m",
            "\u001b[0;31mRuntimeError\u001b[0m                              Traceback (most recent call last)",
            "\u001b[0;32m/usr/local/lib/python3.6/dist-packages/librosa/core/audio.py\u001b[0m in \u001b[0;36mload\u001b[0;34m(path, sr, mono, offset, duration, dtype, res_type)\u001b[0m\n\u001b[1;32m    145\u001b[0m     \u001b[0;32mtry\u001b[0m\u001b[0;34m:\u001b[0m\u001b[0;34m\u001b[0m\u001b[0;34m\u001b[0m\u001b[0m\n\u001b[0;32m--> 146\u001b[0;31m         \u001b[0;32mwith\u001b[0m \u001b[0msf\u001b[0m\u001b[0;34m.\u001b[0m\u001b[0mSoundFile\u001b[0m\u001b[0;34m(\u001b[0m\u001b[0mpath\u001b[0m\u001b[0;34m)\u001b[0m \u001b[0;32mas\u001b[0m \u001b[0msf_desc\u001b[0m\u001b[0;34m:\u001b[0m\u001b[0;34m\u001b[0m\u001b[0;34m\u001b[0m\u001b[0m\n\u001b[0m\u001b[1;32m    147\u001b[0m             \u001b[0msr_native\u001b[0m \u001b[0;34m=\u001b[0m \u001b[0msf_desc\u001b[0m\u001b[0;34m.\u001b[0m\u001b[0msamplerate\u001b[0m\u001b[0;34m\u001b[0m\u001b[0;34m\u001b[0m\u001b[0m\n",
            "\u001b[0;32m/usr/local/lib/python3.6/dist-packages/soundfile.py\u001b[0m in \u001b[0;36m__init__\u001b[0;34m(self, file, mode, samplerate, channels, subtype, endian, format, closefd)\u001b[0m\n\u001b[1;32m    628\u001b[0m                                          format, subtype, endian)\n\u001b[0;32m--> 629\u001b[0;31m         \u001b[0mself\u001b[0m\u001b[0;34m.\u001b[0m\u001b[0m_file\u001b[0m \u001b[0;34m=\u001b[0m \u001b[0mself\u001b[0m\u001b[0;34m.\u001b[0m\u001b[0m_open\u001b[0m\u001b[0;34m(\u001b[0m\u001b[0mfile\u001b[0m\u001b[0;34m,\u001b[0m \u001b[0mmode_int\u001b[0m\u001b[0;34m,\u001b[0m \u001b[0mclosefd\u001b[0m\u001b[0;34m)\u001b[0m\u001b[0;34m\u001b[0m\u001b[0;34m\u001b[0m\u001b[0m\n\u001b[0m\u001b[1;32m    630\u001b[0m         \u001b[0;32mif\u001b[0m \u001b[0mset\u001b[0m\u001b[0;34m(\u001b[0m\u001b[0mmode\u001b[0m\u001b[0;34m)\u001b[0m\u001b[0;34m.\u001b[0m\u001b[0missuperset\u001b[0m\u001b[0;34m(\u001b[0m\u001b[0;34m'r+'\u001b[0m\u001b[0;34m)\u001b[0m \u001b[0;32mand\u001b[0m \u001b[0mself\u001b[0m\u001b[0;34m.\u001b[0m\u001b[0mseekable\u001b[0m\u001b[0;34m(\u001b[0m\u001b[0;34m)\u001b[0m\u001b[0;34m:\u001b[0m\u001b[0;34m\u001b[0m\u001b[0;34m\u001b[0m\u001b[0m\n",
            "\u001b[0;32m/usr/local/lib/python3.6/dist-packages/soundfile.py\u001b[0m in \u001b[0;36m_open\u001b[0;34m(self, file, mode_int, closefd)\u001b[0m\n\u001b[1;32m   1183\u001b[0m         _error_check(_snd.sf_error(file_ptr),\n\u001b[0;32m-> 1184\u001b[0;31m                      \"Error opening {0!r}: \".format(self.name))\n\u001b[0m\u001b[1;32m   1185\u001b[0m         \u001b[0;32mif\u001b[0m \u001b[0mmode_int\u001b[0m \u001b[0;34m==\u001b[0m \u001b[0m_snd\u001b[0m\u001b[0;34m.\u001b[0m\u001b[0mSFM_WRITE\u001b[0m\u001b[0;34m:\u001b[0m\u001b[0;34m\u001b[0m\u001b[0;34m\u001b[0m\u001b[0m\n",
            "\u001b[0;32m/usr/local/lib/python3.6/dist-packages/soundfile.py\u001b[0m in \u001b[0;36m_error_check\u001b[0;34m(err, prefix)\u001b[0m\n\u001b[1;32m   1356\u001b[0m         \u001b[0merr_str\u001b[0m \u001b[0;34m=\u001b[0m \u001b[0m_snd\u001b[0m\u001b[0;34m.\u001b[0m\u001b[0msf_error_number\u001b[0m\u001b[0;34m(\u001b[0m\u001b[0merr\u001b[0m\u001b[0;34m)\u001b[0m\u001b[0;34m\u001b[0m\u001b[0;34m\u001b[0m\u001b[0m\n\u001b[0;32m-> 1357\u001b[0;31m         \u001b[0;32mraise\u001b[0m \u001b[0mRuntimeError\u001b[0m\u001b[0;34m(\u001b[0m\u001b[0mprefix\u001b[0m \u001b[0;34m+\u001b[0m \u001b[0m_ffi\u001b[0m\u001b[0;34m.\u001b[0m\u001b[0mstring\u001b[0m\u001b[0;34m(\u001b[0m\u001b[0merr_str\u001b[0m\u001b[0;34m)\u001b[0m\u001b[0;34m.\u001b[0m\u001b[0mdecode\u001b[0m\u001b[0;34m(\u001b[0m\u001b[0;34m'utf-8'\u001b[0m\u001b[0;34m,\u001b[0m \u001b[0;34m'replace'\u001b[0m\u001b[0;34m)\u001b[0m\u001b[0;34m)\u001b[0m\u001b[0;34m\u001b[0m\u001b[0;34m\u001b[0m\u001b[0m\n\u001b[0m\u001b[1;32m   1358\u001b[0m \u001b[0;34m\u001b[0m\u001b[0m\n",
            "\u001b[0;31mRuntimeError\u001b[0m: Error opening '/audio/dog_bark_1.wav': System error.",
            "\nDuring handling of the above exception, another exception occurred:\n",
            "\u001b[0;31mFileNotFoundError\u001b[0m                         Traceback (most recent call last)",
            "\u001b[0;32m<ipython-input-17-43a8189c8e8b>\u001b[0m in \u001b[0;36m<module>\u001b[0;34m()\u001b[0m\n\u001b[1;32m      7\u001b[0m \u001b[0;31m#import librosa\u001b[0m\u001b[0;34m\u001b[0m\u001b[0;34m\u001b[0m\u001b[0;34m\u001b[0m\u001b[0m\n\u001b[1;32m      8\u001b[0m \u001b[0;31m#y, s = librosa.load('test.wav', sr=8000)\u001b[0m\u001b[0;34m\u001b[0m\u001b[0;34m\u001b[0m\u001b[0;34m\u001b[0m\u001b[0m\n\u001b[0;32m----> 9\u001b[0;31m \u001b[0mlibrosa_audio\u001b[0m\u001b[0;34m,\u001b[0m \u001b[0mlibrosa_sample_rate\u001b[0m \u001b[0;34m=\u001b[0m \u001b[0mlibrosa\u001b[0m\u001b[0;34m.\u001b[0m\u001b[0mload\u001b[0m\u001b[0;34m(\u001b[0m\u001b[0mfilename\u001b[0m\u001b[0;34m)\u001b[0m\u001b[0;34m\u001b[0m\u001b[0;34m\u001b[0m\u001b[0m\n\u001b[0m\u001b[1;32m     10\u001b[0m \u001b[0mscipy_sample_rate\u001b[0m\u001b[0;34m,\u001b[0m \u001b[0mscipy_audio\u001b[0m \u001b[0;34m=\u001b[0m \u001b[0mwav\u001b[0m\u001b[0;34m.\u001b[0m\u001b[0mread\u001b[0m\u001b[0;34m(\u001b[0m\u001b[0mfilename\u001b[0m\u001b[0;34m,\u001b[0m\u001b[0;34m'r'\u001b[0m\u001b[0;34m)\u001b[0m\u001b[0;34m\u001b[0m\u001b[0;34m\u001b[0m\u001b[0m\n\u001b[1;32m     11\u001b[0m \u001b[0;34m\u001b[0m\u001b[0m\n",
            "\u001b[0;32m/usr/local/lib/python3.6/dist-packages/librosa/core/audio.py\u001b[0m in \u001b[0;36mload\u001b[0;34m(path, sr, mono, offset, duration, dtype, res_type)\u001b[0m\n\u001b[1;32m    161\u001b[0m         \u001b[0;32mif\u001b[0m \u001b[0misinstance\u001b[0m\u001b[0;34m(\u001b[0m\u001b[0mpath\u001b[0m\u001b[0;34m,\u001b[0m \u001b[0;34m(\u001b[0m\u001b[0mstr\u001b[0m\u001b[0;34m,\u001b[0m \u001b[0mpathlib\u001b[0m\u001b[0;34m.\u001b[0m\u001b[0mPurePath\u001b[0m\u001b[0;34m)\u001b[0m\u001b[0;34m)\u001b[0m\u001b[0;34m:\u001b[0m\u001b[0;34m\u001b[0m\u001b[0;34m\u001b[0m\u001b[0m\n\u001b[1;32m    162\u001b[0m             \u001b[0mwarnings\u001b[0m\u001b[0;34m.\u001b[0m\u001b[0mwarn\u001b[0m\u001b[0;34m(\u001b[0m\u001b[0;34m\"PySoundFile failed. Trying audioread instead.\"\u001b[0m\u001b[0;34m)\u001b[0m\u001b[0;34m\u001b[0m\u001b[0;34m\u001b[0m\u001b[0m\n\u001b[0;32m--> 163\u001b[0;31m             \u001b[0my\u001b[0m\u001b[0;34m,\u001b[0m \u001b[0msr_native\u001b[0m \u001b[0;34m=\u001b[0m \u001b[0m__audioread_load\u001b[0m\u001b[0;34m(\u001b[0m\u001b[0mpath\u001b[0m\u001b[0;34m,\u001b[0m \u001b[0moffset\u001b[0m\u001b[0;34m,\u001b[0m \u001b[0mduration\u001b[0m\u001b[0;34m,\u001b[0m \u001b[0mdtype\u001b[0m\u001b[0;34m)\u001b[0m\u001b[0;34m\u001b[0m\u001b[0;34m\u001b[0m\u001b[0m\n\u001b[0m\u001b[1;32m    164\u001b[0m         \u001b[0;32melse\u001b[0m\u001b[0;34m:\u001b[0m\u001b[0;34m\u001b[0m\u001b[0;34m\u001b[0m\u001b[0m\n\u001b[1;32m    165\u001b[0m             \u001b[0;32mraise\u001b[0m \u001b[0;34m(\u001b[0m\u001b[0mexc\u001b[0m\u001b[0;34m)\u001b[0m\u001b[0;34m\u001b[0m\u001b[0;34m\u001b[0m\u001b[0m\n",
            "\u001b[0;32m/usr/local/lib/python3.6/dist-packages/librosa/core/audio.py\u001b[0m in \u001b[0;36m__audioread_load\u001b[0;34m(path, offset, duration, dtype)\u001b[0m\n\u001b[1;32m    185\u001b[0m \u001b[0;34m\u001b[0m\u001b[0m\n\u001b[1;32m    186\u001b[0m     \u001b[0my\u001b[0m \u001b[0;34m=\u001b[0m \u001b[0;34m[\u001b[0m\u001b[0;34m]\u001b[0m\u001b[0;34m\u001b[0m\u001b[0;34m\u001b[0m\u001b[0m\n\u001b[0;32m--> 187\u001b[0;31m     \u001b[0;32mwith\u001b[0m \u001b[0maudioread\u001b[0m\u001b[0;34m.\u001b[0m\u001b[0maudio_open\u001b[0m\u001b[0;34m(\u001b[0m\u001b[0mpath\u001b[0m\u001b[0;34m)\u001b[0m \u001b[0;32mas\u001b[0m \u001b[0minput_file\u001b[0m\u001b[0;34m:\u001b[0m\u001b[0;34m\u001b[0m\u001b[0;34m\u001b[0m\u001b[0m\n\u001b[0m\u001b[1;32m    188\u001b[0m         \u001b[0msr_native\u001b[0m \u001b[0;34m=\u001b[0m \u001b[0minput_file\u001b[0m\u001b[0;34m.\u001b[0m\u001b[0msamplerate\u001b[0m\u001b[0;34m\u001b[0m\u001b[0;34m\u001b[0m\u001b[0m\n\u001b[1;32m    189\u001b[0m         \u001b[0mn_channels\u001b[0m \u001b[0;34m=\u001b[0m \u001b[0minput_file\u001b[0m\u001b[0;34m.\u001b[0m\u001b[0mchannels\u001b[0m\u001b[0;34m\u001b[0m\u001b[0;34m\u001b[0m\u001b[0m\n",
            "\u001b[0;32m/usr/local/lib/python3.6/dist-packages/audioread/__init__.py\u001b[0m in \u001b[0;36maudio_open\u001b[0;34m(path, backends)\u001b[0m\n\u001b[1;32m    109\u001b[0m     \u001b[0;32mfor\u001b[0m \u001b[0mBackendClass\u001b[0m \u001b[0;32min\u001b[0m \u001b[0mbackends\u001b[0m\u001b[0;34m:\u001b[0m\u001b[0;34m\u001b[0m\u001b[0;34m\u001b[0m\u001b[0m\n\u001b[1;32m    110\u001b[0m         \u001b[0;32mtry\u001b[0m\u001b[0;34m:\u001b[0m\u001b[0;34m\u001b[0m\u001b[0;34m\u001b[0m\u001b[0m\n\u001b[0;32m--> 111\u001b[0;31m             \u001b[0;32mreturn\u001b[0m \u001b[0mBackendClass\u001b[0m\u001b[0;34m(\u001b[0m\u001b[0mpath\u001b[0m\u001b[0;34m)\u001b[0m\u001b[0;34m\u001b[0m\u001b[0;34m\u001b[0m\u001b[0m\n\u001b[0m\u001b[1;32m    112\u001b[0m         \u001b[0;32mexcept\u001b[0m \u001b[0mDecodeError\u001b[0m\u001b[0;34m:\u001b[0m\u001b[0;34m\u001b[0m\u001b[0;34m\u001b[0m\u001b[0m\n\u001b[1;32m    113\u001b[0m             \u001b[0;32mpass\u001b[0m\u001b[0;34m\u001b[0m\u001b[0;34m\u001b[0m\u001b[0m\n",
            "\u001b[0;32m/usr/local/lib/python3.6/dist-packages/audioread/rawread.py\u001b[0m in \u001b[0;36m__init__\u001b[0;34m(self, filename)\u001b[0m\n\u001b[1;32m     60\u001b[0m     \"\"\"\n\u001b[1;32m     61\u001b[0m     \u001b[0;32mdef\u001b[0m \u001b[0m__init__\u001b[0m\u001b[0;34m(\u001b[0m\u001b[0mself\u001b[0m\u001b[0;34m,\u001b[0m \u001b[0mfilename\u001b[0m\u001b[0;34m)\u001b[0m\u001b[0;34m:\u001b[0m\u001b[0;34m\u001b[0m\u001b[0;34m\u001b[0m\u001b[0m\n\u001b[0;32m---> 62\u001b[0;31m         \u001b[0mself\u001b[0m\u001b[0;34m.\u001b[0m\u001b[0m_fh\u001b[0m \u001b[0;34m=\u001b[0m \u001b[0mopen\u001b[0m\u001b[0;34m(\u001b[0m\u001b[0mfilename\u001b[0m\u001b[0;34m,\u001b[0m \u001b[0;34m'rb'\u001b[0m\u001b[0;34m)\u001b[0m\u001b[0;34m\u001b[0m\u001b[0;34m\u001b[0m\u001b[0m\n\u001b[0m\u001b[1;32m     63\u001b[0m \u001b[0;34m\u001b[0m\u001b[0m\n\u001b[1;32m     64\u001b[0m         \u001b[0;32mtry\u001b[0m\u001b[0;34m:\u001b[0m\u001b[0;34m\u001b[0m\u001b[0;34m\u001b[0m\u001b[0m\n",
            "\u001b[0;31mFileNotFoundError\u001b[0m: [Errno 2] No such file or directory: '/audio/dog_bark_1.wav'"
          ]
        }
      ]
    },
    {
      "cell_type": "code",
      "metadata": {
        "colab": {
          "base_uri": "https://localhost:8080/"
        },
        "id": "EhXgbiYG11Ke",
        "outputId": "bb16ec23-1134-405d-a1d7-938793a785fe"
      },
      "source": [
        "print('Original audio file min~max range:', np.min(scipy_audio), 'to', np.max(scipy_audio))\r\n",
        "print('Librosa audio file min~max range:', np.min(librosa_audio), 'to', np.max(librosa_audio))"
      ],
      "execution_count": null,
      "outputs": [
        {
          "output_type": "stream",
          "text": [
            "Original audio file min~max range: -32768 to 32261\n",
            "Librosa audio file min~max range: -1.0626788 to 1.059092\n"
          ],
          "name": "stdout"
        }
      ]
    },
    {
      "cell_type": "code",
      "metadata": {
        "colab": {
          "base_uri": "https://localhost:8080/",
          "height": 282
        },
        "id": "UTfwXyRD16Au",
        "outputId": "2e1dcba5-57d2-4136-f4bf-d442bb4b6460"
      },
      "source": [
        "import matplotlib.pyplot as plt\r\n",
        "\r\n",
        "# Original audio with 2 channels \r\n",
        "plt.figure(figsize=(12, 4))\r\n",
        "plt.plot(scipy_audio)"
      ],
      "execution_count": null,
      "outputs": [
        {
          "output_type": "execute_result",
          "data": {
            "text/plain": [
              "[<matplotlib.lines.Line2D at 0x7f3f9a5e6e80>]"
            ]
          },
          "metadata": {
            "tags": []
          },
          "execution_count": 102
        },
        {
          "output_type": "display_data",
          "data": {
            "image/png": "[encoded data removed]",
            "text/plain": [
              "<Figure size 864x288 with 1 Axes>"
            ]
          },
          "metadata": {
            "tags": []
          }
        }
      ]
    },
    {
      "cell_type": "code",
      "metadata": {
        "colab": {
          "base_uri": "https://localhost:8080/"
        },
        "id": "ziINO1gQ2Db2",
        "outputId": "da7d74bf-ebcd-457c-e184-2b20d466f8f2"
      },
      "source": [
        "mfccs = librosa.feature.mfcc(y=librosa_audio, sr=librosa_sample_rate, n_mfcc=40)\r\n",
        "print(mfccs.shape)"
      ],
      "execution_count": null,
      "outputs": [
        {
          "output_type": "stream",
          "text": [
            "(40, 38)\n"
          ],
          "name": "stdout"
        }
      ]
    },
    {
      "cell_type": "code",
      "metadata": {
        "colab": {
          "base_uri": "https://localhost:8080/",
          "height": 296
        },
        "id": "f1PuX1vD2HZs",
        "outputId": "6d7f1ef8-eaf5-4f0b-a1b5-33b7e29d9cda"
      },
      "source": [
        "import librosa.display\r\n",
        "librosa.display.specshow(mfccs, sr=librosa_sample_rate, x_axis='time')\r\n"
      ],
      "execution_count": null,
      "outputs": [
        {
          "output_type": "execute_result",
          "data": {
            "text/plain": [
              "<matplotlib.collections.QuadMesh at 0x7f3f97ee6160>"
            ]
          },
          "metadata": {
            "tags": []
          },
          "execution_count": 104
        },
        {
          "output_type": "display_data",
          "data": {
            "image/png": "[encoded data removed]",
            "text/plain": [
              "<Figure size 432x288 with 1 Axes>"
            ]
          },
          "metadata": {
            "tags": []
          }
        }
      ]
    },
    {
      "cell_type": "code",
      "metadata": {
        "id": "ah_52ibu2Uq1"
      },
      "source": [
        "def extract_features(file_name):\r\n",
        "   \r\n",
        "    try:\r\n",
        "        audio, sample_rate = librosa.load(file_name, res_type='kaiser_fast') \r\n",
        "        mfccs = librosa.feature.mfcc(y=audio, sr=sample_rate, n_mfcc=40)\r\n",
        "        mfccsscaled = np.mean(mfccs.T,axis=0)\r\n",
        "        \r\n",
        "    except Exception as e:\r\n",
        "        print(\"Error encountered while parsing file: \", file)\r\n",
        "        return None \r\n",
        "     \r\n",
        "    return mfccsscaled"
      ],
      "execution_count": null,
      "outputs": []
    },
    {
      "cell_type": "markdown",
      "metadata": {
        "id": "RyUt2t6S2dMq"
      },
      "source": [
        "Upload Excel file "
      ]
    },
    {
      "cell_type": "code",
      "metadata": {
        "colab": {
          "resources": {
            "http://localhost:8080/nbextensions/google.colab/files.js": {
              "data": "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",
              "ok": true,
              "headers": [
                [
                  "content-type",
                  "application/javascript"
                ]
              ],
              "status": 200,
              "status_text": ""
            }
          },
          "base_uri": "https://localhost:8080/",
          "height": 72
        },
        "id": "rdGMdnQG5G23",
        "outputId": "5d20f10f-7763-4225-ecb7-2db22e161567"
      },
      "source": [
        "from google.colab import files \r\n",
        "  \r\n",
        "  \r\n",
        "uploaded = files.upload()"
      ],
      "execution_count": null,
      "outputs": [
        {
          "output_type": "display_data",
          "data": {
            "text/html": [
              "\n",
              "     <input type=\"file\" id=\"files-90a4a8d1-5edd-4acd-a11e-cb3b4b4481ad\" name=\"files[]\" multiple disabled\n",
              "        style=\"border:none\" />\n",
              "     <output id=\"result-90a4a8d1-5edd-4acd-a11e-cb3b4b4481ad\">\n",
              "      Upload widget is only available when the cell has been executed in the\n",
              "      current browser session. Please rerun this cell to enable.\n",
              "      </output>\n",
              "      <script src=\"/nbextensions/google.colab/files.js\"></script> "
            ],
            "text/plain": [
              "<IPython.core.display.HTML object>"
            ]
          },
          "metadata": {
            "tags": []
          }
        },
        {
          "output_type": "stream",
          "text": [
            "Saving gamel.csv to gamel (1).csv\n"
          ],
          "name": "stdout"
        }
      ]
    },
    {
      "cell_type": "markdown",
      "metadata": {
        "id": "ei4TVUmY26EQ"
      },
      "source": [
        ""
      ]
    },
    {
      "cell_type": "code",
      "metadata": {
        "colab": {
          "base_uri": "https://localhost:8080/",
          "height": 231
        },
        "id": "ib4a3aW52bKQ",
        "outputId": "95e0ee67-d4c5-44a6-ed1a-a0bdcc14d07e"
      },
      "source": [
        "# Load various imports \r\n",
        "import pandas as pd\r\n",
        "import os\r\n",
        "\r\n",
        "import librosa\r\n",
        "\r\n",
        "# Set the path to the full UrbanSound dataset \r\n",
        "fulldatasetpath = 'audio'\r\n",
        "\r\n",
        "metadata = pd.read_csv(io.BytesIO(uploaded['gamel.csv']))\r\n",
        "\r\n",
        "features = []\r\n",
        "\r\n",
        "# Iterate through each sound file and extract the features \r\n",
        "for index, row in metadata.iterrows():\r\n",
        "    \r\n",
        "    #file_name = os.path.join(os.path.abspath(fulldatasetpath),'fold'+str(row[\"fold\"])+'/',str(row[\"slice_file_name\"]))\r\n",
        "    file_name = os.path.join(os.path.abspath(fulldatasetpath),str(row[\"slice_file_name\"]))\r\n",
        "    #print(file_name)\r\n",
        "    \r\n",
        "    class_label = row[\"class_name\"]\r\n",
        "    data = extract_features(file_name)\r\n",
        "    \r\n",
        "    features.append([data, class_label])\r\n",
        "\r\n",
        "# Convert into a Panda dataframe \r\n",
        "featuresdf = pd.DataFrame(features, columns=['feature','class_label'])\r\n",
        "\r\n",
        "print('Finished feature extraction from ', len(featuresdf), ' files') "
      ],
      "execution_count": null,
      "outputs": [
        {
          "output_type": "error",
          "ename": "NameError",
          "evalue": "ignored",
          "traceback": [
            "\u001b[0;31m---------------------------------------------------------------------------\u001b[0m",
            "\u001b[0;31mNameError\u001b[0m                                 Traceback (most recent call last)",
            "\u001b[0;32m<ipython-input-16-3bccb33881e3>\u001b[0m in \u001b[0;36m<module>\u001b[0;34m()\u001b[0m\n\u001b[1;32m      8\u001b[0m \u001b[0mfulldatasetpath\u001b[0m \u001b[0;34m=\u001b[0m \u001b[0;34m'F:/Udacity-ML-Capstone-master/EthnicSound Dataset sample/audio'\u001b[0m\u001b[0;34m\u001b[0m\u001b[0;34m\u001b[0m\u001b[0m\n\u001b[1;32m      9\u001b[0m \u001b[0;34m\u001b[0m\u001b[0m\n\u001b[0;32m---> 10\u001b[0;31m \u001b[0mmetadata\u001b[0m \u001b[0;34m=\u001b[0m \u001b[0mpd\u001b[0m\u001b[0;34m.\u001b[0m\u001b[0mread_csv\u001b[0m\u001b[0;34m(\u001b[0m\u001b[0mio\u001b[0m\u001b[0;34m.\u001b[0m\u001b[0mBytesIO\u001b[0m\u001b[0;34m(\u001b[0m\u001b[0muploaded\u001b[0m\u001b[0;34m[\u001b[0m\u001b[0;34m'gamel.csv'\u001b[0m\u001b[0;34m]\u001b[0m\u001b[0;34m)\u001b[0m\u001b[0;34m)\u001b[0m\u001b[0;34m\u001b[0m\u001b[0;34m\u001b[0m\u001b[0m\n\u001b[0m\u001b[1;32m     11\u001b[0m \u001b[0;34m\u001b[0m\u001b[0m\n\u001b[1;32m     12\u001b[0m \u001b[0mfeatures\u001b[0m \u001b[0;34m=\u001b[0m \u001b[0;34m[\u001b[0m\u001b[0;34m]\u001b[0m\u001b[0;34m\u001b[0m\u001b[0;34m\u001b[0m\u001b[0m\n",
            "\u001b[0;31mNameError\u001b[0m: name 'io' is not defined"
          ]
        }
      ]
    },
    {
      "cell_type": "code",
      "metadata": {
        "colab": {
          "base_uri": "https://localhost:8080/",
          "height": 419
        },
        "id": "cFhCulhb6VDy",
        "outputId": "3aba1732-3742-48b9-a271-28dfc9410347"
      },
      "source": [
        "featuresdf"
      ],
      "execution_count": null,
      "outputs": [
        {
          "output_type": "execute_result",
          "data": {
            "text/html": [
              "<div>\n",
              "<style scoped>\n",
              "    .dataframe tbody tr th:only-of-type {\n",
              "        vertical-align: middle;\n",
              "    }\n",
              "\n",
              "    .dataframe tbody tr th {\n",
              "        vertical-align: top;\n",
              "    }\n",
              "\n",
              "    .dataframe thead th {\n",
              "        text-align: right;\n",
              "    }\n",
              "</style>\n",
              "<table border=\"1\" class=\"dataframe\">\n",
              "  <thead>\n",
              "    <tr style=\"text-align: right;\">\n",
              "      <th></th>\n",
              "      <th>feature</th>\n",
              "      <th>class_label</th>\n",
              "    </tr>\n",
              "  </thead>\n",
              "  <tbody>\n",
              "    <tr>\n",
              "      <th>0</th>\n",
              "      <td>None</td>\n",
              "      <td>Angklung</td>\n",
              "    </tr>\n",
              "    <tr>\n",
              "      <th>1</th>\n",
              "      <td>None</td>\n",
              "      <td>Angklung</td>\n",
              "    </tr>\n",
              "    <tr>\n",
              "      <th>2</th>\n",
              "      <td>None</td>\n",
              "      <td>Angklung</td>\n",
              "    </tr>\n",
              "    <tr>\n",
              "      <th>3</th>\n",
              "      <td>None</td>\n",
              "      <td>Angklung</td>\n",
              "    </tr>\n",
              "    <tr>\n",
              "      <th>4</th>\n",
              "      <td>None</td>\n",
              "      <td>Angklung</td>\n",
              "    </tr>\n",
              "    <tr>\n",
              "      <th>...</th>\n",
              "      <td>...</td>\n",
              "      <td>...</td>\n",
              "    </tr>\n",
              "    <tr>\n",
              "      <th>57</th>\n",
              "      <td>None</td>\n",
              "      <td>Suling</td>\n",
              "    </tr>\n",
              "    <tr>\n",
              "      <th>58</th>\n",
              "      <td>None</td>\n",
              "      <td>Suling</td>\n",
              "    </tr>\n",
              "    <tr>\n",
              "      <th>59</th>\n",
              "      <td>None</td>\n",
              "      <td>Suling</td>\n",
              "    </tr>\n",
              "    <tr>\n",
              "      <th>60</th>\n",
              "      <td>None</td>\n",
              "      <td>Suling</td>\n",
              "    </tr>\n",
              "    <tr>\n",
              "      <th>61</th>\n",
              "      <td>None</td>\n",
              "      <td>Suling</td>\n",
              "    </tr>\n",
              "  </tbody>\n",
              "</table>\n",
              "<p>62 rows × 2 columns</p>\n",
              "</div>"
            ],
            "text/plain": [
              "   feature class_label\n",
              "0     None    Angklung\n",
              "1     None    Angklung\n",
              "2     None    Angklung\n",
              "3     None    Angklung\n",
              "4     None    Angklung\n",
              "..     ...         ...\n",
              "57    None      Suling\n",
              "58    None      Suling\n",
              "59    None      Suling\n",
              "60    None      Suling\n",
              "61    None      Suling\n",
              "\n",
              "[62 rows x 2 columns]"
            ]
          },
          "metadata": {
            "tags": []
          },
          "execution_count": 123
        }
      ]
    },
    {
      "cell_type": "code",
      "metadata": {
        "id": "o4-Htbbk6Z_F"
      },
      "source": [
        "from sklearn.preprocessing import LabelEncoder\r\n",
        "#from keras.utils import to_categorical\r\n",
        "\r\n",
        "# Convert features and corresponding classification labels into numpy arrays\r\n",
        "X = np.array(featuresdf.feature.tolist())\r\n",
        "y = np.array(featuresdf.class_label.tolist())\r\n",
        "\r\n",
        "# Encode the classification labels\r\n",
        "le = LabelEncoder()"
      ],
      "execution_count": null,
      "outputs": []
    },
    {
      "cell_type": "code",
      "metadata": {
        "id": "hBXaYLvy6kHH"
      },
      "source": [
        "from tensorflow.keras.utils import to_categorical\r\n",
        "\r\n",
        "yy = to_categorical(le.fit_transform(y)) "
      ],
      "execution_count": null,
      "outputs": []
    },
    {
      "cell_type": "code",
      "metadata": {
        "id": "xz1zduNl6qPd"
      },
      "source": [
        "# split the dataset \r\n",
        "from sklearn.model_selection import train_test_split \r\n",
        "\r\n",
        "x_train, x_test, y_train, y_test = train_test_split(X, yy, test_size=0.2, random_state = 42)"
      ],
      "execution_count": null,
      "outputs": []
    },
    {
      "cell_type": "code",
      "metadata": {
        "colab": {
          "base_uri": "https://localhost:8080/"
        },
        "id": "i3mhqFbm6t4O",
        "outputId": "d31845c4-07cf-4fdc-9a41-505ebd747be5"
      },
      "source": [
        "%store x_train \r\n",
        "%store x_test \r\n",
        "%store y_train \r\n",
        "%store y_test \r\n",
        "%store yy \r\n",
        "%store le"
      ],
      "execution_count": null,
      "outputs": [
        {
          "output_type": "stream",
          "text": [
            "Stored 'x_train' (ndarray)\n",
            "Stored 'x_test' (ndarray)\n",
            "Stored 'y_train' (ndarray)\n",
            "Stored 'y_test' (ndarray)\n",
            "Stored 'yy' (ndarray)\n",
            "Stored 'le' (LabelEncoder)\n"
          ],
          "name": "stdout"
        }
      ]
    },
    {
      "cell_type": "code",
      "metadata": {
        "id": "AkDJGPCO7Tzq"
      },
      "source": [
        "%store -r x_train \r\n",
        "%store -r x_test \r\n",
        "%store -r y_train \r\n",
        "%store -r y_test \r\n",
        "%store -r yy \r\n",
        "%store -r le"
      ],
      "execution_count": null,
      "outputs": []
    },
    {
      "cell_type": "code",
      "metadata": {
        "id": "jyZjtcOL7bIx"
      },
      "source": [
        "import numpy as np\r\n",
        "from keras.models import Sequential\r\n",
        "from keras.layers import Dense, Dropout, Activation, Flatten\r\n",
        "from keras.layers import Convolution2D, MaxPooling2D\r\n",
        "from keras.optimizers import Adam\r\n",
        "from keras.utils import np_utils\r\n",
        "from sklearn import metrics \r\n",
        "\r\n",
        "num_labels = yy.shape[1]\r\n",
        "filter_size = 2\r\n",
        "\r\n",
        "# Construct model \r\n",
        "model = Sequential()\r\n",
        "\r\n",
        "model.add(Dense(256, input_shape=(40,)))\r\n",
        "model.add(Activation('relu'))\r\n",
        "model.add(Dropout(0.5))\r\n",
        "\r\n",
        "model.add(Dense(256))\r\n",
        "model.add(Activation('relu'))\r\n",
        "model.add(Dropout(0.5))\r\n",
        "\r\n",
        "model.add(Dense(num_labels))\r\n",
        "model.add(Activation('softmax'))"
      ],
      "execution_count": null,
      "outputs": []
    },
    {
      "cell_type": "code",
      "metadata": {
        "id": "C0zJovzM7cz_"
      },
      "source": [
        "model.compile(loss='categorical_crossentropy', metrics=['accuracy'], optimizer='adam') "
      ],
      "execution_count": null,
      "outputs": []
    },
    {
      "cell_type": "code",
      "metadata": {
        "colab": {
          "base_uri": "https://localhost:8080/"
        },
        "id": "HCuA5-Ox7kp5",
        "outputId": "17dd52c3-31c8-4976-c4c1-949d47a87362"
      },
      "source": [
        "# Display model architecture summary \r\n",
        "model.summary()\r\n",
        "\r\n",
        "# Calculate pre-training accuracy \r\n",
        "score = model.evaluate(x_test, y_test, verbose=0)\r\n",
        "accuracy = 100*score[1]\r\n",
        "\r\n",
        "print(\"Pre-training accuracy: %.4f%%\" % accuracy)"
      ],
      "execution_count": null,
      "outputs": [
        {
          "output_type": "stream",
          "text": [
            "Model: \"sequential_2\"\n",
            "_________________________________________________________________\n",
            "Layer (type)                 Output Shape              Param #   \n",
            "=================================================================\n",
            "dense_6 (Dense)              (None, 256)               10496     \n",
            "_________________________________________________________________\n",
            "activation_6 (Activation)    (None, 256)               0         \n",
            "_________________________________________________________________\n",
            "dropout_4 (Dropout)          (None, 256)               0         \n",
            "_________________________________________________________________\n",
            "dense_7 (Dense)              (None, 256)               65792     \n",
            "_________________________________________________________________\n",
            "activation_7 (Activation)    (None, 256)               0         \n",
            "_________________________________________________________________\n",
            "dropout_5 (Dropout)          (None, 256)               0         \n",
            "_________________________________________________________________\n",
            "dense_8 (Dense)              (None, 8)                 2056      \n",
            "_________________________________________________________________\n",
            "activation_8 (Activation)    (None, 8)                 0         \n",
            "=================================================================\n",
            "Total params: 78,344\n",
            "Trainable params: 78,344\n",
            "Non-trainable params: 0\n",
            "_________________________________________________________________\n",
            "Pre-training accuracy: 15.3846%\n"
          ],
          "name": "stdout"
        }
      ]
    },
    {
      "cell_type": "code",
      "metadata": {
        "colab": {
          "base_uri": "https://localhost:8080/"
        },
        "id": "kskHdqVY7q1g",
        "outputId": "4e1b4717-54e2-4b73-d119-71ca02a0dd03"
      },
      "source": [
        "from keras.callbacks import ModelCheckpoint \r\n",
        "from datetime import datetime \r\n",
        "\r\n",
        "num_epochs = 100\r\n",
        "num_batch_size = 32\r\n",
        "\r\n",
        "checkpointer = ModelCheckpoint(filepath='saved_models/weights.best.basic_mlp.hdf5', \r\n",
        "                               verbose=1, save_best_only=True)\r\n",
        "start = datetime.now()\r\n",
        "\r\n",
        "model.fit(x_train, y_train, batch_size=num_batch_size, epochs=num_epochs, validation_data=(x_test, y_test), callbacks=[checkpointer], verbose=1)\r\n",
        "\r\n",
        "\r\n",
        "duration = datetime.now() - start\r\n",
        "print(\"Training completed in time: \", duration)"
      ],
      "execution_count": null,
      "outputs": [
        {
          "output_type": "stream",
          "text": [
            "Epoch 1/100\n",
            "2/2 [==============================] - 1s 111ms/step - loss: 91.9996 - accuracy: 0.1020 - val_loss: 20.6487 - val_accuracy: 0.1538\n",
            "\n",
            "Epoch 00001: val_loss improved from inf to 20.64870, saving model to saved_models/weights.best.basic_mlp.hdf5\n",
            "Epoch 2/100\n",
            "2/2 [==============================] - 0s 44ms/step - loss: 62.8245 - accuracy: 0.1224 - val_loss: 25.1930 - val_accuracy: 0.1538\n",
            "\n",
            "Epoch 00002: val_loss did not improve from 20.64870\n",
            "Epoch 3/100\n",
            "2/2 [==============================] - 0s 44ms/step - loss: 59.4802 - accuracy: 0.0816 - val_loss: 32.5725 - val_accuracy: 0.0769\n",
            "\n",
            "Epoch 00003: val_loss did not improve from 20.64870\n",
            "Epoch 4/100\n",
            "2/2 [==============================] - 0s 45ms/step - loss: 55.5091 - accuracy: 0.1020 - val_loss: 30.4937 - val_accuracy: 0.0769\n",
            "\n",
            "Epoch 00004: val_loss did not improve from 20.64870\n",
            "Epoch 5/100\n",
            "2/2 [==============================] - 0s 46ms/step - loss: 44.6119 - accuracy: 0.1224 - val_loss: 22.9055 - val_accuracy: 0.1538\n",
            "\n",
            "Epoch 00005: val_loss did not improve from 20.64870\n",
            "Epoch 6/100\n",
            "2/2 [==============================] - 0s 51ms/step - loss: 37.1893 - accuracy: 0.1633 - val_loss: 16.4424 - val_accuracy: 0.3077\n",
            "\n",
            "Epoch 00006: val_loss improved from 20.64870 to 16.44244, saving model to saved_models/weights.best.basic_mlp.hdf5\n",
            "Epoch 7/100\n",
            "2/2 [==============================] - 0s 47ms/step - loss: 41.5845 - accuracy: 0.2653 - val_loss: 17.3000 - val_accuracy: 0.2308\n",
            "\n",
            "Epoch 00007: val_loss did not improve from 16.44244\n",
            "Epoch 8/100\n",
            "2/2 [==============================] - 0s 52ms/step - loss: 35.4931 - accuracy: 0.1224 - val_loss: 17.0147 - val_accuracy: 0.3077\n",
            "\n",
            "Epoch 00008: val_loss did not improve from 16.44244\n",
            "Epoch 9/100\n",
            "2/2 [==============================] - 0s 47ms/step - loss: 33.0984 - accuracy: 0.2449 - val_loss: 14.8022 - val_accuracy: 0.3077\n",
            "\n",
            "Epoch 00009: val_loss improved from 16.44244 to 14.80216, saving model to saved_models/weights.best.basic_mlp.hdf5\n",
            "Epoch 10/100\n",
            "2/2 [==============================] - 0s 49ms/step - loss: 31.3918 - accuracy: 0.1837 - val_loss: 10.7039 - val_accuracy: 0.3077\n",
            "\n",
            "Epoch 00010: val_loss improved from 14.80216 to 10.70395, saving model to saved_models/weights.best.basic_mlp.hdf5\n",
            "Epoch 11/100\n",
            "2/2 [==============================] - 0s 51ms/step - loss: 23.1182 - accuracy: 0.2449 - val_loss: 6.8196 - val_accuracy: 0.3846\n",
            "\n",
            "Epoch 00011: val_loss improved from 10.70395 to 6.81956, saving model to saved_models/weights.best.basic_mlp.hdf5\n",
            "Epoch 12/100\n",
            "2/2 [==============================] - 0s 56ms/step - loss: 26.3547 - accuracy: 0.2449 - val_loss: 5.3672 - val_accuracy: 0.5385\n",
            "\n",
            "Epoch 00012: val_loss improved from 6.81956 to 5.36725, saving model to saved_models/weights.best.basic_mlp.hdf5\n",
            "Epoch 13/100\n",
            "2/2 [==============================] - 0s 60ms/step - loss: 33.2610 - accuracy: 0.1633 - val_loss: 4.8064 - val_accuracy: 0.5385\n",
            "\n",
            "Epoch 00013: val_loss improved from 5.36725 to 4.80645, saving model to saved_models/weights.best.basic_mlp.hdf5\n",
            "Epoch 14/100\n",
            "2/2 [==============================] - 0s 54ms/step - loss: 26.7001 - accuracy: 0.3061 - val_loss: 4.9077 - val_accuracy: 0.6154\n",
            "\n",
            "Epoch 00014: val_loss did not improve from 4.80645\n",
            "Epoch 15/100\n",
            "2/2 [==============================] - 0s 50ms/step - loss: 19.5716 - accuracy: 0.3265 - val_loss: 5.5355 - val_accuracy: 0.6154\n",
            "\n",
            "Epoch 00015: val_loss did not improve from 4.80645\n",
            "Epoch 16/100\n",
            "2/2 [==============================] - 0s 46ms/step - loss: 21.7048 - accuracy: 0.3061 - val_loss: 6.6499 - val_accuracy: 0.6154\n",
            "\n",
            "Epoch 00016: val_loss did not improve from 4.80645\n",
            "Epoch 17/100\n",
            "2/2 [==============================] - 0s 50ms/step - loss: 19.4834 - accuracy: 0.3061 - val_loss: 7.4192 - val_accuracy: 0.4615\n",
            "\n",
            "Epoch 00017: val_loss did not improve from 4.80645\n",
            "Epoch 18/100\n",
            "2/2 [==============================] - 0s 49ms/step - loss: 15.9236 - accuracy: 0.3878 - val_loss: 7.8945 - val_accuracy: 0.4615\n",
            "\n",
            "Epoch 00018: val_loss did not improve from 4.80645\n",
            "Epoch 19/100\n",
            "2/2 [==============================] - 0s 49ms/step - loss: 22.8180 - accuracy: 0.3061 - val_loss: 7.6757 - val_accuracy: 0.5385\n",
            "\n",
            "Epoch 00019: val_loss did not improve from 4.80645\n",
            "Epoch 20/100\n",
            "2/2 [==============================] - 0s 51ms/step - loss: 18.0003 - accuracy: 0.3469 - val_loss: 7.3217 - val_accuracy: 0.5385\n",
            "\n",
            "Epoch 00020: val_loss did not improve from 4.80645\n",
            "Epoch 21/100\n",
            "2/2 [==============================] - 0s 48ms/step - loss: 21.1899 - accuracy: 0.2653 - val_loss: 6.9357 - val_accuracy: 0.5385\n",
            "\n",
            "Epoch 00021: val_loss did not improve from 4.80645\n",
            "Epoch 22/100\n",
            "2/2 [==============================] - 0s 57ms/step - loss: 19.2673 - accuracy: 0.3878 - val_loss: 6.1297 - val_accuracy: 0.6154\n",
            "\n",
            "Epoch 00022: val_loss did not improve from 4.80645\n",
            "Epoch 23/100\n",
            "2/2 [==============================] - 0s 50ms/step - loss: 16.8860 - accuracy: 0.3469 - val_loss: 5.2369 - val_accuracy: 0.6154\n",
            "\n",
            "Epoch 00023: val_loss did not improve from 4.80645\n",
            "Epoch 24/100\n",
            "2/2 [==============================] - 0s 48ms/step - loss: 16.8280 - accuracy: 0.3878 - val_loss: 4.4244 - val_accuracy: 0.6923\n",
            "\n",
            "Epoch 00024: val_loss improved from 4.80645 to 4.42443, saving model to saved_models/weights.best.basic_mlp.hdf5\n",
            "Epoch 25/100\n",
            "2/2 [==============================] - 0s 47ms/step - loss: 14.3095 - accuracy: 0.4286 - val_loss: 3.6314 - val_accuracy: 0.6923\n",
            "\n",
            "Epoch 00025: val_loss improved from 4.42443 to 3.63143, saving model to saved_models/weights.best.basic_mlp.hdf5\n",
            "Epoch 26/100\n",
            "2/2 [==============================] - 0s 47ms/step - loss: 12.2809 - accuracy: 0.4286 - val_loss: 3.1191 - val_accuracy: 0.6923\n",
            "\n",
            "Epoch 00026: val_loss improved from 3.63143 to 3.11912, saving model to saved_models/weights.best.basic_mlp.hdf5\n",
            "Epoch 27/100\n",
            "2/2 [==============================] - 0s 51ms/step - loss: 13.4683 - accuracy: 0.4082 - val_loss: 2.8855 - val_accuracy: 0.6923\n",
            "\n",
            "Epoch 00027: val_loss improved from 3.11912 to 2.88549, saving model to saved_models/weights.best.basic_mlp.hdf5\n",
            "Epoch 28/100\n",
            "2/2 [==============================] - 0s 55ms/step - loss: 12.7848 - accuracy: 0.4286 - val_loss: 2.8018 - val_accuracy: 0.6923\n",
            "\n",
            "Epoch 00028: val_loss improved from 2.88549 to 2.80178, saving model to saved_models/weights.best.basic_mlp.hdf5\n",
            "Epoch 29/100\n",
            "2/2 [==============================] - 0s 279ms/step - loss: 8.7164 - accuracy: 0.4898 - val_loss: 2.9342 - val_accuracy: 0.6923\n",
            "\n",
            "Epoch 00029: val_loss did not improve from 2.80178\n",
            "Epoch 30/100\n",
            "2/2 [==============================] - 0s 44ms/step - loss: 11.1052 - accuracy: 0.4286 - val_loss: 3.0305 - val_accuracy: 0.6923\n",
            "\n",
            "Epoch 00030: val_loss did not improve from 2.80178\n",
            "Epoch 31/100\n",
            "2/2 [==============================] - 0s 53ms/step - loss: 10.4949 - accuracy: 0.2653 - val_loss: 3.0679 - val_accuracy: 0.6923\n",
            "\n",
            "Epoch 00031: val_loss did not improve from 2.80178\n",
            "Epoch 32/100\n",
            "2/2 [==============================] - 0s 50ms/step - loss: 12.2536 - accuracy: 0.3469 - val_loss: 3.0875 - val_accuracy: 0.6923\n",
            "\n",
            "Epoch 00032: val_loss did not improve from 2.80178\n",
            "Epoch 33/100\n",
            "2/2 [==============================] - 0s 52ms/step - loss: 7.7433 - accuracy: 0.4898 - val_loss: 3.1722 - val_accuracy: 0.6923\n",
            "\n",
            "Epoch 00033: val_loss did not improve from 2.80178\n",
            "Epoch 34/100\n",
            "2/2 [==============================] - 0s 52ms/step - loss: 12.7631 - accuracy: 0.3469 - val_loss: 3.2312 - val_accuracy: 0.6923\n",
            "\n",
            "Epoch 00034: val_loss did not improve from 2.80178\n",
            "Epoch 35/100\n",
            "2/2 [==============================] - 0s 52ms/step - loss: 5.8832 - accuracy: 0.4694 - val_loss: 3.1272 - val_accuracy: 0.6923\n",
            "\n",
            "Epoch 00035: val_loss did not improve from 2.80178\n",
            "Epoch 36/100\n",
            "2/2 [==============================] - 0s 47ms/step - loss: 9.4243 - accuracy: 0.4898 - val_loss: 2.9491 - val_accuracy: 0.6923\n",
            "\n",
            "Epoch 00036: val_loss did not improve from 2.80178\n",
            "Epoch 37/100\n",
            "2/2 [==============================] - 0s 45ms/step - loss: 4.9490 - accuracy: 0.6122 - val_loss: 2.7077 - val_accuracy: 0.6923\n",
            "\n",
            "Epoch 00037: val_loss improved from 2.80178 to 2.70768, saving model to saved_models/weights.best.basic_mlp.hdf5\n",
            "Epoch 38/100\n",
            "2/2 [==============================] - 0s 50ms/step - loss: 7.1708 - accuracy: 0.5306 - val_loss: 2.5056 - val_accuracy: 0.7692\n",
            "\n",
            "Epoch 00038: val_loss improved from 2.70768 to 2.50564, saving model to saved_models/weights.best.basic_mlp.hdf5\n",
            "Epoch 39/100\n",
            "2/2 [==============================] - 0s 46ms/step - loss: 8.1970 - accuracy: 0.3469 - val_loss: 2.4262 - val_accuracy: 0.7692\n",
            "\n",
            "Epoch 00039: val_loss improved from 2.50564 to 2.42620, saving model to saved_models/weights.best.basic_mlp.hdf5\n",
            "Epoch 40/100\n",
            "2/2 [==============================] - 0s 46ms/step - loss: 5.8327 - accuracy: 0.5102 - val_loss: 2.3634 - val_accuracy: 0.7692\n",
            "\n",
            "Epoch 00040: val_loss improved from 2.42620 to 2.36343, saving model to saved_models/weights.best.basic_mlp.hdf5\n",
            "Epoch 41/100\n",
            "2/2 [==============================] - 0s 47ms/step - loss: 8.1954 - accuracy: 0.3878 - val_loss: 2.2720 - val_accuracy: 0.7692\n",
            "\n",
            "Epoch 00041: val_loss improved from 2.36343 to 2.27197, saving model to saved_models/weights.best.basic_mlp.hdf5\n",
            "Epoch 42/100\n",
            "2/2 [==============================] - 0s 49ms/step - loss: 6.8948 - accuracy: 0.5306 - val_loss: 2.1880 - val_accuracy: 0.7692\n",
            "\n",
            "Epoch 00042: val_loss improved from 2.27197 to 2.18804, saving model to saved_models/weights.best.basic_mlp.hdf5\n",
            "Epoch 43/100\n",
            "2/2 [==============================] - 0s 52ms/step - loss: 6.7257 - accuracy: 0.4898 - val_loss: 2.1311 - val_accuracy: 0.7692\n",
            "\n",
            "Epoch 00043: val_loss improved from 2.18804 to 2.13106, saving model to saved_models/weights.best.basic_mlp.hdf5\n",
            "Epoch 44/100\n",
            "2/2 [==============================] - 0s 50ms/step - loss: 4.9933 - accuracy: 0.5714 - val_loss: 2.0837 - val_accuracy: 0.7692\n",
            "\n",
            "Epoch 00044: val_loss improved from 2.13106 to 2.08371, saving model to saved_models/weights.best.basic_mlp.hdf5\n",
            "Epoch 45/100\n",
            "2/2 [==============================] - 0s 48ms/step - loss: 9.0122 - accuracy: 0.3878 - val_loss: 1.9664 - val_accuracy: 0.7692\n",
            "\n",
            "Epoch 00045: val_loss improved from 2.08371 to 1.96636, saving model to saved_models/weights.best.basic_mlp.hdf5\n",
            "Epoch 46/100\n",
            "2/2 [==============================] - 0s 47ms/step - loss: 5.6845 - accuracy: 0.5306 - val_loss: 1.7677 - val_accuracy: 0.7692\n",
            "\n",
            "Epoch 00046: val_loss improved from 1.96636 to 1.76767, saving model to saved_models/weights.best.basic_mlp.hdf5\n",
            "Epoch 47/100\n",
            "2/2 [==============================] - 0s 49ms/step - loss: 6.2355 - accuracy: 0.5306 - val_loss: 1.6290 - val_accuracy: 0.6923\n",
            "\n",
            "Epoch 00047: val_loss improved from 1.76767 to 1.62900, saving model to saved_models/weights.best.basic_mlp.hdf5\n",
            "Epoch 48/100\n",
            "2/2 [==============================] - 0s 45ms/step - loss: 7.4055 - accuracy: 0.4694 - val_loss: 1.5348 - val_accuracy: 0.6923\n",
            "\n",
            "Epoch 00048: val_loss improved from 1.62900 to 1.53478, saving model to saved_models/weights.best.basic_mlp.hdf5\n",
            "Epoch 49/100\n",
            "2/2 [==============================] - 0s 44ms/step - loss: 5.9330 - accuracy: 0.5714 - val_loss: 1.4864 - val_accuracy: 0.6923\n",
            "\n",
            "Epoch 00049: val_loss improved from 1.53478 to 1.48645, saving model to saved_models/weights.best.basic_mlp.hdf5\n",
            "Epoch 50/100\n",
            "2/2 [==============================] - 0s 45ms/step - loss: 5.1585 - accuracy: 0.5102 - val_loss: 1.5175 - val_accuracy: 0.6923\n",
            "\n",
            "Epoch 00050: val_loss did not improve from 1.48645\n",
            "Epoch 51/100\n",
            "2/2 [==============================] - 0s 49ms/step - loss: 3.7309 - accuracy: 0.5918 - val_loss: 1.5100 - val_accuracy: 0.6923\n",
            "\n",
            "Epoch 00051: val_loss did not improve from 1.48645\n",
            "Epoch 52/100\n",
            "2/2 [==============================] - 0s 51ms/step - loss: 4.9437 - accuracy: 0.6327 - val_loss: 1.4407 - val_accuracy: 0.6923\n",
            "\n",
            "Epoch 00052: val_loss improved from 1.48645 to 1.44072, saving model to saved_models/weights.best.basic_mlp.hdf5\n",
            "Epoch 53/100\n",
            "2/2 [==============================] - 0s 50ms/step - loss: 5.5588 - accuracy: 0.6122 - val_loss: 1.3549 - val_accuracy: 0.6923\n",
            "\n",
            "Epoch 00053: val_loss improved from 1.44072 to 1.35488, saving model to saved_models/weights.best.basic_mlp.hdf5\n",
            "Epoch 54/100\n",
            "2/2 [==============================] - 0s 63ms/step - loss: 5.7767 - accuracy: 0.4286 - val_loss: 1.2967 - val_accuracy: 0.6923\n",
            "\n",
            "Epoch 00054: val_loss improved from 1.35488 to 1.29669, saving model to saved_models/weights.best.basic_mlp.hdf5\n",
            "Epoch 55/100\n",
            "2/2 [==============================] - 0s 52ms/step - loss: 4.5350 - accuracy: 0.6531 - val_loss: 1.2849 - val_accuracy: 0.6923\n",
            "\n",
            "Epoch 00055: val_loss improved from 1.29669 to 1.28488, saving model to saved_models/weights.best.basic_mlp.hdf5\n",
            "Epoch 56/100\n",
            "2/2 [==============================] - 0s 49ms/step - loss: 4.4736 - accuracy: 0.5510 - val_loss: 1.2888 - val_accuracy: 0.6923\n",
            "\n",
            "Epoch 00056: val_loss did not improve from 1.28488\n",
            "Epoch 57/100\n",
            "2/2 [==============================] - 0s 49ms/step - loss: 4.9516 - accuracy: 0.5510 - val_loss: 1.3321 - val_accuracy: 0.6923\n",
            "\n",
            "Epoch 00057: val_loss did not improve from 1.28488\n",
            "Epoch 58/100\n",
            "2/2 [==============================] - 0s 49ms/step - loss: 2.8908 - accuracy: 0.7143 - val_loss: 1.3821 - val_accuracy: 0.6923\n",
            "\n",
            "Epoch 00058: val_loss did not improve from 1.28488\n",
            "Epoch 59/100\n",
            "2/2 [==============================] - 0s 51ms/step - loss: 3.7073 - accuracy: 0.6327 - val_loss: 1.4494 - val_accuracy: 0.6923\n",
            "\n",
            "Epoch 00059: val_loss did not improve from 1.28488\n",
            "Epoch 60/100\n",
            "2/2 [==============================] - 0s 53ms/step - loss: 4.5047 - accuracy: 0.5306 - val_loss: 1.4539 - val_accuracy: 0.6923\n",
            "\n",
            "Epoch 00060: val_loss did not improve from 1.28488\n",
            "Epoch 61/100\n",
            "2/2 [==============================] - 0s 52ms/step - loss: 3.9497 - accuracy: 0.5510 - val_loss: 1.4019 - val_accuracy: 0.6923\n",
            "\n",
            "Epoch 00061: val_loss did not improve from 1.28488\n",
            "Epoch 62/100\n",
            "2/2 [==============================] - 0s 51ms/step - loss: 4.8682 - accuracy: 0.5102 - val_loss: 1.3980 - val_accuracy: 0.6923\n",
            "\n",
            "Epoch 00062: val_loss did not improve from 1.28488\n",
            "Epoch 63/100\n",
            "2/2 [==============================] - 0s 49ms/step - loss: 3.4542 - accuracy: 0.6327 - val_loss: 1.4271 - val_accuracy: 0.6923\n",
            "\n",
            "Epoch 00063: val_loss did not improve from 1.28488\n",
            "Epoch 64/100\n",
            "2/2 [==============================] - 0s 47ms/step - loss: 3.3419 - accuracy: 0.6122 - val_loss: 1.4654 - val_accuracy: 0.6923\n",
            "\n",
            "Epoch 00064: val_loss did not improve from 1.28488\n",
            "Epoch 65/100\n",
            "2/2 [==============================] - 0s 49ms/step - loss: 4.1712 - accuracy: 0.6327 - val_loss: 1.5001 - val_accuracy: 0.6923\n",
            "\n",
            "Epoch 00065: val_loss did not improve from 1.28488\n",
            "Epoch 66/100\n",
            "2/2 [==============================] - 0s 51ms/step - loss: 3.0751 - accuracy: 0.6735 - val_loss: 1.5297 - val_accuracy: 0.6923\n",
            "\n",
            "Epoch 00066: val_loss did not improve from 1.28488\n",
            "Epoch 67/100\n",
            "2/2 [==============================] - 0s 49ms/step - loss: 2.9186 - accuracy: 0.6327 - val_loss: 1.5712 - val_accuracy: 0.6923\n",
            "\n",
            "Epoch 00067: val_loss did not improve from 1.28488\n",
            "Epoch 68/100\n",
            "2/2 [==============================] - 0s 48ms/step - loss: 3.4337 - accuracy: 0.5918 - val_loss: 1.6195 - val_accuracy: 0.6923\n",
            "\n",
            "Epoch 00068: val_loss did not improve from 1.28488\n",
            "Epoch 69/100\n",
            "2/2 [==============================] - 0s 52ms/step - loss: 5.9080 - accuracy: 0.5306 - val_loss: 1.5851 - val_accuracy: 0.6923\n",
            "\n",
            "Epoch 00069: val_loss did not improve from 1.28488\n",
            "Epoch 70/100\n",
            "2/2 [==============================] - 0s 243ms/step - loss: 3.3400 - accuracy: 0.6735 - val_loss: 1.5586 - val_accuracy: 0.6923\n",
            "\n",
            "Epoch 00070: val_loss did not improve from 1.28488\n",
            "Epoch 71/100\n",
            "2/2 [==============================] - 0s 54ms/step - loss: 2.9643 - accuracy: 0.6735 - val_loss: 1.4770 - val_accuracy: 0.6923\n",
            "\n",
            "Epoch 00071: val_loss did not improve from 1.28488\n",
            "Epoch 72/100\n",
            "2/2 [==============================] - 0s 52ms/step - loss: 3.0718 - accuracy: 0.7143 - val_loss: 1.4208 - val_accuracy: 0.6923\n",
            "\n",
            "Epoch 00072: val_loss did not improve from 1.28488\n",
            "Epoch 73/100\n",
            "2/2 [==============================] - 0s 52ms/step - loss: 3.0602 - accuracy: 0.5306 - val_loss: 1.3449 - val_accuracy: 0.6923\n",
            "\n",
            "Epoch 00073: val_loss did not improve from 1.28488\n",
            "Epoch 74/100\n",
            "2/2 [==============================] - 0s 51ms/step - loss: 2.0339 - accuracy: 0.7347 - val_loss: 1.2671 - val_accuracy: 0.6923\n",
            "\n",
            "Epoch 00074: val_loss improved from 1.28488 to 1.26711, saving model to saved_models/weights.best.basic_mlp.hdf5\n",
            "Epoch 75/100\n",
            "2/2 [==============================] - 0s 48ms/step - loss: 2.6170 - accuracy: 0.6531 - val_loss: 1.1814 - val_accuracy: 0.6923\n",
            "\n",
            "Epoch 00075: val_loss improved from 1.26711 to 1.18139, saving model to saved_models/weights.best.basic_mlp.hdf5\n",
            "Epoch 76/100\n",
            "2/2 [==============================] - 0s 51ms/step - loss: 4.6045 - accuracy: 0.6327 - val_loss: 1.1210 - val_accuracy: 0.6923\n",
            "\n",
            "Epoch 00076: val_loss improved from 1.18139 to 1.12103, saving model to saved_models/weights.best.basic_mlp.hdf5\n",
            "Epoch 77/100\n",
            "2/2 [==============================] - 0s 50ms/step - loss: 2.3307 - accuracy: 0.6939 - val_loss: 1.0717 - val_accuracy: 0.6923\n",
            "\n",
            "Epoch 00077: val_loss improved from 1.12103 to 1.07167, saving model to saved_models/weights.best.basic_mlp.hdf5\n",
            "Epoch 78/100\n",
            "2/2 [==============================] - 0s 50ms/step - loss: 2.9474 - accuracy: 0.5714 - val_loss: 1.0147 - val_accuracy: 0.6923\n",
            "\n",
            "Epoch 00078: val_loss improved from 1.07167 to 1.01472, saving model to saved_models/weights.best.basic_mlp.hdf5\n",
            "Epoch 79/100\n",
            "2/2 [==============================] - 0s 47ms/step - loss: 3.1393 - accuracy: 0.6939 - val_loss: 0.9582 - val_accuracy: 0.6923\n",
            "\n",
            "Epoch 00079: val_loss improved from 1.01472 to 0.95818, saving model to saved_models/weights.best.basic_mlp.hdf5\n",
            "Epoch 80/100\n",
            "2/2 [==============================] - 0s 46ms/step - loss: 1.9793 - accuracy: 0.7551 - val_loss: 0.9092 - val_accuracy: 0.6923\n",
            "\n",
            "Epoch 00080: val_loss improved from 0.95818 to 0.90923, saving model to saved_models/weights.best.basic_mlp.hdf5\n",
            "Epoch 81/100\n",
            "2/2 [==============================] - 0s 56ms/step - loss: 1.9275 - accuracy: 0.6735 - val_loss: 0.8650 - val_accuracy: 0.6923\n",
            "\n",
            "Epoch 00081: val_loss improved from 0.90923 to 0.86496, saving model to saved_models/weights.best.basic_mlp.hdf5\n",
            "Epoch 82/100\n",
            "2/2 [==============================] - 0s 47ms/step - loss: 3.4541 - accuracy: 0.5918 - val_loss: 0.8280 - val_accuracy: 0.6923\n",
            "\n",
            "Epoch 00082: val_loss improved from 0.86496 to 0.82804, saving model to saved_models/weights.best.basic_mlp.hdf5\n",
            "Epoch 83/100\n",
            "2/2 [==============================] - 0s 52ms/step - loss: 2.6109 - accuracy: 0.7551 - val_loss: 0.8209 - val_accuracy: 0.6923\n",
            "\n",
            "Epoch 00083: val_loss improved from 0.82804 to 0.82091, saving model to saved_models/weights.best.basic_mlp.hdf5\n",
            "Epoch 84/100\n",
            "2/2 [==============================] - 0s 47ms/step - loss: 2.2683 - accuracy: 0.6735 - val_loss: 0.8041 - val_accuracy: 0.6923\n",
            "\n",
            "Epoch 00084: val_loss improved from 0.82091 to 0.80407, saving model to saved_models/weights.best.basic_mlp.hdf5\n",
            "Epoch 85/100\n",
            "2/2 [==============================] - 0s 54ms/step - loss: 2.1976 - accuracy: 0.6531 - val_loss: 0.7926 - val_accuracy: 0.6923\n",
            "\n",
            "Epoch 00085: val_loss improved from 0.80407 to 0.79257, saving model to saved_models/weights.best.basic_mlp.hdf5\n",
            "Epoch 86/100\n",
            "2/2 [==============================] - 0s 47ms/step - loss: 3.3386 - accuracy: 0.6327 - val_loss: 0.7866 - val_accuracy: 0.6923\n",
            "\n",
            "Epoch 00086: val_loss improved from 0.79257 to 0.78664, saving model to saved_models/weights.best.basic_mlp.hdf5\n",
            "Epoch 87/100\n",
            "2/2 [==============================] - 0s 50ms/step - loss: 2.2153 - accuracy: 0.6939 - val_loss: 0.7808 - val_accuracy: 0.6154\n",
            "\n",
            "Epoch 00087: val_loss improved from 0.78664 to 0.78077, saving model to saved_models/weights.best.basic_mlp.hdf5\n",
            "Epoch 88/100\n",
            "2/2 [==============================] - 0s 45ms/step - loss: 2.0391 - accuracy: 0.7143 - val_loss: 0.7796 - val_accuracy: 0.6154\n",
            "\n",
            "Epoch 00088: val_loss improved from 0.78077 to 0.77959, saving model to saved_models/weights.best.basic_mlp.hdf5\n",
            "Epoch 89/100\n",
            "2/2 [==============================] - 0s 49ms/step - loss: 1.9563 - accuracy: 0.6939 - val_loss: 0.7793 - val_accuracy: 0.6154\n",
            "\n",
            "Epoch 00089: val_loss improved from 0.77959 to 0.77927, saving model to saved_models/weights.best.basic_mlp.hdf5\n",
            "Epoch 90/100\n",
            "2/2 [==============================] - 0s 48ms/step - loss: 3.5408 - accuracy: 0.6531 - val_loss: 0.7986 - val_accuracy: 0.6154\n",
            "\n",
            "Epoch 00090: val_loss did not improve from 0.77927\n",
            "Epoch 91/100\n",
            "2/2 [==============================] - 0s 47ms/step - loss: 2.6766 - accuracy: 0.5714 - val_loss: 0.8374 - val_accuracy: 0.6154\n",
            "\n",
            "Epoch 00091: val_loss did not improve from 0.77927\n",
            "Epoch 92/100\n",
            "2/2 [==============================] - 0s 55ms/step - loss: 2.0251 - accuracy: 0.7143 - val_loss: 0.8778 - val_accuracy: 0.6154\n",
            "\n",
            "Epoch 00092: val_loss did not improve from 0.77927\n",
            "Epoch 93/100\n",
            "2/2 [==============================] - 0s 52ms/step - loss: 3.0147 - accuracy: 0.6327 - val_loss: 0.8890 - val_accuracy: 0.6154\n",
            "\n",
            "Epoch 00093: val_loss did not improve from 0.77927\n",
            "Epoch 94/100\n",
            "2/2 [==============================] - 0s 52ms/step - loss: 2.4297 - accuracy: 0.5510 - val_loss: 0.8624 - val_accuracy: 0.6923\n",
            "\n",
            "Epoch 00094: val_loss did not improve from 0.77927\n",
            "Epoch 95/100\n",
            "2/2 [==============================] - 0s 73ms/step - loss: 1.6518 - accuracy: 0.7551 - val_loss: 0.8247 - val_accuracy: 0.6923\n",
            "\n",
            "Epoch 00095: val_loss did not improve from 0.77927\n",
            "Epoch 96/100\n",
            "2/2 [==============================] - 0s 54ms/step - loss: 2.5532 - accuracy: 0.5918 - val_loss: 0.7888 - val_accuracy: 0.6923\n",
            "\n",
            "Epoch 00096: val_loss did not improve from 0.77927\n",
            "Epoch 97/100\n",
            "2/2 [==============================] - 0s 56ms/step - loss: 1.2249 - accuracy: 0.7959 - val_loss: 0.7653 - val_accuracy: 0.6923\n",
            "\n",
            "Epoch 00097: val_loss improved from 0.77927 to 0.76534, saving model to saved_models/weights.best.basic_mlp.hdf5\n",
            "Epoch 98/100\n",
            "2/2 [==============================] - 0s 53ms/step - loss: 3.2155 - accuracy: 0.6327 - val_loss: 0.7337 - val_accuracy: 0.6923\n",
            "\n",
            "Epoch 00098: val_loss improved from 0.76534 to 0.73372, saving model to saved_models/weights.best.basic_mlp.hdf5\n",
            "Epoch 99/100\n",
            "2/2 [==============================] - 0s 53ms/step - loss: 3.8013 - accuracy: 0.5714 - val_loss: 0.7168 - val_accuracy: 0.6923\n",
            "\n",
            "Epoch 00099: val_loss improved from 0.73372 to 0.71680, saving model to saved_models/weights.best.basic_mlp.hdf5\n",
            "Epoch 100/100\n",
            "2/2 [==============================] - 0s 64ms/step - loss: 2.4658 - accuracy: 0.6531 - val_loss: 0.6994 - val_accuracy: 0.6923\n",
            "\n",
            "Epoch 00100: val_loss improved from 0.71680 to 0.69937, saving model to saved_models/weights.best.basic_mlp.hdf5\n",
            "Training completed in time:  0:00:08.130380\n"
          ],
          "name": "stdout"
        }
      ]
    },
    {
      "cell_type": "code",
      "metadata": {
        "colab": {
          "base_uri": "https://localhost:8080/"
        },
        "id": "6gwGz2K_72UE",
        "outputId": "cb7be479-6427-4c59-b06f-2d83559030a3"
      },
      "source": [
        "# Evaluating the model on the training and testing set\r\n",
        "score = model.evaluate(x_train, y_train, verbose=0)\r\n",
        "print(\"Training Accuracy: \", score[1])\r\n",
        "\r\n",
        "score = model.evaluate(x_test, y_test, verbose=0)\r\n",
        "print(\"Testing Accuracy: \", score[1])"
      ],
      "execution_count": null,
      "outputs": [
        {
          "output_type": "stream",
          "text": [
            "Training Accuracy:  0.9387755393981934\n",
            "Testing Accuracy:  0.692307710647583\n"
          ],
          "name": "stdout"
        }
      ]
    },
    {
      "cell_type": "code",
      "metadata": {
        "id": "hMI2XLsn7468"
      },
      "source": [
        "import librosa \r\n",
        "import numpy as np \r\n",
        "\r\n",
        "def extract_feature(file_name):\r\n",
        "   \r\n",
        "    try:\r\n",
        "        audio_data, sample_rate = librosa.load(file_name, res_type='kaiser_fast') \r\n",
        "        mfccs = librosa.feature.mfcc(y=audio_data, sr=sample_rate, n_mfcc=40)\r\n",
        "        mfccsscaled = np.mean(mfccs.T,axis=0)\r\n",
        "        \r\n",
        "    except Exception as e:\r\n",
        "        print(\"Error encountered while parsing file: \", file)\r\n",
        "        return None, None\r\n",
        "\r\n",
        "    return np.array([mfccsscaled])\r\n"
      ],
      "execution_count": null,
      "outputs": []
    },
    {
      "cell_type": "code",
      "metadata": {
        "id": "cNMG9I2C8C3x"
      },
      "source": [
        "def print_prediction(file_name):\r\n",
        "    prediction_feature = extract_feature(file_name) \r\n",
        "\r\n",
        "    predicted_vector = model.predict_classes(prediction_feature)\r\n",
        "    predicted_class = le.inverse_transform(predicted_vector) \r\n",
        "    print(\"The predicted class is:\", predicted_class[0], '\\n') \r\n",
        "\r\n",
        "    predicted_proba_vector = model.predict_proba(prediction_feature) \r\n",
        "    predicted_proba = predicted_proba_vector[0]\r\n",
        "    for i in range(len(predicted_proba)): \r\n",
        "        category = le.inverse_transform(np.array([i]))\r\n",
        "        print(category[0], \"\\t\\t : \", format(predicted_proba[i], '.32f') )"
      ],
      "execution_count": null,
      "outputs": []
    },
    {
      "cell_type": "code",
      "metadata": {
        "colab": {
          "base_uri": "https://localhost:8080/"
        },
        "id": "P3APm3u58Iho",
        "outputId": "8cda4a88-9d55-412c-9137-4ff3e56245f7"
      },
      "source": [
        "# Class: saron\r\n",
        "\r\n",
        "filename = 'audio/10008-7-0-1.wav' \r\n",
        "print_prediction(filename) "
      ],
      "execution_count": null,
      "outputs": [
        {
          "output_type": "stream",
          "text": [
            "The predicted class is: Suling \n",
            "\n",
            "Angklung \t\t :  0.00054613244719803333282470703125\n",
            "Bonang \t\t :  0.02491139806807041168212890625000\n",
            "Demung \t\t :  0.00123442756012082099914550781250\n",
            "Gong \t\t :  0.00323693593963980674743652343750\n",
            "Kendang \t\t :  0.00000055901182349771261215209961\n",
            "Rebab \t\t :  0.00021978063159622251987457275391\n",
            "Saron \t\t :  0.03226407989859580993652343750000\n",
            "Suling \t\t :  0.93758672475814819335937500000000\n"
          ],
          "name": "stdout"
        },
        {
          "output_type": "stream",
          "text": [
            "/usr/local/lib/python3.6/dist-packages/tensorflow/python/keras/engine/sequential.py:450: UserWarning: `model.predict_classes()` is deprecated and will be removed after 2021-01-01. Please use instead:* `np.argmax(model.predict(x), axis=-1)`,   if your model does multi-class classification   (e.g. if it uses a `softmax` last-layer activation).* `(model.predict(x) > 0.5).astype(\"int32\")`,   if your model does binary classification   (e.g. if it uses a `sigmoid` last-layer activation).\n",
            "  warnings.warn('`model.predict_classes()` is deprecated and '\n",
            "/usr/local/lib/python3.6/dist-packages/tensorflow/python/keras/engine/sequential.py:425: UserWarning: `model.predict_proba()` is deprecated and will be removed after 2021-01-01. Please use `model.predict()` instead.\n",
            "  warnings.warn('`model.predict_proba()` is deprecated and '\n"
          ],
          "name": "stderr"
        }
      ]
    },
    {
      "cell_type": "markdown",
      "metadata": {
        "id": "r007SY9PJtw9"
      },
      "source": [
        "**mODEL rEFINEMENT**"
      ]
    },
    {
      "cell_type": "code",
      "metadata": {
        "id": "jmQ95-vsJxow"
      },
      "source": [
        "import numpy as np\r\n",
        "max_pad_len = 174\r\n",
        "\r\n",
        "def extract_features(file_name):\r\n",
        "   \r\n",
        "    try:\r\n",
        "        audio, sample_rate = librosa.load(file_name, res_type='kaiser_fast') \r\n",
        "        mfccs = librosa.feature.mfcc(y=audio, sr=sample_rate, n_mfcc=40)\r\n",
        "        pad_width = max_pad_len - mfccs.shape[1]\r\n",
        "        mfccs = np.pad(mfccs, pad_width=((0, 0), (0, pad_width)), mode='constant')\r\n",
        "        \r\n",
        "    except Exception as e:\r\n",
        "        print(\"Error encountered while parsing file: \", file_name)\r\n",
        "        return None \r\n",
        "     \r\n",
        "    return mfccs"
      ],
      "execution_count": null,
      "outputs": []
    },
    {
      "cell_type": "code",
      "metadata": {
        "colab": {
          "base_uri": "https://localhost:8080/",
          "height": 936
        },
        "id": "jHFID5P-KMsI",
        "outputId": "59306aa7-4671-4dd2-c064-89cdfc2a2e8d"
      },
      "source": [
        "# Load various imports \r\n",
        "import pandas as pd\r\n",
        "import os\r\n",
        "import librosa\r\n",
        "\r\n",
        "# Set the path to the full UrbanSound dataset \r\n",
        "#fulldatasetpath = '/Volumes/Untitled/ML_Data/Urban Sound/UrbanSound8K/audio/'\r\n",
        "\r\n",
        "#metadata = pd.read_csv('../UrbanSound Dataset sample/metadata/UrbanSound8K.csv')\r\n",
        "\r\n",
        "features = []\r\n",
        "\r\n",
        "# Iterate through each sound file and extract the features \r\n",
        "for index, row in metadata.iterrows():\r\n",
        "    \r\n",
        "    file_name = os.path.join(os.path.abspath(fulldatasetpath),str(row[\"slice_file_name\"]))\r\n",
        "    \r\n",
        "    class_label = row[\"class_name\"]\r\n",
        "    data = extract_features(file_name)\r\n",
        "    \r\n",
        "    features.append([data, class_label])\r\n",
        "\r\n",
        "# Convert into a Panda dataframe \r\n",
        "featuresdf = pd.DataFrame(features, columns=['feature','class_label'])\r\n",
        "\r\n",
        "print('Finished feature extraction from ', len(featuresdf), ' files') "
      ],
      "execution_count": null,
      "outputs": [
        {
          "output_type": "stream",
          "text": [
            "Error encountered while parsing file:  /content/audio/10001-0-0-0.wav\n",
            "Error encountered while parsing file:  /content/audio/10001-0-0-1.wav\n",
            "Error encountered while parsing file:  /content/audio/10001-0-0-2.wav\n",
            "Error encountered while parsing file:  /content/audio/10001-0-0-3.wav\n",
            "Error encountered while parsing file:  /content/audio/10001-0-0-4.wav\n",
            "Error encountered while parsing file:  /content/audio/10001-0-0-5.wav\n",
            "Error encountered while parsing file:  /content/audio/10001-0-0-6.wav\n",
            "Error encountered while parsing file:  /content/audio/10001-0-0-7.wav\n",
            "Error encountered while parsing file:  /content/audio/10002-1-0-1.wav\n",
            "Error encountered while parsing file:  /content/audio/10002-1-0-2.wav\n",
            "Error encountered while parsing file:  /content/audio/10002-1-0-3.wav\n",
            "Error encountered while parsing file:  /content/audio/10002-1-0-4.wav\n",
            "Error encountered while parsing file:  /content/audio/10002-1-0-5.wav\n",
            "Error encountered while parsing file:  /content/audio/10002-1-0-6.wav\n",
            "Error encountered while parsing file:  /content/audio/10002-1-0-7.wav\n",
            "Error encountered while parsing file:  /content/audio/10002-1-0-8.wav\n",
            "Error encountered while parsing file:  /content/audio/10002-1-0-9.wav\n",
            "Error encountered while parsing file:  /content/audio/10002-1-0-10.wav\n",
            "Error encountered while parsing file:  /content/audio/10003-2-0-1.wav\n",
            "Error encountered while parsing file:  /content/audio/10003-2-0-2.wav\n",
            "Error encountered while parsing file:  /content/audio/10003-2-0-3.wav\n",
            "Error encountered while parsing file:  /content/audio/10003-2-0-4.wav\n",
            "Error encountered while parsing file:  /content/audio/10003-2-0-5.wav\n",
            "Error encountered while parsing file:  /content/audio/10003-2-0-6.wav\n",
            "Error encountered while parsing file:  /content/audio/10003-2-0-7.wav\n",
            "Error encountered while parsing file:  /content/audio/10003-2-0-8.wav\n",
            "Error encountered while parsing file:  /content/audio/10004-3-0-1.wav\n",
            "Error encountered while parsing file:  /content/audio/10004-3-0-2.wav\n",
            "Error encountered while parsing file:  /content/audio/10004-3-0-3.wav\n",
            "Error encountered while parsing file:  /content/audio/10004-3-0-4.wav\n",
            "Error encountered while parsing file:  /content/audio/10004-3-0-5.wav\n",
            "Error encountered while parsing file:  /content/audio/10004-3-0-6.wav\n",
            "Error encountered while parsing file:  /content/audio/10004-3-0-7.wav\n"
          ],
          "name": "stdout"
        },
        {
          "output_type": "error",
          "ename": "KeyboardInterrupt",
          "evalue": "ignored",
          "traceback": [
            "\u001b[0;31m---------------------------------------------------------------------------\u001b[0m",
            "\u001b[0;31mKeyboardInterrupt\u001b[0m                         Traceback (most recent call last)",
            "\u001b[0;32m<ipython-input-127-dd35f2c0b14b>\u001b[0m in \u001b[0;36m<module>\u001b[0;34m()\u001b[0m\n\u001b[1;32m     17\u001b[0m \u001b[0;34m\u001b[0m\u001b[0m\n\u001b[1;32m     18\u001b[0m     \u001b[0mclass_label\u001b[0m \u001b[0;34m=\u001b[0m \u001b[0mrow\u001b[0m\u001b[0;34m[\u001b[0m\u001b[0;34m\"class_name\"\u001b[0m\u001b[0;34m]\u001b[0m\u001b[0;34m\u001b[0m\u001b[0;34m\u001b[0m\u001b[0m\n\u001b[0;32m---> 19\u001b[0;31m     \u001b[0mdata\u001b[0m \u001b[0;34m=\u001b[0m \u001b[0mextract_features\u001b[0m\u001b[0;34m(\u001b[0m\u001b[0mfile_name\u001b[0m\u001b[0;34m)\u001b[0m\u001b[0;34m\u001b[0m\u001b[0;34m\u001b[0m\u001b[0m\n\u001b[0m\u001b[1;32m     20\u001b[0m \u001b[0;34m\u001b[0m\u001b[0m\n\u001b[1;32m     21\u001b[0m     \u001b[0mfeatures\u001b[0m\u001b[0;34m.\u001b[0m\u001b[0mappend\u001b[0m\u001b[0;34m(\u001b[0m\u001b[0;34m[\u001b[0m\u001b[0mdata\u001b[0m\u001b[0;34m,\u001b[0m \u001b[0mclass_label\u001b[0m\u001b[0;34m]\u001b[0m\u001b[0;34m)\u001b[0m\u001b[0;34m\u001b[0m\u001b[0;34m\u001b[0m\u001b[0m\n",
            "\u001b[0;32m<ipython-input-126-e96dc477e361>\u001b[0m in \u001b[0;36mextract_features\u001b[0;34m(file_name)\u001b[0m\n\u001b[1;32m      5\u001b[0m \u001b[0;34m\u001b[0m\u001b[0m\n\u001b[1;32m      6\u001b[0m     \u001b[0;32mtry\u001b[0m\u001b[0;34m:\u001b[0m\u001b[0;34m\u001b[0m\u001b[0;34m\u001b[0m\u001b[0m\n\u001b[0;32m----> 7\u001b[0;31m         \u001b[0maudio\u001b[0m\u001b[0;34m,\u001b[0m \u001b[0msample_rate\u001b[0m \u001b[0;34m=\u001b[0m \u001b[0mlibrosa\u001b[0m\u001b[0;34m.\u001b[0m\u001b[0mload\u001b[0m\u001b[0;34m(\u001b[0m\u001b[0mfile_name\u001b[0m\u001b[0;34m,\u001b[0m \u001b[0mres_type\u001b[0m\u001b[0;34m=\u001b[0m\u001b[0;34m'kaiser_fast'\u001b[0m\u001b[0;34m)\u001b[0m\u001b[0;34m\u001b[0m\u001b[0;34m\u001b[0m\u001b[0m\n\u001b[0m\u001b[1;32m      8\u001b[0m         \u001b[0mmfccs\u001b[0m \u001b[0;34m=\u001b[0m \u001b[0mlibrosa\u001b[0m\u001b[0;34m.\u001b[0m\u001b[0mfeature\u001b[0m\u001b[0;34m.\u001b[0m\u001b[0mmfcc\u001b[0m\u001b[0;34m(\u001b[0m\u001b[0my\u001b[0m\u001b[0;34m=\u001b[0m\u001b[0maudio\u001b[0m\u001b[0;34m,\u001b[0m \u001b[0msr\u001b[0m\u001b[0;34m=\u001b[0m\u001b[0msample_rate\u001b[0m\u001b[0;34m,\u001b[0m \u001b[0mn_mfcc\u001b[0m\u001b[0;34m=\u001b[0m\u001b[0;36m40\u001b[0m\u001b[0;34m)\u001b[0m\u001b[0;34m\u001b[0m\u001b[0;34m\u001b[0m\u001b[0m\n\u001b[1;32m      9\u001b[0m         \u001b[0mpad_width\u001b[0m \u001b[0;34m=\u001b[0m \u001b[0mmax_pad_len\u001b[0m \u001b[0;34m-\u001b[0m \u001b[0mmfccs\u001b[0m\u001b[0;34m.\u001b[0m\u001b[0mshape\u001b[0m\u001b[0;34m[\u001b[0m\u001b[0;36m1\u001b[0m\u001b[0;34m]\u001b[0m\u001b[0;34m\u001b[0m\u001b[0;34m\u001b[0m\u001b[0m\n",
            "\u001b[0;32m/usr/local/lib/python3.6/dist-packages/librosa/core/audio.py\u001b[0m in \u001b[0;36mload\u001b[0;34m(path, sr, mono, offset, duration, dtype, res_type)\u001b[0m\n\u001b[1;32m    170\u001b[0m \u001b[0;34m\u001b[0m\u001b[0m\n\u001b[1;32m    171\u001b[0m     \u001b[0;32mif\u001b[0m \u001b[0msr\u001b[0m \u001b[0;32mis\u001b[0m \u001b[0;32mnot\u001b[0m \u001b[0;32mNone\u001b[0m\u001b[0;34m:\u001b[0m\u001b[0;34m\u001b[0m\u001b[0;34m\u001b[0m\u001b[0m\n\u001b[0;32m--> 172\u001b[0;31m         \u001b[0my\u001b[0m \u001b[0;34m=\u001b[0m \u001b[0mresample\u001b[0m\u001b[0;34m(\u001b[0m\u001b[0my\u001b[0m\u001b[0;34m,\u001b[0m \u001b[0msr_native\u001b[0m\u001b[0;34m,\u001b[0m \u001b[0msr\u001b[0m\u001b[0;34m,\u001b[0m \u001b[0mres_type\u001b[0m\u001b[0;34m=\u001b[0m\u001b[0mres_type\u001b[0m\u001b[0;34m)\u001b[0m\u001b[0;34m\u001b[0m\u001b[0;34m\u001b[0m\u001b[0m\n\u001b[0m\u001b[1;32m    173\u001b[0m \u001b[0;34m\u001b[0m\u001b[0m\n\u001b[1;32m    174\u001b[0m     \u001b[0;32melse\u001b[0m\u001b[0;34m:\u001b[0m\u001b[0;34m\u001b[0m\u001b[0;34m\u001b[0m\u001b[0m\n",
            "\u001b[0;32m/usr/local/lib/python3.6/dist-packages/librosa/core/audio.py\u001b[0m in \u001b[0;36mresample\u001b[0;34m(y, orig_sr, target_sr, res_type, fix, scale, **kwargs)\u001b[0m\n\u001b[1;32m    582\u001b[0m         \u001b[0my_hat\u001b[0m \u001b[0;34m=\u001b[0m \u001b[0msamplerate\u001b[0m\u001b[0;34m.\u001b[0m\u001b[0mresample\u001b[0m\u001b[0;34m(\u001b[0m\u001b[0my\u001b[0m\u001b[0;34m.\u001b[0m\u001b[0mT\u001b[0m\u001b[0;34m,\u001b[0m \u001b[0mratio\u001b[0m\u001b[0;34m,\u001b[0m \u001b[0mconverter_type\u001b[0m\u001b[0;34m=\u001b[0m\u001b[0mres_type\u001b[0m\u001b[0;34m)\u001b[0m\u001b[0;34m.\u001b[0m\u001b[0mT\u001b[0m\u001b[0;34m\u001b[0m\u001b[0;34m\u001b[0m\u001b[0m\n\u001b[1;32m    583\u001b[0m     \u001b[0;32melse\u001b[0m\u001b[0;34m:\u001b[0m\u001b[0;34m\u001b[0m\u001b[0;34m\u001b[0m\u001b[0m\n\u001b[0;32m--> 584\u001b[0;31m         \u001b[0my_hat\u001b[0m \u001b[0;34m=\u001b[0m \u001b[0mresampy\u001b[0m\u001b[0;34m.\u001b[0m\u001b[0mresample\u001b[0m\u001b[0;34m(\u001b[0m\u001b[0my\u001b[0m\u001b[0;34m,\u001b[0m \u001b[0morig_sr\u001b[0m\u001b[0;34m,\u001b[0m \u001b[0mtarget_sr\u001b[0m\u001b[0;34m,\u001b[0m \u001b[0mfilter\u001b[0m\u001b[0;34m=\u001b[0m\u001b[0mres_type\u001b[0m\u001b[0;34m,\u001b[0m \u001b[0maxis\u001b[0m\u001b[0;34m=\u001b[0m\u001b[0;34m-\u001b[0m\u001b[0;36m1\u001b[0m\u001b[0;34m)\u001b[0m\u001b[0;34m\u001b[0m\u001b[0;34m\u001b[0m\u001b[0m\n\u001b[0m\u001b[1;32m    585\u001b[0m \u001b[0;34m\u001b[0m\u001b[0m\n\u001b[1;32m    586\u001b[0m     \u001b[0;32mif\u001b[0m \u001b[0mfix\u001b[0m\u001b[0;34m:\u001b[0m\u001b[0;34m\u001b[0m\u001b[0;34m\u001b[0m\u001b[0m\n",
            "\u001b[0;32m/usr/local/lib/python3.6/dist-packages/resampy/core.py\u001b[0m in \u001b[0;36mresample\u001b[0;34m(x, sr_orig, sr_new, axis, filter, **kwargs)\u001b[0m\n\u001b[1;32m    118\u001b[0m     \u001b[0mx_2d\u001b[0m \u001b[0;34m=\u001b[0m \u001b[0mx\u001b[0m\u001b[0;34m.\u001b[0m\u001b[0mswapaxes\u001b[0m\u001b[0;34m(\u001b[0m\u001b[0;36m0\u001b[0m\u001b[0;34m,\u001b[0m \u001b[0maxis\u001b[0m\u001b[0;34m)\u001b[0m\u001b[0;34m.\u001b[0m\u001b[0mreshape\u001b[0m\u001b[0;34m(\u001b[0m\u001b[0;34m(\u001b[0m\u001b[0mx\u001b[0m\u001b[0;34m.\u001b[0m\u001b[0mshape\u001b[0m\u001b[0;34m[\u001b[0m\u001b[0maxis\u001b[0m\u001b[0;34m]\u001b[0m\u001b[0;34m,\u001b[0m \u001b[0;34m-\u001b[0m\u001b[0;36m1\u001b[0m\u001b[0;34m)\u001b[0m\u001b[0;34m)\u001b[0m\u001b[0;34m\u001b[0m\u001b[0;34m\u001b[0m\u001b[0m\n\u001b[1;32m    119\u001b[0m     \u001b[0my_2d\u001b[0m \u001b[0;34m=\u001b[0m \u001b[0my\u001b[0m\u001b[0;34m.\u001b[0m\u001b[0mswapaxes\u001b[0m\u001b[0;34m(\u001b[0m\u001b[0;36m0\u001b[0m\u001b[0;34m,\u001b[0m \u001b[0maxis\u001b[0m\u001b[0;34m)\u001b[0m\u001b[0;34m.\u001b[0m\u001b[0mreshape\u001b[0m\u001b[0;34m(\u001b[0m\u001b[0;34m(\u001b[0m\u001b[0my\u001b[0m\u001b[0;34m.\u001b[0m\u001b[0mshape\u001b[0m\u001b[0;34m[\u001b[0m\u001b[0maxis\u001b[0m\u001b[0;34m]\u001b[0m\u001b[0;34m,\u001b[0m \u001b[0;34m-\u001b[0m\u001b[0;36m1\u001b[0m\u001b[0;34m)\u001b[0m\u001b[0;34m)\u001b[0m\u001b[0;34m\u001b[0m\u001b[0;34m\u001b[0m\u001b[0m\n\u001b[0;32m--> 120\u001b[0;31m     \u001b[0mresample_f\u001b[0m\u001b[0;34m(\u001b[0m\u001b[0mx_2d\u001b[0m\u001b[0;34m,\u001b[0m \u001b[0my_2d\u001b[0m\u001b[0;34m,\u001b[0m \u001b[0msample_ratio\u001b[0m\u001b[0;34m,\u001b[0m \u001b[0minterp_win\u001b[0m\u001b[0;34m,\u001b[0m \u001b[0minterp_delta\u001b[0m\u001b[0;34m,\u001b[0m \u001b[0mprecision\u001b[0m\u001b[0;34m)\u001b[0m\u001b[0;34m\u001b[0m\u001b[0;34m\u001b[0m\u001b[0m\n\u001b[0m\u001b[1;32m    121\u001b[0m \u001b[0;34m\u001b[0m\u001b[0m\n\u001b[1;32m    122\u001b[0m     \u001b[0;32mreturn\u001b[0m \u001b[0my\u001b[0m\u001b[0;34m\u001b[0m\u001b[0;34m\u001b[0m\u001b[0m\n",
            "\u001b[0;31mKeyboardInterrupt\u001b[0m: "
          ]
        }
      ]
    },
    {
      "cell_type": "code",
      "metadata": {
        "id": "1F3g5pnXKojX"
      },
      "source": [
        "from sklearn.preprocessing import LabelEncoder\r\n",
        "from keras.utils import to_categorical\r\n",
        "\r\n",
        "# Convert features and corresponding classification labels into numpy arrays\r\n",
        "X = np.array(featuresdf.feature.tolist())\r\n",
        "y = np.array(featuresdf.class_label.tolist())\r\n",
        "\r\n",
        "# Encode the classification labels\r\n",
        "le = LabelEncoder()\r\n",
        "yy = to_categorical(le.fit_transform(y)) \r\n",
        "\r\n",
        "# split the dataset \r\n",
        "from sklearn.model_selection import train_test_split \r\n",
        "\r\n",
        "x_train, x_test, y_train, y_test = train_test_split(X, yy, test_size=0.2, random_state = 42)"
      ],
      "execution_count": null,
      "outputs": []
    },
    {
      "cell_type": "code",
      "metadata": {
        "id": "qABC7eK7K801"
      },
      "source": [
        "%store -r x_train \r\n",
        "%store -r x_test \r\n",
        "%store -r y_train \r\n",
        "%store -r y_test \r\n",
        "%store -r yy \r\n",
        "%store -r le"
      ],
      "execution_count": null,
      "outputs": []
    },
    {
      "cell_type": "code",
      "metadata": {
        "colab": {
          "base_uri": "https://localhost:8080/",
          "height": 419
        },
        "id": "gi3mb3X_LLN_",
        "outputId": "6d78f3ed-b7e2-450b-de81-13fd75e7451f"
      },
      "source": [
        "featuresdf"
      ],
      "execution_count": null,
      "outputs": [
        {
          "output_type": "execute_result",
          "data": {
            "text/html": [
              "<div>\n",
              "<style scoped>\n",
              "    .dataframe tbody tr th:only-of-type {\n",
              "        vertical-align: middle;\n",
              "    }\n",
              "\n",
              "    .dataframe tbody tr th {\n",
              "        vertical-align: top;\n",
              "    }\n",
              "\n",
              "    .dataframe thead th {\n",
              "        text-align: right;\n",
              "    }\n",
              "</style>\n",
              "<table border=\"1\" class=\"dataframe\">\n",
              "  <thead>\n",
              "    <tr style=\"text-align: right;\">\n",
              "      <th></th>\n",
              "      <th>feature</th>\n",
              "      <th>class_label</th>\n",
              "    </tr>\n",
              "  </thead>\n",
              "  <tbody>\n",
              "    <tr>\n",
              "      <th>0</th>\n",
              "      <td>None</td>\n",
              "      <td>Angklung</td>\n",
              "    </tr>\n",
              "    <tr>\n",
              "      <th>1</th>\n",
              "      <td>None</td>\n",
              "      <td>Angklung</td>\n",
              "    </tr>\n",
              "    <tr>\n",
              "      <th>2</th>\n",
              "      <td>None</td>\n",
              "      <td>Angklung</td>\n",
              "    </tr>\n",
              "    <tr>\n",
              "      <th>3</th>\n",
              "      <td>None</td>\n",
              "      <td>Angklung</td>\n",
              "    </tr>\n",
              "    <tr>\n",
              "      <th>4</th>\n",
              "      <td>None</td>\n",
              "      <td>Angklung</td>\n",
              "    </tr>\n",
              "    <tr>\n",
              "      <th>...</th>\n",
              "      <td>...</td>\n",
              "      <td>...</td>\n",
              "    </tr>\n",
              "    <tr>\n",
              "      <th>57</th>\n",
              "      <td>None</td>\n",
              "      <td>Suling</td>\n",
              "    </tr>\n",
              "    <tr>\n",
              "      <th>58</th>\n",
              "      <td>None</td>\n",
              "      <td>Suling</td>\n",
              "    </tr>\n",
              "    <tr>\n",
              "      <th>59</th>\n",
              "      <td>None</td>\n",
              "      <td>Suling</td>\n",
              "    </tr>\n",
              "    <tr>\n",
              "      <th>60</th>\n",
              "      <td>None</td>\n",
              "      <td>Suling</td>\n",
              "    </tr>\n",
              "    <tr>\n",
              "      <th>61</th>\n",
              "      <td>None</td>\n",
              "      <td>Suling</td>\n",
              "    </tr>\n",
              "  </tbody>\n",
              "</table>\n",
              "<p>62 rows × 2 columns</p>\n",
              "</div>"
            ],
            "text/plain": [
              "   feature class_label\n",
              "0     None    Angklung\n",
              "1     None    Angklung\n",
              "2     None    Angklung\n",
              "3     None    Angklung\n",
              "4     None    Angklung\n",
              "..     ...         ...\n",
              "57    None      Suling\n",
              "58    None      Suling\n",
              "59    None      Suling\n",
              "60    None      Suling\n",
              "61    None      Suling\n",
              "\n",
              "[62 rows x 2 columns]"
            ]
          },
          "metadata": {
            "tags": []
          },
          "execution_count": 97
        }
      ]
    },
    {
      "cell_type": "code",
      "metadata": {
        "colab": {
          "base_uri": "https://localhost:8080/",
          "height": 232
        },
        "id": "gHbUqDE9KxRU",
        "outputId": "eaf1f6b2-c55a-47e3-ebc2-1a7e3b392b2b"
      },
      "source": [
        "import numpy as np\r\n",
        "from keras.models import Sequential\r\n",
        "from keras.layers import Dense, Dropout, Activation, Flatten\r\n",
        "from keras.layers import Convolution2D, Conv2D, MaxPooling2D, GlobalAveragePooling2D\r\n",
        "from keras.optimizers import Adam\r\n",
        "from keras.utils import np_utils\r\n",
        "from sklearn import metrics \r\n",
        "\r\n",
        "num_rows = 40\r\n",
        "num_columns = 49\r\n",
        "num_channels = 1\r\n",
        "\r\n",
        "x_train = x_train.reshape(x_train.shape[0], num_rows, num_columns, num_channels)\r\n",
        "x_test = x_test.reshape(x_test.shape[0], num_rows, num_columns, num_channels)\r\n",
        "\r\n",
        "num_labels = yy.shape[1]\r\n",
        "filter_size = 2\r\n",
        "\r\n",
        "# Construct model \r\n",
        "model = Sequential()\r\n",
        "model.add(Conv2D(filters=16, kernel_size=2, input_shape=(num_rows, num_columns, num_channels), activation='relu'))\r\n",
        "model.add(MaxPooling2D(pool_size=2))\r\n",
        "model.add(Dropout(0.2))\r\n",
        "\r\n",
        "model.add(Conv2D(filters=32, kernel_size=2, activation='relu'))\r\n",
        "model.add(MaxPooling2D(pool_size=2))\r\n",
        "model.add(Dropout(0.2))\r\n",
        "\r\n",
        "model.add(Conv2D(filters=64, kernel_size=2, activation='relu'))\r\n",
        "model.add(MaxPooling2D(pool_size=2))\r\n",
        "model.add(Dropout(0.2))\r\n",
        "\r\n",
        "model.add(Conv2D(filters=128, kernel_size=2, activation='relu'))\r\n",
        "model.add(MaxPooling2D(pool_size=2))\r\n",
        "model.add(Dropout(0.2))\r\n",
        "model.add(GlobalAveragePooling2D())\r\n",
        "\r\n",
        "model.add(Dense(num_labels, activation='softmax')) "
      ],
      "execution_count": null,
      "outputs": [
        {
          "output_type": "error",
          "ename": "ValueError",
          "evalue": "ignored",
          "traceback": [
            "\u001b[0;31m---------------------------------------------------------------------------\u001b[0m",
            "\u001b[0;31mValueError\u001b[0m                                Traceback (most recent call last)",
            "\u001b[0;32m<ipython-input-96-68de2ab830a8>\u001b[0m in \u001b[0;36m<module>\u001b[0;34m()\u001b[0m\n\u001b[1;32m     11\u001b[0m \u001b[0mnum_channels\u001b[0m \u001b[0;34m=\u001b[0m \u001b[0;36m1\u001b[0m\u001b[0;34m\u001b[0m\u001b[0;34m\u001b[0m\u001b[0m\n\u001b[1;32m     12\u001b[0m \u001b[0;34m\u001b[0m\u001b[0m\n\u001b[0;32m---> 13\u001b[0;31m \u001b[0mx_train\u001b[0m \u001b[0;34m=\u001b[0m \u001b[0mx_train\u001b[0m\u001b[0;34m.\u001b[0m\u001b[0mreshape\u001b[0m\u001b[0;34m(\u001b[0m\u001b[0mx_train\u001b[0m\u001b[0;34m.\u001b[0m\u001b[0mshape\u001b[0m\u001b[0;34m[\u001b[0m\u001b[0;36m0\u001b[0m\u001b[0;34m]\u001b[0m\u001b[0;34m,\u001b[0m \u001b[0mnum_rows\u001b[0m\u001b[0;34m,\u001b[0m \u001b[0mnum_columns\u001b[0m\u001b[0;34m,\u001b[0m \u001b[0mnum_channels\u001b[0m\u001b[0;34m)\u001b[0m\u001b[0;34m\u001b[0m\u001b[0;34m\u001b[0m\u001b[0m\n\u001b[0m\u001b[1;32m     14\u001b[0m \u001b[0mx_test\u001b[0m \u001b[0;34m=\u001b[0m \u001b[0mx_test\u001b[0m\u001b[0;34m.\u001b[0m\u001b[0mreshape\u001b[0m\u001b[0;34m(\u001b[0m\u001b[0mx_test\u001b[0m\u001b[0;34m.\u001b[0m\u001b[0mshape\u001b[0m\u001b[0;34m[\u001b[0m\u001b[0;36m0\u001b[0m\u001b[0;34m]\u001b[0m\u001b[0;34m,\u001b[0m \u001b[0mnum_rows\u001b[0m\u001b[0;34m,\u001b[0m \u001b[0mnum_columns\u001b[0m\u001b[0;34m,\u001b[0m \u001b[0mnum_channels\u001b[0m\u001b[0;34m)\u001b[0m\u001b[0;34m\u001b[0m\u001b[0;34m\u001b[0m\u001b[0m\n\u001b[1;32m     15\u001b[0m \u001b[0;34m\u001b[0m\u001b[0m\n",
            "\u001b[0;31mValueError\u001b[0m: cannot reshape array of size 1960 into shape (49,40,49,1)"
          ]
        }
      ]
    }
  ]
}