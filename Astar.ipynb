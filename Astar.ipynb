{
  "nbformat": 4,
  "nbformat_minor": 0,
  "metadata": {
    "colab": {
      "name": "Astar",
      "provenance": [],
      "collapsed_sections": [],
      "authorship_tag": "ABX9TyPjunxGYbU89P03BA2vU7U9",
      "include_colab_link": true
    },
    "kernelspec": {
      "name": "python3",
      "display_name": "Python 3"
    }
  },
  "cells": [
    {
      "cell_type": "markdown",
      "metadata": {
        "id": "view-in-github",
        "colab_type": "text"
      },
      "source": [
        "<a href=\"https://colab.research.google.com/github/asetya/BigData/blob/master/Astar.ipynb\" target=\"_parent\"><img src=\"https://colab.research.google.com/assets/colab-badge.svg\" alt=\"Open In Colab\"/></a>"
      ]
    },
    {
      "cell_type": "markdown",
      "metadata": {
        "id": "EsmiMBUk9b00"
      },
      "source": [
        "**Algoritma Pencarian Heuristik **\n",
        "\n",
        "Algoritma A* adalah salah satu contoh algoritma pencarian dengan petunjuk (heuristik) \n",
        "\n",
        "Algoritma ini akan diimplementasikan dalam format berorientasi obyek untuk \n",
        "\n",
        "Kelas node di bawah ini adalah kelas untuk menyimpan setiap node yang memiliki parent\n"
      ]
    },
    {
      "cell_type": "code",
      "metadata": {
        "id": "zGpwFXw89X7E"
      },
      "source": [
        "class Node():\n",
        "    \"\"\"A node class for A* Pathfinding\"\"\"\n",
        "\n",
        "    def __init__(self, parent=None, position=None):\n",
        "        self.parent = parent\n",
        "        self.position = position\n",
        "\n",
        "        self.g = 0\n",
        "        self.h = 0\n",
        "        self.f = 0\n",
        "\n",
        "    def __eq__(self, other):\n",
        "        return self.position == other.position"
      ],
      "execution_count": null,
      "outputs": []
    },
    {
      "cell_type": "markdown",
      "metadata": {
        "id": "SqATJQ9PJj8W"
      },
      "source": [
        "fungsi astar di bawah ini adalah fungsi yang digunakan untuk memecahkan pencarian jalur terpendek dengan masukan maze, node mulai (start) dan tujuan (end) \n",
        "Gambaran maze seperti gambar di bawah ini.\n"
      ]
    },
    {
      "cell_type": "markdown",
      "metadata": {
        "id": "FFRXLeMCMLGD"
      },
      "source": [
        "![alt text](https://miro.medium.com/max/700/1*07IW_b2j23Wua3_C-S1jWw.png)\n"
      ]
    },
    {
      "cell_type": "markdown",
      "metadata": {
        "id": "LnR6YyBTMVhq"
      },
      "source": [
        "Tugas dari fungsi astar adalah mencari jalur terpendek dari start node yang di tentukan menuju ke target node (end) yang di tentukan pada maze dengan ukuran tertentu"
      ]
    },
    {
      "cell_type": "code",
      "metadata": {
        "id": "oXsmGOFx-cVc"
      },
      "source": [
        "def astar(maze, start, end):\n",
        "    \"\"\"Returns a list of tuples as a path from the given start to the given end in the given maze\"\"\"\n",
        "\n",
        "    # Create start and end node\n",
        "    start_node = Node(None, start)\n",
        "    start_node.g = start_node.h = start_node.f = 0\n",
        "    end_node = Node(None, end)\n",
        "    end_node.g = end_node.h = end_node.f = 0\n",
        "\n",
        "    # Initialize both open and closed list\n",
        "    open_list = []\n",
        "    closed_list = []\n",
        "\n",
        "    # Add the start node\n",
        "    open_list.append(start_node)\n",
        "\n",
        "    # Loop until you find the end\n",
        "    while len(open_list) > 0:\n",
        "\n",
        "        # Get the current node\n",
        "        current_node = open_list[0]\n",
        "        current_index = 0\n",
        "        for index, item in enumerate(open_list):\n",
        "            if item.f < current_node.f:\n",
        "                current_node = item\n",
        "                current_index = index\n",
        "\n",
        "        # Pop current off open list, add to closed list\n",
        "        open_list.pop(current_index)\n",
        "        closed_list.append(current_node)\n",
        "\n",
        "        # Found the goal\n",
        "        if current_node == end_node:\n",
        "            path = []\n",
        "            current = current_node\n",
        "            while current is not None:\n",
        "                path.append(current.position)\n",
        "                current = current.parent\n",
        "            return path[::-1] # Return reversed path\n",
        "\n",
        "        # Generate children\n",
        "        children = []\n",
        "        for new_position in [(0, -1), (0, 1), (-1, 0), (1, 0), (-1, -1), (-1, 1), (1, -1), (1, 1)]: # Adjacent squares\n",
        "\n",
        "            # Get node position\n",
        "            node_position = (current_node.position[0] + new_position[0], current_node.position[1] + new_position[1])\n",
        "\n",
        "            # Make sure within range\n",
        "            if node_position[0] > (len(maze) - 1) or node_position[0] < 0 or node_position[1] > (len(maze[len(maze)-1]) -1) or node_position[1] < 0:\n",
        "                continue\n",
        "\n",
        "            # Make sure walkable terrain\n",
        "            if maze[node_position[0]][node_position[1]] != 0:\n",
        "                continue\n",
        "\n",
        "            # Create new node\n",
        "            new_node = Node(current_node, node_position)\n",
        "\n",
        "            # Append\n",
        "            children.append(new_node)\n",
        "\n",
        "        # Loop through children\n",
        "        for child in children:\n",
        "\n",
        "            # Child is on the closed list\n",
        "            for closed_child in closed_list:\n",
        "                if child == closed_child:\n",
        "                    continue\n",
        "\n",
        "            # Create the f, g, and h values\n",
        "            child.g = current_node.g + 1\n",
        "            child.h = ((child.position[0] - end_node.position[0]) ** 2) + ((child.position[1] - end_node.position[1]) ** 2)\n",
        "            child.f = child.g + child.h\n",
        "\n",
        "            # Child is already in the open list\n",
        "            for open_node in open_list:\n",
        "                if child == open_node and child.g > open_node.g:\n",
        "                    continue\n",
        "\n",
        "            # Add the child to the open list\n",
        "            open_list.append(child)"
      ],
      "execution_count": null,
      "outputs": []
    },
    {
      "cell_type": "markdown",
      "metadata": {
        "id": "z6wKWCTOMo1x"
      },
      "source": [
        "Untuk merepresentasikan maze di buat dalam matrix 2 dimensi seperti pada kode program di bawah ini.\n",
        "\n",
        "setiap node di tandai dengan lokasi pada matrix - misal (0,0) berarti baris ke 0 kolom ke 0 - catatan di python matrix memiliki index yang berawal dari 0 \n"
      ]
    },
    {
      "cell_type": "code",
      "metadata": {
        "id": "6gPjH2eK-g45",
        "colab": {
          "base_uri": "https://localhost:8080/",
          "height": 34
        },
        "outputId": "19e3229b-a0b7-4765-ee93-3a4f314f1d3d"
      },
      "source": [
        "def main():\n",
        "\n",
        "    maze = [[0, 0, 0, 0, 1, 0, 0, 0, 0, 0],\n",
        "            [0, 0, 0, 0, 1, 0, 0, 0, 0, 0],\n",
        "            [0, 0, 0, 0, 1, 0, 0, 0, 0, 0],\n",
        "            [0, 0, 0, 0, 1, 0, 0, 0, 0, 0],\n",
        "            [0, 0, 0, 0, 1, 0, 0, 0, 0, 0],\n",
        "            [0, 0, 0, 0, 0, 0, 0, 0, 0, 0],\n",
        "            [0, 0, 0, 0, 1, 0, 0, 0, 0, 0],\n",
        "            [0, 0, 0, 0, 1, 0, 0, 0, 0, 0],\n",
        "            [0, 0, 0, 0, 1, 0, 0, 0, 0, 0],\n",
        "            [0, 0, 0, 0, 0, 0, 0, 0, 0, 0]]\n",
        "\n",
        "    start = (0, 0)\n",
        "    end = (7, 6)\n",
        "\n",
        "    path = astar(maze, start, end)\n",
        "    print(path)\n",
        "\n",
        "\n",
        "if __name__ == '__main__':\n",
        "    main()"
      ],
      "execution_count": null,
      "outputs": [
        {
          "output_type": "stream",
          "text": [
            "[(7, 7), (6, 6), (5, 5), (5, 4), (4, 3), (3, 2), (2, 1), (1, 1)]\n"
          ],
          "name": "stdout"
        }
      ]
    },
    {
      "cell_type": "markdown",
      "metadata": {
        "id": "Iz0x2hoFNHbR"
      },
      "source": [
        "Output yang di harapkan \n",
        "\n",
        "\n",
        "\n",
        "```\n",
        "[(0, 0), (1, 1), (2, 2), (3, 3), (4, 3), (5, 4), (6, 5), (7, 6)]\n",
        "```\n",
        "\n",
        "Tugas - \n",
        "1. buatlah maze dengan ukuran yang lebih besar \n",
        "2. buatlah start pada ujung kiri bawah (n-1,n-1) -- n = lebar dan tinggi matrix\n",
        "3. buatlah target di posisi manapun yang dapat dilakukan  \n"
      ]
    },
    {
      "cell_type": "markdown",
      "metadata": {
        "id": "LGF9KwjvO31c"
      },
      "source": [
        "Sumber : \n",
        "1. https://medium.com/@nicholas.w.swift/easy-a-star-pathfinding-7e6689c7f7b2\n",
        "2. https://towardsdatascience.com/a-star-a-search-algorithm-eb495fb156bb\n",
        "3. https://gist.github.com/Nicholas-Swift/003e1932ef2804bebef2710527008f44"
      ]
    }
  ]
}