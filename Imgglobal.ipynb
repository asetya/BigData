{
  "nbformat": 4,
  "nbformat_minor": 0,
  "metadata": {
    "colab": {
      "name": "global.ipynb",
      "provenance": [],
      "collapsed_sections": [],
      "toc_visible": true,
      "include_colab_link": true
    },
    "kernelspec": {
      "name": "python3",
      "display_name": "Python 3"
    }
  },
  "cells": [
    {
      "cell_type": "markdown",
      "metadata": {
        "id": "view-in-github",
        "colab_type": "text"
      },
      "source": [
        "<a href=\"https://colab.research.google.com/github/asetya/BigData/blob/master/Imgglobal.ipynb\" target=\"_parent\"><img src=\"https://colab.research.google.com/assets/colab-badge.svg\" alt=\"Open In Colab\"/></a>"
      ]
    },
    {
      "cell_type": "markdown",
      "metadata": {
        "id": "8Oftw1TaJspp"
      },
      "source": [
        "**praktikum mesin learning untuk image recognition menggunakan fitur global **\n",
        "\n",
        "\n",
        "\n",
        "terdapat 2 buah file, file pertama digunakan untuk menulis fungsi fungsi ekstraksi fitur, file kedua untuk melakukan klasifikasi dan evaluasi "
      ]
    },
    {
      "cell_type": "markdown",
      "metadata": {
        "id": "h4INOS2vVYVB"
      },
      "source": [
        "1. buka google colab https://colab.research.google.com/\n",
        "2. buat notebook baru \n",
        "3. buat blok kode program dengan mengklik +code \n",
        "4. jalankan setiap blok kode program dengan mengklik tanda panah ke kanan untuk setiap blok \n"
      ]
    },
    {
      "cell_type": "code",
      "metadata": {
        "id": "7DjUgIelJzqq"
      },
      "source": [
        "from sklearn.preprocessing import LabelEncoder\n",
        "from sklearn.preprocessing import MinMaxScaler\n",
        "import numpy as np\n",
        "import mahotas\n",
        "import cv2\n",
        "import os\n",
        "import h5py"
      ],
      "execution_count": 9,
      "outputs": []
    },
    {
      "cell_type": "markdown",
      "metadata": {
        "id": "YcN7XQnLWNqC"
      },
      "source": [
        "jika terdapat pesan bahwa library mahotas tidak ada seperti di bawah ini :\n",
        " \n",
        "\n",
        "```\n",
        "ModuleNotFoundError                       Traceback (most recent call last)\n",
        "<ipython-input-1-717b2196b28a> in <module>()\n",
        "      2 from sklearn.preprocessing import MinMaxScaler\n",
        "      3 import numpy as np\n",
        "----> 4 import mahotas\n",
        "      5 import cv2\n",
        "      6 import os\n",
        "\n",
        "ModuleNotFoundError: No module named 'mahotas'\n",
        "\n",
        "---------------------------------------------------------------------------\n",
        "NOTE: If your import is failing due to a missing package, you can\n",
        "manually install dependencies using either !pip or !apt.\n",
        "\n",
        "To view examples of installing some common dependencies, click the\n",
        "\"Open Examples\" button below.\n",
        "```\n",
        "\n",
        "\n",
        " (ModuleNotFoundError: No module named 'mahotas')\n",
        " \n",
        " tidak di temukan silakan jalankan blok program di bawah ini, dengan mengaktikan dulu kodenya dengan menghapus tanda #\n",
        "\n",
        "setelah selesai, non aktifkan perintah instal mahotas dan  kembali jalankan blok yang error tadi\n",
        "\n"
      ]
    },
    {
      "cell_type": "code",
      "metadata": {
        "id": "Ichjb3LQXFeS",
        "colab": {
          "base_uri": "https://localhost:8080/",
          "height": 0
        },
        "outputId": "ce7fcf90-6cdd-4f63-ab06-8bbb1d0abb98"
      },
      "source": [
        "#!pip install mahotas"
      ],
      "execution_count": 2,
      "outputs": [
        {
          "output_type": "stream",
          "text": [
            "Collecting mahotas\n",
            "\u001b[?25l  Downloading https://files.pythonhosted.org/packages/ce/3b/1f3fe2f86ffdb4a2fbc6baaf4ef0e6cebdd3e127de44ddd188dc2ed0d412/mahotas-1.4.11-cp36-cp36m-manylinux2010_x86_64.whl (5.7MB)\n",
            "\u001b[K     |████████████████████████████████| 5.7MB 4.0MB/s \n",
            "\u001b[?25hRequirement already satisfied: numpy in /usr/local/lib/python3.6/dist-packages (from mahotas) (1.19.5)\n",
            "Installing collected packages: mahotas\n",
            "Successfully installed mahotas-1.4.11\n"
          ],
          "name": "stdout"
        }
      ]
    },
    {
      "cell_type": "markdown",
      "metadata": {
        "id": "sTjQNHCoXJH6"
      },
      "source": [
        "jika terdapat pesan bahwa libray cv2 tidak di temukan silakan jalankan blok program di bawah ini, dengan mengaktikan dulu kodenya dengan menghapus tanda #\n"
      ]
    },
    {
      "cell_type": "code",
      "metadata": {
        "id": "bwSRskUaaQQD",
        "colab": {
          "base_uri": "https://localhost:8080/",
          "height": 0
        },
        "outputId": "7643e8f6-520b-4e01-a477-77328895c182"
      },
      "source": [
        "#!pip install opencv-contrib-python==3.4.0.12"
      ],
      "execution_count": 3,
      "outputs": [
        {
          "output_type": "stream",
          "text": [
            "Collecting opencv-contrib-python==3.4.0.12\n",
            "\u001b[?25l  Downloading https://files.pythonhosted.org/packages/d0/ee/fb76784459b35c55740a0b20c7cfbd06752f9f8f96bf0bdcfafe2e8cf363/opencv_contrib_python-3.4.0.12-cp36-cp36m-manylinux1_x86_64.whl (30.5MB)\n",
            "\u001b[K     |████████████████████████████████| 30.5MB 141kB/s \n",
            "\u001b[?25hRequirement already satisfied: numpy>=1.11.3 in /usr/local/lib/python3.6/dist-packages (from opencv-contrib-python==3.4.0.12) (1.19.5)\n",
            "Installing collected packages: opencv-contrib-python\n",
            "  Found existing installation: opencv-contrib-python 4.1.2.30\n",
            "    Uninstalling opencv-contrib-python-4.1.2.30:\n",
            "      Successfully uninstalled opencv-contrib-python-4.1.2.30\n",
            "Successfully installed opencv-contrib-python-3.4.0.12\n"
          ],
          "name": "stdout"
        }
      ]
    },
    {
      "cell_type": "code",
      "metadata": {
        "id": "T5I0qSaJK6Wh"
      },
      "source": [
        ""
      ],
      "execution_count": null,
      "outputs": []
    },
    {
      "cell_type": "markdown",
      "metadata": {
        "id": "c-YVDxrdX7RQ"
      },
      "source": [
        "Hubungkan kode program ini dengan google drive kita\n"
      ]
    },
    {
      "cell_type": "code",
      "metadata": {
        "id": "RWSJpsyKqHjH",
        "colab": {
          "base_uri": "https://localhost:8080/",
          "height": 0
        },
        "outputId": "f2f46fce-fb99-4160-c16c-88c8d2971cfc"
      },
      "source": [
        "from google.colab import drive\n",
        "drive.mount('/content/drive')"
      ],
      "execution_count": 4,
      "outputs": [
        {
          "output_type": "stream",
          "text": [
            "Mounted at /content/drive\n"
          ],
          "name": "stdout"
        }
      ]
    },
    {
      "cell_type": "markdown",
      "metadata": {
        "id": "D1Uhl7ri5TPH"
      },
      "source": [
        "output yang diharapkan : \n",
        "\n",
        "Mounted at /content/drive"
      ]
    },
    {
      "cell_type": "markdown",
      "metadata": {
        "id": "zY8RMcZOLDUQ"
      },
      "source": [
        "Copy Dataset dari lokal ke server google colab"
      ]
    },
    {
      "cell_type": "code",
      "metadata": {
        "id": "M85MPr4h15ho"
      },
      "source": [
        "cp /content/drive/My\\ Drive/dataset1.zip /content/"
      ],
      "execution_count": 95,
      "outputs": []
    },
    {
      "cell_type": "markdown",
      "metadata": {
        "id": "M4teLdOLcOhA"
      },
      "source": [
        "**unzip dataset di server google colab**"
      ]
    },
    {
      "cell_type": "code",
      "metadata": {
        "colab": {
          "base_uri": "https://localhost:8080/",
          "height": 0
        },
        "id": "E6pIQhqARW_B",
        "outputId": "a0aa03da-0180-4200-e4d9-5db845f31081"
      },
      "source": [
        "!unzip /content/dataset1.zip"
      ],
      "execution_count": 96,
      "outputs": [
        {
          "output_type": "stream",
          "text": [
            "Archive:  /content/dataset1.zip\n",
            "replace dataset1/dataset1/desktop.ini? [y]es, [n]o, [A]ll, [N]one, [r]ename: a\n",
            "error:  invalid response [a]\n",
            "replace dataset1/dataset1/desktop.ini? [y]es, [n]o, [A]ll, [N]one, [r]ename: A\n",
            "  inflating: dataset1/dataset1/desktop.ini  \n",
            "  inflating: dataset1/dataset1/test/1.jpg  \n",
            "  inflating: dataset1/dataset1/test/2.jpg  \n",
            "  inflating: dataset1/dataset1/test/3.jpg  \n",
            "  inflating: dataset1/dataset1/test/76.jpg  \n",
            "  inflating: dataset1/dataset1/test/77.jpg  \n",
            "  inflating: dataset1/dataset1/test/78.jpg  \n",
            "  inflating: dataset1/dataset1/test/79.jpg  \n",
            "  inflating: dataset1/dataset1/test/80.jpg  \n",
            "  inflating: dataset1/dataset1/test/desktop.ini  \n",
            "  inflating: dataset1/dataset1/train/bluebell/1.jpg  \n",
            "  inflating: dataset1/dataset1/train/bluebell/10.jpg  \n",
            "  inflating: dataset1/dataset1/train/bluebell/11.jpg  \n",
            "  inflating: dataset1/dataset1/train/bluebell/12.jpg  \n",
            "  inflating: dataset1/dataset1/train/bluebell/13.jpg  \n",
            "  inflating: dataset1/dataset1/train/bluebell/14.jpg  \n",
            "  inflating: dataset1/dataset1/train/bluebell/15.jpg  \n",
            "  inflating: dataset1/dataset1/train/bluebell/16.jpg  \n",
            "  inflating: dataset1/dataset1/train/bluebell/17.jpg  \n",
            "  inflating: dataset1/dataset1/train/bluebell/18.jpg  \n",
            "  inflating: dataset1/dataset1/train/bluebell/19.jpg  \n",
            "  inflating: dataset1/dataset1/train/bluebell/2.jpg  \n",
            "  inflating: dataset1/dataset1/train/bluebell/20.jpg  \n",
            "  inflating: dataset1/dataset1/train/bluebell/21.jpg  \n",
            "  inflating: dataset1/dataset1/train/bluebell/22.jpg  \n",
            "  inflating: dataset1/dataset1/train/bluebell/23.jpg  \n",
            "  inflating: dataset1/dataset1/train/bluebell/24.jpg  \n",
            "  inflating: dataset1/dataset1/train/bluebell/25.jpg  \n",
            "  inflating: dataset1/dataset1/train/bluebell/26.jpg  \n",
            "  inflating: dataset1/dataset1/train/bluebell/27.jpg  \n",
            "  inflating: dataset1/dataset1/train/bluebell/28.jpg  \n",
            "  inflating: dataset1/dataset1/train/bluebell/29.jpg  \n",
            "  inflating: dataset1/dataset1/train/bluebell/3.jpg  \n",
            "  inflating: dataset1/dataset1/train/bluebell/30.jpg  \n",
            "  inflating: dataset1/dataset1/train/bluebell/31.jpg  \n",
            "  inflating: dataset1/dataset1/train/bluebell/32.jpg  \n",
            "  inflating: dataset1/dataset1/train/bluebell/33.jpg  \n",
            "  inflating: dataset1/dataset1/train/bluebell/34.jpg  \n",
            "  inflating: dataset1/dataset1/train/bluebell/35.jpg  \n",
            "  inflating: dataset1/dataset1/train/bluebell/36.jpg  \n",
            "  inflating: dataset1/dataset1/train/bluebell/37.jpg  \n",
            "  inflating: dataset1/dataset1/train/bluebell/38.jpg  \n",
            "  inflating: dataset1/dataset1/train/bluebell/39.jpg  \n",
            "  inflating: dataset1/dataset1/train/bluebell/4.jpg  \n",
            "  inflating: dataset1/dataset1/train/bluebell/40.jpg  \n",
            "  inflating: dataset1/dataset1/train/bluebell/41.jpg  \n",
            "  inflating: dataset1/dataset1/train/bluebell/42.jpg  \n",
            "  inflating: dataset1/dataset1/train/bluebell/43.jpg  \n",
            "  inflating: dataset1/dataset1/train/bluebell/44.jpg  \n",
            "  inflating: dataset1/dataset1/train/bluebell/45.jpg  \n",
            "  inflating: dataset1/dataset1/train/bluebell/46.jpg  \n",
            "  inflating: dataset1/dataset1/train/bluebell/47.jpg  \n",
            "  inflating: dataset1/dataset1/train/bluebell/48.jpg  \n",
            "  inflating: dataset1/dataset1/train/bluebell/49.jpg  \n",
            "  inflating: dataset1/dataset1/train/bluebell/5.jpg  \n",
            "  inflating: dataset1/dataset1/train/bluebell/50.jpg  \n",
            "  inflating: dataset1/dataset1/train/bluebell/51.jpg  \n",
            "  inflating: dataset1/dataset1/train/bluebell/52.jpg  \n",
            "  inflating: dataset1/dataset1/train/bluebell/53.jpg  \n",
            "  inflating: dataset1/dataset1/train/bluebell/54.jpg  \n",
            "  inflating: dataset1/dataset1/train/bluebell/55.jpg  \n",
            "  inflating: dataset1/dataset1/train/bluebell/56.jpg  \n",
            "  inflating: dataset1/dataset1/train/bluebell/57.jpg  \n",
            "  inflating: dataset1/dataset1/train/bluebell/58.jpg  \n",
            "  inflating: dataset1/dataset1/train/bluebell/59.jpg  \n",
            "  inflating: dataset1/dataset1/train/bluebell/6.jpg  \n",
            "  inflating: dataset1/dataset1/train/bluebell/60.jpg  \n",
            "  inflating: dataset1/dataset1/train/bluebell/61.jpg  \n",
            "  inflating: dataset1/dataset1/train/bluebell/62.jpg  \n",
            "  inflating: dataset1/dataset1/train/bluebell/63.jpg  \n",
            "  inflating: dataset1/dataset1/train/bluebell/64.jpg  \n",
            "  inflating: dataset1/dataset1/train/bluebell/65.jpg  \n",
            "  inflating: dataset1/dataset1/train/bluebell/66.jpg  \n",
            "  inflating: dataset1/dataset1/train/bluebell/67.jpg  \n",
            "  inflating: dataset1/dataset1/train/bluebell/68.jpg  \n",
            "  inflating: dataset1/dataset1/train/bluebell/69.jpg  \n",
            "  inflating: dataset1/dataset1/train/bluebell/7.jpg  \n",
            "  inflating: dataset1/dataset1/train/bluebell/70.jpg  \n",
            "  inflating: dataset1/dataset1/train/bluebell/71.jpg  \n",
            "  inflating: dataset1/dataset1/train/bluebell/72.jpg  \n",
            "  inflating: dataset1/dataset1/train/bluebell/73.jpg  \n",
            "  inflating: dataset1/dataset1/train/bluebell/74.jpg  \n",
            "  inflating: dataset1/dataset1/train/bluebell/75.jpg  \n",
            "  inflating: dataset1/dataset1/train/bluebell/76.jpg  \n",
            "  inflating: dataset1/dataset1/train/bluebell/77.jpg  \n",
            "  inflating: dataset1/dataset1/train/bluebell/78.jpg  \n",
            "  inflating: dataset1/dataset1/train/bluebell/79.jpg  \n",
            "  inflating: dataset1/dataset1/train/bluebell/8.jpg  \n",
            "  inflating: dataset1/dataset1/train/bluebell/80.jpg  \n",
            "  inflating: dataset1/dataset1/train/bluebell/9.jpg  \n",
            "  inflating: dataset1/dataset1/train/bluebell/desktop.ini  \n",
            "  inflating: dataset1/dataset1/train/buttercup/1.jpg  \n",
            "  inflating: dataset1/dataset1/train/buttercup/10.jpg  \n",
            "  inflating: dataset1/dataset1/train/buttercup/11.jpg  \n",
            "  inflating: dataset1/dataset1/train/buttercup/12.jpg  \n",
            "  inflating: dataset1/dataset1/train/buttercup/13.jpg  \n",
            "  inflating: dataset1/dataset1/train/buttercup/14.jpg  \n",
            "  inflating: dataset1/dataset1/train/buttercup/15.jpg  \n",
            "  inflating: dataset1/dataset1/train/buttercup/16.jpg  \n",
            "  inflating: dataset1/dataset1/train/buttercup/17.jpg  \n",
            "  inflating: dataset1/dataset1/train/buttercup/18.jpg  \n",
            "  inflating: dataset1/dataset1/train/buttercup/19.jpg  \n",
            "  inflating: dataset1/dataset1/train/buttercup/2.jpg  \n",
            "  inflating: dataset1/dataset1/train/buttercup/20.jpg  \n",
            "  inflating: dataset1/dataset1/train/buttercup/21.jpg  \n",
            "  inflating: dataset1/dataset1/train/buttercup/22.jpg  \n",
            "  inflating: dataset1/dataset1/train/buttercup/23.jpg  \n",
            "  inflating: dataset1/dataset1/train/buttercup/24.jpg  \n",
            "  inflating: dataset1/dataset1/train/buttercup/25.jpg  \n",
            "  inflating: dataset1/dataset1/train/buttercup/26.jpg  \n",
            "  inflating: dataset1/dataset1/train/buttercup/27.jpg  \n",
            "  inflating: dataset1/dataset1/train/buttercup/28.jpg  \n",
            "  inflating: dataset1/dataset1/train/buttercup/29.jpg  \n",
            "  inflating: dataset1/dataset1/train/buttercup/3.jpg  \n",
            "  inflating: dataset1/dataset1/train/buttercup/30.jpg  \n",
            "  inflating: dataset1/dataset1/train/buttercup/31.jpg  \n",
            "  inflating: dataset1/dataset1/train/buttercup/32.jpg  \n",
            "  inflating: dataset1/dataset1/train/buttercup/33.jpg  \n",
            "  inflating: dataset1/dataset1/train/buttercup/34.jpg  \n",
            "  inflating: dataset1/dataset1/train/buttercup/35.jpg  \n",
            "  inflating: dataset1/dataset1/train/buttercup/36.jpg  \n",
            "  inflating: dataset1/dataset1/train/buttercup/37.jpg  \n",
            "  inflating: dataset1/dataset1/train/buttercup/38.jpg  \n",
            "  inflating: dataset1/dataset1/train/buttercup/39.jpg  \n",
            "  inflating: dataset1/dataset1/train/buttercup/4.jpg  \n",
            "  inflating: dataset1/dataset1/train/buttercup/40.jpg  \n",
            "  inflating: dataset1/dataset1/train/buttercup/41.jpg  \n",
            "  inflating: dataset1/dataset1/train/buttercup/42.jpg  \n",
            "  inflating: dataset1/dataset1/train/buttercup/43.jpg  \n",
            "  inflating: dataset1/dataset1/train/buttercup/44.jpg  \n",
            "  inflating: dataset1/dataset1/train/buttercup/45.jpg  \n",
            "  inflating: dataset1/dataset1/train/buttercup/46.jpg  \n",
            "  inflating: dataset1/dataset1/train/buttercup/47.jpg  \n",
            "  inflating: dataset1/dataset1/train/buttercup/48.jpg  \n",
            "  inflating: dataset1/dataset1/train/buttercup/49.jpg  \n",
            "  inflating: dataset1/dataset1/train/buttercup/5.jpg  \n",
            "  inflating: dataset1/dataset1/train/buttercup/50.jpg  \n",
            "  inflating: dataset1/dataset1/train/buttercup/51.jpg  \n",
            "  inflating: dataset1/dataset1/train/buttercup/52.jpg  \n",
            "  inflating: dataset1/dataset1/train/buttercup/53.jpg  \n",
            "  inflating: dataset1/dataset1/train/buttercup/54.jpg  \n",
            "  inflating: dataset1/dataset1/train/buttercup/55.jpg  \n",
            "  inflating: dataset1/dataset1/train/buttercup/56.jpg  \n",
            "  inflating: dataset1/dataset1/train/buttercup/57.jpg  \n",
            "  inflating: dataset1/dataset1/train/buttercup/58.jpg  \n",
            "  inflating: dataset1/dataset1/train/buttercup/59.jpg  \n",
            "  inflating: dataset1/dataset1/train/buttercup/6.jpg  \n",
            "  inflating: dataset1/dataset1/train/buttercup/60.jpg  \n",
            "  inflating: dataset1/dataset1/train/buttercup/61.jpg  \n",
            "  inflating: dataset1/dataset1/train/buttercup/62.jpg  \n",
            "  inflating: dataset1/dataset1/train/buttercup/63.jpg  \n",
            "  inflating: dataset1/dataset1/train/buttercup/64.jpg  \n",
            "  inflating: dataset1/dataset1/train/buttercup/65.jpg  \n",
            "  inflating: dataset1/dataset1/train/buttercup/66.jpg  \n",
            "  inflating: dataset1/dataset1/train/buttercup/67.jpg  \n",
            "  inflating: dataset1/dataset1/train/buttercup/68.jpg  \n",
            "  inflating: dataset1/dataset1/train/buttercup/69.jpg  \n",
            "  inflating: dataset1/dataset1/train/buttercup/7.jpg  \n",
            "  inflating: dataset1/dataset1/train/buttercup/70.jpg  \n",
            "  inflating: dataset1/dataset1/train/buttercup/71.jpg  \n",
            "  inflating: dataset1/dataset1/train/buttercup/72.jpg  \n",
            "  inflating: dataset1/dataset1/train/buttercup/73.jpg  \n",
            "  inflating: dataset1/dataset1/train/buttercup/74.jpg  \n",
            "  inflating: dataset1/dataset1/train/buttercup/75.jpg  \n",
            "  inflating: dataset1/dataset1/train/buttercup/76.jpg  \n",
            "  inflating: dataset1/dataset1/train/buttercup/77.jpg  \n",
            "  inflating: dataset1/dataset1/train/buttercup/78.jpg  \n",
            "  inflating: dataset1/dataset1/train/buttercup/79.jpg  \n",
            "  inflating: dataset1/dataset1/train/buttercup/8.jpg  \n",
            "  inflating: dataset1/dataset1/train/buttercup/80.jpg  \n",
            "  inflating: dataset1/dataset1/train/buttercup/9.jpg  \n",
            "  inflating: dataset1/dataset1/train/buttercup/desktop.ini  \n",
            "  inflating: dataset1/dataset1/train/coltsfoot/1.jpg  \n",
            "  inflating: dataset1/dataset1/train/coltsfoot/10.jpg  \n",
            "  inflating: dataset1/dataset1/train/coltsfoot/11.jpg  \n",
            "  inflating: dataset1/dataset1/train/coltsfoot/12.jpg  \n",
            "  inflating: dataset1/dataset1/train/coltsfoot/13.jpg  \n",
            "  inflating: dataset1/dataset1/train/coltsfoot/14.jpg  \n",
            "  inflating: dataset1/dataset1/train/coltsfoot/15.jpg  \n",
            "  inflating: dataset1/dataset1/train/coltsfoot/16.jpg  \n",
            "  inflating: dataset1/dataset1/train/coltsfoot/17.jpg  \n",
            "  inflating: dataset1/dataset1/train/coltsfoot/18.jpg  \n",
            "  inflating: dataset1/dataset1/train/coltsfoot/19.jpg  \n",
            "  inflating: dataset1/dataset1/train/coltsfoot/2.jpg  \n",
            "  inflating: dataset1/dataset1/train/coltsfoot/20.jpg  \n",
            "  inflating: dataset1/dataset1/train/coltsfoot/21.jpg  \n",
            "  inflating: dataset1/dataset1/train/coltsfoot/22.jpg  \n",
            "  inflating: dataset1/dataset1/train/coltsfoot/23.jpg  \n",
            "  inflating: dataset1/dataset1/train/coltsfoot/24.jpg  \n",
            "  inflating: dataset1/dataset1/train/coltsfoot/25.jpg  \n",
            "  inflating: dataset1/dataset1/train/coltsfoot/26.jpg  \n",
            "  inflating: dataset1/dataset1/train/coltsfoot/27.jpg  \n",
            "  inflating: dataset1/dataset1/train/coltsfoot/28.jpg  \n",
            "  inflating: dataset1/dataset1/train/coltsfoot/29.jpg  \n",
            "  inflating: dataset1/dataset1/train/coltsfoot/3.jpg  \n",
            "  inflating: dataset1/dataset1/train/coltsfoot/30.jpg  \n",
            "  inflating: dataset1/dataset1/train/coltsfoot/31.jpg  \n",
            "  inflating: dataset1/dataset1/train/coltsfoot/32.jpg  \n",
            "  inflating: dataset1/dataset1/train/coltsfoot/33.jpg  \n",
            "  inflating: dataset1/dataset1/train/coltsfoot/34.jpg  \n",
            "  inflating: dataset1/dataset1/train/coltsfoot/35.jpg  \n",
            "  inflating: dataset1/dataset1/train/coltsfoot/36.jpg  \n",
            "  inflating: dataset1/dataset1/train/coltsfoot/37.jpg  \n",
            "  inflating: dataset1/dataset1/train/coltsfoot/38.jpg  \n",
            "  inflating: dataset1/dataset1/train/coltsfoot/39.jpg  \n",
            "  inflating: dataset1/dataset1/train/coltsfoot/4.jpg  \n",
            "  inflating: dataset1/dataset1/train/coltsfoot/40.jpg  \n",
            "  inflating: dataset1/dataset1/train/coltsfoot/41.jpg  \n",
            "  inflating: dataset1/dataset1/train/coltsfoot/42.jpg  \n",
            "  inflating: dataset1/dataset1/train/coltsfoot/43.jpg  \n",
            "  inflating: dataset1/dataset1/train/coltsfoot/44.jpg  \n",
            "  inflating: dataset1/dataset1/train/coltsfoot/45.jpg  \n",
            "  inflating: dataset1/dataset1/train/coltsfoot/46.jpg  \n",
            "  inflating: dataset1/dataset1/train/coltsfoot/47.jpg  \n",
            "  inflating: dataset1/dataset1/train/coltsfoot/48.jpg  \n",
            "  inflating: dataset1/dataset1/train/coltsfoot/49.jpg  \n",
            "  inflating: dataset1/dataset1/train/coltsfoot/5.jpg  \n",
            "  inflating: dataset1/dataset1/train/coltsfoot/50.jpg  \n",
            "  inflating: dataset1/dataset1/train/coltsfoot/51.jpg  \n",
            "  inflating: dataset1/dataset1/train/coltsfoot/52.jpg  \n",
            "  inflating: dataset1/dataset1/train/coltsfoot/53.jpg  \n",
            "  inflating: dataset1/dataset1/train/coltsfoot/54.jpg  \n",
            "  inflating: dataset1/dataset1/train/coltsfoot/55.jpg  \n",
            "  inflating: dataset1/dataset1/train/coltsfoot/56.jpg  \n",
            "  inflating: dataset1/dataset1/train/coltsfoot/57.jpg  \n",
            "  inflating: dataset1/dataset1/train/coltsfoot/58.jpg  \n",
            "  inflating: dataset1/dataset1/train/coltsfoot/59.jpg  \n",
            "  inflating: dataset1/dataset1/train/coltsfoot/6.jpg  \n",
            "  inflating: dataset1/dataset1/train/coltsfoot/60.jpg  \n",
            "  inflating: dataset1/dataset1/train/coltsfoot/61.jpg  \n",
            "  inflating: dataset1/dataset1/train/coltsfoot/62.jpg  \n",
            "  inflating: dataset1/dataset1/train/coltsfoot/63.jpg  \n",
            "  inflating: dataset1/dataset1/train/coltsfoot/64.jpg  \n",
            "  inflating: dataset1/dataset1/train/coltsfoot/65.jpg  \n",
            "  inflating: dataset1/dataset1/train/coltsfoot/66.jpg  \n",
            "  inflating: dataset1/dataset1/train/coltsfoot/67.jpg  \n",
            "  inflating: dataset1/dataset1/train/coltsfoot/68.jpg  \n",
            "  inflating: dataset1/dataset1/train/coltsfoot/69.jpg  \n",
            "  inflating: dataset1/dataset1/train/coltsfoot/7.jpg  \n",
            "  inflating: dataset1/dataset1/train/coltsfoot/70.jpg  \n",
            "  inflating: dataset1/dataset1/train/coltsfoot/71.jpg  \n",
            "  inflating: dataset1/dataset1/train/coltsfoot/72.jpg  \n",
            "  inflating: dataset1/dataset1/train/coltsfoot/73.jpg  \n",
            "  inflating: dataset1/dataset1/train/coltsfoot/74.jpg  \n",
            "  inflating: dataset1/dataset1/train/coltsfoot/75.jpg  \n",
            "  inflating: dataset1/dataset1/train/coltsfoot/76.jpg  \n",
            "  inflating: dataset1/dataset1/train/coltsfoot/77.jpg  \n",
            "  inflating: dataset1/dataset1/train/coltsfoot/78.jpg  \n",
            "  inflating: dataset1/dataset1/train/coltsfoot/79.jpg  \n",
            "  inflating: dataset1/dataset1/train/coltsfoot/8.jpg  \n",
            "  inflating: dataset1/dataset1/train/coltsfoot/80.jpg  \n",
            "  inflating: dataset1/dataset1/train/coltsfoot/9.jpg  \n",
            "  inflating: dataset1/dataset1/train/coltsfoot/desktop.ini  \n",
            "  inflating: dataset1/dataset1/train/desktop.ini  \n"
          ],
          "name": "stdout"
        }
      ]
    },
    {
      "cell_type": "markdown",
      "metadata": {
        "id": "KCTeZzui5jUU"
      },
      "source": [
        "output yang diharapkan : \n",
        "\n",
        "\n",
        "\n",
        "```\n",
        "Archive:  /content/dataset1.zip\n",
        "  inflating: dataset1/desktop.ini    \n",
        "  inflating: dataset1/test/desktop.ini  \n",
        "   creating: dataset1/train/\n",
        "   creating: dataset1/train/bluebell/\n",
        "  inflating: dataset1/train/bluebell/1.jpg  \n",
        "  inflating: dataset1/train/bluebell/10.jpg  \n",
        "  inflating: dataset1/train/bluebell/11.jpg  \n",
        "  inflating: dataset1/train/bluebell/12.jpg  \n",
        "  inflating: dataset1/train/bluebell/13.jpg  \n",
        "  inflating: dataset1/train/bluebell/14.jpg  \n",
        "  inflating: dataset1/train/bluebell/15.jpg  \n",
        "  inflating: dataset1/train/bluebell/16.jpg  \n",
        "  ....\n",
        "```\n",
        "\n"
      ]
    },
    {
      "cell_type": "markdown",
      "metadata": {
        "id": "uHR0bX89Xl_q"
      },
      "source": [
        "tentukan jumlah image per kelas, ukuran standard, nama folder di mana data training disimpan, output dan jumlah bins untuk histogram "
      ]
    },
    {
      "cell_type": "code",
      "metadata": {
        "id": "vP5RJSBDLGxZ",
        "colab": {
          "base_uri": "https://localhost:8080/",
          "height": 0
        },
        "outputId": "4e04adbf-ec6b-4f59-d5e9-92232bc113d8"
      },
      "source": [
        "images_per_class = 80\n",
        "fixed_size       = tuple((500, 500))\n",
        "train_path       = \"dataset1/dataset1/train\"\n",
        "h5_data          = 'output/data.h5'\n",
        "h5_labels        = 'output/labels.h5'\n",
        "bins             = 8\n",
        "print(\"jumlah image per kelas : \", images_per_class, \"train path : \", train_path, \"; file h5 untuk label : \",h5_labels, \";jumlah bins dalam histogram :\", bins)"
      ],
      "execution_count": 97,
      "outputs": [
        {
          "output_type": "stream",
          "text": [
            "jumlah image per kelas :  80 train path :  dataset1/dataset1/train ; file h5 untuk label :  output/labels.h5 ;jumlah bins dalam histogram : 8\n"
          ],
          "name": "stdout"
        }
      ]
    },
    {
      "cell_type": "markdown",
      "metadata": {
        "id": "mrX5-Ccv6T8U"
      },
      "source": [
        "output yang diharapkan : \n",
        "\n",
        "jumlah image per kelas :  80 train path :  dataset1/train ; file h5 untuk label :  output/labels.h5 ;jumlah bins dalam histogram : 8"
      ]
    },
    {
      "cell_type": "markdown",
      "metadata": {
        "id": "YrbwN9GYYNjD"
      },
      "source": [
        "jalankan perintah untuk membuat direktori output"
      ]
    },
    {
      "cell_type": "code",
      "metadata": {
        "id": "g7GnkIiKYMYD",
        "colab": {
          "base_uri": "https://localhost:8080/",
          "height": 0
        },
        "outputId": "186b1a82-b02d-474c-d038-577d5b7fecc8"
      },
      "source": [
        "output_path=\"output\"\n",
        "if not os.path.exists(output_path ):\n",
        "    os.makedirs(output_path )\n",
        "print(output_path)"
      ],
      "execution_count": 98,
      "outputs": [
        {
          "output_type": "stream",
          "text": [
            "output\n"
          ],
          "name": "stdout"
        }
      ]
    },
    {
      "cell_type": "markdown",
      "metadata": {
        "id": "TVRoEMZu7WRV"
      },
      "source": [
        "output yang di harapkan \n",
        "\n",
        "output"
      ]
    },
    {
      "cell_type": "markdown",
      "metadata": {
        "id": "goED1RLCLXLE"
      },
      "source": [
        "Fungsi untuk mengektraksi fitur hu moments"
      ]
    },
    {
      "cell_type": "code",
      "metadata": {
        "id": "T2CXhkB9Laug"
      },
      "source": [
        "def fd_hu_moments(image):\n",
        "    image = cv2.cvtColor(image, cv2.COLOR_BGR2GRAY)\n",
        "    feature = cv2.HuMoments(cv2.moments(image)).flatten()\n",
        "    return feature"
      ],
      "execution_count": 99,
      "outputs": []
    },
    {
      "cell_type": "markdown",
      "metadata": {
        "id": "qbOT31hXeOi7"
      },
      "source": [
        "**fungsi untuk mencari haralick feature**"
      ]
    },
    {
      "cell_type": "code",
      "metadata": {
        "id": "588GF0-NdkmV"
      },
      "source": [
        "def fd_haralick(image):\n",
        "    # convert the image to grayscale\n",
        "    gray = cv2.cvtColor(image, cv2.COLOR_BGR2GRAY)\n",
        "    # compute the haralick texture feature vector\n",
        "    haralick = mahotas.features.haralick(gray).mean(axis=0)\n",
        "    # return the result\n",
        "    return haralick\n"
      ],
      "execution_count": 100,
      "outputs": []
    },
    {
      "cell_type": "markdown",
      "metadata": {
        "id": "k5ZBmy1IeZMK"
      },
      "source": [
        "**Fungsi untuk ekstraksi histogram**"
      ]
    },
    {
      "cell_type": "code",
      "metadata": {
        "id": "tJVySuddeNlL"
      },
      "source": [
        "import numpy as np\n",
        "from matplotlib import pyplot as plt\n",
        "def fd_histogram(image, mask=None):\n",
        "    # convert the image to HSV color-space\n",
        "    image = cv2.cvtColor(image, cv2.COLOR_BGR2HSV)\n",
        "    # compute the color histogram\n",
        "    hist  = cv2.calcHist([image], [0, 1, 2], None, [bins, bins, bins], [0, 256, 0, 256, 0, 256])\n",
        "    # normalize the histogram\n",
        "     \n",
        "    cv2.normalize(hist, hist)\n",
        "    # return the histogram\n",
        "    return hist.flatten()"
      ],
      "execution_count": 120,
      "outputs": []
    },
    {
      "cell_type": "markdown",
      "metadata": {
        "id": "UEtV6xTBEgAI"
      },
      "source": [
        "**INSPEKSI** **FITUR**\r\n",
        "\r\n",
        "Membaca Image \r\n",
        "\r\n",
        "Ekstraksi Histogram \r\n",
        "\r\n",
        "Menampilkan histogram \r\n",
        "\r\n",
        "\r\n",
        "\r\n"
      ]
    },
    {
      "cell_type": "code",
      "metadata": {
        "colab": {
          "base_uri": "https://localhost:8080/",
          "height": 186
        },
        "id": "K9o2AG0NEaSJ",
        "outputId": "8122c016-375c-4e98-b30a-16fd381588d5"
      },
      "source": [
        "# menampilkan salah satu gambar dan histogramnya \r\n",
        "\r\n",
        "file =  'dataset1/dataset1/train/coltsfoot/79.jpg' \r\n",
        "image = cv2.imread(file)\r\n",
        "image = cv2.resize(image, fixed_size)\r\n",
        "fv_histogram  = fd_histogram(image)\r\n",
        "plt.subplot(221),plt.imshow(image)\r\n",
        "plt.subplot(222),plt.plot(fv_histogram)   \r\n"
      ],
      "execution_count": 124,
      "outputs": [
        {
          "output_type": "execute_result",
          "data": {
            "text/plain": [
              "(<matplotlib.axes._subplots.AxesSubplot at 0x7f0897ea7f60>,\n",
              " [<matplotlib.lines.Line2D at 0x7f0897d63cf8>])"
            ]
          },
          "metadata": {
            "tags": []
          },
          "execution_count": 124
        },
        {
          "output_type": "display_data",
          "data": {
            "image/png": "[encoded data removed]",
            "text/plain": [
              "<Figure size 432x288 with 2 Axes>"
            ]
          },
          "metadata": {
            "tags": [],
            "needs_background": "light"
          }
        }
      ]
    },
    {
      "cell_type": "markdown",
      "metadata": {
        "id": "n5x_3OcReiyx"
      },
      "source": [
        "**Program utama untuk membaca semua image pada training dataset dan mengekstraksi fitur hu moments, haralick fitur dan histogram colour dari masing masing image**\n"
      ]
    },
    {
      "cell_type": "markdown",
      "metadata": {
        "id": "dPRu-DoyZdxz"
      },
      "source": [
        "1. membaca daftar sub folder pada path dimana dataset training berada : train_path       = \"dataset1/train\"\n",
        "2. jika di perhatikan di dalam folder train ada beberapa folder dan 1 file "
      ]
    },
    {
      "cell_type": "code",
      "metadata": {
        "id": "9PaAQcDVe7p1",
        "colab": {
          "base_uri": "https://localhost:8080/",
          "height": 0
        },
        "outputId": "d6be73c8-1fb0-4112-bf09-ec873438eae3"
      },
      "source": [
        "train_labels = os.listdir(train_path)\n",
        "print(train_labels)\n",
        "# sort the training labels\n",
        "train_labels.sort()\n",
        "print(train_labels)\n",
        "\n",
        "# empty lists to hold feature vectors and labels\n",
        "global_features = []\n",
        "labels          = []"
      ],
      "execution_count": 125,
      "outputs": [
        {
          "output_type": "stream",
          "text": [
            "['bluebell', 'coltsfoot', 'buttercup', 'desktop.ini']\n",
            "['bluebell', 'buttercup', 'coltsfoot', 'desktop.ini']\n"
          ],
          "name": "stdout"
        }
      ]
    },
    {
      "cell_type": "markdown",
      "metadata": {
        "id": "xEh5HHOI7kcU"
      },
      "source": [
        "output yang diharapkan : \n",
        "\n",
        "\n",
        "```\n",
        "['buttercup', 'coltsfoot', 'bluebell', 'desktop.ini']\n",
        "['bluebell', 'buttercup', 'coltsfoot', 'desktop.ini']\n",
        "```\n",
        "\n"
      ]
    },
    {
      "cell_type": "markdown",
      "metadata": {
        "id": "6nT-EeeMZ8gb"
      },
      "source": [
        "3. Kode program untuk perulangan sebanyak train_labels (jumlah sub folder pada train_path \n",
        "4. pastikan yang di dalam folder train adalah folder - bukan file\n",
        "5. ulangi untuk semua image dalam setiap folder sampai dengan maksimal sebanyak variabel image_perclass \n",
        "6. untuk setiap image - ubah ukuran menjadi ukuran standard dengan perintah resize \n",
        "7. ekstrak fitur haralic, hu dan histogram dari setiap image \n",
        "8. gabungkan semua fitur global menjadi 1 lalu simpan variabel global_feature \n",
        "9. untuk setiap perulangan selesai - simpan variabel global_features ke dalam array global_features sebagai baris baru dengan perintah append"
      ]
    },
    {
      "cell_type": "code",
      "metadata": {
        "id": "PPEqV2xgIGFM",
        "colab": {
          "base_uri": "https://localhost:8080/",
          "height": 0
        },
        "outputId": "958ec350-f81e-4dd1-9959-9ce589281af9"
      },
      "source": [
        "for training_name in train_labels:\n",
        "  dir = os.path.join(train_path, training_name)\n",
        "  if os.path.isdir(dir):\n",
        "    print(dir)\n",
        "    print(\" adalah folder\")\n",
        "    current_label = training_name\n",
        "    for x in range(1,images_per_class+1):\n",
        "          # get the image file name\n",
        "          file = dir + \"/\" + str(x) + \".jpg\"\n",
        "\n",
        "          # read the image and resize it to a fixed-size\n",
        "          image = cv2.imread(file)\n",
        "          image = cv2.resize(image, fixed_size)\n",
        "\n",
        "          ####################################\n",
        "          # Global Feature extraction\n",
        "          ####################################\n",
        "          fv_hu_moments = fd_hu_moments(image)\n",
        "          fv_haralick   = fd_haralick(image)\n",
        "          fv_histogram  = fd_histogram(image)\n",
        "\n",
        "          ###################################\n",
        "          # Concatenate global features\n",
        "          ###################################\n",
        "          global_feature = np.hstack([fv_histogram, fv_haralick, fv_hu_moments])\n",
        "\n",
        "          # update the list of labels and feature vectors\n",
        "          labels.append(current_label)\n",
        "          global_features.append(global_feature)\n",
        "    print(\"[STATUS] processed folder: {}\".format(current_label))\n",
        " \n",
        "\n",
        "\n",
        "  \n",
        "\n"
      ],
      "execution_count": 15,
      "outputs": [
        {
          "output_type": "stream",
          "text": [
            "dataset1/dataset1/train/bluebell\n",
            " adalah folder\n",
            "[STATUS] processed folder: bluebell\n",
            "dataset1/dataset1/train/buttercup\n",
            " adalah folder\n",
            "[STATUS] processed folder: buttercup\n",
            "dataset1/dataset1/train/coltsfoot\n",
            " adalah folder\n",
            "[STATUS] processed folder: coltsfoot\n"
          ],
          "name": "stdout"
        }
      ]
    },
    {
      "cell_type": "markdown",
      "metadata": {
        "id": "QioOQdjU8Vwu"
      },
      "source": [
        "output yang diharapkan : \n",
        "\n",
        "\n",
        "\n",
        "```\n",
        "dataset1/train/bluebell\n",
        " adalah folder\n",
        "[STATUS] processed folder: bluebell\n",
        "dataset1/train/buttercup\n",
        " adalah folder\n",
        "[STATUS] processed folder: buttercup\n",
        "dataset1/train/coltsfoot\n",
        " adalah folder\n",
        "[STATUS] processed folder: coltsfoot\n",
        "```\n",
        "\n"
      ]
    },
    {
      "cell_type": "markdown",
      "metadata": {
        "id": "ba8L2IyjfjZE"
      },
      "source": [
        "**End Loop Training untuk seluruh sub folder **\n",
        "\n",
        "\n",
        "tampilkan ukuran vektor global features \n",
        "\n",
        "tampilkan array training labels "
      ]
    },
    {
      "cell_type": "code",
      "metadata": {
        "id": "F4CeazKwbpAd",
        "colab": {
          "base_uri": "https://localhost:8080/",
          "height": 0
        },
        "outputId": "53b6831f-fd4d-457f-afe3-6c9b0afc23f8"
      },
      "source": [
        "# get the overall feature vector size\n",
        "print(\"[STATUS] feature vector size {}\".format(np.array(global_features).shape))\n",
        "\n",
        "# get the overall training label size\n",
        "print(\"[STATUS] training Labels {}\".format(np.array(labels).shape))\n",
        "\n"
      ],
      "execution_count": 16,
      "outputs": [
        {
          "output_type": "stream",
          "text": [
            "[STATUS] feature vector size (240, 532)\n",
            "[STATUS] training Labels (240,)\n"
          ],
          "name": "stdout"
        }
      ]
    },
    {
      "cell_type": "markdown",
      "metadata": {
        "id": "oQCVFN5Q8odk"
      },
      "source": [
        "[STATUS] feature vector size (240, 532)\n",
        "[STATUS] training Labels (240,)"
      ]
    },
    {
      "cell_type": "markdown",
      "metadata": {
        "id": "eOkZddW-btJR"
      },
      "source": [
        "Encoding target label "
      ]
    },
    {
      "cell_type": "code",
      "metadata": {
        "id": "_uR4u6A6buCK",
        "colab": {
          "base_uri": "https://localhost:8080/",
          "height": 0
        },
        "outputId": "a4da3a66-11c0-4026-9a09-95ca6371fc25"
      },
      "source": [
        "# encode the target labels\n",
        "targetNames = np.unique(labels)\n",
        "le          = LabelEncoder()\n",
        "target      = le.fit_transform(labels)\n",
        "print(\"[STATUS] training labels encoded...\")\n",
        "\n"
      ],
      "execution_count": 17,
      "outputs": [
        {
          "output_type": "stream",
          "text": [
            "[STATUS] training labels encoded...\n"
          ],
          "name": "stdout"
        }
      ]
    },
    {
      "cell_type": "markdown",
      "metadata": {
        "id": "WTqJgs4o8w5k"
      },
      "source": [
        "output di harapkan \n",
        "\n",
        "[STATUS] training labels encoded..."
      ]
    },
    {
      "cell_type": "markdown",
      "metadata": {
        "id": "9-haCR5Cbycq"
      },
      "source": [
        "Standarisasi nilai vektor menjadi 0 sampai dengan 1 untuk semua data "
      ]
    },
    {
      "cell_type": "code",
      "metadata": {
        "id": "GN-NxxaVbzXy",
        "colab": {
          "base_uri": "https://localhost:8080/",
          "height": 0
        },
        "outputId": "72c46f28-61a7-4fe1-8748-8bec1f267dd4"
      },
      "source": [
        "# scale features in the range (0-1)\n",
        "scaler            = MinMaxScaler(feature_range=(0, 1))\n",
        "rescaled_features = scaler.fit_transform(global_features)\n",
        "print(\"[STATUS] feature vector normalized...\")\n",
        "\n",
        "print(\"[STATUS] target labels: {}\".format(target))\n",
        "print(\"[STATUS] target labels shape: {}\".format(target.shape))\n",
        "\n"
      ],
      "execution_count": 18,
      "outputs": [
        {
          "output_type": "stream",
          "text": [
            "[STATUS] feature vector normalized...\n",
            "[STATUS] target labels: [0 0 0 0 0 0 0 0 0 0 0 0 0 0 0 0 0 0 0 0 0 0 0 0 0 0 0 0 0 0 0 0 0 0 0 0 0\n",
            " 0 0 0 0 0 0 0 0 0 0 0 0 0 0 0 0 0 0 0 0 0 0 0 0 0 0 0 0 0 0 0 0 0 0 0 0 0\n",
            " 0 0 0 0 0 0 1 1 1 1 1 1 1 1 1 1 1 1 1 1 1 1 1 1 1 1 1 1 1 1 1 1 1 1 1 1 1\n",
            " 1 1 1 1 1 1 1 1 1 1 1 1 1 1 1 1 1 1 1 1 1 1 1 1 1 1 1 1 1 1 1 1 1 1 1 1 1\n",
            " 1 1 1 1 1 1 1 1 1 1 1 1 2 2 2 2 2 2 2 2 2 2 2 2 2 2 2 2 2 2 2 2 2 2 2 2 2\n",
            " 2 2 2 2 2 2 2 2 2 2 2 2 2 2 2 2 2 2 2 2 2 2 2 2 2 2 2 2 2 2 2 2 2 2 2 2 2\n",
            " 2 2 2 2 2 2 2 2 2 2 2 2 2 2 2 2 2 2]\n",
            "[STATUS] target labels shape: (240,)\n"
          ],
          "name": "stdout"
        }
      ]
    },
    {
      "cell_type": "markdown",
      "metadata": {
        "id": "SXM-3oZh86QE"
      },
      "source": [
        "outout di harapkan : \n",
        "\n",
        "\n",
        "\n",
        "```\n",
        "[STATUS] feature vector normalized...\n",
        "[STATUS] target labels: [0 0 0 0 0 0 0 0 0 0 0 0 0 0 0 0 0 0 0 0 0 0 0 0 0 0 0 0 0 0 0 0 0 0 0 0 0\n",
        " 0 0 0 0 0 0 0 0 0 0 0 0 0 0 0 0 0 0 0 0 0 0 0 0 0 0 0 0 0 0 0 0 0 0 0 0 0\n",
        " 0 0 0 0 0 0 1 1 1 1 1 1 1 1 1 1 1 1 1 1 1 1 1 1 1 1 1 1 1 1 1 1 1 1 1 1 1\n",
        " 1 1 1 1 1 1 1 1 1 1 1 1 1 1 1 1 1 1 1 1 1 1 1 1 1 1 1 1 1 1 1 1 1 1 1 1 1\n",
        " 1 1 1 1 1 1 1 1 1 1 1 1 2 2 2 2 2 2 2 2 2 2 2 2 2 2 2 2 2 2 2 2 2 2 2 2 2\n",
        " 2 2 2 2 2 2 2 2 2 2 2 2 2 2 2 2 2 2 2 2 2 2 2 2 2 2 2 2 2 2 2 2 2 2 2 2 2\n",
        " 2 2 2 2 2 2 2 2 2 2 2 2 2 2 2 2 2 2 0 0 0 0 0 0 0 0 0 0 0 0 0 0 0 0 0 0 0\n",
        " 0 0 0 0 0 0 0 0 0 0 0 0 0 0 0 0 0 0 0 0 0 0 0 0 0 0 0 0 0 0 0 0 0 0 0 0 0\n",
        " 0 0 0 0 0 0 0 0 0 0 0 0 0 0 0 0 0 0 0 0 0 0 0 0 1 1 1 1 1 1 1 1 1 1 1 1 1\n",
        " 1 1 1 1 1 1 1 1 1 1 1 1 1 1 1 1 1 1 1 1 1 1 1 1 1 1 1 1 1 1 1 1 1 1 1 1 1\n",
        " 1 1 1 1 1 1 1 1 1 1 1 1 1 1 1 1 1 1 1 1 1 1 1 1 1 1 1 1 1 1 2 2 2 2 2 2 2\n",
        " 2 2 2 2 2 2 2 2 2 2 2 2 2 2 2 2 2 2 2 2 2 2 2 2 2 2 2 2 2 2 2 2 2 2 2 2 2\n",
        " 2 2 2 2 2 2 2 2 2 2 2 2 2 2 2 2 2 2 2 2 2 2 2 2 2 2 2 2 2 2 2 2 2 2 2 2 0\n",
        " 0 0 0 0 0 0 0 0 0 0 0 0 0 0 0 0 0 0 0 0 0 0 0 0 0 0 0 0 0 0 0 0 0 0 0 0 0\n",
        " 0 0 0 0 0 0 0 0 0 0 0 0 0 0 0 0 0 0 0 0 0 0 0 0 0 0 0 0 0 0 0 0 0 0 0 0 0\n",
        " 0 0 0 0 0 1 1 1 1 1 1 1 1 1 1 1 1 1 1 1 1 1 1 1 1 1 1 1 1 1 1 1 1 1 1 1 1\n",
        " 1 1 1 1 1 1 1 1 1 1 1 1 1 1 1 1 1 1 1 1 1 1 1 1 1 1 1 1 1 1 1 1 1 1 1 1 1\n",
        " 1 1 1 1 1 1 1 1 1 1 1 2 2 2 2 2 2 2 2 2 2 2 2 2 2 2 2 2 2 2 2 2 2 2 2 2 2\n",
        " 2 2 2 2 2 2 2 2 2 2 2 2 2 2 2 2 2 2 2 2 2 2 2 2 2 2 2 2 2 2 2 2 2 2 2 2 2\n",
        " 2 2 2 2 2 2 2 2 2 2 2 2 2 2 2 2 2]\n",
        "[STATUS] target labels shape: (240,)\n",
        "```\n",
        "\n"
      ]
    },
    {
      "cell_type": "markdown",
      "metadata": {
        "id": "4PVkUpEOb4h6"
      },
      "source": [
        "simpan semua data ke lam file h5 dan disimpan dalam folder yang telah diset pada bagian awal program ini"
      ]
    },
    {
      "cell_type": "code",
      "metadata": {
        "id": "HLCF9foNb5X6",
        "colab": {
          "base_uri": "https://localhost:8080/",
          "height": 0
        },
        "outputId": "efd8ed05-b883-437d-a75e-baca643d1122"
      },
      "source": [
        "# save the feature vector using HDF5\n",
        "h5f_data = h5py.File(h5_data, 'w')\n",
        "h5f_data.create_dataset('dataset_1', data=np.array(rescaled_features))\n",
        "\n",
        "h5f_label = h5py.File(h5_labels, 'w')\n",
        "h5f_label.create_dataset('dataset_1', data=np.array(target))\n",
        "\n",
        "h5f_data.close()\n",
        "h5f_label.close()\n",
        "\n",
        "print(\"[STATUS] end of Feature Extraction..\")    \n"
      ],
      "execution_count": 19,
      "outputs": [
        {
          "output_type": "stream",
          "text": [
            "[STATUS] end of Feature Extraction..\n"
          ],
          "name": "stdout"
        }
      ]
    },
    {
      "cell_type": "markdown",
      "metadata": {
        "id": "wYyHOOzP9Jod"
      },
      "source": [
        "Output di harapkan : \n",
        "\n",
        "[STATUS] end of Feature Extraction.."
      ]
    },
    {
      "cell_type": "markdown",
      "metadata": {
        "id": "2LIgZ7cxtZ33"
      },
      "source": [
        "# **Kode Program Lanjutan di bawah ini adalah untuk melakukan training dan Testing terhadap fitur yang sudah di ekstraks untuk beberapa algoritma klasifikasi **"
      ]
    },
    {
      "cell_type": "markdown",
      "metadata": {
        "id": "NHv_LRoYtwhU"
      },
      "source": [
        "Import tambahan library yang diperlukan "
      ]
    },
    {
      "cell_type": "code",
      "metadata": {
        "id": "3Uu2WkMQtvYe"
      },
      "source": [
        "\n",
        "import glob\n",
        "import warnings\n",
        "from matplotlib import pyplot\n",
        "from sklearn.model_selection import train_test_split, cross_val_score\n",
        "from sklearn.model_selection import KFold, StratifiedKFold\n",
        "from sklearn.metrics import confusion_matrix, accuracy_score, classification_report\n",
        "from sklearn.linear_model import LogisticRegression\n",
        "from sklearn.tree import DecisionTreeClassifier\n",
        "from sklearn.ensemble import RandomForestClassifier\n",
        "from sklearn.neighbors import KNeighborsClassifier\n",
        "from sklearn.neural_network import MLPClassifier\n",
        "from sklearn.discriminant_analysis import LinearDiscriminantAnalysis\n",
        "from sklearn.naive_bayes import GaussianNB\n",
        "from sklearn.svm import SVC\n",
        "from sklearn.externals import joblib\n",
        "warnings.filterwarnings('ignore')"
      ],
      "execution_count": 58,
      "outputs": []
    },
    {
      "cell_type": "markdown",
      "metadata": {
        "id": "wHCP4h7B1Uxt"
      },
      "source": [
        "Mengeset variabel yang dapat ditune\n",
        "jika lanjutan ini di file terpisah dapat di tambahkan : \n",
        "\n",
        "\n",
        "```\n",
        "# This is formatted as code\n",
        "train_path = \"dataset/train\"\n",
        "h5_data    = 'output/data.h5'\n",
        "h5_labels  = 'output/labels.h5'\n",
        "```\n",
        "\n"
      ]
    },
    {
      "cell_type": "code",
      "metadata": {
        "id": "Nmb1SSgS1Z0L"
      },
      "source": [
        "# tunable-parameters\n",
        "#--------------------\n",
        "num_trees = 100\n",
        "test_size = 0.10\n",
        "seed      = 9\n",
        "scoring    = \"accuracy\"\n",
        "test_path  = \"dataset1/dataset1/test\"\n"
      ],
      "execution_count": 59,
      "outputs": []
    },
    {
      "cell_type": "markdown",
      "metadata": {
        "id": "Rapf2xoK1uNz"
      },
      "source": [
        "Menambahkan folder test jika belum ada "
      ]
    },
    {
      "cell_type": "code",
      "metadata": {
        "id": "rzrcWEgT1zOs"
      },
      "source": [
        "if not os.path.exists(test_path):\n",
        "    os.makedirs(test_path)"
      ],
      "execution_count": 60,
      "outputs": []
    },
    {
      "cell_type": "markdown",
      "metadata": {
        "id": "OpXgqSK21607"
      },
      "source": [
        "Menginisialisasi model klasifier \n"
      ]
    },
    {
      "cell_type": "code",
      "metadata": {
        "id": "ja3nnwLi2Efs",
        "colab": {
          "base_uri": "https://localhost:8080/",
          "height": 0
        },
        "outputId": "792ef8b2-3f07-4660-b148-51dfa6abdcb1"
      },
      "source": [
        "models = []\n",
        "models.append(('LR', LogisticRegression(random_state=seed)))\n",
        "models.append(('LDA', LinearDiscriminantAnalysis()))\n",
        "models.append(('KNN', KNeighborsClassifier()))\n",
        "models.append(('CART', DecisionTreeClassifier(random_state=seed)))\n",
        "models.append(('RF', RandomForestClassifier(n_estimators=num_trees, random_state=seed)))\n",
        "models.append(('NB', GaussianNB()))\n",
        "models.append(('SVM', SVC(random_state=seed)))\n",
        "models.append(('ANN', MLPClassifier(solver='lbfgs', alpha=1e-5, hidden_layer_sizes=(5, 2), random_state=1)))\n",
        "\n",
        "# variables to hold the results and names\n",
        "results = []\n",
        "names   = []\n",
        "print (models)"
      ],
      "execution_count": 61,
      "outputs": [
        {
          "output_type": "stream",
          "text": [
            "[('LR', LogisticRegression(C=1.0, class_weight=None, dual=False, fit_intercept=True,\n",
            "                   intercept_scaling=1, l1_ratio=None, max_iter=100,\n",
            "                   multi_class='auto', n_jobs=None, penalty='l2',\n",
            "                   random_state=9, solver='lbfgs', tol=0.0001, verbose=0,\n",
            "                   warm_start=False)), ('LDA', LinearDiscriminantAnalysis(n_components=None, priors=None, shrinkage=None,\n",
            "                           solver='svd', store_covariance=False, tol=0.0001)), ('KNN', KNeighborsClassifier(algorithm='auto', leaf_size=30, metric='minkowski',\n",
            "                     metric_params=None, n_jobs=None, n_neighbors=5, p=2,\n",
            "                     weights='uniform')), ('CART', DecisionTreeClassifier(ccp_alpha=0.0, class_weight=None, criterion='gini',\n",
            "                       max_depth=None, max_features=None, max_leaf_nodes=None,\n",
            "                       min_impurity_decrease=0.0, min_impurity_split=None,\n",
            "                       min_samples_leaf=1, min_samples_split=2,\n",
            "                       min_weight_fraction_leaf=0.0, presort='deprecated',\n",
            "                       random_state=9, splitter='best')), ('RF', RandomForestClassifier(bootstrap=True, ccp_alpha=0.0, class_weight=None,\n",
            "                       criterion='gini', max_depth=None, max_features='auto',\n",
            "                       max_leaf_nodes=None, max_samples=None,\n",
            "                       min_impurity_decrease=0.0, min_impurity_split=None,\n",
            "                       min_samples_leaf=1, min_samples_split=2,\n",
            "                       min_weight_fraction_leaf=0.0, n_estimators=100,\n",
            "                       n_jobs=None, oob_score=False, random_state=9, verbose=0,\n",
            "                       warm_start=False)), ('NB', GaussianNB(priors=None, var_smoothing=1e-09)), ('SVM', SVC(C=1.0, break_ties=False, cache_size=200, class_weight=None, coef0=0.0,\n",
            "    decision_function_shape='ovr', degree=3, gamma='scale', kernel='rbf',\n",
            "    max_iter=-1, probability=False, random_state=9, shrinking=True, tol=0.001,\n",
            "    verbose=False)), ('ANN', MLPClassifier(activation='relu', alpha=1e-05, batch_size='auto', beta_1=0.9,\n",
            "              beta_2=0.999, early_stopping=False, epsilon=1e-08,\n",
            "              hidden_layer_sizes=(5, 2), learning_rate='constant',\n",
            "              learning_rate_init=0.001, max_fun=15000, max_iter=200,\n",
            "              momentum=0.9, n_iter_no_change=10, nesterovs_momentum=True,\n",
            "              power_t=0.5, random_state=1, shuffle=True, solver='lbfgs',\n",
            "              tol=0.0001, validation_fraction=0.1, verbose=False,\n",
            "              warm_start=False))]\n"
          ],
          "name": "stdout"
        }
      ]
    },
    {
      "cell_type": "markdown",
      "metadata": {
        "id": "9fdm5CVL4CR8"
      },
      "source": [
        "Output yang diharapkan :\n",
        "\n",
        "```\n",
        "# This is formatted as code\n",
        "\n",
        "[('LR', LogisticRegression(C=1.0, class_weight=None, dual=False, fit_intercept=True,\n",
        "                   intercept_scaling=1, l1_ratio=None, max_iter=100,\n",
        "                   multi_class='auto', n_jobs=None, penalty='l2',\n",
        "                   random_state=9, solver='lbfgs', tol=0.0001, verbose=0,\n",
        "                   warm_start=False)), ('LDA', LinearDiscriminantAnalysis(n_components=None, priors=None, shrinkage=None,\n",
        "                           solver='svd', store_covariance=False, tol=0.0001)),\n",
        "                            ('KNN', KNeighborsClassifier(algorithm='auto', leaf_size=30, metric='minkowski',\n",
        "                     metric_params=None, n_jobs=None, n_neighbors=5, p=2,\n",
        "                     weights='uniform')), ('CART', DecisionTreeClassifier(ccp_alpha=0.0, class_weight=None, criterion='gini',\n",
        "                       max_depth=None, max_features=None, max_leaf_nodes=None,\n",
        "                       min_impurity_decrease=0.0, min_impurity_split=None,\n",
        "                       min_samples_leaf=1, min_samples_split=2,\n",
        "                       min_weight_fraction_leaf=0.0, presort='deprecated',\n",
        "                       random_state=9, splitter='best')), ('RF', RandomForestClassifier(bootstrap=True, ccp_alpha=0.0, class_weight=None,\n",
        "                       criterion='gini', max_depth=None, max_features='auto',\n",
        "                       max_leaf_nodes=None, max_samples=None,\n",
        "                       min_impurity_decrease=0.0, min_impurity_split=None,\n",
        "                       min_samples_leaf=1, min_samples_split=2,\n",
        "                       min_weight_fraction_leaf=0.0, n_estimators=100,\n",
        "                       n_jobs=None, oob_score=False, random_state=9, verbose=0,\n",
        "                       warm_start=False)), ('NB', GaussianNB(priors=None, var_smoothing=1e-09)), ('SVM', SVC(C=1.0, break_ties=False, cache_size=200, class_weight=None, coef0=0.0,\n",
        "    decision_function_shape='ovr', degree=3, gamma='scale', kernel='rbf',\n",
        "    max_iter=-1, probability=False, random_state=9, shrinking=True, tol=0.001,\n",
        "    verbose=False))]\n",
        "```\n",
        "\n",
        "\n",
        "\n",
        "```\n",
        "# This is formatted as code\n",
        "```\n",
        "\n"
      ]
    },
    {
      "cell_type": "markdown",
      "metadata": {
        "id": "k-Llacu02Gcb"
      },
      "source": [
        "Membaca file h5 dimana hasil ekstraki fitur disimpan \n",
        "ini tidak perlu jika program lanjutan ini tidak menjadi file terpisah \n"
      ]
    },
    {
      "cell_type": "code",
      "metadata": {
        "id": "CEQyi6Sh2WV7",
        "colab": {
          "base_uri": "https://localhost:8080/",
          "height": 0
        },
        "outputId": "f568b9c8-cbc2-43ea-fcdb-b4caef4d84db"
      },
      "source": [
        "h5f_data  = h5py.File(h5_data, 'r')\n",
        "h5f_label = h5py.File(h5_labels, 'r')\n",
        "\n",
        "print(h5f_data)\n",
        "print(h5f_label)"
      ],
      "execution_count": 62,
      "outputs": [
        {
          "output_type": "stream",
          "text": [
            "<HDF5 file \"data.h5\" (mode r)>\n",
            "<HDF5 file \"labels.h5\" (mode r)>\n"
          ],
          "name": "stdout"
        }
      ]
    },
    {
      "cell_type": "markdown",
      "metadata": {
        "id": "k4_aFoUx9kV9"
      },
      "source": [
        "output diharapkan : \n",
        "\n",
        "\n",
        "\n",
        "```\n",
        "<HDF5 file \"data.h5\" (mode r)>\n",
        "<HDF5 file \"labels.h5\" (mode r)>\n",
        "```\n",
        "\n"
      ]
    },
    {
      "cell_type": "markdown",
      "metadata": {
        "id": "Nb30tkzw2bqD"
      },
      "source": [
        "menyimpan fitur "
      ]
    },
    {
      "cell_type": "code",
      "metadata": {
        "id": "s6K_3Iuu2fGT",
        "colab": {
          "base_uri": "https://localhost:8080/",
          "height": 0
        },
        "outputId": "71011654-4bfc-45b1-ee92-f9e2d66a0e9a"
      },
      "source": [
        "global_features_string = h5f_data['dataset_1']\n",
        "global_labels_string   = h5f_label['dataset_1']\n",
        "\n",
        "global_features = np.array(global_features_string)\n",
        "global_labels   = np.array(global_labels_string)\n",
        "\n",
        "print(global_features)\n",
        "print(global_labels_string)\n",
        "\n"
      ],
      "execution_count": 63,
      "outputs": [
        {
          "output_type": "stream",
          "text": [
            "[[1.02277289e-02 6.41539399e-02 3.80293751e-01 ... 8.69740569e-01\n",
            "  6.21634972e-02 8.80157045e-01]\n",
            " [2.70794117e-05 2.24351000e-02 1.26657213e-02 ... 8.69741443e-01\n",
            "  6.21926975e-02 8.80154788e-01]\n",
            " [0.00000000e+00 3.14553867e-02 1.64679193e-02 ... 8.69741419e-01\n",
            "  6.21939464e-02 8.80158524e-01]\n",
            " ...\n",
            " [6.83042966e-03 1.17875410e-02 1.00131224e-02 ... 8.69668780e-01\n",
            "  5.76707307e-02 8.80238908e-01]\n",
            " [1.42973036e-02 3.31645389e-02 2.45463253e-02 ... 8.69637236e-01\n",
            "  6.18151726e-02 8.80100514e-01]\n",
            " [1.60889028e-03 9.45723423e-04 3.74527032e-03 ... 8.69873367e-01\n",
            "  6.80346632e-02 8.80016124e-01]]\n",
            "<HDF5 dataset \"dataset_1\": shape (240,), type \"<i8\">\n"
          ],
          "name": "stdout"
        }
      ]
    },
    {
      "cell_type": "markdown",
      "metadata": {
        "id": "GttNdPlf9tF0"
      },
      "source": [
        "output diharapkan : \n",
        "\n",
        "\n",
        "```\n",
        "[[1.02277289e-02 6.41539399e-02 3.80293751e-01 ... 8.69740569e-01\n",
        "  6.21634972e-02 8.80157045e-01]\n",
        " [2.70794117e-05 2.24351000e-02 1.26657213e-02 ... 8.69741443e-01\n",
        "  6.21926975e-02 8.80154788e-01]\n",
        " [0.00000000e+00 3.14553867e-02 1.64679193e-02 ... 8.69741419e-01\n",
        "  6.21939464e-02 8.80158524e-01]\n",
        " ...\n",
        " [6.83042966e-03 1.17875410e-02 1.00131224e-02 ... 8.69668780e-01\n",
        "  5.76707307e-02 8.80238908e-01]\n",
        " [1.42973036e-02 3.31645389e-02 2.45463253e-02 ... 8.69637236e-01\n",
        "  6.18151726e-02 8.80100514e-01]\n",
        " [1.60889028e-03 9.45723423e-04 3.74527032e-03 ... 8.69873367e-01\n",
        "  6.80346632e-02 8.80016124e-01]]\n",
        "<HDF5 dataset \"dataset_1\": shape (720,), type \"<i8\">\n",
        "```\n",
        "\n"
      ]
    },
    {
      "cell_type": "markdown",
      "metadata": {
        "id": "kBtRXMzX2oum"
      },
      "source": [
        "Menutup file h5 \n",
        "ini tidak perlu di eksekusi jika tadi tidak di buka "
      ]
    },
    {
      "cell_type": "code",
      "metadata": {
        "id": "MKZUmAOG2oLz"
      },
      "source": [
        "h5f_data.close()\n",
        "h5f_label.close()"
      ],
      "execution_count": 64,
      "outputs": []
    },
    {
      "cell_type": "markdown",
      "metadata": {
        "id": "YcDKh3EE3Inz"
      },
      "source": [
        "menampilkan ukuran fitur dan label dari hasil ekstraksi fitur global images "
      ]
    },
    {
      "cell_type": "code",
      "metadata": {
        "id": "D4SlnaP03Qmq",
        "colab": {
          "base_uri": "https://localhost:8080/",
          "height": 0
        },
        "outputId": "dc746f7a-f252-47f3-bb48-8dfc0ac7ddb5"
      },
      "source": [
        "# verify the shape of the feature vector and labels\n",
        "print(\"[STATUS] features shape: {}\".format(global_features.shape))\n",
        "print(\"[STATUS] labels shape: {}\".format(global_labels.shape))"
      ],
      "execution_count": 65,
      "outputs": [
        {
          "output_type": "stream",
          "text": [
            "[STATUS] features shape: (240, 532)\n",
            "[STATUS] labels shape: (240,)\n"
          ],
          "name": "stdout"
        }
      ]
    },
    {
      "cell_type": "markdown",
      "metadata": {
        "id": "zO1lnw_i3SJb"
      },
      "source": [
        "melakukan pembagian dataset menjadi train dan testing dataset "
      ]
    },
    {
      "cell_type": "code",
      "metadata": {
        "id": "zcx7_RME3c0i",
        "colab": {
          "base_uri": "https://localhost:8080/",
          "height": 0
        },
        "outputId": "3de28c6f-7613-4ae7-c47e-323485753abc"
      },
      "source": [
        "(trainDataGlobal, testDataGlobal, trainLabelsGlobal, testLabelsGlobal) = train_test_split(np.array(global_features),\n",
        "                                                                                          np.array(global_labels),\n",
        "                                                                                          test_size=test_size,\n",
        "                                                                                          random_state=seed)\n",
        "\n",
        "print(\"[STATUS] splitted train and test data...\")\n",
        "print(\"Train data  : {}\".format(trainDataGlobal.shape))\n",
        "print(\"Test data   : {}\".format(testDataGlobal.shape))\n",
        "print(\"Train labels: {}\".format(trainLabelsGlobal.shape))\n",
        "print(\"Test labels : {}\".format(testLabelsGlobal.shape))"
      ],
      "execution_count": 66,
      "outputs": [
        {
          "output_type": "stream",
          "text": [
            "[STATUS] splitted train and test data...\n",
            "Train data  : (216, 532)\n",
            "Test data   : (24, 532)\n",
            "Train labels: (216,)\n",
            "Test labels : (24,)\n"
          ],
          "name": "stdout"
        }
      ]
    },
    {
      "cell_type": "markdown",
      "metadata": {
        "id": "xH20HJ_t3d_6"
      },
      "source": [
        "output yang diharapkan : \n",
        "\n",
        "[STATUS] splitted train and test data...\n",
        "\n",
        "Train data  : (216, 532)\n",
        "\n",
        "Test data   : (24, 532)\n",
        "\n",
        "Train labels: (216,)\n",
        "\n",
        "Test labels : (24,)"
      ]
    },
    {
      "cell_type": "markdown",
      "metadata": {
        "id": "s8G7n1dP3jld"
      },
      "source": [
        "Melatih model dan menghitung akurasi dari masing masing model yang berbeda klasiifier "
      ]
    },
    {
      "cell_type": "code",
      "metadata": {
        "id": "BLO2kSAu3zKL",
        "colab": {
          "base_uri": "https://localhost:8080/",
          "height": 0
        },
        "outputId": "7b7f52fb-c780-40ee-e048-2a98e5db80f3"
      },
      "source": [
        "for name, model in models:\n",
        "    kfold = KFold(n_splits=10, random_state=seed)\n",
        "    cv_results = cross_val_score(model, trainDataGlobal, trainLabelsGlobal, cv=kfold, scoring=scoring)\n",
        "    results.append(cv_results)\n",
        "    names.append(name)\n",
        "    msg = \"%s: %f (%f)\" % (name, cv_results.mean(), cv_results.std())\n",
        "    print(msg)"
      ],
      "execution_count": 67,
      "outputs": [
        {
          "output_type": "stream",
          "text": [
            "LR: 0.883550 (0.053308)\n",
            "LDA: 0.480952 (0.102552)\n",
            "KNN: 0.800000 (0.095534)\n",
            "CART: 0.847186 (0.042528)\n",
            "RF: 0.934848 (0.037270)\n",
            "NB: 0.786147 (0.127983)\n",
            "SVM: 0.879004 (0.044374)\n",
            "ANN: 0.794805 (0.103271)\n"
          ],
          "name": "stdout"
        }
      ]
    },
    {
      "cell_type": "markdown",
      "metadata": {
        "id": "pq2sAs3x31m7"
      },
      "source": [
        "output yang diharapkan : \n",
        "\n",
        "\n",
        "\n",
        "```\n",
        "LR: 0.883550 (0.053308)\n",
        "LDA: 0.480952 (0.102552)\n",
        "KNN: 0.800000 (0.095534)\n",
        "CART: 0.847186 (0.042528)\n",
        "RF: 0.934848 (0.037270)\n",
        "NB: 0.786147 (0.127983)\n",
        "SVM: 0.879004 (0.044374)\n",
        "ANN: 0.794805 (0.103271)\n",
        "```\n",
        "\n"
      ]
    },
    {
      "cell_type": "markdown",
      "metadata": {
        "id": "cOQ73hDB-C5E"
      },
      "source": [
        "Plot akurasi dan deviasi dalam box plot diagram \n",
        "\n"
      ]
    },
    {
      "cell_type": "code",
      "metadata": {
        "id": "CuZBycnY-MQs",
        "colab": {
          "base_uri": "https://localhost:8080/",
          "height": 294
        },
        "outputId": "ab2c4bb4-18da-47c9-dd05-7cf1e22dc00a"
      },
      "source": [
        "# boxplot algorithm comparison\n",
        "fig = pyplot.figure()\n",
        "fig.suptitle('Machine Learning algorithm comparison')\n",
        "ax = fig.add_subplot(111)\n",
        "pyplot.boxplot(results)\n",
        "ax.set_xticklabels(names)\n",
        "pyplot.show()\n"
      ],
      "execution_count": 68,
      "outputs": [
        {
          "output_type": "display_data",
          "data": {
            "image/png": "[encoded data removed]",
            "text/plain": [
              "<Figure size 432x288 with 1 Axes>"
            ]
          },
          "metadata": {
            "tags": [],
            "needs_background": "light"
          }
        }
      ]
    },
    {
      "cell_type": "markdown",
      "metadata": {
        "id": "jUVdFldb-P6M"
      },
      "source": [
        "output yang diharapkan  adalah blok plot "
      ]
    }
  ]
}