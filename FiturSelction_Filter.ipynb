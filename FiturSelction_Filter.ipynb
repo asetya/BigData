{
  "nbformat": 4,
  "nbformat_minor": 0,
  "metadata": {
    "colab": {
      "name": "FiturSelction_Filter.ipynb",
      "provenance": [],
      "collapsed_sections": [],
      "toc_visible": true,
      "authorship_tag": "ABX9TyOwNvGhZd4XetoC/6BBb/7T",
      "include_colab_link": true
    },
    "kernelspec": {
      "name": "python3",
      "display_name": "Python 3"
    },
    "language_info": {
      "name": "python"
    }
  },
  "cells": [
    {
      "cell_type": "markdown",
      "metadata": {
        "id": "view-in-github",
        "colab_type": "text"
      },
      "source": [
        "<a href=\"https://colab.research.google.com/github/asetya/BigData/blob/master/FiturSelction_Filter.ipynb\" target=\"_parent\"><img src=\"https://colab.research.google.com/assets/colab-badge.svg\" alt=\"Open In Colab\"/></a>"
      ]
    },
    {
      "cell_type": "markdown",
      "metadata": {
        "id": "N2DOvjgr_25I"
      },
      "source": [
        "**FEATURE SELECTION**\n",
        "\n",
        "Contoh Program sumnber : https://towardsdatascience.com/feature-selection-with-pandas-e3690ad8504b"
      ]
    },
    {
      "cell_type": "code",
      "metadata": {
        "colab": {
          "base_uri": "https://localhost:8080/",
          "height": 237
        },
        "id": "xjxrui69-y8U",
        "outputId": "c1e56252-ed3a-4734-cdec-629398170501"
      },
      "source": [
        "#importing libraries\n",
        "from sklearn.datasets import load_boston\n",
        "import pandas as pd\n",
        "import numpy as np\n",
        "import matplotlib\n",
        "import matplotlib.pyplot as plt\n",
        "import seaborn as sns\n",
        "import statsmodels.api as sm\n",
        "%matplotlib inline\n",
        "from sklearn.model_selection import train_test_split\n",
        "from sklearn.linear_model import LinearRegression\n",
        "from sklearn.feature_selection import RFE\n",
        "from sklearn.linear_model import RidgeCV, LassoCV, Ridge, Lasso\n",
        "#Loading the dataset\n",
        "x = load_boston()\n",
        "df = pd.DataFrame(x.data, columns = x.feature_names)\n",
        "df[\"MEDV\"] = x.target\n",
        "X = df.drop(\"MEDV\",1)   #Feature Matrix\n",
        "y = df[\"MEDV\"]          #Target Variable\n",
        "df.head()"
      ],
      "execution_count": null,
      "outputs": [
        {
          "output_type": "stream",
          "text": [
            "/usr/local/lib/python3.7/dist-packages/statsmodels/tools/_testing.py:19: FutureWarning: pandas.util.testing is deprecated. Use the functions in the public API at pandas.testing instead.\n",
            "  import pandas.util.testing as tm\n"
          ],
          "name": "stderr"
        },
        {
          "output_type": "execute_result",
          "data": {
            "text/html": [
              "<div>\n",
              "<style scoped>\n",
              "    .dataframe tbody tr th:only-of-type {\n",
              "        vertical-align: middle;\n",
              "    }\n",
              "\n",
              "    .dataframe tbody tr th {\n",
              "        vertical-align: top;\n",
              "    }\n",
              "\n",
              "    .dataframe thead th {\n",
              "        text-align: right;\n",
              "    }\n",
              "</style>\n",
              "<table border=\"1\" class=\"dataframe\">\n",
              "  <thead>\n",
              "    <tr style=\"text-align: right;\">\n",
              "      <th></th>\n",
              "      <th>CRIM</th>\n",
              "      <th>ZN</th>\n",
              "      <th>INDUS</th>\n",
              "      <th>CHAS</th>\n",
              "      <th>NOX</th>\n",
              "      <th>RM</th>\n",
              "      <th>AGE</th>\n",
              "      <th>DIS</th>\n",
              "      <th>RAD</th>\n",
              "      <th>TAX</th>\n",
              "      <th>PTRATIO</th>\n",
              "      <th>B</th>\n",
              "      <th>LSTAT</th>\n",
              "      <th>MEDV</th>\n",
              "    </tr>\n",
              "  </thead>\n",
              "  <tbody>\n",
              "    <tr>\n",
              "      <th>0</th>\n",
              "      <td>0.00632</td>\n",
              "      <td>18.0</td>\n",
              "      <td>2.31</td>\n",
              "      <td>0.0</td>\n",
              "      <td>0.538</td>\n",
              "      <td>6.575</td>\n",
              "      <td>65.2</td>\n",
              "      <td>4.0900</td>\n",
              "      <td>1.0</td>\n",
              "      <td>296.0</td>\n",
              "      <td>15.3</td>\n",
              "      <td>396.90</td>\n",
              "      <td>4.98</td>\n",
              "      <td>24.0</td>\n",
              "    </tr>\n",
              "    <tr>\n",
              "      <th>1</th>\n",
              "      <td>0.02731</td>\n",
              "      <td>0.0</td>\n",
              "      <td>7.07</td>\n",
              "      <td>0.0</td>\n",
              "      <td>0.469</td>\n",
              "      <td>6.421</td>\n",
              "      <td>78.9</td>\n",
              "      <td>4.9671</td>\n",
              "      <td>2.0</td>\n",
              "      <td>242.0</td>\n",
              "      <td>17.8</td>\n",
              "      <td>396.90</td>\n",
              "      <td>9.14</td>\n",
              "      <td>21.6</td>\n",
              "    </tr>\n",
              "    <tr>\n",
              "      <th>2</th>\n",
              "      <td>0.02729</td>\n",
              "      <td>0.0</td>\n",
              "      <td>7.07</td>\n",
              "      <td>0.0</td>\n",
              "      <td>0.469</td>\n",
              "      <td>7.185</td>\n",
              "      <td>61.1</td>\n",
              "      <td>4.9671</td>\n",
              "      <td>2.0</td>\n",
              "      <td>242.0</td>\n",
              "      <td>17.8</td>\n",
              "      <td>392.83</td>\n",
              "      <td>4.03</td>\n",
              "      <td>34.7</td>\n",
              "    </tr>\n",
              "    <tr>\n",
              "      <th>3</th>\n",
              "      <td>0.03237</td>\n",
              "      <td>0.0</td>\n",
              "      <td>2.18</td>\n",
              "      <td>0.0</td>\n",
              "      <td>0.458</td>\n",
              "      <td>6.998</td>\n",
              "      <td>45.8</td>\n",
              "      <td>6.0622</td>\n",
              "      <td>3.0</td>\n",
              "      <td>222.0</td>\n",
              "      <td>18.7</td>\n",
              "      <td>394.63</td>\n",
              "      <td>2.94</td>\n",
              "      <td>33.4</td>\n",
              "    </tr>\n",
              "    <tr>\n",
              "      <th>4</th>\n",
              "      <td>0.06905</td>\n",
              "      <td>0.0</td>\n",
              "      <td>2.18</td>\n",
              "      <td>0.0</td>\n",
              "      <td>0.458</td>\n",
              "      <td>7.147</td>\n",
              "      <td>54.2</td>\n",
              "      <td>6.0622</td>\n",
              "      <td>3.0</td>\n",
              "      <td>222.0</td>\n",
              "      <td>18.7</td>\n",
              "      <td>396.90</td>\n",
              "      <td>5.33</td>\n",
              "      <td>36.2</td>\n",
              "    </tr>\n",
              "  </tbody>\n",
              "</table>\n",
              "</div>"
            ],
            "text/plain": [
              "      CRIM    ZN  INDUS  CHAS    NOX  ...    TAX  PTRATIO       B  LSTAT  MEDV\n",
              "0  0.00632  18.0   2.31   0.0  0.538  ...  296.0     15.3  396.90   4.98  24.0\n",
              "1  0.02731   0.0   7.07   0.0  0.469  ...  242.0     17.8  396.90   9.14  21.6\n",
              "2  0.02729   0.0   7.07   0.0  0.469  ...  242.0     17.8  392.83   4.03  34.7\n",
              "3  0.03237   0.0   2.18   0.0  0.458  ...  222.0     18.7  394.63   2.94  33.4\n",
              "4  0.06905   0.0   2.18   0.0  0.458  ...  222.0     18.7  396.90   5.33  36.2\n",
              "\n",
              "[5 rows x 14 columns]"
            ]
          },
          "metadata": {
            "tags": []
          },
          "execution_count": 1
        }
      ]
    },
    {
      "cell_type": "code",
      "metadata": {
        "id": "tkj77aeScy5h"
      },
      "source": [
        ""
      ],
      "execution_count": null,
      "outputs": []
    },
    {
      "cell_type": "markdown",
      "metadata": {
        "id": "P4F2wSIlczRy"
      },
      "source": [
        "# FILTER METHOD"
      ]
    },
    {
      "cell_type": "markdown",
      "metadata": {
        "id": "tlxKgQ0PAHSC"
      },
      "source": [
        "**1. FILTER MENGGUNAKAN PEARSON'S CORRELATION**\n",
        "\n",
        "\n",
        "The correlation coefficient has values between -1 to 1\n",
        "\n",
        "— A value closer to 0 implies weaker correlation (exact 0 implying no correlation)\n",
        "\n",
        "— A value closer to 1 implies stronger positive correlation\n",
        "\n",
        "— A value closer to -1 implies stronger negative correlation"
      ]
    },
    {
      "cell_type": "markdown",
      "metadata": {
        "id": "IwjHTxw7Abnv"
      },
      "source": [
        ""
      ]
    },
    {
      "cell_type": "code",
      "metadata": {
        "colab": {
          "base_uri": "https://localhost:8080/",
          "height": 596
        },
        "id": "ZCpxtIU3_w6I",
        "outputId": "4b715f3b-eb16-4dfe-a3d8-fe685ba4408d"
      },
      "source": [
        "#Using Pearson Correlation\n",
        "plt.figure(figsize=(12,10))\n",
        "cor = df.corr()\n",
        "sns.heatmap(cor, annot=True, cmap=plt.cm.autumn_r)\n",
        "plt.show()"
      ],
      "execution_count": 6,
      "outputs": [
        {
          "output_type": "display_data",
          "data": {
            "image/png": "[encoded data removed]",
            "text/plain": [
              "<Figure size 864x720 with 2 Axes>"
            ]
          },
          "metadata": {
            "tags": [],
            "needs_background": "light"
          }
        }
      ]
    },
    {
      "cell_type": "markdown",
      "metadata": {
        "id": "hsBePyTS_0vj"
      },
      "source": [
        "KITA AKAN PILIH hanya yang memiliki korelasi diatas 0.5 saja yang dipilih menjadi fitur \n"
      ]
    },
    {
      "cell_type": "code",
      "metadata": {
        "colab": {
          "base_uri": "https://localhost:8080/"
        },
        "id": "Nnh0Hp40AyZX",
        "outputId": "721c26d5-9328-4383-df1d-b626788bd43d"
      },
      "source": [
        "#Correlation with output variable\n",
        "cor_target = abs(cor[\"MEDV\"])\n",
        "#Selecting highly correlated features\n",
        "relevant_features = cor_target[cor_target>0.5]\n",
        "relevant_features"
      ],
      "execution_count": 7,
      "outputs": [
        {
          "output_type": "execute_result",
          "data": {
            "text/plain": [
              "RM         0.695360\n",
              "PTRATIO    0.507787\n",
              "LSTAT      0.737663\n",
              "MEDV       1.000000\n",
              "Name: MEDV, dtype: float64"
            ]
          },
          "metadata": {
            "tags": []
          },
          "execution_count": 7
        }
      ]
    },
    {
      "cell_type": "markdown",
      "metadata": {
        "id": "ks7HC6mpA1hw"
      },
      "source": [
        "kita hanya akan mendapat fitur tersebut diatas \n",
        "Variabel RM, PTRATIO and LSTAT areberkorelasi tinggi dengan variabel tyarget (label)  MEDV\n",
        "\n",
        "Selanjutnya akan kita lihat apakah variabel  RM, PTRATIO and LSTAT saling tergantung atau saling bebas \n",
        "\n",
        "\n"
      ]
    },
    {
      "cell_type": "code",
      "metadata": {
        "colab": {
          "base_uri": "https://localhost:8080/"
        },
        "id": "LyhIH76fHCmT",
        "outputId": "3e05f101-cc4c-4354-eaab-92aff515fa9f"
      },
      "source": [
        "print(df[[\"LSTAT\",\"PTRATIO\"]].corr())\n",
        "print(df[[\"RM\",\"LSTAT\"]].corr())"
      ],
      "execution_count": 8,
      "outputs": [
        {
          "output_type": "stream",
          "text": [
            "            LSTAT   PTRATIO\n",
            "LSTAT    1.000000  0.374044\n",
            "PTRATIO  0.374044  1.000000\n",
            "             RM     LSTAT\n",
            "RM     1.000000 -0.613808\n",
            "LSTAT -0.613808  1.000000\n"
          ],
          "name": "stdout"
        }
      ]
    },
    {
      "cell_type": "markdown",
      "metadata": {
        "id": "gCRH4nvbHMol"
      },
      "source": [
        "dari hasil diatas RM dan  LSTAT berkorelasi tinggi  (-0.613808) oleh karena itu kita dapat memilih datu diantara keduanya, nah karena korelasi antara RM lebih dengan MEDV ( 0.695360) lebih rendah dari korelasi antara LSTAT dengan MEDV (0.737663) maka kita akan membuang RM dan mempertahankan LSTAT sehingga FITUR AKHIRNYA Menjadi : \n",
        "\n",
        "PTRATIO    \n",
        "\n",
        "LSTAT \n"
      ]
    },
    {
      "cell_type": "markdown",
      "metadata": {
        "id": "RW0tS-t6cm2x"
      },
      "source": [
        "****"
      ]
    },
    {
      "cell_type": "markdown",
      "metadata": {
        "id": "_qwvPkM_cqay"
      },
      "source": [
        "# WRAPER METHODS"
      ]
    },
    {
      "cell_type": "markdown",
      "metadata": {
        "id": "SgJkzioMdS6o"
      },
      "source": [
        "**BACKWARD ELIMINATION**\n",
        "\n",
        "Performance metric YANG DIGUNAKAN UNTUK mengevaluasi fitur adalah  pvalue. Jika  pvalue > 0.05 fitur akan dibuang\n",
        "\n",
        "OLS model ( “Ordinary Least Squares”) digunakan untuk mengeksekusi model regresi linear.\n"
      ]
    },
    {
      "cell_type": "code",
      "metadata": {
        "colab": {
          "base_uri": "https://localhost:8080/"
        },
        "id": "W8oiIou9dSLb",
        "outputId": "abb213a9-90b3-4a5d-acc6-958b46bcb8d4"
      },
      "source": [
        "#Adding constant column of ones, mandatory for sm.OLS model\n",
        "X_1 = sm.add_constant(X)\n",
        "#Fitting sm.OLS model\n",
        "model = sm.OLS(y,X_1).fit()\n",
        "model.pvalues"
      ],
      "execution_count": 9,
      "outputs": [
        {
          "output_type": "execute_result",
          "data": {
            "text/plain": [
              "const      3.283438e-12\n",
              "CRIM       1.086810e-03\n",
              "ZN         7.781097e-04\n",
              "INDUS      7.382881e-01\n",
              "CHAS       1.925030e-03\n",
              "NOX        4.245644e-06\n",
              "RM         1.979441e-18\n",
              "AGE        9.582293e-01\n",
              "DIS        6.013491e-13\n",
              "RAD        5.070529e-06\n",
              "TAX        1.111637e-03\n",
              "PTRATIO    1.308835e-12\n",
              "B          5.728592e-04\n",
              "LSTAT      7.776912e-23\n",
              "dtype: float64"
            ]
          },
          "metadata": {
            "tags": []
          },
          "execution_count": 9
        }
      ]
    },
    {
      "cell_type": "markdown",
      "metadata": {
        "id": "togUKST3eTZI"
      },
      "source": [
        "variable ‘AGE’ memiliki  pvalue terbesar : 0.9582293 diatas 0.05 sehingga kita akan membuang AGE lalu membuat model kembali tanpa AGE. Proses ini berulang. perulangan akan dilakukan dengan kode di bawah ini. VAriebel/fitur yang akan dipakai setelah perulangan adalah sebagai berikut : \n",
        "\n",
        " ['CRIM', 'ZN', 'CHAS', 'NOX', 'RM', 'DIS', 'RAD', 'TAX', 'PTRATIO', 'B', 'LSTAT']"
      ]
    },
    {
      "cell_type": "code",
      "metadata": {
        "colab": {
          "base_uri": "https://localhost:8080/"
        },
        "id": "sFh62aQ9fDjg",
        "outputId": "69280ccf-1b04-4924-bff3-101d0ef93b01"
      },
      "source": [
        "#Backward Elimination\n",
        "cols = list(X.columns)\n",
        "pmax = 1\n",
        "while (len(cols)>0):\n",
        "    p= []\n",
        "    X_1 = X[cols]\n",
        "    X_1 = sm.add_constant(X_1)\n",
        "    model = sm.OLS(y,X_1).fit()\n",
        "    p = pd.Series(model.pvalues.values[1:],index = cols)      \n",
        "    pmax = max(p)\n",
        "    feature_with_p_max = p.idxmax()\n",
        "    if(pmax>0.05):\n",
        "        cols.remove(feature_with_p_max)\n",
        "    else:\n",
        "        break\n",
        "selected_features_BE = cols\n",
        "print(selected_features_BE)"
      ],
      "execution_count": 10,
      "outputs": [
        {
          "output_type": "stream",
          "text": [
            "['CRIM', 'ZN', 'CHAS', 'NOX', 'RM', 'DIS', 'RAD', 'TAX', 'PTRATIO', 'B', 'LSTAT']\n"
          ],
          "name": "stdout"
        }
      ]
    },
    {
      "cell_type": "markdown",
      "metadata": {
        "id": "lV2-4D0Mfv_Z"
      },
      "source": [
        "**Recursive Feature Elimination**\n",
        "\n"
      ]
    },
    {
      "cell_type": "markdown",
      "metadata": {
        "id": "q-LnIS-CgQE3"
      },
      "source": [
        "Misalkan kita menentukan jika kita ingin memilih 7 fitur dengan raknking teratas. \n",
        "\n",
        "model yang digunakan adalah model regresi linier \n",
        "\n",
        "untuk memiliih 7 teratas dapat digunakan : \n",
        "\n",
        "rfe = RFE(model, 7)\n",
        "\n",
        "fitur terpilih adalah fitur fitur yang ditandai angka 1= paling penting\n",
        "\n",
        "True = fitue relevant dan  False = fitur irrelevant.\n",
        "\n"
      ]
    },
    {
      "cell_type": "code",
      "metadata": {
        "colab": {
          "base_uri": "https://localhost:8080/"
        },
        "id": "RqOoVyKbgBX7",
        "outputId": "40720abe-c1ee-4013-85ab-668c0b4401a7"
      },
      "source": [
        "model = LinearRegression()\n",
        "#Initializing RFE model\n",
        "rfe = RFE(model, 7)\n",
        "#Transforming data using RFE\n",
        "X_rfe = rfe.fit_transform(X,y)  \n",
        "#Fitting the data to model\n",
        "model.fit(X_rfe,y)\n",
        "print(rfe.support_)\n",
        "print(rfe.ranking_)"
      ],
      "execution_count": 11,
      "outputs": [
        {
          "output_type": "stream",
          "text": [
            "[False False False  True  True  True False  True  True False  True False\n",
            "  True]\n",
            "[2 4 3 1 1 1 7 1 1 5 1 6 1]\n"
          ],
          "name": "stdout"
        }
      ]
    },
    {
      "cell_type": "markdown",
      "metadata": {
        "id": "YZ6O0ykmhJEg"
      },
      "source": [
        "Angka 7 diatas ditentukan secara acak, jika ingin mencari tahu berapa sih jumlah fitur yang sebaiknya dipilih dapat digunakan kode program dibawah ini : \n",
        "\n"
      ]
    },
    {
      "cell_type": "code",
      "metadata": {
        "colab": {
          "base_uri": "https://localhost:8080/"
        },
        "id": "N9-CcvskhUt5",
        "outputId": "4271cacb-ad8a-4ebf-a037-cd664590ada1"
      },
      "source": [
        "#no of features\n",
        "nof_list=np.arange(1,13)            \n",
        "high_score=0\n",
        "#Variable to store the optimum features\n",
        "nof=0           \n",
        "score_list =[]\n",
        "for n in range(len(nof_list)):\n",
        "    X_train, X_test, y_train, y_test = train_test_split(X,y, test_size = 0.3, random_state = 0)\n",
        "    model = LinearRegression()\n",
        "    rfe = RFE(model,nof_list[n])\n",
        "    X_train_rfe = rfe.fit_transform(X_train,y_train)\n",
        "    X_test_rfe = rfe.transform(X_test)\n",
        "    model.fit(X_train_rfe,y_train)\n",
        "    score = model.score(X_test_rfe,y_test)\n",
        "    score_list.append(score)\n",
        "    if(score>high_score):\n",
        "        high_score = score\n",
        "        nof = nof_list[n]\n",
        "print(\"Optimum number of features: %d\" %nof)\n",
        "print(\"Score with %d features: %f\" % (nof, high_score))"
      ],
      "execution_count": 12,
      "outputs": [
        {
          "output_type": "stream",
          "text": [
            "Optimum number of features: 10\n",
            "Score with 10 features: 0.663581\n"
          ],
          "name": "stdout"
        }
      ]
    },
    {
      "cell_type": "markdown",
      "metadata": {
        "id": "VjGbD72GhgD3"
      },
      "source": [
        "kita mendapati fitur yang terpilih untuk akurasi terbaik adalah 10, selanjutnya ke 10 fitur terpilih tersebut"
      ]
    },
    {
      "cell_type": "code",
      "metadata": {
        "colab": {
          "base_uri": "https://localhost:8080/"
        },
        "id": "xhAa5scShzOn",
        "outputId": "e33233a6-f549-432e-887e-651c973ed95c"
      },
      "source": [
        "cols = list(X.columns)\n",
        "model = LinearRegression()\n",
        "#Initializing RFE model\n",
        "rfe = RFE(model, 10)             \n",
        "#Transforming data using RFE\n",
        "X_rfe = rfe.fit_transform(X,y)  \n",
        "#Fitting the data to model\n",
        "model.fit(X_rfe,y)              \n",
        "temp = pd.Series(rfe.support_,index = cols)\n",
        "selected_features_rfe = temp[temp==True].index\n",
        "print(selected_features_rfe)"
      ],
      "execution_count": 13,
      "outputs": [
        {
          "output_type": "stream",
          "text": [
            "Index(['CRIM', 'ZN', 'INDUS', 'CHAS', 'NOX', 'RM', 'DIS', 'RAD', 'PTRATIO',\n",
            "       'LSTAT'],\n",
            "      dtype='object')\n"
          ],
          "name": "stdout"
        }
      ]
    },
    {
      "cell_type": "markdown",
      "metadata": {
        "id": "kHYocUh8dEt6"
      },
      "source": [
        "# EMBEDDED METHODS"
      ]
    },
    {
      "cell_type": "markdown",
      "metadata": {
        "id": "3XhePm6lkOjH"
      },
      "source": [
        "Embedded secara iterative dengan mengelola training proses secara iterative dan memilih fitur yang bverkontribusi paling besar pada proses training pada setiap iterasi. \n",
        "\n",
        "Metode regulaisasi (Regularization methods) palinmg banyak dipakai dalam metode embedded dengan mempinalti feature berpedomen pada nilai threshold yang ditentukan.\n",
        "\n",
        "Dalam contoh ini kita akan memakai Lasso regularization.\n",
        "\n",
        "Jika feature tidak relevant, lasso mempinalti koefisiennya dan meberi nilai  0 denghan kata lain fitur tersebut dibuang.  "
      ]
    },
    {
      "cell_type": "code",
      "metadata": {
        "colab": {
          "base_uri": "https://localhost:8080/"
        },
        "id": "oBTmpEgmkQXP",
        "outputId": "dcbde3f0-78a5-426e-deb6-c4b9fa53cd5a"
      },
      "source": [
        "reg = LassoCV()\n",
        "reg.fit(X, y)\n",
        "print(\"Best alpha using built-in LassoCV: %f\" % reg.alpha_)\n",
        "print(\"Best score using built-in LassoCV: %f\" %reg.score(X,y))\n",
        "coef = pd.Series(reg.coef_, index = X.columns)"
      ],
      "execution_count": 14,
      "outputs": [
        {
          "output_type": "stream",
          "text": [
            "Best alpha using built-in LassoCV: 0.724820\n",
            "Best score using built-in LassoCV: 0.702444\n"
          ],
          "name": "stdout"
        }
      ]
    },
    {
      "cell_type": "markdown",
      "metadata": {
        "id": "njKBODwNdBVY"
      },
      "source": [
        ""
      ]
    },
    {
      "cell_type": "code",
      "metadata": {
        "colab": {
          "base_uri": "https://localhost:8080/"
        },
        "id": "JyWpvFnukX6m",
        "outputId": "eeaef07c-e02b-44da-eac8-6ca07f52edc7"
      },
      "source": [
        "print(\"Lasso picked \" + str(sum(coef != 0)) + \" variables and eliminated the other \" +  str(sum(coef == 0)) + \" variables\")"
      ],
      "execution_count": 15,
      "outputs": [
        {
          "output_type": "stream",
          "text": [
            "Lasso picked 10 variables and eliminated the other 3 variables\n"
          ],
          "name": "stdout"
        }
      ]
    },
    {
      "cell_type": "code",
      "metadata": {
        "colab": {
          "base_uri": "https://localhost:8080/",
          "height": 624
        },
        "id": "2bZckWFukfpn",
        "outputId": "6c1e5ed9-48a3-4bc5-c203-2ff18d3a2815"
      },
      "source": [
        "imp_coef = coef.sort_values()\n",
        "import matplotlib\n",
        "matplotlib.rcParams['figure.figsize'] = (8.0, 10.0)\n",
        "imp_coef.plot(kind = \"barh\")\n",
        "plt.title(\"Feature importance using Lasso Model\")"
      ],
      "execution_count": 17,
      "outputs": [
        {
          "output_type": "execute_result",
          "data": {
            "text/plain": [
              "Text(0.5, 1.0, 'Feature importance using Lasso Model')"
            ]
          },
          "metadata": {
            "tags": []
          },
          "execution_count": 17
        },
        {
          "output_type": "display_data",
          "data": {
            "image/png": "[encoded data removed]",
            "text/plain": [
              "<Figure size 576x720 with 1 Axes>"
            ]
          },
          "metadata": {
            "tags": [],
            "needs_background": "light"
          }
        }
      ]
    },
    {
      "cell_type": "markdown",
      "metadata": {
        "id": "h6XokKdPwGhd"
      },
      "source": [
        "Grafik diatas menggambarkan LASO memberikn pinalti kepda 3 varibel.fitur NOX, CHAS and INDUS dan menggunakan 10 lainnya (koefisiennya > 0)  "
      ]
    },
    {
      "cell_type": "markdown",
      "metadata": {
        "id": "JAByXl5Gwf5W"
      },
      "source": [
        ""
      ]
    },
    {
      "cell_type": "markdown",
      "metadata": {
        "id": "taolo6nvwghJ"
      },
      "source": [
        "# Principal Component Analysis (PCA)"
      ]
    },
    {
      "cell_type": "markdown",
      "metadata": {
        "id": "pJ5fdPXfwszG"
      },
      "source": [
        "PCA adalah sebuah fungsi untuk mereduksi data \n",
        "\n",
        "mentransformasi dataset menjadi bentuk (form) terkompresi \n",
        "\n",
        "Misalkan kita akan mentrasnsformasi fitur dari dataset X yang sudah kita baca pada program ini sebelumnya, dan akan di transformasi menjadi 5 fitur saja - kita dapat menggunakan program dibawah ini "
      ]
    },
    {
      "cell_type": "code",
      "metadata": {
        "colab": {
          "base_uri": "https://localhost:8080/"
        },
        "id": "2UVWV5JtxYDV",
        "outputId": "9ac6a8b8-e841-4de5-f64f-37fb906902f4"
      },
      "source": [
        "\n",
        "from sklearn.decomposition import PCA\n",
        "pca = PCA(n_components=5)\n",
        "fit = pca.fit(X)\n",
        "print(\"Explained Variance: %s\",fit.explained_variance_ratio_ )\n",
        "print(fit.components_)"
      ],
      "execution_count": 25,
      "outputs": [
        {
          "output_type": "stream",
          "text": [
            "Explained Variance: %s [0.80582318 0.16305197 0.02134861 0.00695699 0.00129995]\n",
            "[[ 2.92973218e-02 -4.35898000e-02  2.83309382e-02 -5.55846350e-05\n",
            "   4.49721818e-04 -1.16815860e-03  8.36335746e-02 -6.56163360e-03\n",
            "   4.50053753e-02  9.49741169e-01  5.60011721e-03 -2.91218514e-01\n",
            "   2.29433756e-02]\n",
            " [ 6.66847277e-03  1.17564821e-03 -4.94975624e-03 -1.02678850e-04\n",
            "   1.82069867e-06  3.65750108e-04 -5.72246652e-03  3.53685109e-04\n",
            "  -8.61865948e-03 -2.92406308e-01 -2.52898538e-03 -9.56180551e-01\n",
            "   5.76719865e-03]\n",
            " [-1.14793645e-02  6.32897481e-01 -8.83403603e-02 -9.75320360e-04\n",
            "  -1.80720215e-03  4.73397110e-03 -7.55863075e-01  4.50884160e-02\n",
            "   2.84787088e-03  9.38644477e-02 -1.11592649e-02 -2.35628231e-02\n",
            "  -9.28333004e-02]\n",
            " [ 2.71309632e-02  7.68058991e-01 -1.28007210e-02  8.54389584e-04\n",
            "   6.79655226e-04  5.70127889e-03  6.36608645e-01  2.57418757e-03\n",
            "  -1.95602004e-02 -1.99794164e-02 -3.20107972e-02  4.03696433e-03\n",
            "   4.52966144e-02]\n",
            " [ 9.52338065e-01 -5.67213995e-03 -5.71048624e-02 -2.16905859e-03\n",
            "  -1.65862374e-04 -1.32805158e-02 -4.63050760e-02 -6.53874230e-03\n",
            "   1.72278796e-01 -3.27034769e-02  2.18372962e-02  1.70162101e-02\n",
            "   2.36379212e-01]]\n"
          ],
          "name": "stdout"
        }
      ]
    }
  ]
}