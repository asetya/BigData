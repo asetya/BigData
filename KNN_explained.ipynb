{
  "nbformat": 4,
  "nbformat_minor": 0,
  "metadata": {
    "colab": {
      "name": "KNN_explained",
      "provenance": [],
      "collapsed_sections": [],
      "authorship_tag": "ABX9TyOPOBw2kWQDirkN6uZLTq9u",
      "include_colab_link": true
    },
    "kernelspec": {
      "name": "python3",
      "display_name": "Python 3"
    }
  },
  "cells": [
    {
      "cell_type": "markdown",
      "metadata": {
        "id": "view-in-github",
        "colab_type": "text"
      },
      "source": [
        "<a href=\"https://colab.research.google.com/github/asetya/BigData/blob/master/KNN_explained.ipynb\" target=\"_parent\"><img src=\"https://colab.research.google.com/assets/colab-badge.svg\" alt=\"Open In Colab\"/></a>"
      ]
    },
    {
      "cell_type": "markdown",
      "metadata": {
        "id": "20ogyyJ3UHq2"
      },
      "source": [
        "**K-Neirest Neighbour (KNN)**\r\n",
        "\r\n",
        "Algoritma mesin learning golongan lazy learning - dimana algoritma baru akan belajar pada saat harus menyimpulkan kelas atau nilai dari data baru \r\n",
        "sumber : https://www.tutorialspoint.com/machine_learning_with_python/machine_learning_with_python_knn_algorithm_finding_nearest_neighbors.htm\r\n",
        "\r\n",
        "Bagian pertama - Import library "
      ]
    },
    {
      "cell_type": "code",
      "metadata": {
        "id": "hj5gdPSpUgnO"
      },
      "source": [
        "import numpy as np\r\n",
        "import matplotlib.pyplot as plt\r\n",
        "import pandas as pd"
      ],
      "execution_count": 1,
      "outputs": []
    },
    {
      "cell_type": "markdown",
      "metadata": {
        "id": "52LZ1w10U2AB"
      },
      "source": [
        "Download dataset "
      ]
    },
    {
      "cell_type": "code",
      "metadata": {
        "colab": {
          "base_uri": "https://localhost:8080/",
          "height": 204
        },
        "id": "mYt7kL2JU0pN",
        "outputId": "dc24fc70-2423-476b-967d-5ac826f396db"
      },
      "source": [
        "path = \"https://archive.ics.uci.edu/ml/machine-learning-databases/iris/iris.data\"\r\n",
        "headernames = ['sepal-length', 'sepal-width', 'petal-length', 'petal-width', 'Class'] #berikan header\r\n",
        "dataset = pd.read_csv(path, names = headernames) #baca dataset dari file csv \r\n",
        "dataset.head()"
      ],
      "execution_count": 2,
      "outputs": [
        {
          "output_type": "execute_result",
          "data": {
            "text/html": [
              "<div>\n",
              "<style scoped>\n",
              "    .dataframe tbody tr th:only-of-type {\n",
              "        vertical-align: middle;\n",
              "    }\n",
              "\n",
              "    .dataframe tbody tr th {\n",
              "        vertical-align: top;\n",
              "    }\n",
              "\n",
              "    .dataframe thead th {\n",
              "        text-align: right;\n",
              "    }\n",
              "</style>\n",
              "<table border=\"1\" class=\"dataframe\">\n",
              "  <thead>\n",
              "    <tr style=\"text-align: right;\">\n",
              "      <th></th>\n",
              "      <th>sepal-length</th>\n",
              "      <th>sepal-width</th>\n",
              "      <th>petal-length</th>\n",
              "      <th>petal-width</th>\n",
              "      <th>Class</th>\n",
              "    </tr>\n",
              "  </thead>\n",
              "  <tbody>\n",
              "    <tr>\n",
              "      <th>0</th>\n",
              "      <td>5.1</td>\n",
              "      <td>3.5</td>\n",
              "      <td>1.4</td>\n",
              "      <td>0.2</td>\n",
              "      <td>Iris-setosa</td>\n",
              "    </tr>\n",
              "    <tr>\n",
              "      <th>1</th>\n",
              "      <td>4.9</td>\n",
              "      <td>3.0</td>\n",
              "      <td>1.4</td>\n",
              "      <td>0.2</td>\n",
              "      <td>Iris-setosa</td>\n",
              "    </tr>\n",
              "    <tr>\n",
              "      <th>2</th>\n",
              "      <td>4.7</td>\n",
              "      <td>3.2</td>\n",
              "      <td>1.3</td>\n",
              "      <td>0.2</td>\n",
              "      <td>Iris-setosa</td>\n",
              "    </tr>\n",
              "    <tr>\n",
              "      <th>3</th>\n",
              "      <td>4.6</td>\n",
              "      <td>3.1</td>\n",
              "      <td>1.5</td>\n",
              "      <td>0.2</td>\n",
              "      <td>Iris-setosa</td>\n",
              "    </tr>\n",
              "    <tr>\n",
              "      <th>4</th>\n",
              "      <td>5.0</td>\n",
              "      <td>3.6</td>\n",
              "      <td>1.4</td>\n",
              "      <td>0.2</td>\n",
              "      <td>Iris-setosa</td>\n",
              "    </tr>\n",
              "  </tbody>\n",
              "</table>\n",
              "</div>"
            ],
            "text/plain": [
              "   sepal-length  sepal-width  petal-length  petal-width        Class\n",
              "0           5.1          3.5           1.4          0.2  Iris-setosa\n",
              "1           4.9          3.0           1.4          0.2  Iris-setosa\n",
              "2           4.7          3.2           1.3          0.2  Iris-setosa\n",
              "3           4.6          3.1           1.5          0.2  Iris-setosa\n",
              "4           5.0          3.6           1.4          0.2  Iris-setosa"
            ]
          },
          "metadata": {
            "tags": []
          },
          "execution_count": 2
        }
      ]
    },
    {
      "cell_type": "markdown",
      "metadata": {
        "id": "PBIUWDtsUGhb"
      },
      "source": [
        "pre-processing data"
      ]
    },
    {
      "cell_type": "code",
      "metadata": {
        "colab": {
          "base_uri": "https://localhost:8080/"
        },
        "id": "S8tSQA5zVaf-",
        "outputId": "12efe1b1-3dcc-4c58-9205-36587b5d6ed1"
      },
      "source": [
        "X = dataset.iloc[:, :-1].values\r\n",
        "y = dataset.iloc[:, 4].values\r\n",
        "\r\n",
        "\r\n"
      ],
      "execution_count": 11,
      "outputs": [
        {
          "output_type": "execute_result",
          "data": {
            "text/plain": [
              "array(['Iris-setosa', 'Iris-setosa', 'Iris-setosa', 'Iris-setosa'],\n",
              "      dtype=object)"
            ]
          },
          "metadata": {
            "tags": []
          },
          "execution_count": 11
        }
      ]
    },
    {
      "cell_type": "markdown",
      "metadata": {
        "id": "QL8c-ntyWF1m"
      },
      "source": [
        "tampilkan X"
      ]
    },
    {
      "cell_type": "code",
      "metadata": {
        "colab": {
          "base_uri": "https://localhost:8080/"
        },
        "id": "4ZpaTzqJWIPa",
        "outputId": "84292f43-a38b-48f1-9396-32321279e32c"
      },
      "source": [
        "X[1:5,:]"
      ],
      "execution_count": 12,
      "outputs": [
        {
          "output_type": "execute_result",
          "data": {
            "text/plain": [
              "array([[4.9, 3. , 1.4, 0.2],\n",
              "       [4.7, 3.2, 1.3, 0.2],\n",
              "       [4.6, 3.1, 1.5, 0.2],\n",
              "       [5. , 3.6, 1.4, 0.2]])"
            ]
          },
          "metadata": {
            "tags": []
          },
          "execution_count": 12
        }
      ]
    },
    {
      "cell_type": "markdown",
      "metadata": {
        "id": "itUCUQy2WL8n"
      },
      "source": [
        "tampilkan y "
      ]
    },
    {
      "cell_type": "code",
      "metadata": {
        "colab": {
          "base_uri": "https://localhost:8080/"
        },
        "id": "n34FcNyqWNvu",
        "outputId": "8122086e-ac47-4407-b28a-ab5920e667e4"
      },
      "source": [
        "y[1:5]"
      ],
      "execution_count": 13,
      "outputs": [
        {
          "output_type": "execute_result",
          "data": {
            "text/plain": [
              "array(['Iris-setosa', 'Iris-setosa', 'Iris-setosa', 'Iris-setosa'],\n",
              "      dtype=object)"
            ]
          },
          "metadata": {
            "tags": []
          },
          "execution_count": 13
        }
      ]
    },
    {
      "cell_type": "markdown",
      "metadata": {
        "id": "4ldxuNMOWWmN"
      },
      "source": [
        "Membagi dataset menjadi 60% data training dan 40% testing "
      ]
    },
    {
      "cell_type": "code",
      "metadata": {
        "id": "b6ZCbSepWjg6"
      },
      "source": [
        "from sklearn.model_selection import train_test_split\r\n",
        "X_train, X_test, y_train, y_test = train_test_split(X, y, test_size = 0.40)"
      ],
      "execution_count": 17,
      "outputs": []
    },
    {
      "cell_type": "markdown",
      "metadata": {
        "id": "0zSNe8F-Xed6"
      },
      "source": [
        "Tampilkan X train dan X test sebelum di standarisasi "
      ]
    },
    {
      "cell_type": "code",
      "metadata": {
        "colab": {
          "base_uri": "https://localhost:8080/"
        },
        "id": "4oQVVeCgXSFE",
        "outputId": "32adaaf2-27f6-44a4-8cc4-ecd0ed5f72a5"
      },
      "source": [
        "X_train[1:5,:]"
      ],
      "execution_count": 18,
      "outputs": [
        {
          "output_type": "execute_result",
          "data": {
            "text/plain": [
              "array([[6. , 2.2, 5. , 1.5],\n",
              "       [6.8, 3. , 5.5, 2.1],\n",
              "       [6.3, 2.3, 4.4, 1.3],\n",
              "       [5. , 3.6, 1.4, 0.2]])"
            ]
          },
          "metadata": {
            "tags": []
          },
          "execution_count": 18
        }
      ]
    },
    {
      "cell_type": "code",
      "metadata": {
        "colab": {
          "base_uri": "https://localhost:8080/"
        },
        "id": "rBEldBnwXY4G",
        "outputId": "0e921105-05ce-47fa-c3a9-66f1fa0ce1e2"
      },
      "source": [
        "X_test[1:5,:]"
      ],
      "execution_count": 19,
      "outputs": [
        {
          "output_type": "execute_result",
          "data": {
            "text/plain": [
              "array([[6.7, 3. , 5. , 1.7],\n",
              "       [6.3, 3.3, 4.7, 1.6],\n",
              "       [5. , 3.5, 1.3, 0.3],\n",
              "       [5.7, 4.4, 1.5, 0.4]])"
            ]
          },
          "metadata": {
            "tags": []
          },
          "execution_count": 19
        }
      ]
    },
    {
      "cell_type": "markdown",
      "metadata": {
        "id": "2_-_WnHoWod9"
      },
      "source": [
        "Standarisasi skala "
      ]
    },
    {
      "cell_type": "code",
      "metadata": {
        "id": "3RqvX2t4Wq7A"
      },
      "source": [
        "from sklearn.preprocessing import StandardScaler\r\n",
        "scaler = StandardScaler()\r\n",
        "scaler.fit(X_train)\r\n",
        "X_train = scaler.transform(X_train)\r\n",
        "X_test = scaler.transform(X_test)"
      ],
      "execution_count": 20,
      "outputs": []
    },
    {
      "cell_type": "markdown",
      "metadata": {
        "id": "u595dyI0WwMv"
      },
      "source": [
        "tampilkan X_train\r\n",
        "dan X_test yang sudah di standarisasi "
      ]
    },
    {
      "cell_type": "code",
      "metadata": {
        "colab": {
          "base_uri": "https://localhost:8080/"
        },
        "id": "bO_9ZifHW4E2",
        "outputId": "3f3ac67d-6236-4350-8977-392e50384604"
      },
      "source": [
        "X_train[1:5,:]"
      ],
      "execution_count": 21,
      "outputs": [
        {
          "output_type": "execute_result",
          "data": {
            "text/plain": [
              "array([[ 0.20203198, -1.93993623,  0.69898614,  0.43354648],\n",
              "       [ 1.20522526, -0.01867889,  0.99158498,  1.2666963 ],\n",
              "       [ 0.57822946, -1.69977906,  0.34786752,  0.15582987],\n",
              "       [-1.05195962,  1.42226411, -1.40772557, -1.37161146]])"
            ]
          },
          "metadata": {
            "tags": []
          },
          "execution_count": 21
        }
      ]
    },
    {
      "cell_type": "code",
      "metadata": {
        "colab": {
          "base_uri": "https://localhost:8080/"
        },
        "id": "PB132zvEXmLq",
        "outputId": "f2d33ebb-6b26-4dcc-b86a-35088c659218"
      },
      "source": [
        "X_test[1:5,:]"
      ],
      "execution_count": 22,
      "outputs": [
        {
          "output_type": "execute_result",
          "data": {
            "text/plain": [
              "array([[ 1.0798261 , -0.01867889,  0.69898614,  0.71126309],\n",
              "       [ 0.57822946,  0.70179261,  0.52342683,  0.57240478],\n",
              "       [-1.05195962,  1.18210695, -1.46624534, -1.23275316],\n",
              "       [-0.1741655 ,  3.34352146, -1.3492058 , -1.09389486]])"
            ]
          },
          "metadata": {
            "tags": []
          },
          "execution_count": 22
        }
      ]
    },
    {
      "cell_type": "markdown",
      "metadata": {
        "id": "nLlc5MmDX3vd"
      },
      "source": [
        "**Start KNN disini **\r\n",
        "\r\n",
        "Misal dipilih k = 3"
      ]
    },
    {
      "cell_type": "code",
      "metadata": {
        "colab": {
          "base_uri": "https://localhost:8080/"
        },
        "id": "GQDAiCdqYgva",
        "outputId": "2b7ee428-7950-4d00-dc1a-94fb19b7fd7e"
      },
      "source": [
        "from sklearn.neighbors import KNeighborsClassifier\r\n",
        "classifier = KNeighborsClassifier(n_neighbors = 3)\r\n",
        "classifier.fit(X_train, y_train)"
      ],
      "execution_count": 24,
      "outputs": [
        {
          "output_type": "execute_result",
          "data": {
            "text/plain": [
              "KNeighborsClassifier(algorithm='auto', leaf_size=30, metric='minkowski',\n",
              "                     metric_params=None, n_jobs=None, n_neighbors=3, p=2,\n",
              "                     weights='uniform')"
            ]
          },
          "metadata": {
            "tags": []
          },
          "execution_count": 24
        }
      ]
    },
    {
      "cell_type": "markdown",
      "metadata": {
        "id": "t9Ri22ajY5kk"
      },
      "source": [
        "gunakan model yang sudah dibuat untuk memprediksi nilai perkiraan y - dari data testing \r\n"
      ]
    },
    {
      "cell_type": "code",
      "metadata": {
        "id": "aFdaQb8fZB5U"
      },
      "source": [
        "y_pred = classifier.predict(X_test)"
      ],
      "execution_count": 25,
      "outputs": []
    },
    {
      "cell_type": "markdown",
      "metadata": {
        "id": "dWrVnbFPZU_8"
      },
      "source": [
        "Melihat hasil dan menampilkan evaluasi untuk ukuran baik buruknya hasil klasifikasi menggunakan confussion matrix dan akurasi \r\n"
      ]
    },
    {
      "cell_type": "code",
      "metadata": {
        "colab": {
          "base_uri": "https://localhost:8080/"
        },
        "id": "ywHFyuvDZeD6",
        "outputId": "3ba70e5b-0f54-49af-93ae-aef837432464"
      },
      "source": [
        "from sklearn.metrics import classification_report, confusion_matrix, accuracy_score\r\n",
        "result = confusion_matrix(y_test, y_pred)\r\n",
        "print(\"Confusion Matrix:\")\r\n",
        "print(result)\r\n",
        "result1 = classification_report(y_test, y_pred)\r\n",
        "print(\"Classification Report:\",)\r\n",
        "print (result1)\r\n",
        "result2 = accuracy_score(y_test,y_pred)\r\n",
        "print(\"Accuracy:\",result2)"
      ],
      "execution_count": 26,
      "outputs": [
        {
          "output_type": "stream",
          "text": [
            "Confusion Matrix:\n",
            "[[22  0  0]\n",
            " [ 0 15  2]\n",
            " [ 0  1 20]]\n",
            "Classification Report:\n",
            "                 precision    recall  f1-score   support\n",
            "\n",
            "    Iris-setosa       1.00      1.00      1.00        22\n",
            "Iris-versicolor       0.94      0.88      0.91        17\n",
            " Iris-virginica       0.91      0.95      0.93        21\n",
            "\n",
            "       accuracy                           0.95        60\n",
            "      macro avg       0.95      0.94      0.95        60\n",
            "   weighted avg       0.95      0.95      0.95        60\n",
            "\n",
            "Accuracy: 0.95\n"
          ],
          "name": "stdout"
        }
      ]
    }
  ]
}