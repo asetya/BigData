{
  "cells": [
    {
      "cell_type": "markdown",
      "metadata": {
        "id": "view-in-github",
        "colab_type": "text"
      },
      "source": [
        "<a href=\"https://colab.research.google.com/github/asetya/BigData/blob/master/Story_Generator_using_Keras_LSTM_RNN.ipynb\" target=\"_parent\"><img src=\"https://colab.research.google.com/assets/colab-badge.svg\" alt=\"Open In Colab\"/></a>"
      ]
    },
    {
      "cell_type": "markdown",
      "metadata": {
        "id": "VbTok0jX0drj"
      },
      "source": [
        "# Author: [Ruslan Brilenkov](https://www.linkedin.com/in/ruslan-brilenkov/)\n",
        "\n",
        "# [Original article]()"
      ]
    },
    {
      "cell_type": "markdown",
      "metadata": {
        "id": "DQS7fOUI0drl"
      },
      "source": [
        "## Importing necessary libraries/packages"
      ]
    },
    {
      "cell_type": "code",
      "execution_count": null,
      "metadata": {
        "id": "t_IZke4Mb7tF"
      },
      "outputs": [],
      "source": [
        "import numpy as np\n",
        "import re\n",
        "from IPython.display import clear_output\n",
        "\n",
        "from keras.layers import Dense, LSTM, Input, Embedding, Dropout\n",
        "from keras.utils import np_utils\n",
        "from keras.models import Model, load_model\n",
        "# from keras.optimizers import Adam, RMSprop\n",
        "from tensorflow.keras.optimizers import Adam, RMSprop # - Works\n",
        "from keras.preprocessing.sequence import pad_sequences\n",
        "from keras.preprocessing.text import Tokenizer\n",
        "from keras.callbacks import LambdaCallback"
      ]
    },
    {
      "cell_type": "markdown",
      "metadata": {
        "id": "0zBYrCpt0drm"
      },
      "source": [
        "## If working on Google Colaboratory [Colab](https://medium.datadriveninvestor.com/free-gpu-for-deep-learning-776a178c6ebf)"
      ]
    },
    {
      "cell_type": "code",
      "execution_count": null,
      "metadata": {
        "id": "6BPYJKAkjKzM"
      },
      "outputs": [],
      "source": [
        "working_on_colab = False\n",
        "if working_on_colab:\n",
        "    from google.colab import drive\n",
        "    drive.mount('/content/drive')\n",
        "\n",
        "    import os\n",
        "\n",
        "    dir_to_drive_Colab = \"/content/drive/MyDrive/Files_from_Colab/LSTM_Alice_in_Wonderland/\"\n",
        "    os.listdir(dir_to_drive_Colab)"
      ]
    },
    {
      "cell_type": "code",
      "source": [
        "pwd"
      ],
      "metadata": {
        "colab": {
          "base_uri": "https://localhost:8080/",
          "height": 36
        },
        "id": "Mqg3s1n40kPB",
        "outputId": "c18a6563-b52c-44bd-e28f-6db9e58fe126"
      },
      "execution_count": null,
      "outputs": [
        {
          "output_type": "execute_result",
          "data": {
            "text/plain": [
              "'/content'"
            ],
            "application/vnd.google.colaboratory.intrinsic+json": {
              "type": "string"
            }
          },
          "metadata": {},
          "execution_count": 66
        }
      ]
    },
    {
      "cell_type": "code",
      "source": [
        "import os"
      ],
      "metadata": {
        "id": "D7nIVBsN0qT7"
      },
      "execution_count": null,
      "outputs": []
    },
    {
      "cell_type": "code",
      "execution_count": null,
      "metadata": {
        "colab": {
          "base_uri": "https://localhost:8080/"
        },
        "id": "iQcfcKtHjfI0",
        "outputId": "d47cb965-fd4a-4c6f-a156-095d84613c21"
      },
      "outputs": [
        {
          "output_type": "stream",
          "name": "stdout",
          "text": [
            "Upload the data by hand\n"
          ]
        }
      ],
      "source": [
        "os.system(\"mkdir ./data/\")\n",
        "\n",
        "if working_on_colab:\n",
        "    os.system(f\"cp -r {dir_to_drive_Colab}data/* ./data/\")\n",
        "else:\n",
        "    print(\"Upload the data by hand\")"
      ]
    },
    {
      "cell_type": "markdown",
      "metadata": {
        "id": "i30khZcP0drn"
      },
      "source": [
        "## Decide if we are training the model from scratch and/or loading the pre-trained model"
      ]
    },
    {
      "cell_type": "code",
      "execution_count": null,
      "metadata": {
        "id": "NfdVn3RYco8R"
      },
      "outputs": [],
      "source": [
        "load_saved_model = False\n",
        "train_model = True"
      ]
    },
    {
      "cell_type": "markdown",
      "metadata": {
        "id": "jUOy2BJscyag"
      },
      "source": [
        "# The first step is to clean up and [tokenize](https://medium.datadriveninvestor.com/a-few-notes-about-text-tokenization-c5c67635638d) the text.\n",
        "\n",
        "Tokenization is the process of split‐ ting the text up into individual units, such as words or characters."
      ]
    },
    {
      "cell_type": "code",
      "execution_count": null,
      "metadata": {
        "id": "pUk0hf5vcvTn"
      },
      "outputs": [],
      "source": [
        "token_type = 'word'"
      ]
    },
    {
      "cell_type": "code",
      "execution_count": null,
      "metadata": {
        "colab": {
          "base_uri": "https://localhost:8080/",
          "height": 227
        },
        "id": "N_ejC9H9c1u8",
        "outputId": "535cf94a-68f6-4763-fdbc-4215d9e69b5f"
      },
      "outputs": [
        {
          "output_type": "execute_result",
          "data": {
            "text/plain": [
              "'CHAPTER I\\n\\n                      Down the Rabbit-Hole\\n\\n\\n                            CHAPTER I\\n\\n                      Down the Rabbit-Hole\\n\\nKANCIL LAN MERAK\\n\\nMerak pancen seneng macak. Mula tansah nengsemake. Wulune katon edi, gawe resep kang\\npadha nyawang. Mula ora sithik tangga-teparo padha mara nyang omahe Merak saperlu sinau\\nngadi busana lan ngadi salira. “Aku pengin supaya bisa nduweni sandhangan wulu kaya kowe,\\nRak,” ujare Kancil marang Merak. “Sandhangan wulu kang tememplek ing awakku iki paringane\\nGusti Kang Akarya Jagad. Aku mung tinanggenah ngrumat lan njaga supaya tetep katon\\nendah,” wangsulane Merak kanthi sareh.\\n“Anggonku seneng dandan lan ngupakara kaendahan iki mung wujud rasa syukurku marang\\nGusti!” bacute tanpa linandhesan rasa umuk.“Supaya wuluku bisa dadi kaya wulumu, piye\\ncarane?” pitakone Kancil.\\n“Tangeh lamun, Cil! Aku-kowe ki mung saderma nglakoni. Apa kang dadi peparinganing\\nPangeran kudu tinampa kanthi ati segara,” wangsulane Merak. “Karo maneh kabeh sing\\ntememplek ana saranduning badan iki, mesthi piguna marang awake dhewe. Kang ana ing aku\\nora durung mesthi ana ing kowe, semono uga kosok baline, Cil. Wulu soklatmu kuwi mesthi\\npiguna tumrapmu!”.\\nNanging Kancil sajak wingi nyawang kaendahan wulune Merak. “Piguna apa?” Sawise megeng\\nnapas sawetara banjur nggrundel, “Senajan piguna, nyatane wuluku letheg! Aku luwih bungah\\nyen wuluku bisa kaya wulumu! Saben kewan ora sebah nyawang!”“Kuwi rak mung saka\\npanggraitamu dhewe. Nanging ora kok, Cil!” sahute Merak. “Sebab saben kewan ginaris\\ndhewe-dhewe! Uga bab wulu! Wulu-wuluku kaya ngene, wulu-wulumu kaya ngono, wulune\\nMacan, wulune Gajah, lan sato kewan liyane ora ana sing padha!”.\\nSenajan akeh-akeh Merak anggone ngandhani, nanging ora bisa mbendung pepenginane\\nKancil nduweni wulu kaya wulu Merak. “Sakarepmu anggonmu kandha, Rak! Mung aku njaluk\\ntulung supaya aku bisa nduweni wulu kaya kowe!” kandhane Kancil setengah meksa.\\nMerak gedheg-gedheg gumun karo kekarepane Kancil. “Saupama bisa, terus mengko kowe\\ndadi kewan apa?” pitakone Merak.“Kewan apa wae terserah sing arep ngarani! Mung kira-kira\\nbisa ta, Rak?” pitakone Kancil ngoyak, ora sabar.“Bisa wae, nanging mung imitasi!\\nPasangan!”“Ora masalah!” Kancil bungah. “Ndang dipasang!” panjaluke kesusu.“Ya sabar, Cil!\\nAku kudu nglumpukake bodholane wuluku lan wulu-wulune wargaku.”\\n“Terus kapan?”“Udakara rong mingguan.”“Tak tunggu, Rak, ujare Kancil banjur nerusake\\nlakune. Merak mung nyawang kanthi mesem, “Cil, Kancil. Yen duwe kekarepan kok ngudung,\\ntanpa metung tuna lan bathine. Kudu tak udaneni kekarepane, ngiras kanggo menehi piwulang\\nmarang dheweke.”Tekan dina sing dijanjekake, esuk uthuk-uthuk Kancil wis tekan omahe\\nMerak. “Piye, Rak? Iki wis rong minggu!”\\n“Beres!” jawabe Merak karo nata wulu-wulu sing wis diklumpukake, “Gilo! Wulu-wulu\\nwis mlumpuk, malah\\nwis dakdhewek-dhewekake! Wulu awak, wulu swiwi, wulu buntut, aku uga\\nwis golek tlutuh wit karet barang minangka kanggo nemplekake ing badanmu!”“\\nWis gek ndang dipasang nyang awakku!” ujare Kancil karo lungguh dhingklik sacedhake\\nMerak.Merak banjur ngoser-oseri kabeh kulite Kancil nganggo tlutuh karet. Bareng kawawas\\n\\nwis ora ana sing keri, baka siji Merak nemplekake wulu-wulu nut karo kebutuhane. Wulu gulu\\nditemplekake ing gulu, wulu awak ing awak, wulu sikil ing sikil, dene wulu buntut uga dipasang\\ning buntute Kancil.Sedina natas, kabeh wulu\\nwis kapasang ing kulite Kancil.“Rampung, Cil,” ujare Merak mesem. “Kae ana pengilon, ndang\\nngiloa!”Kancil banjur ngilo. Weruh kahanan awake, dheweke mongkog, “Iki sing dakkarepake!”\\ncelathune. “Aku bakal dadi salah sijining kewan kang paling endah!”“Bener kandhamu, Cil. Tur\\nora ana sing madhani!” Merak mbombong. “Mung aja nganti kaendahan mau malah ngreridhu\\nlakumu,” bacute ngelingake.“Ngreridhu piye to? Wong apike kaya ngene kok ngreridhu. \"Lho,\\nwulu wulu kuwi mung templekan. Cetha bakal ngebot-eboti awakmu!” Kancil ora nggagas,\\nmalah gage pamitan.\\nWis, Rak. Aku pamit! Lan nedha nrima awit saka kabecikanmu, aku selak pengin mamerke\\nkahananing awakku saiki!”“Sing ati-ati Cil, ” kandhane Merak karo nguntapake Kancil metu saka\\nomahe.Metu saka platarane Merak, Kancil mlaku lon-lonan. Bokonge digidal-gidulake, pamrihe\\nsupaya bisa mamerake wulune kang apik tur edi. Saben ketemu sato, Kancil tansah mesem\\nkaro aruh-aruh sombong. Dene sing diaruhi uga genti mesem, mung eseme esem geli. Geli\\namarga weruh kahanan kang ora lumrah. Nanging tumrap Kancil esem mau tinampa beda,\\n“Kabeh kewan padha kesengsem lan kepincut karo aku,” ujare jroning ati.Nanging sengsem,\\nedi, lan endah mau ora suwe. Bareng tlutuh karet mau garing, kulite Kancil dadi kaku\\nnyekengkeng. Akibate sikil, gulu, lan buntute angel diobah-obahake. Kancil mung bisa njegreg\\n\\nngececer, ora bisa lumaku. “Tulung! Tulung! Tuluuung! Tuluuuung....!” pambengoke sabisa-\\nbisane.“Ana apa to Cil?” pitakone Merak krungu pambengoke Kancil. “Gage tulungana aku,\\n\\nsaranduning badanku angel diobahake!”“Kabeh wulu sing nemplek ing awakmu kudu dicopot\\nkabeh, kowe gelem?”“ Gelem Rak!” ujare Kancil nglenggana marang apa sing\\nwis dilakoni. Dheweke eling menawa kabeh paringane Gusti mono kudu tansah disyukuri. Apik,\\nedi, lan endah tumraping sesawangan kadhang bisa ngganggu utawa mbilaheni.\\nAlon-alon, Merak mbubuti wulu sing wis kebacut kraket ing awake Kancil. Senajan ngrasakake\\nperih amarga sebagian kulite ana sing katut thethel, Kancil mung mringis-mringis karo ngempet\\nlara. Ora sambat. Ndhadha tumindake kang salah merga mung nuruti karepe dhewe, tanpa\\nmetung tuna lan bathine.\\n\\n\\n '"
            ],
            "application/vnd.google.colaboratory.intrinsic+json": {
              "type": "string"
            }
          },
          "metadata": {},
          "execution_count": 71
        }
      ],
      "source": [
        "# Part 1. Loading the text and performing some cleanup!\n",
        "# our data file contaning \"Alice in Wonderland\"\n",
        "filename = \"data4.txt\"\n",
        "\n",
        "# opening the file\n",
        "with open(filename, encoding='utf-8-sig') as f:\n",
        "    text = f.read()\n",
        "\n",
        "# if you wish to read text beforehand, uncomment:\n",
        "# text\n",
        "\n",
        "# Part 2. Removing text before and after the main stories\n",
        "start = text.find(\"CHAPTER I\\n\\n                      Down the Rabbit-Hole\\n\\n\\n\")\n",
        "end = text.find(\"\\n\\n                             THE END\")\n",
        "text = text[start:end]\n",
        "\n",
        "# Printing out the result:\n",
        "text"
      ]
    },
    {
      "cell_type": "code",
      "execution_count": null,
      "metadata": {
        "colab": {
          "base_uri": "https://localhost:8080/"
        },
        "id": "EI32K83ic3iZ",
        "outputId": "a8ee3833-7beb-41c4-c0bc-e2a7730a7930"
      },
      "outputs": [
        {
          "output_type": "stream",
          "name": "stdout",
          "text": [
            "5520\n"
          ]
        }
      ],
      "source": [
        "print(len(text))"
      ]
    },
    {
      "cell_type": "code",
      "execution_count": null,
      "metadata": {
        "id": "pvwtl_EFc5hS"
      },
      "outputs": [],
      "source": [
        "# text"
      ]
    },
    {
      "cell_type": "code",
      "execution_count": null,
      "metadata": {
        "colab": {
          "base_uri": "https://localhost:8080/",
          "height": 227
        },
        "id": "lnTYXyB5c8ft",
        "outputId": "f12a6cb8-7871-4109-e72f-09ca5019909c"
      },
      "outputs": [
        {
          "output_type": "execute_result",
          "data": {
            "text/plain": [
              "' ~ ~ ~ ~ ~ ~ ~ ~ ~ ~ ~ ~ ~ ~ ~ ~ ~ ~ ~ ~ chapter i . down the rabbit - hole . chapter i . down the rabbit - hole . kancil lan merak . merak pancen seneng macak . mula tansah nengsemake . wulune katon edi , gawe resep kang padha nyawang . mula ora sithik tangga - teparo padha mara nyang omahe merak saperlu sinau ngadi busana lan ngadi salira . “aku pengin supaya bisa nduweni sandhangan wulu kaya kowe , rak , ” ujare kancil marang merak . “sandhangan wulu kang tememplek ing awakku iki paringane gusti kang akarya jagad . aku mung tinanggenah ngrumat lan njaga supaya tetep katon endah , ” wangsulane merak kanthi sareh . “anggonku seneng dandan lan ngupakara kaendahan iki mung wujud rasa syukurku marang gusti ! ” bacute tanpa linandhesan rasa umuk . “supaya wuluku bisa dadi kaya wulumu , piye carane ? ” pitakone kancil . “tangeh lamun , cil ! aku - kowe ki mung saderma nglakoni . apa kang dadi peparinganing pangeran kudu tinampa kanthi ati segara , ” wangsulane merak . “karo maneh kabeh sing tememplek ana saranduning badan iki , mesthi piguna marang awake dhewe . kang ana ing aku ora durung mesthi ana ing kowe , semono uga kosok baline , cil . wulu soklatmu kuwi mesthi piguna tumrapmu ! ” . nanging kancil sajak wingi nyawang kaendahan wulune merak . “piguna apa ? ” sawise megeng napas sawetara banjur nggrundel , “senajan piguna , nyatane wuluku letheg ! aku luwih bungah yen wuluku bisa kaya wulumu ! saben kewan ora sebah nyawang ! ”“kuwi rak mung saka panggraitamu dhewe . nanging ora kok , cil ! ” sahute merak . “sebab saben kewan ginaris dhewe - dhewe ! uga bab wulu ! wulu - wuluku kaya ngene , wulu - wulumu kaya ngono , wulune macan , wulune gajah , lan sato kewan liyane ora ana sing padha ! ” . senajan akeh - akeh merak anggone ngandhani , nanging ora bisa mbendung pepenginane kancil nduweni wulu kaya wulu merak . “sakarepmu anggonmu kandha , rak ! mung aku njaluk tulung supaya aku bisa nduweni wulu kaya kowe ! ” kandhane kancil setengah meksa . merak gedheg - gedheg gumun karo kekarepane kancil . “saupama bisa , terus mengko kowe dadi kewan apa ? ” pitakone merak . “kewan apa wae terserah sing arep ngarani ! mung kira - kira bisa ta , rak ? ” pitakone kancil ngoyak , ora sabar . “bisa wae , nanging mung imitasi ! pasangan ! ”“ora masalah ! ” kancil bungah . “ndang dipasang ! ” panjaluke kesusu . “ya sabar , cil ! aku kudu nglumpukake bodholane wuluku lan wulu - wulune wargaku . ” “terus kapan ? ”“udakara rong mingguan . ”“tak tunggu , rak , ujare kancil banjur nerusake lakune . merak mung nyawang kanthi mesem , “cil , kancil . yen duwe kekarepan kok ngudung , tanpa metung tuna lan bathine . kudu tak udaneni kekarepane , ngiras kanggo menehi piwulang marang dheweke . ”tekan dina sing dijanjekake , esuk uthuk - uthuk kancil wis tekan omahe merak . “piye , rak ? iki wis rong minggu ! ” “beres ! ” jawabe merak karo nata wulu - wulu sing wis diklumpukake , “gilo ! wulu - wulu wis mlumpuk , malah wis dakdhewek - dhewekake ! wulu awak , wulu swiwi , wulu buntut , aku uga wis golek tlutuh wit karet barang minangka kanggo nemplekake ing badanmu ! ”“ wis gek ndang dipasang nyang awakku ! ” ujare kancil karo lungguh dhingklik sacedhake merak . merak banjur ngoser - oseri kabeh kulite kancil nganggo tlutuh karet . bareng kawawas . wis ora ana sing keri , baka siji merak nemplekake wulu - wulu nut karo kebutuhane . wulu gulu ditemplekake ing gulu , wulu awak ing awak , wulu sikil ing sikil , dene wulu buntut uga dipasang ing buntute kancil . sedina natas , kabeh wulu wis kapasang ing kulite kancil . “rampung , cil , ” ujare merak mesem . “kae ana pengilon , ndang ngiloa ! ”kancil banjur ngilo . weruh kahanan awake , dheweke mongkog , “iki sing dakkarepake ! ” celathune . “aku bakal dadi salah sijining kewan kang paling endah ! ”“bener kandhamu , cil . tur ora ana sing madhani ! ” merak mbombong . “mung aja nganti kaendahan mau malah ngreridhu lakumu , ” bacute ngelingake . “ngreridhu piye to ? wong apike kaya ngene kok ngreridhu . \" lho , wulu wulu kuwi mung templekan . cetha bakal ngebot - eboti awakmu ! ” kancil ora nggagas , malah gage pamitan . wis , rak . aku pamit ! lan nedha nrima awit saka kabecikanmu , aku selak pengin mamerke kahananing awakku saiki ! ”“sing ati - ati cil , ” kandhane merak karo nguntapake kancil metu saka omahe . metu saka platarane merak , kancil mlaku lon - lonan . bokonge digidal - gidulake , pamrihe supaya bisa mamerake wulune kang apik tur edi . saben ketemu sato , kancil tansah mesem karo aruh - aruh sombong . dene sing diaruhi uga genti mesem , mung eseme esem geli . geli amarga weruh kahanan kang ora lumrah . nanging tumrap kancil esem mau tinampa beda , “kabeh kewan padha kesengsem lan kepincut karo aku , ” ujare jroning ati . nanging sengsem , edi , lan endah mau ora suwe . bareng tlutuh karet mau garing , kulite kancil dadi kaku nyekengkeng . akibate sikil , gulu , lan buntute angel diobah - obahake . kancil mung bisa njegreg . ngececer , ora bisa lumaku . “tulung ! tulung ! tuluuung ! tuluuuung . . ! ” pambengoke sabisa - bisane . “ana apa to cil ? ” pitakone merak krungu pambengoke kancil . “gage tulungana aku , . saranduning badanku angel diobahake ! ”“kabeh wulu sing nemplek ing awakmu kudu dicopot kabeh , kowe gelem ? ”“ gelem rak ! ” ujare kancil nglenggana marang apa sing wis dilakoni . dheweke eling menawa kabeh paringane gusti mono kudu tansah disyukuri . apik , edi , lan endah tumraping sesawangan kadhang bisa ngganggu utawa mbilaheni . alon - alon , merak mbubuti wulu sing wis kebacut kraket ing awake kancil . senajan ngrasakake perih amarga sebagian kulite ana sing katut thethel , kancil mung mringis - mringis karo ngempet lara . ora sambat . ndhadha tumindake kang salah merga mung nuruti karepe dhewe , tanpa metung tuna lan bathine . '"
            ],
            "application/vnd.google.colaboratory.intrinsic+json": {
              "type": "string"
            }
          },
          "metadata": {},
          "execution_count": 73
        }
      ],
      "source": [
        "# Step 3. Separating every chapter:\n",
        "seq_length = 20\n",
        "start_story = '~ ' * seq_length\n",
        "# adding the first chapter name back:\n",
        "text = start_story + text\n",
        "\n",
        "# Step 4. lowering the case\n",
        "text = text.lower()\n",
        "# separating every chapter with distinguished symbols for a better training\n",
        "text = text.replace('\\n\\n\\n\\n', start_story)\n",
        "text = text.replace('\\n', ' ')\n",
        "text = re.sub('  +', '. ', text).strip()\n",
        "text = text.replace('..', '.')\n",
        "\n",
        "text = re.sub('([!\"#$%&()*+,-./:;<=>?@[\\]^_`{|}~])', r' \\1 ', text)\n",
        "text = re.sub('\\s{2,}', ' ', text)\n",
        "\n",
        "text"
      ]
    },
    {
      "cell_type": "code",
      "execution_count": null,
      "metadata": {
        "id": "g4N1pnOvc_bM"
      },
      "outputs": [],
      "source": []
    },
    {
      "cell_type": "code",
      "execution_count": null,
      "metadata": {
        "colab": {
          "base_uri": "https://localhost:8080/",
          "height": 244
        },
        "id": "mdy5K2gLdBmO",
        "outputId": "30a9e860-ba6d-4192-db79-63b10f0168da"
      },
      "outputs": [
        {
          "output_type": "stream",
          "name": "stdout",
          "text": [
            "5780\n"
          ]
        },
        {
          "output_type": "execute_result",
          "data": {
            "text/plain": [
              "' ~ ~ ~ ~ ~ ~ ~ ~ ~ ~ ~ ~ ~ ~ ~ ~ ~ ~ ~ ~ chapter i . down the rabbit - hole . chapter i . down the rabbit - hole . kancil lan merak . merak pancen seneng macak . mula tansah nengsemake . wulune katon edi , gawe resep kang padha nyawang . mula ora sithik tangga - teparo padha mara nyang omahe merak saperlu sinau ngadi busana lan ngadi salira . “aku pengin supaya bisa nduweni sandhangan wulu kaya kowe , rak , ” ujare kancil marang merak . “sandhangan wulu kang tememplek ing awakku iki paringane gusti kang akarya jagad . aku mung tinanggenah ngrumat lan njaga supaya tetep katon endah , ” wangsulane merak kanthi sareh . “anggonku seneng dandan lan ngupakara kaendahan iki mung wujud rasa syukurku marang gusti ! ” bacute tanpa linandhesan rasa umuk . “supaya wuluku bisa dadi kaya wulumu , piye carane ? ” pitakone kancil . “tangeh lamun , cil ! aku - kowe ki mung saderma nglakoni . apa kang dadi peparinganing pangeran kudu tinampa kanthi ati segara , ” wangsulane merak . “karo maneh kabeh sing tememplek ana saranduning badan iki , mesthi piguna marang awake dhewe . kang ana ing aku ora durung mesthi ana ing kowe , semono uga kosok baline , cil . wulu soklatmu kuwi mesthi piguna tumrapmu ! ” . nanging kancil sajak wingi nyawang kaendahan wulune merak . “piguna apa ? ” sawise megeng napas sawetara banjur nggrundel , “senajan piguna , nyatane wuluku letheg ! aku luwih bungah yen wuluku bisa kaya wulumu ! saben kewan ora sebah nyawang ! ”“kuwi rak mung saka panggraitamu dhewe . nanging ora kok , cil ! ” sahute merak . “sebab saben kewan ginaris dhewe - dhewe ! uga bab wulu ! wulu - wuluku kaya ngene , wulu - wulumu kaya ngono , wulune macan , wulune gajah , lan sato kewan liyane ora ana sing padha ! ” . senajan akeh - akeh merak anggone ngandhani , nanging ora bisa mbendung pepenginane kancil nduweni wulu kaya wulu merak . “sakarepmu anggonmu kandha , rak ! mung aku njaluk tulung supaya aku bisa nduweni wulu kaya kowe ! ” kandhane kancil setengah meksa . merak gedheg - gedheg gumun karo kekarepane kancil . “saupama bisa , terus mengko kowe dadi kewan apa ? ” pitakone merak . “kewan apa wae terserah sing arep ngarani ! mung kira - kira bisa ta , rak ? ” pitakone kancil ngoyak , ora sabar . “bisa wae , nanging mung imitasi ! pasangan ! ”“ora masalah ! ” kancil bungah . “ndang dipasang ! ” panjaluke kesusu . “ya sabar , cil ! aku kudu nglumpukake bodholane wuluku lan wulu - wulune wargaku . ” “terus kapan ? ”“udakara rong mingguan . ”“tak tunggu , rak , ujare kancil banjur nerusake lakune . merak mung nyawang kanthi mesem , “cil , kancil . yen duwe kekarepan kok ngudung , tanpa metung tuna lan bathine . kudu tak udaneni kekarepane , ngiras kanggo menehi piwulang marang dheweke . ”tekan dina sing dijanjekake , esuk uthuk - uthuk kancil wis tekan omahe merak . “piye , rak ? iki wis rong minggu ! ” “beres ! ” jawabe merak karo nata wulu - wulu sing wis diklumpukake , “gilo ! wulu - wulu wis mlumpuk , malah wis dakdhewek - dhewekake ! wulu awak , wulu swiwi , wulu buntut , aku uga wis golek tlutuh wit karet barang minangka kanggo nemplekake ing badanmu ! ”“ wis gek ndang dipasang nyang awakku ! ” ujare kancil karo lungguh dhingklik sacedhake merak . merak banjur ngoser - oseri kabeh kulite kancil nganggo tlutuh karet . bareng kawawas . wis ora ana sing keri , baka siji merak nemplekake wulu - wulu nut karo kebutuhane . wulu gulu ditemplekake ing gulu , wulu awak ing awak , wulu sikil ing sikil , dene wulu buntut uga dipasang ing buntute kancil . sedina natas , kabeh wulu wis kapasang ing kulite kancil . “rampung , cil , ” ujare merak mesem . “kae ana pengilon , ndang ngiloa ! ”kancil banjur ngilo . weruh kahanan awake , dheweke mongkog , “iki sing dakkarepake ! ” celathune . “aku bakal dadi salah sijining kewan kang paling endah ! ”“bener kandhamu , cil . tur ora ana sing madhani ! ” merak mbombong . “mung aja nganti kaendahan mau malah ngreridhu lakumu , ” bacute ngelingake . “ngreridhu piye to ? wong apike kaya ngene kok ngreridhu . \" lho , wulu wulu kuwi mung templekan . cetha bakal ngebot - eboti awakmu ! ” kancil ora nggagas , malah gage pamitan . wis , rak . aku pamit ! lan nedha nrima awit saka kabecikanmu , aku selak pengin mamerke kahananing awakku saiki ! ”“sing ati - ati cil , ” kandhane merak karo nguntapake kancil metu saka omahe . metu saka platarane merak , kancil mlaku lon - lonan . bokonge digidal - gidulake , pamrihe supaya bisa mamerake wulune kang apik tur edi . saben ketemu sato , kancil tansah mesem karo aruh - aruh sombong . dene sing diaruhi uga genti mesem , mung eseme esem geli . geli amarga weruh kahanan kang ora lumrah . nanging tumrap kancil esem mau tinampa beda , “kabeh kewan padha kesengsem lan kepincut karo aku , ” ujare jroning ati . nanging sengsem , edi , lan endah mau ora suwe . bareng tlutuh karet mau garing , kulite kancil dadi kaku nyekengkeng . akibate sikil , gulu , lan buntute angel diobah - obahake . kancil mung bisa njegreg . ngececer , ora bisa lumaku . “tulung ! tulung ! tuluuung ! tuluuuung . . ! ” pambengoke sabisa - bisane . “ana apa to cil ? ” pitakone merak krungu pambengoke kancil . “gage tulungana aku , . saranduning badanku angel diobahake ! ”“kabeh wulu sing nemplek ing awakmu kudu dicopot kabeh , kowe gelem ? ”“ gelem rak ! ” ujare kancil nglenggana marang apa sing wis dilakoni . dheweke eling menawa kabeh paringane gusti mono kudu tansah disyukuri . apik , edi , lan endah tumraping sesawangan kadhang bisa ngganggu utawa mbilaheni . alon - alon , merak mbubuti wulu sing wis kebacut kraket ing awake kancil . senajan ngrasakake perih amarga sebagian kulite ana sing katut thethel , kancil mung mringis - mringis karo ngempet lara . ora sambat . ndhadha tumindake kang salah merga mung nuruti karepe dhewe , tanpa metung tuna lan bathine . '"
            ],
            "application/vnd.google.colaboratory.intrinsic+json": {
              "type": "string"
            }
          },
          "metadata": {},
          "execution_count": 74
        }
      ],
      "source": [
        "print(len(text))\n",
        "text"
      ]
    },
    {
      "cell_type": "code",
      "execution_count": null,
      "metadata": {
        "colab": {
          "base_uri": "https://localhost:8080/"
        },
        "id": "SulYA5M6dEUl",
        "outputId": "dcd9bf03-800b-47dc-b136-23f31f5be1d8"
      },
      "outputs": [
        {
          "output_type": "stream",
          "name": "stdout",
          "text": [
            "Number of tokenized words: 416\n",
            "{'.': 1, ',': 2, '!': 3, 'wulu': 4, '”': 5, 'kancil': 6, '-': 7, 'merak': 8, '~': 9, 'ora': 10, 'lan': 11, 'mung': 12, 'sing': 13, 'aku': 14, 'wis': 15, 'bisa': 16, 'ing': 17, 'kang': 18, '?': 19, 'kaya': 20, 'rak': 21, 'cil': 22, 'ana': 23, 'karo': 24, 'wulune': 25, 'kowe': 26, 'ujare': 27, 'apa': 28, 'nanging': 29, 'kewan': 30, 'marang': 31, 'wuluku': 32, 'dadi': 33, 'kudu': 34, 'kabeh': 35, 'dhewe': 36, 'uga': 37, 'edi': 38, 'padha': 39, 'nyawang': 40, 'supaya': 41, 'iki': 42, 'endah': 43, 'pitakone': 44, 'ati': 45, 'banjur': 46, 'saka': 47, 'mesem': 48, 'kulite': 49, 'mau': 50, 'tansah': 51, 'omahe': 52, 'nduweni': 53, 'awakku': 54, 'gusti': 55, 'kanthi': 56, 'kaendahan': 57, 'tanpa': 58, 'wulumu': 59, 'mesthi': 60, 'piguna': 61, 'awake': 62, 'saben': 63, 'kok': 64, 'dipasang': 65, 'dheweke': 66, 'malah': 67, 'awak': 68, 'tlutuh': 69, 'karet': 70, 'gulu': 71, 'sikil': 72, 'chapter': 73, 'i': 74, 'down': 75, 'the': 76, 'rabbit': 77, 'hole': 78, 'seneng': 79, 'mula': 80, 'katon': 81, 'nyang': 82, 'ngadi': 83, '“aku': 84, 'pengin': 85, 'tememplek': 86, 'paringane': 87, 'wangsulane': 88, 'rasa': 89, 'bacute': 90, 'piye': 91, 'tinampa': 92, 'saranduning': 93, 'kuwi': 94, 'bungah': 95, 'yen': 96, 'ngene': 97, 'sato': 98, 'senajan': 99, 'akeh': 100, 'tulung': 101, 'kandhane': 102, 'gedheg': 103, 'kekarepane': 104, 'wae': 105, 'kira': 106, 'sabar': 107, 'rong': 108, 'metung': 109, 'tuna': 110, 'bathine': 111, 'kanggo': 112, 'uthuk': 113, 'buntut': 114, 'nemplekake': 115, '”“': 116, 'ndang': 117, 'bareng': 118, 'dene': 119, 'buntute': 120, 'weruh': 121, 'kahanan': 122, 'bakal': 123, 'salah': 124, 'tur': 125, 'ngreridhu': 126, 'to': 127, 'awakmu': 128, 'metu': 129, 'apik': 130, 'aruh': 131, 'esem': 132, 'geli': 133, 'amarga': 134, 'angel': 135, 'pambengoke': 136, 'gelem': 137, 'alon': 138, 'mringis': 139, 'pancen': 140, 'macak': 141, 'nengsemake': 142, 'gawe': 143, 'resep': 144, 'sithik': 145, 'tangga': 146, 'teparo': 147, 'mara': 148, 'saperlu': 149, 'sinau': 150, 'busana': 151, 'salira': 152, 'sandhangan': 153, '“sandhangan': 154, 'akarya': 155, 'jagad': 156, 'tinanggenah': 157, 'ngrumat': 158, 'njaga': 159, 'tetep': 160, 'sareh': 161, '“anggonku': 162, 'dandan': 163, 'ngupakara': 164, 'wujud': 165, 'syukurku': 166, 'linandhesan': 167, 'umuk': 168, '“supaya': 169, 'carane': 170, '“tangeh': 171, 'lamun': 172, 'ki': 173, 'saderma': 174, 'nglakoni': 175, 'peparinganing': 176, 'pangeran': 177, 'segara': 178, '“karo': 179, 'maneh': 180, 'badan': 181, 'durung': 182, 'semono': 183, 'kosok': 184, 'baline': 185, 'soklatmu': 186, 'tumrapmu': 187, 'sajak': 188, 'wingi': 189, '“piguna': 190, 'sawise': 191, 'megeng': 192, 'napas': 193, 'sawetara': 194, 'nggrundel': 195, '“senajan': 196, 'nyatane': 197, 'letheg': 198, 'luwih': 199, 'sebah': 200, '”“kuwi': 201, 'panggraitamu': 202, 'sahute': 203, '“sebab': 204, 'ginaris': 205, 'bab': 206, 'ngono': 207, 'macan': 208, 'gajah': 209, 'liyane': 210, 'anggone': 211, 'ngandhani': 212, 'mbendung': 213, 'pepenginane': 214, '“sakarepmu': 215, 'anggonmu': 216, 'kandha': 217, 'njaluk': 218, 'setengah': 219, 'meksa': 220, 'gumun': 221, '“saupama': 222, 'terus': 223, 'mengko': 224, '“kewan': 225, 'terserah': 226, 'arep': 227, 'ngarani': 228, 'ta': 229, 'ngoyak': 230, '“bisa': 231, 'imitasi': 232, 'pasangan': 233, '”“ora': 234, 'masalah': 235, '“ndang': 236, 'panjaluke': 237, 'kesusu': 238, '“ya': 239, 'nglumpukake': 240, 'bodholane': 241, 'wargaku': 242, '“terus': 243, 'kapan': 244, '”“udakara': 245, 'mingguan': 246, '”“tak': 247, 'tunggu': 248, 'nerusake': 249, 'lakune': 250, '“cil': 251, 'duwe': 252, 'kekarepan': 253, 'ngudung': 254, 'tak': 255, 'udaneni': 256, 'ngiras': 257, 'menehi': 258, 'piwulang': 259, '”tekan': 260, 'dina': 261, 'dijanjekake': 262, 'esuk': 263, 'tekan': 264, '“piye': 265, 'minggu': 266, '“beres': 267, 'jawabe': 268, 'nata': 269, 'diklumpukake': 270, '“gilo': 271, 'mlumpuk': 272, 'dakdhewek': 273, 'dhewekake': 274, 'swiwi': 275, 'golek': 276, 'wit': 277, 'barang': 278, 'minangka': 279, 'badanmu': 280, 'gek': 281, 'lungguh': 282, 'dhingklik': 283, 'sacedhake': 284, 'ngoser': 285, 'oseri': 286, 'nganggo': 287, 'kawawas': 288, 'keri': 289, 'baka': 290, 'siji': 291, 'nut': 292, 'kebutuhane': 293, 'ditemplekake': 294, 'sedina': 295, 'natas': 296, 'kapasang': 297, '“rampung': 298, '“kae': 299, 'pengilon': 300, 'ngiloa': 301, '”kancil': 302, 'ngilo': 303, 'mongkog': 304, '“iki': 305, 'dakkarepake': 306, 'celathune': 307, 'sijining': 308, 'paling': 309, '”“bener': 310, 'kandhamu': 311, 'madhani': 312, 'mbombong': 313, '“mung': 314, 'aja': 315, 'nganti': 316, 'lakumu': 317, 'ngelingake': 318, '“ngreridhu': 319, 'wong': 320, 'apike': 321, '\"': 322, 'lho': 323, 'templekan': 324, 'cetha': 325, 'ngebot': 326, 'eboti': 327, 'nggagas': 328, 'gage': 329, 'pamitan': 330, 'pamit': 331, 'nedha': 332, 'nrima': 333, 'awit': 334, 'kabecikanmu': 335, 'selak': 336, 'mamerke': 337, 'kahananing': 338, 'saiki': 339, '”“sing': 340, 'nguntapake': 341, 'platarane': 342, 'mlaku': 343, 'lon': 344, 'lonan': 345, 'bokonge': 346, 'digidal': 347, 'gidulake': 348, 'pamrihe': 349, 'mamerake': 350, 'ketemu': 351, 'sombong': 352, 'diaruhi': 353, 'genti': 354, 'eseme': 355, 'lumrah': 356, 'tumrap': 357, 'beda': 358, '“kabeh': 359, 'kesengsem': 360, 'kepincut': 361, 'jroning': 362, 'sengsem': 363, 'suwe': 364, 'garing': 365, 'kaku': 366, 'nyekengkeng': 367, 'akibate': 368, 'diobah': 369, 'obahake': 370, 'njegreg': 371, 'ngececer': 372, 'lumaku': 373, '“tulung': 374, 'tuluuung': 375, 'tuluuuung': 376, 'sabisa': 377, 'bisane': 378, '“ana': 379, 'krungu': 380, '“gage': 381, 'tulungana': 382, 'badanku': 383, 'diobahake': 384, '”“kabeh': 385, 'nemplek': 386, 'dicopot': 387, 'nglenggana': 388, 'dilakoni': 389, 'eling': 390, 'menawa': 391, 'mono': 392, 'disyukuri': 393, 'tumraping': 394, 'sesawangan': 395, 'kadhang': 396, 'ngganggu': 397, 'utawa': 398, 'mbilaheni': 399, 'mbubuti': 400, 'kebacut': 401, 'kraket': 402, 'ngrasakake': 403, 'perih': 404, 'sebagian': 405, 'katut': 406, 'thethel': 407, 'ngempet': 408, 'lara': 409, 'sambat': 410, 'ndhadha': 411, 'tumindake': 412, 'merga': 413, 'nuruti': 414, 'karepe': 415}\n",
            "[9, 9, 9, 9, 9, 9, 9, 9, 9, 9, 9, 9, 9, 9, 9, 9, 9, 9, 9, 9, 73, 74, 1, 75, 76, 77, 7, 78, 1, 73, 74, 1, 75, 76, 77, 7, 78, 1, 6, 11, 8, 1, 8, 140, 79, 141, 1, 80, 51, 142, 1, 25, 81, 38, 2, 143, 144, 18, 39, 40, 1, 80, 10, 145, 146, 7, 147, 39, 148, 82, 52, 8, 149, 150, 83, 151, 11, 83, 152, 1, 84, 85, 41, 16, 53, 153, 4, 20, 26, 2, 21, 2, 5, 27, 6, 31, 8, 1, 154, 4, 18, 86, 17, 54, 42, 87, 55, 18, 155, 156, 1, 14, 12, 157, 158, 11, 159, 41, 160, 81, 43, 2, 5, 88, 8, 56, 161, 1, 162, 79, 163, 11, 164, 57, 42, 12, 165, 89, 166, 31, 55, 3, 5, 90, 58, 167, 89, 168, 1, 169, 32, 16, 33, 20, 59, 2, 91, 170, 19, 5, 44, 6, 1, 171, 172, 2, 22, 3, 14, 7, 26, 173, 12, 174, 175, 1, 28, 18, 33, 176, 177, 34, 92, 56, 45, 178, 2, 5, 88, 8, 1, 179, 180, 35, 13, 86, 23, 93, 181, 42, 2, 60, 61, 31, 62, 36, 1, 18, 23, 17, 14, 10, 182, 60, 23, 17, 26, 2, 183, 37, 184, 185, 2, 22, 1, 4, 186, 94, 60, 61, 187, 3, 5, 1, 29, 6, 188, 189, 40, 57, 25, 8, 1, 190, 28, 19, 5, 191, 192, 193, 194, 46, 195, 2, 196, 61, 2, 197, 32, 198, 3, 14, 199, 95, 96, 32, 16, 20, 59, 3, 63, 30, 10, 200, 40, 3, 201, 21, 12, 47, 202, 36, 1, 29, 10, 64, 2, 22, 3, 5, 203, 8, 1, 204, 63, 30, 205, 36, 7, 36, 3, 37, 206, 4, 3, 4, 7, 32, 20, 97, 2, 4, 7, 59, 20, 207, 2, 25, 208, 2, 25, 209, 2, 11, 98, 30, 210, 10, 23, 13, 39, 3, 5, 1, 99, 100, 7, 100, 8, 211, 212, 2, 29, 10, 16, 213, 214, 6, 53, 4, 20, 4, 8, 1, 215, 216, 217, 2, 21, 3, 12, 14, 218, 101, 41, 14, 16, 53, 4, 20, 26, 3, 5, 102, 6, 219, 220, 1, 8, 103, 7, 103, 221, 24, 104, 6, 1, 222, 16, 2, 223, 224, 26, 33, 30, 28, 19, 5, 44, 8, 1, 225, 28, 105, 226, 13, 227, 228, 3, 12, 106, 7, 106, 16, 229, 2, 21, 19, 5, 44, 6, 230, 2, 10, 107, 1, 231, 105, 2, 29, 12, 232, 3, 233, 3, 234, 235, 3, 5, 6, 95, 1, 236, 65, 3, 5, 237, 238, 1, 239, 107, 2, 22, 3, 14, 34, 240, 241, 32, 11, 4, 7, 25, 242, 1, 5, 243, 244, 19, 245, 108, 246, 1, 247, 248, 2, 21, 2, 27, 6, 46, 249, 250, 1, 8, 12, 40, 56, 48, 2, 251, 2, 6, 1, 96, 252, 253, 64, 254, 2, 58, 109, 110, 11, 111, 1, 34, 255, 256, 104, 2, 257, 112, 258, 259, 31, 66, 1, 260, 261, 13, 262, 2, 263, 113, 7, 113, 6, 15, 264, 52, 8, 1, 265, 2, 21, 19, 42, 15, 108, 266, 3, 5, 267, 3, 5, 268, 8, 24, 269, 4, 7, 4, 13, 15, 270, 2, 271, 3, 4, 7, 4, 15, 272, 2, 67, 15, 273, 7, 274, 3, 4, 68, 2, 4, 275, 2, 4, 114, 2, 14, 37, 15, 276, 69, 277, 70, 278, 279, 112, 115, 17, 280, 3, 116, 15, 281, 117, 65, 82, 54, 3, 5, 27, 6, 24, 282, 283, 284, 8, 1, 8, 46, 285, 7, 286, 35, 49, 6, 287, 69, 70, 1, 118, 288, 1, 15, 10, 23, 13, 289, 2, 290, 291, 8, 115, 4, 7, 4, 292, 24, 293, 1, 4, 71, 294, 17, 71, 2, 4, 68, 17, 68, 2, 4, 72, 17, 72, 2, 119, 4, 114, 37, 65, 17, 120, 6, 1, 295, 296, 2, 35, 4, 15, 297, 17, 49, 6, 1, 298, 2, 22, 2, 5, 27, 8, 48, 1, 299, 23, 300, 2, 117, 301, 3, 302, 46, 303, 1, 121, 122, 62, 2, 66, 304, 2, 305, 13, 306, 3, 5, 307, 1, 84, 123, 33, 124, 308, 30, 18, 309, 43, 3, 310, 311, 2, 22, 1, 125, 10, 23, 13, 312, 3, 5, 8, 313, 1, 314, 315, 316, 57, 50, 67, 126, 317, 2, 5, 90, 318, 1, 319, 91, 127, 19, 320, 321, 20, 97, 64, 126, 1, 322, 323, 2, 4, 4, 94, 12, 324, 1, 325, 123, 326, 7, 327, 128, 3, 5, 6, 10, 328, 2, 67, 329, 330, 1, 15, 2, 21, 1, 14, 331, 3, 11, 332, 333, 334, 47, 335, 2, 14, 336, 85, 337, 338, 54, 339, 3, 340, 45, 7, 45, 22, 2, 5, 102, 8, 24, 341, 6, 129, 47, 52, 1, 129, 47, 342, 8, 2, 6, 343, 344, 7, 345, 1, 346, 347, 7, 348, 2, 349, 41, 16, 350, 25, 18, 130, 125, 38, 1, 63, 351, 98, 2, 6, 51, 48, 24, 131, 7, 131, 352, 1, 119, 13, 353, 37, 354, 48, 2, 12, 355, 132, 133, 1, 133, 134, 121, 122, 18, 10, 356, 1, 29, 357, 6, 132, 50, 92, 358, 2, 359, 30, 39, 360, 11, 361, 24, 14, 2, 5, 27, 362, 45, 1, 29, 363, 2, 38, 2, 11, 43, 50, 10, 364, 1, 118, 69, 70, 50, 365, 2, 49, 6, 33, 366, 367, 1, 368, 72, 2, 71, 2, 11, 120, 135, 369, 7, 370, 1, 6, 12, 16, 371, 1, 372, 2, 10, 16, 373, 1, 374, 3, 101, 3, 375, 3, 376, 1, 1, 3, 5, 136, 377, 7, 378, 1, 379, 28, 127, 22, 19, 5, 44, 8, 380, 136, 6, 1, 381, 382, 14, 2, 1, 93, 383, 135, 384, 3, 385, 4, 13, 386, 17, 128, 34, 387, 35, 2, 26, 137, 19, 116, 137, 21, 3, 5, 27, 6, 388, 31, 28, 13, 15, 389, 1, 66, 390, 391, 35, 87, 55, 392, 34, 51, 393, 1, 130, 2, 38, 2, 11, 43, 394, 395, 396, 16, 397, 398, 399, 1, 138, 7, 138, 2, 8, 400, 4, 13, 15, 401, 402, 17, 62, 6, 1, 99, 403, 404, 134, 405, 49, 23, 13, 406, 407, 2, 6, 12, 139, 7, 139, 24, 408, 409, 1, 10, 410, 1, 411, 412, 18, 124, 413, 12, 414, 415, 36, 2, 58, 109, 110, 11, 111, 1]\n"
          ]
        }
      ],
      "source": [
        "if token_type == 'word':\n",
        "    tokenizer = Tokenizer(char_level = False, filters = '')\n",
        "else:\n",
        "    tokenizer = Tokenizer(char_level = True, filters = '', lower = False)\n",
        "\n",
        "tokenizer.fit_on_texts([text])\n",
        "total_words = len(tokenizer.word_index) + 1\n",
        "token_list = tokenizer.texts_to_sequences([text])[0]\n",
        "\n",
        "# printing interesting quntities:\n",
        "print(f\"Number of tokenized words: {total_words}\")\n",
        "# the mapping dictionary between words and indices\n",
        "print(tokenizer.word_index)\n",
        "# text after tokenization\n",
        "print(token_list)"
      ]
    },
    {
      "cell_type": "markdown",
      "metadata": {
        "id": "zp4RIHWDdPbI"
      },
      "source": [
        "# Building our dataset\n",
        "\n",
        "### Our LSTM network will be trained to predict the next word in a sequence, given a sequence of words preceding this point.\n",
        "\n",
        "### The parameter of our training process (X) is a sequence length which we use for model training\n",
        "\n",
        "### While, the response variable (Y) for each sequence is the subsequent/next word. We use one-hot encoding into a vector of length 2656 (the number of distinct words in the vocabulary)"
      ]
    },
    {
      "cell_type": "code",
      "execution_count": null,
      "metadata": {
        "id": "xTQx3AHRyUwx"
      },
      "outputs": [],
      "source": []
    },
    {
      "cell_type": "code",
      "execution_count": null,
      "metadata": {
        "colab": {
          "base_uri": "https://localhost:8080/"
        },
        "id": "VDuxD9S6dMyG",
        "outputId": "f2f71604-c432-41fe-92f2-4aafabe8f4c3"
      },
      "outputs": [
        {
          "output_type": "stream",
          "name": "stdout",
          "text": [
            "Number of sequences: 1076 \n",
            "\n",
            "Inout shape: (1076, 20)\n",
            "Output shape: (1076, 416)\n"
          ]
        }
      ],
      "source": [
        "def generate_sequences(token_list, step):\n",
        "\n",
        "    X = []\n",
        "    y = []\n",
        "\n",
        "    for i in range(0, len(token_list) - seq_length, step):\n",
        "        X.append(token_list[i: i + seq_length])\n",
        "        y.append(token_list[i + seq_length])\n",
        "\n",
        "    # one-hot encoding, creating a categorical variable:\n",
        "    y = np_utils.to_categorical(y, num_classes = total_words)\n",
        "\n",
        "    num_seq = len(X)\n",
        "    print('Number of sequences:', num_seq, \"\\n\")\n",
        "\n",
        "    return X, y, num_seq\n",
        "\n",
        "step = 1\n",
        "seq_length = 20\n",
        "\n",
        "X, y, num_seq = generate_sequences(token_list, step)\n",
        "\n",
        "X = np.array(X)\n",
        "y = np.array(y)\n",
        "\n",
        "# printing output:\n",
        "print(f\"Inout shape: {X.shape}\")\n",
        "print(f\"Output shape: {y.shape}\")\n"
      ]
    },
    {
      "cell_type": "code",
      "execution_count": null,
      "metadata": {
        "colab": {
          "base_uri": "https://localhost:8080/"
        },
        "id": "ugSf_aSadaZl",
        "outputId": "abd6d6fd-8597-455e-9e8a-7151ec9a5561"
      },
      "outputs": [
        {
          "output_type": "stream",
          "name": "stdout",
          "text": [
            "1096\n",
            "1076\n"
          ]
        }
      ],
      "source": [
        "print(len(token_list))\n",
        "print(len(token_list) - seq_length)"
      ]
    },
    {
      "cell_type": "code",
      "execution_count": null,
      "metadata": {
        "colab": {
          "base_uri": "https://localhost:8080/"
        },
        "id": "-DaDe_7Edawa",
        "outputId": "b509ebd0-0360-4f17-a335-f82c62b388a3"
      },
      "outputs": [
        {
          "data": {
            "text/plain": [
              "(35564, 20)"
            ]
          },
          "execution_count": 18,
          "metadata": {},
          "output_type": "execute_result"
        }
      ],
      "source": []
    },
    {
      "cell_type": "code",
      "execution_count": null,
      "metadata": {
        "colab": {
          "base_uri": "https://localhost:8080/"
        },
        "id": "J8z7Gbz9ddUa",
        "outputId": "417d7044-702d-48e9-f94b-ef793934649b"
      },
      "outputs": [
        {
          "data": {
            "text/plain": [
              "(35564, 2656)"
            ]
          },
          "execution_count": 19,
          "metadata": {},
          "output_type": "execute_result"
        }
      ],
      "source": []
    },
    {
      "cell_type": "markdown",
      "metadata": {
        "id": "lrzAZ2HUdgq0"
      },
      "source": [
        "# [LSTM architecture](https://medium.datadriveninvestor.com/a-story-generator-using-lstm-inside-recurrent-neural-network-rnn-f823b295571d)"
      ]
    },
    {
      "cell_type": "markdown",
      "metadata": {
        "id": "z1IEPcvgdlku"
      },
      "source": [
        "## Define LSTM model"
      ]
    },
    {
      "cell_type": "code",
      "source": [
        "load_saved_model=False"
      ],
      "metadata": {
        "id": "B2LUoSWoLu7w"
      },
      "execution_count": null,
      "outputs": []
    },
    {
      "cell_type": "code",
      "execution_count": null,
      "metadata": {
        "id": "YCekXKKkdd7q"
      },
      "outputs": [],
      "source": [
        "if load_saved_model:\n",
        "    model = load_model('./saved_models/lr=0.001.h5')\n",
        "\n",
        "else:\n",
        "\n",
        "    n_units = 256\n",
        "    embedding_size = 100\n",
        "\n",
        "    text_in = Input(shape = (None,))\n",
        "    embedding = Embedding(total_words, embedding_size)\n",
        "    x = embedding(text_in)\n",
        "    x = LSTM(n_units)(x)\n",
        "    # x = Dropout(0.2)(x)\n",
        "    text_out = Dense(total_words, activation = 'softmax')(x)\n",
        "\n",
        "    model = Model(text_in, text_out)\n",
        "    learning_rate = 0.001\n",
        "    opti = RMSprop(learning_rate = learning_rate)\n",
        "    model.compile(loss='categorical_crossentropy', optimizer=opti)"
      ]
    },
    {
      "cell_type": "code",
      "execution_count": null,
      "metadata": {
        "colab": {
          "base_uri": "https://localhost:8080/"
        },
        "id": "d9eS1atldqaw",
        "outputId": "b0931179-89d4-4ead-f9aa-11feca3216ef"
      },
      "outputs": [
        {
          "output_type": "stream",
          "name": "stdout",
          "text": [
            "Model: \"model_2\"\n",
            "_________________________________________________________________\n",
            " Layer (type)                Output Shape              Param #   \n",
            "=================================================================\n",
            " input_3 (InputLayer)        [(None, None)]            0         \n",
            "                                                                 \n",
            " embedding_2 (Embedding)     (None, None, 100)         41600     \n",
            "                                                                 \n",
            " lstm_2 (LSTM)               (None, 256)               365568    \n",
            "                                                                 \n",
            " dense_2 (Dense)             (None, 416)               106912    \n",
            "                                                                 \n",
            "=================================================================\n",
            "Total params: 514,080\n",
            "Trainable params: 514,080\n",
            "Non-trainable params: 0\n",
            "_________________________________________________________________\n"
          ]
        }
      ],
      "source": [
        "model.summary()"
      ]
    },
    {
      "cell_type": "markdown",
      "metadata": {
        "id": "I0PFW9sydvLy"
      },
      "source": [
        "## Fitting the model"
      ]
    },
    {
      "cell_type": "code",
      "execution_count": null,
      "metadata": {
        "colab": {
          "base_uri": "https://localhost:8080/"
        },
        "id": "PAYq__25dtDR",
        "outputId": "32fd1398-a905-41d4-caca-5c3a4026cda2"
      },
      "outputs": [
        {
          "output_type": "stream",
          "name": "stdout",
          "text": [
            "34/34 [==============================] - 3s 76ms/step - loss: 5.3045\n"
          ]
        },
        {
          "output_type": "execute_result",
          "data": {
            "text/plain": [
              "<keras.callbacks.History at 0x7f32f15cd7d0>"
            ]
          },
          "metadata": {},
          "execution_count": 85
        }
      ],
      "source": [
        "\n",
        "epochs = 1\n",
        "batch_size = 32\n",
        "model.fit(X, y, epochs=epochs, batch_size=batch_size, shuffle = True)\n"
      ]
    },
    {
      "cell_type": "code",
      "execution_count": null,
      "metadata": {
        "colab": {
          "base_uri": "https://localhost:8080/"
        },
        "id": "NYvQD2asdxJ3",
        "outputId": "1a21f0b1-3653-4687-9214-6390f7a6b0e3"
      },
      "outputs": [
        {
          "output_type": "stream",
          "name": "stderr",
          "text": [
            "WARNING:absl:Found untraced functions such as lstm_cell_6_layer_call_fn, lstm_cell_6_layer_call_and_return_conditional_losses while saving (showing 2 of 2). These functions will not be directly callable after loading.\n"
          ]
        },
        {
          "output_type": "stream",
          "name": "stdout",
          "text": [
            "INFO:tensorflow:Assets written to: ./lr=0.001_tf/assets\n"
          ]
        },
        {
          "output_type": "stream",
          "name": "stderr",
          "text": [
            "INFO:tensorflow:Assets written to: ./lr=0.001_tf/assets\n",
            "WARNING:absl:<keras.layers.recurrent.LSTMCell object at 0x7f32efc47d90> has the same name 'LSTMCell' as a built-in Keras object. Consider renaming <class 'keras.layers.recurrent.LSTMCell'> to avoid naming conflicts when loading with `tf.keras.models.load_model`. If renaming is not possible, pass the object in the `custom_objects` parameter of the load function.\n"
          ]
        },
        {
          "output_type": "stream",
          "name": "stdout",
          "text": [
            "Model: \"model_2\"\n",
            "_________________________________________________________________\n",
            " Layer (type)                Output Shape              Param #   \n",
            "=================================================================\n",
            " input_3 (InputLayer)        [(None, None)]            0         \n",
            "                                                                 \n",
            " embedding_2 (Embedding)     (None, None, 100)         41600     \n",
            "                                                                 \n",
            " lstm_2 (LSTM)               (None, 256)               365568    \n",
            "                                                                 \n",
            " dense_2 (Dense)             (None, 416)               106912    \n",
            "                                                                 \n",
            "=================================================================\n",
            "Total params: 514,080\n",
            "Trainable params: 514,080\n",
            "Non-trainable params: 0\n",
            "_________________________________________________________________\n"
          ]
        }
      ],
      "source": [
        "\n",
        "# One way to save the model, in h5 format\n",
        "os.system(\"mkdir ./saved_models/\")\n",
        "\n",
        "# model = ...  # Get model (Sequential, Functional Model, or Model subclass)\n",
        "model.save(f'./saved_models/lr={learning_rate}.h5')\n",
        "\n",
        "if working_on_colab:\n",
        "    os.system(f\"cp -r ./saved_models/lr={learning_rate}.h5 {dir_to_drive_Colab}/\")\n",
        "\n",
        "\n",
        "# Another way to save the model, in TensorFlow format directly\n",
        "os.system(\"mkdir ./saved_models/\")\n",
        "# saving the model in tensorflow format\n",
        "model.save(f'./lr={learning_rate}_tf', save_format='tf')\n",
        "if working_on_colab:\n",
        "    os.system(f\"cp -r ./lr={learning_rate}_tf {dir_to_drive_Colab}/\")\n",
        "\n",
        "# loading the saved model\n",
        "loaded_model = load_model(f'./lr={learning_rate}_tf')\n",
        "\n",
        "# retraining the model if needed, etc. ...\n",
        "loaded_model.summary()\n"
      ]
    },
    {
      "cell_type": "code",
      "execution_count": null,
      "metadata": {
        "colab": {
          "base_uri": "https://localhost:8080/"
        },
        "id": "B_b04vthcwaB",
        "outputId": "5395f1b7-c63c-4533-a592-8b671e324562"
      },
      "outputs": [
        {
          "output_type": "stream",
          "name": "stdout",
          "text": [
            "Model: \"model_2\"\n",
            "_________________________________________________________________\n",
            " Layer (type)                Output Shape              Param #   \n",
            "=================================================================\n",
            " input_3 (InputLayer)        [(None, None)]            0         \n",
            "                                                                 \n",
            " embedding_2 (Embedding)     (None, None, 100)         41600     \n",
            "                                                                 \n",
            " lstm_2 (LSTM)               (None, 256)               365568    \n",
            "                                                                 \n",
            " dense_2 (Dense)             (None, 416)               106912    \n",
            "                                                                 \n",
            "=================================================================\n",
            "Total params: 514,080\n",
            "Trainable params: 514,080\n",
            "Non-trainable params: 0\n",
            "_________________________________________________________________\n"
          ]
        }
      ],
      "source": [
        "# creating the folder called saved_models\n",
        "os.system(\"mkdir ./saved_models/\")\n",
        "\n",
        "# model = ...  # Get model (Sequential, Functional Model, or Model subclass)\n",
        "# saving the model in .h5 format\n",
        "model.save(f'./saved_models/lr={learning_rate}.h5')\n",
        "\n",
        "# loading this model:\n",
        "new_model = load_model(f'./saved_models/lr={learning_rate}.h5')\n",
        "# checking the summary:\n",
        "new_model.summary()"
      ]
    },
    {
      "cell_type": "code",
      "execution_count": null,
      "metadata": {
        "id": "fU_yhFzTfoXR"
      },
      "outputs": [],
      "source": [
        "# from tensorflow import keras\n",
        "# model = keras.models.load_model('./')"
      ]
    },
    {
      "cell_type": "markdown",
      "metadata": {
        "id": "PbQ33Awsjk4r"
      },
      "source": [
        "# Generating text"
      ]
    },
    {
      "cell_type": "code",
      "execution_count": null,
      "metadata": {
        "id": "uA6r-9CHjRDn"
      },
      "outputs": [],
      "source": [
        "\n",
        "def sample_with_temp(preds, temperature=1.0):\n",
        "    # helper function to sample an index from a probability array\n",
        "    preds = np.asarray(preds).astype('float64')\n",
        "    preds = np.log(preds) / temperature\n",
        "    exp_preds = np.exp(preds)\n",
        "    preds = exp_preds / np.sum(exp_preds)\n",
        "    probas = np.random.multinomial(1, preds, 1)\n",
        "    return np.argmax(probas)\n",
        "\n",
        "\n",
        "\n",
        "def generate_text(seed_text, next_words, model, max_sequence_len, temp):\n",
        "    output_text = seed_text\n",
        "    seed_text = start_story + seed_text\n",
        "\n",
        "    for _ in range(next_words):\n",
        "        token_list = tokenizer.texts_to_sequences([seed_text])[0]\n",
        "        token_list = token_list[-max_sequence_len:]\n",
        "        token_list = np.reshape(token_list, (1, max_sequence_len))\n",
        "\n",
        "        probs = model.predict(token_list, verbose=0)[0]\n",
        "        y_class = sample_with_temp(probs, temperature = temp)\n",
        "\n",
        "        if y_class == 0:\n",
        "            output_word = ''\n",
        "        else:\n",
        "            output_word = tokenizer.index_word[y_class]\n",
        "\n",
        "        if output_word == \"~\":\n",
        "            break\n",
        "\n",
        "        if token_type == 'word':\n",
        "            output_text += output_word + \" \"\n",
        "            seed_text += output_word + \" \"\n",
        "        else:\n",
        "            output_text += output_word + \" \"\n",
        "            seed_text += output_word + \" \"\n",
        "\n",
        "    return output_text\n"
      ]
    },
    {
      "cell_type": "code",
      "execution_count": null,
      "metadata": {
        "colab": {
          "base_uri": "https://localhost:8080/"
        },
        "id": "zqsVo1Sfj4Z6",
        "outputId": "73623e73-d9a1-4948-b82f-fbd68f1604f5"
      },
      "outputs": [
        {
          "output_type": "stream",
          "name": "stdout",
          "text": [
            "Temp 0.2\n",
            "merak dandan, . . , , . , ” , . . . . , , . , , . . . . , , , . . . . . . . . . . , , , . . . . . , , . wulu . , . , . ! , . . , , , . . . . . , . , , . , , . , . . . . . . , . , . . . . , . . . , , . , . . . , . merak . , . , . . . . . , - , kancil . , . , . . . . . , . , . , . , . . . . . . , . , . . . , . . . . . . . , , . , . . . , . . , . . , . . . . , . , . . . . . . . . . . ! . , . , , . . , . , . , . . . . . , . . , . , . . ing , , . , , , . . . , , . . . , , . . , . . . . , . , ” . , , . . . , . , , , . . . . . , . . . . , , . , . , . . , . , , . . , , , . . , . kancil , . . . , . . . , , . . . . . , . . . . . . , , . . , . , , . , . , . . . . . , , . . . , . , . . , , , , , , , . , . . . . , , . , , . . . . . . . . . . , . , . , , , . . , . , . , . . , . . . . . . , . . . . , . , . , . . , , , . . . , . . , . , . . . . . . . . . . . . . . . ! . , , . . . . . , . . . . , . , . , . . . , . . . . . . . . . , . , . , . . , . ! . . . . . , . . . . , . , , , . , . . . . , . . kancil . . , . . , , . , . , . , , . , , , . . . . , , , , . , . . , , , . . . . , ! . wulu . , . . . , , . . . , . , . , , , . . , , , . . , . . . , , . . , . , . . . , , , , . . . . . . . . , . . , , . , . . , . . . , . . , . . . , . , . , . . , . . , , , ! . , - . . . . . . . . . , , . , . , , , . . . . , . . . . , . . . . . . , , . . , . . , . . , , , , , . . , . . , , , . . . , , . . . . , , , , , . , . , . . . . . . , . . . . . , . . . . , . , . . , . . . . . . . . , . , , , , . , , , . . . . . , . . . . , , , . . . . - , . . . . , , . . . , , . , . . . , , , . , . . . . , . . . . , . . , . , , . . . . . . . . . , . . . , . . kancil . , , , . . . . . , , , , . . , . . . kancil . , , kancil , , , . . . , . , . , . , . . , , . . . . . , . . . . . . . . , . . , . . . . . , , , . , . . , , . kancil . . . . . , . . , . . kancil . . . . . , . , , , . . . , . . , . . , . . . . . . . . . . . . . , . . , , . . . , . . . . , , , . . . . . . . . . . , . . . , . . . , . . , , , . . . , . . . , . . . , . , , . , . . . . . . . kancil , . . , . , . . ! . , . , . , . \n",
            "Temp 0.33\n",
            "merak dandan, , - , , ” . wulu . . , , ! . . . , , , . , . , . . . . , , kancil , , , , , , . ! ” . , . , . . , , , , . . . , kancil merak merak . . , , , lan , . , , - . . , . , . , . . , , , , , , . . . . wulu ! . . . ! . , . , . ! , . ! . . , , , ! , , . . . . lan . . . , , , . , , , , - , . . ! , , . . . kancil . ! . , . , . , , . . . , . , , , . , , ! . , , , , . , , , , . . . . , , , , . . . . . . . . . . . . . , . - , , . , . ! . . . , . , . . . . - . , aku . , . karo ! . . . . , ! . , , , , . , , , , , . . , . . ora , . . , . . - ! . . , . , . merak . , , . . . . , , wulu , ! . . , . . . . . . wulu . , , . . , . . , . . , , . , . . , wulu . . , , . , wulu , wis kaya . . , , . , , . , ! . . . . , kancil . kancil . merak , , . ” . ! . , , ! , merak . , . , . . . , . . . . . , . , . , , . merak , , . . . , . , . . ” . , , , , . . , . , , . , . ora . , . . . . . , , . . , , , - . , . . . . . , . ! bisa lan , , , . , ! ! , , . . . wulu ” . . . , . . , , . . . . . , . , . . , , . , , . . ! . kancil ” , , . , . , . merak ! , . . , . . . , kancil . ! , , . . , , . . . . , , . . . , . . . , . kancil , , . . kancil ! , . , . . sing . , , . , . , kancil . . . , kancil . . . , . , . . . . . , , . . . . , , . wulu . . . . . . , , . . . . . . ! . , . . , , , . . . ! . , . ” ! . . merak . aku ” . , , , . ” . - . . . . . . , , . ” . . . ! , . . . . , . . . . . . . . . , ! , . . . . karet . . , ! . , , , . . , , . . . . , . , ” . , . ! , , . . . ! . ! . , . . , , kancil . , , , . . , . . ! . . . . , . , - , . . . . , , ! , , . . , , . . . merak , . wulu , , . , kancil , , ” , . , , , . . kancil angel , . , . . . . . . . . , . . , . . . - . . , , , , , . , . , , . , . . . . , , . . , , . . ! . , ! ! . , , . , . . . . . . , . . , kancil , . . , . , , , . . ! . , , . . , . . , kancil . , , . . . . , . , , , . . , , . . . . , , . . . . ! kancil ! , , . , . , . . , , . . , . . sing . . ana . . . . , , , , , , , - , . . . . . ! . . , . . . , . . . , rak , . kancil . . , edi . , , ” . ! , . . . , , . . kancil ! , , . . . . . kancil . , , . ! . . . tansah . . . , . , , . , , kancil . . . . kancil . . ” . , . , . , . . lan , , , kancil . , . . , , , , . ! . . , , , . . . , . . , , . , , , , , , , wulu . . , . , . , . - . . \n",
            "Temp 0.5\n",
            "merak dandanmung kowe . . , . . , . . , , merak . , , wulu . sing . ” kulite . , cil . - . merak . wulu . , , ” kancil . . . . . . wulu ” merak . . . . . . . gusti , , , rak , , , ! ana . ” kancil ” , , . . . wuluku cil . . merak . kang . wis kancil nduweni , , kancil , amarga sawetara , . . , , . , , wulu anggonmu . . endah , ! ana , , mung . kancil ” . . dipasang kancil . merak . , ! merak , , ! , , marang salah ! , ! ! , , . kancil . . . ora . kancil , dene . , wulu . , , . , . . nanging awakku . , merak ! . . , . wulu , - ! wulu , mlaku , . wulu , . , salah sing , . . ora kancil , bisa bisa ” ta , kaendahan , , ! . . . , rak . . rabbit wuluku uga kancil lan kancil , , kancil , , . . . . ngene “kabeh . , . . ? . . , . . , . , nemplekake ! ana , ! . kancil , . pitakone , . , kancil kancil “tangeh wulu . bungah ! - . ! , , . , , katon ora . amarga . . aku wis kancil piguna ” ” . . , wulune ! . . saka , . - kancil , . , kancil kandha ! merak , . . merak wulu merak kancil . . ” , . , . . - kancil . , barang , . , , , . , , ” . . , - ! sikil , . - ” merak . , ! . - , . . . . cil nedha ! . , ora . . . lan . , , ! . wulu , . - , nanging , . . . , merak . , , . . ” . kancil . . , tulung kancil , aku wulu . uga uga kancil . , merak , . kancil , kahanan ngene , , merak , , , , . , kaya . . . , , ” . . , ! ! aku kancil , . . . . . . , . . . , , kabeh . . . . kancil . kancil . tur . . . , . , . , - . wulu wis aku ! wulu ! , . aku . , , , . , mesem ! , kancil lan , , , . . , ! wis , . , tanpa wulu , ! . ngadi . . . , , wulu , , , kancil merak . , , ana sing endah kancil . . kancil . , ora tumindake - . ! . ! . , ! ” kancil , ! , kabeh . . . ! . ” ! . mung kancil . , , kancil platarane . , ! , , , ! aku ” . . . , ” , awakku , - . metu karo ora ” kancil ” . , kancil , ” ! . , bisa . , tansah merak , , endah dhingklik ! . ” . . , wulu - . ati , , . , ! ! kang sambat . wulu . . . wulu bakal ! . kancil - lan . sikil wulu , aja , lan ” merak . , kancil . lan , . . . . . ! ! . , - wulu . kancil wulu . , . . , kancil . , , , . . . , . , , . . , ” . wulu , , merak - , , , . bacute . . . kancil . , iki aku , , , wulu . , tumindake , . ” . ora wulu , , , - merak . . , . . wulu . , . kowe merak kancil . . kang kancil , , sikil ” , , lan kudu dadi . kancil . mung , , bisa . sing nggagas . wulu , kancil lan karo . . . . , . - . pitakone , . dhewe bisa ” marang ora , . , . , . , njaluk ngreridhu , . . . ! . . dadi ! piguna . wis mesem wulu ” . . . merak . , . wulu ! setengah . . merak saben kancil , , , . . . ! , , , ketemu merak , aku . , - ! . . , liyane . . aku . . merak . . , malah aku kancil , kancil - , kewan kancil , kancil , ora , . . uga . kancil kancil - , , . wulu kang , . kancil ! mbilaheni - . salah cil . , ” ” akeh , kancil - . , . , . ! , . , wulu - . kancil wulune . ” , kancil , . kancil . ! . - kancil kancil , , . . salah dhewe ” , saperlu ora - . , . , kancil , mung supaya . . ora wulu , nemplekake lan , ora . , , . . chapter . ” kancil , ” . buntute . dheweke . ! ! . wis , kancil . . . . . . merak kancil , . , , . ! kang , , , badanmu . . , , kancil . ! . sing , bisa mesem . , saka . . , . , , chapter aku , , . ing . - . - akeh . \n"
          ]
        }
      ],
      "source": [
        "seed_text = \"merak dandan\"\n",
        "gen_words = 1000\n",
        "\n",
        "print('Temp 0.2')\n",
        "print (generate_text(seed_text, gen_words, model, seq_length, temp = 0.2))\n",
        "print('Temp 0.33')\n",
        "print (generate_text(seed_text, gen_words, model, seq_length, temp = 0.33))\n",
        "print('Temp 0.5')\n",
        "print (generate_text(seed_text, gen_words, model, seq_length, temp = 0.5))\n"
      ]
    },
    {
      "cell_type": "code",
      "execution_count": null,
      "metadata": {
        "colab": {
          "base_uri": "https://localhost:8080/"
        },
        "id": "mBjgtibij4T9",
        "outputId": "62bf95f8-5d14-46b7-8a3f-349aa256478a"
      },
      "outputs": [
        {
          "output_type": "stream",
          "name": "stdout",
          "text": [
            "Temp 1.0\n",
            "merak dandanmetung kesusu ? ” ndang eboti merak anggone sing kandhane mung down saka dhewe banjur wargaku awak wulu apa imitasi mbendung obahake to mingguan badan bacute “ya , kowe sareh . , - dene kapasang aruh baka dicopot tangga sambat kuwi kancil ! kang “ana keri ! ngrasakake pasangan ing sikil “kabeh rak oseri pambengoke katon merak ! kanthi ujare wargaku lungguh setengah piguna udaneni buntute ” - esem - dina ngadi kesusu awit wingi ”tekan mesem lan wulu wulune banjur pengin . anggone aku ing tumindake karo chapter ” imitasi alon ngempet nerusake terus dadi ! kowe wulu kulite “piye lan ”“sing tulung tanpa kepincut ditemplekake kanthi wangsulane “sakarepmu lan nduweni wulune . lan bisa celathune \" lan amarga lonan pancen ! kaku buntute ngelingake ngarani akeh to diklumpukake , wuluku kira ngiloa mamerake sacedhake - mringis nyawang kanthi . . aku macan dakdhewek kancil natas merak utawa dandan - kanthi pambengoke . mau . ing ” saka kebacut ! chapter njegreg rasa anggone dina geli bungah ora kesusu banjur awake ing mesem dene sajak pamitan endah mesthi . wulune mau wulu wangsulane gumun angel jawabe wulu “ana sijining merak nguntapake kuwi ” kawawas ! ” kancil kapan eling panjaluke kancil marang mringis liyane lan bab . rak siji cetha platarane ketemu “sakarepmu banjur sato duwe “kabeh weruh ing wulu , . ! - merak nglumpukake , bacute ati kandha - , lan arep , aja ujare dilakoni maneh kancil kapasang linandhesan siji , . dina . apa duwe ”“bener anggonmu metu ! dhewekake nganti ujare merak saiki tuluuuung kewan i saranduning wong , garing wae “saupama ! sajak gelem ngudung sacedhake mung kanggo saranduning . nyawang gage ginaris lan carane dheweke ! bareng nemplek kowe lan pasangan celathune gage nyang bisa , ati merak - ” cil , banjur weruh mung esuk masalah . sing tuluuung down cetha pamit ngebot lan kang akeh kahananing karo busana dipasang ketemu ” , apa . aku gawe apa kandha senajan gelem marang tlutuh ngiloa kancil apa - kaya oseri dina sacedhake lungguh ? obahake akeh sing lamun ndang teparo . ” malah kancil metu wis sikil . pasangan tetep . . . karo merak kok apa kulite kahanan badanmu the “cil mau rak kaku bisa “kae sawise weruh - kesengsem ana ati . , “kae kaya ! gedheg saka “piguna eboti baline nuruti wingi dakdhewek seneng rak awakmu geli ? utawa bodholane , ngono ! kandhamu ndang lan saderma ”“tak duwe nyawang udaneni mesem siji digidal wulu pamitan kulite rak tak rasa wis bab . wulu tetep banjur ngreridhu liyane aku merak nglakoni tlutuh kancil nglenggana sing kesengsem - lan saranduning kowe rak ”“ karo , kebacut ! ” saben kancil tangga . sedina mara ”“ora , . wis lan dheweke wulu paling kulite mung tememplek ”“bener kebacut paling buntut pamrihe ngupakara sabar cetha eling ana “sakarepmu kuwi mesem uthuk “gage . . , anggone imitasi “ya ing “iki wulu kulite . supaya “bisa tuna ” terserah lakumu gedheg dheweke mbubuti awit kang , ora gidulake kancil awit ” pengilon buntute kang templekan ngiras . ! ” buntut ” ! nanging gulu tur kancil gulu . marang dhewe sajak ngiras piguna mung mamerke ”kancil macan apa uga . , ! to endah wis beda , , tansah bisane lan kahananing kewan tansah uthuk . aku kosok . merak ! tulung buntut banjur kancil malah wis cil sesawangan menehi resep - rak ngebot piguna ? sabar merak i kanthi bisa ! mongkog aku “supaya disyukuri merga nggagas ing platarane ” tumrap merak kandhane kancil cil mengko ginaris kancil dipasang tansah nata . . \" pancen sikil ” wis merak ” ujare nyawang kaendahan piguna saranduning malah akeh ! ana aku “aku . “tulung diobah ngandhani ”“ , suwe . ” sedina gajah diobahake merak tlutuh kancil , sebagian mung , ngene . wulu karo . wulu kewan ora mesem . nanging edi bokonge sabar umuk ngempet . mesthi paringane sombong banjur kudu wong karo . mringis kudu wis aku , lan ngudung wis omahe , pepenginane wit nata jroning nata dhewe bacute ”“ wis saiki ana wulu ngebot ati salah mengko metu , ngreridhu aruh mau mbilaheni kaya . nguntapake ngempet . sajak piwulang ! - ati wis aku merak dakdhewek cetha mbilaheni merak senajan ora gawe wis wuluku bokonge kancil ing lan lan kudu banjur . salira banjur peparinganing . bakal gusti cil mung ! nrima ngoyak ati nduweni ngempet wis pamitan , pamrihe , rabbit aja kaya tlutuh paling minggu kapan ginaris kang kancil ing , dakdhewek sawise omahe malah - aku wulu ” ing . lumrah kancil kulite salah dhewe “senajan , oseri mlumpuk sacedhake kang cil sikil “sakarepmu mau ” ati mara lakumu , lho . , ! lungguh nyawang ! tur “sakarepmu dhingklik angel wulumu “sebab kewan eling , wulune anggone wulune aku bakal dilakoni bisa kang awit ki rong . mlaku mlumpuk udaneni merak nemplek sato ” luwih kabeh kaya . ngempet nganti mesem , kaya mung ”“bener resep kaya panjaluke merak lan kudu nrima ana kancil duwe nggagas ” kira nedha kancil ! wuluku segara wulumu merak wulu “kewan obahake seneng ing piwulang “senajan mesthi mau kancil merak rasa . ing ? alon lara “sebab pamrihe badanmu , , sombong - mongkog kandha wulu gelem mlumpuk ginaris saranduning ginaris awit ora piguna . ”kancil resep cil . wulu saranduning ngrasakake gelem nyekengkeng ”kancil pengin . kancil karo , karet , kanggo merga . kancil bakal ki tlutuh rak “terus sing , iki gage merga . wis tuluuung ketemu sijining gusti . . ! merak gek esem lan mringis soklatmu bisa buntut pepenginane barang edi ! wulu mbilaheni suwe hole “sandhangan macak . bab - ngupakara kancil awak tuluuuung awit awak dene . , , ana wargaku . ta ujare eling . . karet omahe kaku bisane sebah nggrundel . kancil padha . . . . nyawang keri kancil tlutuh , kancil , apa mung ” arep sing awakku mesem kudu “iki . kancil salira mung \n"
          ]
        }
      ],
      "source": [
        "print('Temp 1.0')\n",
        "print (generate_text(seed_text, gen_words, model, seq_length, temp = 1))"
      ]
    },
    {
      "cell_type": "markdown",
      "metadata": {
        "id": "15OrkPW2j4Mr"
      },
      "source": [
        "# The end of this step-by-step guide for generating novel stories using Keras LSTM RNN architecture."
      ]
    },
    {
      "cell_type": "code",
      "execution_count": null,
      "metadata": {
        "id": "YLyeS8GW0drt"
      },
      "outputs": [],
      "source": []
    }
  ],
  "metadata": {
    "colab": {
      "provenance": [],
      "include_colab_link": true
    },
    "kernelspec": {
      "display_name": "Python 3",
      "language": "python",
      "name": "python3"
    },
    "language_info": {
      "codemirror_mode": {
        "name": "ipython",
        "version": 3
      },
      "file_extension": ".py",
      "mimetype": "text/x-python",
      "name": "python",
      "nbconvert_exporter": "python",
      "pygments_lexer": "ipython3",
      "version": "3.6.10"
    }
  },
  "nbformat": 4,
  "nbformat_minor": 0
}