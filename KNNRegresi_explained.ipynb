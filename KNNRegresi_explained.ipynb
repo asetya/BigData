{
  "nbformat": 4,
  "nbformat_minor": 0,
  "metadata": {
    "colab": {
      "name": "KNNRegresi_explained",
      "provenance": [],
      "authorship_tag": "ABX9TyO2nhC/0lDP5gabEC1R0fZp",
      "include_colab_link": true
    },
    "kernelspec": {
      "name": "python3",
      "display_name": "Python 3"
    }
  },
  "cells": [
    {
      "cell_type": "markdown",
      "metadata": {
        "id": "view-in-github",
        "colab_type": "text"
      },
      "source": [
        "<a href=\"https://colab.research.google.com/github/asetya/BigData/blob/master/KNNRegresi_explained.ipynb\" target=\"_parent\"><img src=\"https://colab.research.google.com/assets/colab-badge.svg\" alt=\"Open In Colab\"/></a>"
      ]
    },
    {
      "cell_type": "markdown",
      "metadata": {
        "id": "Ox2S4ouJb9c4"
      },
      "source": [
        "**KNN untuk permasalahan Regresi**\r\n",
        "\r\n",
        "sumber : https://www.tutorialspoint.com/machine_learning_with_python/machine_learning_with_python_knn_algorithm_finding_nearest_neighbors.htm\r\n",
        "\r\n",
        "\r\n",
        "\r\n",
        "import library"
      ]
    },
    {
      "cell_type": "code",
      "metadata": {
        "id": "6SpXK_NIcPZy"
      },
      "source": [
        "import numpy as np\r\n",
        "import pandas as pd"
      ],
      "execution_count": 2,
      "outputs": []
    },
    {
      "cell_type": "markdown",
      "metadata": {
        "id": "nodUUUQhcVAk"
      },
      "source": [
        "Dowload dataset \r\n",
        "\r\n"
      ]
    },
    {
      "cell_type": "code",
      "metadata": {
        "colab": {
          "base_uri": "https://localhost:8080/"
        },
        "id": "iKGgvbo-caps",
        "outputId": "13304e39-c894-4b1c-f674-4bfc81c12d55"
      },
      "source": [
        "url = \"https://archive.ics.uci.edu/ml/machine-learning-databases/concrete/slump/slump_test.data\"\r\n",
        "headernames = ['id', 'label', 'time', 'petal-width', 'Class']\r\n",
        "data = pd.read_csv(url)\r\n",
        "array = data.values\r\n",
        "X = array[:,1:10]\r\n",
        "Y = array[:,10]\r\n",
        "data.shape\r\n"
      ],
      "execution_count": 42,
      "outputs": [
        {
          "output_type": "execute_result",
          "data": {
            "text/plain": [
              "(103, 11)"
            ]
          },
          "metadata": {
            "tags": []
          },
          "execution_count": 42
        }
      ]
    },
    {
      "cell_type": "markdown",
      "metadata": {
        "id": "AmeY1GhCc4I-"
      },
      "source": [
        "tamplikan data, X dan y "
      ]
    },
    {
      "cell_type": "code",
      "metadata": {
        "colab": {
          "base_uri": "https://localhost:8080/",
          "height": 142
        },
        "id": "MssTCdDGdOxr",
        "outputId": "691ea573-edad-48a9-9dde-2f1b047e7705"
      },
      "source": [
        "data.head(3)"
      ],
      "execution_count": 40,
      "outputs": [
        {
          "output_type": "execute_result",
          "data": {
            "text/html": [
              "<div>\n",
              "<style scoped>\n",
              "    .dataframe tbody tr th:only-of-type {\n",
              "        vertical-align: middle;\n",
              "    }\n",
              "\n",
              "    .dataframe tbody tr th {\n",
              "        vertical-align: top;\n",
              "    }\n",
              "\n",
              "    .dataframe thead th {\n",
              "        text-align: right;\n",
              "    }\n",
              "</style>\n",
              "<table border=\"1\" class=\"dataframe\">\n",
              "  <thead>\n",
              "    <tr style=\"text-align: right;\">\n",
              "      <th></th>\n",
              "      <th>No</th>\n",
              "      <th>Cement</th>\n",
              "      <th>Slag</th>\n",
              "      <th>Fly ash</th>\n",
              "      <th>Water</th>\n",
              "      <th>SP</th>\n",
              "      <th>Coarse Aggr.</th>\n",
              "      <th>Fine Aggr.</th>\n",
              "      <th>SLUMP(cm)</th>\n",
              "      <th>FLOW(cm)</th>\n",
              "      <th>Compressive Strength (28-day)(Mpa)</th>\n",
              "    </tr>\n",
              "  </thead>\n",
              "  <tbody>\n",
              "    <tr>\n",
              "      <th>0</th>\n",
              "      <td>1</td>\n",
              "      <td>273.0</td>\n",
              "      <td>82.0</td>\n",
              "      <td>105.0</td>\n",
              "      <td>210.0</td>\n",
              "      <td>9.0</td>\n",
              "      <td>904.0</td>\n",
              "      <td>680.0</td>\n",
              "      <td>23.0</td>\n",
              "      <td>62.0</td>\n",
              "      <td>34.99</td>\n",
              "    </tr>\n",
              "    <tr>\n",
              "      <th>1</th>\n",
              "      <td>2</td>\n",
              "      <td>163.0</td>\n",
              "      <td>149.0</td>\n",
              "      <td>191.0</td>\n",
              "      <td>180.0</td>\n",
              "      <td>12.0</td>\n",
              "      <td>843.0</td>\n",
              "      <td>746.0</td>\n",
              "      <td>0.0</td>\n",
              "      <td>20.0</td>\n",
              "      <td>41.14</td>\n",
              "    </tr>\n",
              "    <tr>\n",
              "      <th>2</th>\n",
              "      <td>3</td>\n",
              "      <td>162.0</td>\n",
              "      <td>148.0</td>\n",
              "      <td>191.0</td>\n",
              "      <td>179.0</td>\n",
              "      <td>16.0</td>\n",
              "      <td>840.0</td>\n",
              "      <td>743.0</td>\n",
              "      <td>1.0</td>\n",
              "      <td>20.0</td>\n",
              "      <td>41.81</td>\n",
              "    </tr>\n",
              "  </tbody>\n",
              "</table>\n",
              "</div>"
            ],
            "text/plain": [
              "   No  Cement   Slag  ...  SLUMP(cm)  FLOW(cm)  Compressive Strength (28-day)(Mpa)\n",
              "0   1   273.0   82.0  ...       23.0      62.0                               34.99\n",
              "1   2   163.0  149.0  ...        0.0      20.0                               41.14\n",
              "2   3   162.0  148.0  ...        1.0      20.0                               41.81\n",
              "\n",
              "[3 rows x 11 columns]"
            ]
          },
          "metadata": {
            "tags": []
          },
          "execution_count": 40
        }
      ]
    },
    {
      "cell_type": "code",
      "metadata": {
        "colab": {
          "base_uri": "https://localhost:8080/"
        },
        "id": "jJmJDF8qc7zJ",
        "outputId": "57449756-ef2b-44e8-b376-6893143429df"
      },
      "source": [
        "X[0:9,:]"
      ],
      "execution_count": 43,
      "outputs": [
        {
          "output_type": "execute_result",
          "data": {
            "text/plain": [
              "array([[273. ,  82. , 105. , 210. ,   9. , 904. , 680. ,  23. ,  62. ],\n",
              "       [163. , 149. , 191. , 180. ,  12. , 843. , 746. ,   0. ,  20. ],\n",
              "       [162. , 148. , 191. , 179. ,  16. , 840. , 743. ,   1. ,  20. ],\n",
              "       [162. , 148. , 190. , 179. ,  19. , 838. , 741. ,   3. ,  21.5],\n",
              "       [154. , 112. , 144. , 220. ,  10. , 923. , 658. ,  20. ,  64. ],\n",
              "       [147. ,  89. , 115. , 202. ,   9. , 860. , 829. ,  23. ,  55. ],\n",
              "       [152. , 139. , 178. , 168. ,  18. , 944. , 695. ,   0. ,  20. ],\n",
              "       [145. ,   0. , 227. , 240. ,   6. , 750. , 853. ,  14.5,  58.5],\n",
              "       [152. ,   0. , 237. , 204. ,   6. , 785. , 892. ,  15.5,  51. ]])"
            ]
          },
          "metadata": {
            "tags": []
          },
          "execution_count": 43
        }
      ]
    },
    {
      "cell_type": "code",
      "metadata": {
        "colab": {
          "base_uri": "https://localhost:8080/"
        },
        "id": "09-6852IdDDP",
        "outputId": "67a02635-40d9-4fe4-8633-4fd8885c5002"
      },
      "source": [
        "Y[0:3]"
      ],
      "execution_count": 44,
      "outputs": [
        {
          "output_type": "execute_result",
          "data": {
            "text/plain": [
              "array([34.99, 41.14, 41.81])"
            ]
          },
          "metadata": {
            "tags": []
          },
          "execution_count": 44
        }
      ]
    },
    {
      "cell_type": "markdown",
      "metadata": {
        "id": "0EsSVrJNoLMJ"
      },
      "source": [
        "  Bagi data menjadi 60 % training dan 40% testing \r\n",
        "  "
      ]
    },
    {
      "cell_type": "code",
      "metadata": {
        "id": "2N355viZoR-T"
      },
      "source": [
        "from sklearn.model_selection import train_test_split\r\n",
        "X_train, X_test, y_train, y_test = train_test_split(X, Y, test_size = 0.40)"
      ],
      "execution_count": 35,
      "outputs": []
    },
    {
      "cell_type": "markdown",
      "metadata": {
        "id": "HcGDNXTaduJI"
      },
      "source": [
        "Misalkan y = yang harus diperkirakan adalah \"Compressive Strength (28-day)(Mpa)\" \r\n",
        "\r\n",
        "masukan X ADALAH KOLOM : Cement,Slag,Fly ash,Water,SP,Coarse Aggr.,Fine Aggr.,SLUMP(cm),FLOW(cm)\r\n",
        "\r\n",
        "Kita akan menggunakan KNN untuk melakukan regresi dengan mengimport library KNN regresi sebagai berikut \r\n"
      ]
    },
    {
      "cell_type": "code",
      "metadata": {
        "colab": {
          "base_uri": "https://localhost:8080/"
        },
        "id": "PCnZPOn4eFyF",
        "outputId": "1196f044-f0b4-4664-f2a3-47230f22ee05"
      },
      "source": [
        "from sklearn.neighbors import KNeighborsRegressor\r\n",
        "knnr = KNeighborsRegressor(n_neighbors = 10)\r\n",
        "knnr.fit(X_train, y_train)"
      ],
      "execution_count": 46,
      "outputs": [
        {
          "output_type": "execute_result",
          "data": {
            "text/plain": [
              "KNeighborsRegressor(algorithm='auto', leaf_size=30, metric='minkowski',\n",
              "                    metric_params=None, n_jobs=None, n_neighbors=10, p=2,\n",
              "                    weights='uniform')"
            ]
          },
          "metadata": {
            "tags": []
          },
          "execution_count": 46
        }
      ]
    },
    {
      "cell_type": "markdown",
      "metadata": {
        "id": "Q4yRqfsueSsY"
      },
      "source": [
        "Menampilkan error y hasil prediksi \r\n",
        "\r\n",
        "dan y test "
      ]
    },
    {
      "cell_type": "code",
      "metadata": {
        "colab": {
          "base_uri": "https://localhost:8080/"
        },
        "id": "A4IC1U66egUH",
        "outputId": "6649e5ab-e3a7-43c1-d0b3-2883cc088fc0"
      },
      "source": [
        "y_predict = knnr.predict(X_test)\r\n",
        "y_predict\r\n",
        "\r\n"
      ],
      "execution_count": 54,
      "outputs": [
        {
          "output_type": "execute_result",
          "data": {
            "text/plain": [
              "array([43.52 , 39.223, 40.684, 31.384, 34.448, 41.74 , 38.367, 30.701,\n",
              "       33.296, 44.845, 31.919, 37.686, 34.675, 40.642, 35.426, 43.548,\n",
              "       33.03 , 30.018, 43.52 , 44.711, 37.67 , 41.004, 33.432, 32.146,\n",
              "       33.432, 36.483, 36.669, 37.058, 32.12 , 35.933, 30.715, 37.67 ,\n",
              "       34.729, 37.67 , 34.729, 44.364, 29.363, 34.769, 35.72 , 31.746,\n",
              "       36.053, 39.156])"
            ]
          },
          "metadata": {
            "tags": []
          },
          "execution_count": 54
        }
      ]
    },
    {
      "cell_type": "code",
      "metadata": {
        "id": "e-LPL6P4qFDz",
        "outputId": "9ecb9069-6c80-4ab9-c5ef-40fd1375faeb",
        "colab": {
          "base_uri": "https://localhost:8080/"
        }
      },
      "source": [
        "y_test"
      ],
      "execution_count": 55,
      "outputs": [
        {
          "output_type": "execute_result",
          "data": {
            "text/plain": [
              "array([49.3 , 37.39, 38.46, 31.77, 33.91, 42.08, 34.18, 18.26, 36.46,\n",
              "       38.59, 26.82, 33.11, 33.38, 39.4 , 31.37, 43.95, 31.5 , 19.19,\n",
              "       52.65, 45.42, 41.81, 46.36, 41.81, 27.62, 41.14, 36.19, 34.99,\n",
              "       28.03, 37.66, 35.52, 30.43, 41.01, 36.72, 41.54, 28.7 , 44.08,\n",
              "       17.19, 25.21, 32.71, 26.28, 32.44, 49.97])"
            ]
          },
          "metadata": {
            "tags": []
          },
          "execution_count": 55
        }
      ]
    },
    {
      "cell_type": "markdown",
      "metadata": {
        "id": "jkn0OnffqVay"
      },
      "source": [
        "Menampilkan Mean square Error "
      ]
    },
    {
      "cell_type": "code",
      "metadata": {
        "id": "zez6rnu-p-7a",
        "outputId": "d1f061ac-cad0-4d90-824a-54d2e8afb018",
        "colab": {
          "base_uri": "https://localhost:8080/"
        }
      },
      "source": [
        "print (\"The MSE is:\",format(np.power(y_test-y_predict,2).mean()))"
      ],
      "execution_count": 56,
      "outputs": [
        {
          "output_type": "stream",
          "text": [
            "The MSE is: 31.433718666666657\n"
          ],
          "name": "stdout"
        }
      ]
    }
  ]
}