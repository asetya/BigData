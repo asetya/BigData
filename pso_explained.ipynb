{
  "nbformat": 4,
  "nbformat_minor": 0,
  "metadata": {
    "colab": {
      "name": "pso_explained.ipynb",
      "provenance": [],
      "collapsed_sections": [],
      "authorship_tag": "ABX9TyPQ0fonNhl47Czgh1oaEbKz",
      "include_colab_link": true
    },
    "kernelspec": {
      "name": "python3",
      "display_name": "Python 3"
    }
  },
  "cells": [
    {
      "cell_type": "markdown",
      "metadata": {
        "id": "view-in-github",
        "colab_type": "text"
      },
      "source": [
        "<a href=\"https://colab.research.google.com/github/asetya/BigData/blob/master/pso_explained.ipynb\" target=\"_parent\"><img src=\"https://colab.research.google.com/assets/colab-badge.svg\" alt=\"Open In Colab\"/></a>"
      ]
    },
    {
      "cell_type": "markdown",
      "metadata": {
        "id": "SQnBi439XYNj"
      },
      "source": [
        "**Implementasi Particle Swarm Optimization**\r\n",
        "\r\n",
        "Implementasi ini menggunakan konsep object oriented programming \r\n",
        "\r\n",
        "Asumsi - saudara sudah tahu/paham konsep OOP sebelumnya\r\n",
        "\r\n",
        "Ada beberapa kelas yang akan dibuat  : \r\n",
        "\r\n",
        "partikel \r\n",
        "\r\n",
        "search space\r\n",
        "\r\n",
        "Masalah yang akan diselesaikan pada contoh program ini adalah mencari nilai minimal dari sebuah fungsi : f(x,y) = x² + y² + 1\r\n",
        "\r\n",
        "menurut matematika - kita bisa paham nilai minimum akan dicapai pada x,y = 0,0 -> f(0,0) = 0 + 0 + 1 = 1 \r\n",
        "\r\n",
        "yang dapat dilakukan dengan analisis \r\n",
        "\r\n",
        "Pada implementasi PSO ini - kita akan mencari dengan mencoba coba solusi dengan mencoba coba satu persatu solusi yang mungkin lalu meningkatkan kualitas solusi sedemikian hingga hasilnya makin mendekat nilai target - dalam persoalan ini nilai target diketahui yaitu = 1 \r\n",
        "\r\n",
        "sumber : https://medium.com/analytics-vidhya/implementing-particle-swarm-optimization-pso-algorithm-in-python-9efc2eb179a6\r\n",
        "\r\n",
        "lets begin\r\n",
        "\r\n",
        "import library dan inisialisasi variabel \r\n",
        "\r\n"
      ]
    },
    {
      "cell_type": "code",
      "metadata": {
        "colab": {
          "base_uri": "https://localhost:8080/"
        },
        "id": "Y9ZZojXKYIxS",
        "outputId": "8f612413-40b7-4b40-f28e-8e053bef0785"
      },
      "source": [
        "import random\r\n",
        "import numpy as np \r\n",
        "\r\n",
        "W = 0.5\r\n",
        "c1 = 0.8\r\n",
        "c2 = 0.9 \r\n",
        "\r\n",
        "n_iterations = int(input(\"Masukan Jumlah Iterasi Maksimum: \"))\r\n",
        "target_error = float(input(\"Masukan terget error yang ingin di capai: \"))\r\n",
        "n_particles = int(input(\"masukan jumlah partikel: \"))"
      ],
      "execution_count": 1,
      "outputs": [
        {
          "output_type": "stream",
          "text": [
            "Masukan Jumlah Iterasi Maksimum: 10\n",
            "Masukan terget error yang ingin di capai: 0\n",
            "masukan jumlah partikel: 10\n"
          ],
          "name": "stdout"
        }
      ]
    },
    {
      "cell_type": "markdown",
      "metadata": {
        "id": "SkiRDrMzZu6S"
      },
      "source": [
        "**Membuat kelas partikel**"
      ]
    },
    {
      "cell_type": "code",
      "metadata": {
        "id": "UaYApSA_ZrAo"
      },
      "source": [
        "class Particle():\r\n",
        "    def __init__(self):\r\n",
        "        self.position = np.array([(-1) ** (bool(random.getrandbits(1))) * random.random()*50, (-1)**(bool(random.getrandbits(1))) * random.random()*50])\r\n",
        "        self.pbest_position = self.position\r\n",
        "        self.pbest_value = float('inf')\r\n",
        "        self.velocity = np.array([0,0])\r\n",
        "\r\n",
        "    def __str__(self):\r\n",
        "        print(\"Posisi saya di \", self.position, \" Nilai P best saya \", self.pbest_position)\r\n",
        "    \r\n",
        "    def move(self):\r\n",
        "        self.position = self.position + self.velocity"
      ],
      "execution_count": 5,
      "outputs": []
    },
    {
      "cell_type": "markdown",
      "metadata": {
        "id": "bqqgY4gyaKQv"
      },
      "source": [
        "**Membuat kelas search space**\r\n",
        "\r\n",
        "Ruang pencarian di buat dengan masukan target error yang akan di capai (perbedaan minimal antara target dan capaian dari setiap kandidat solusi) \r\n",
        "target dan jumlah partikel \r\n",
        "\r\n",
        "kelas space ini akan memiliki n buah partikel - nilai n diset oleh pengguna\r\n",
        "setiap partikel akan di hitung fittness nya - sesuai dengan rumus fitness dari persoalan yang akan diselesaikan \r\n",
        "\r\n",
        "setiap partikel di bandingkan dengan partikel lain lalu ditentukan mana partikel yang memiliki nilai paling mendekati target - dalam kelas space disebut pbest\r\n",
        "\r\n",
        "\r\n"
      ]
    },
    {
      "cell_type": "code",
      "metadata": {
        "id": "DUo8phZPaQDB"
      },
      "source": [
        "class Space():\r\n",
        "\r\n",
        "    def __init__(self, target, target_error, n_particles):\r\n",
        "        self.target = target\r\n",
        "        self.target_error = target_error\r\n",
        "        self.n_particles = n_particles\r\n",
        "        self.particles = []\r\n",
        "        self.gbest_value = float('inf')\r\n",
        "        self.gbest_position = np.array([random.random()*50, random.random()*50])\r\n",
        "\r\n",
        "    def print_particles(self):\r\n",
        "        for particle in self.particles:\r\n",
        "            particle.__str__()\r\n",
        "   \r\n",
        "    def fitness(self, particle):\r\n",
        "        return particle.position[0] ** 2 + particle.position[1] ** 2 + 1\r\n",
        "\r\n",
        "    def set_pbest(self):\r\n",
        "        for particle in self.particles:\r\n",
        "            fitness_cadidate = self.fitness(particle)\r\n",
        "            if(particle.pbest_value > fitness_cadidate):\r\n",
        "                particle.pbest_value = fitness_cadidate\r\n",
        "                particle.pbest_position = particle.position\r\n",
        "            \r\n",
        "\r\n",
        "    def set_gbest(self):\r\n",
        "        for particle in self.particles:\r\n",
        "            best_fitness_cadidate = self.fitness(particle)\r\n",
        "            if(self.gbest_value > best_fitness_cadidate):\r\n",
        "                self.gbest_value = best_fitness_cadidate\r\n",
        "                self.gbest_position = particle.position\r\n",
        "\r\n",
        "    def move_particles(self):\r\n",
        "        for particle in self.particles:\r\n",
        "            global W\r\n",
        "            new_velocity = (W*particle.velocity) + (c1*random.random()) * (particle.pbest_position - particle.position) + \\\r\n",
        "                            (random.random()*c2) * (self.gbest_position - particle.position)\r\n",
        "            particle.velocity = new_velocity\r\n",
        "            particle.move()\r\n",
        "            \r\n",
        "\r\n"
      ],
      "execution_count": 6,
      "outputs": []
    },
    {
      "cell_type": "markdown",
      "metadata": {
        "id": "xneTJfJyal6n"
      },
      "source": [
        "**memanggil search space**"
      ]
    },
    {
      "cell_type": "code",
      "metadata": {
        "colab": {
          "base_uri": "https://localhost:8080/"
        },
        "id": "GZoGMOzjaqdP",
        "outputId": "a0b68c3e-fa77-49a2-c89a-1d54f745de54"
      },
      "source": [
        "search_space = Space(1, target_error, n_particles)\r\n",
        "particles_vector = [Particle() for _ in range(search_space.n_particles)]\r\n",
        "search_space.particles = particles_vector\r\n",
        "search_space.print_particles()\r\n",
        "\r\n",
        "iteration = 0\r\n",
        "while(iteration < n_iterations):\r\n",
        "    search_space.set_pbest()    \r\n",
        "    search_space.set_gbest()\r\n",
        "\r\n",
        "    if(abs(search_space.gbest_value - search_space.target) <= search_space.target_error):\r\n",
        "        break\r\n",
        "\r\n",
        "    search_space.move_particles()\r\n",
        "    iteration += 1\r\n",
        "    \r\n",
        "print(\"The best solution is: \", search_space.gbest_position, \" in n_iterations: \", iteration)\r\n"
      ],
      "execution_count": 7,
      "outputs": [
        {
          "output_type": "stream",
          "text": [
            "Posisi saya di  [ 16.46134241 -43.53850533]  Nilai P best saya  [ 16.46134241 -43.53850533]\n",
            "Posisi saya di  [-16.70787711   1.23382115]  Nilai P best saya  [-16.70787711   1.23382115]\n",
            "Posisi saya di  [14.55465523 47.18166326]  Nilai P best saya  [14.55465523 47.18166326]\n",
            "Posisi saya di  [-2.77571867 12.51498849]  Nilai P best saya  [-2.77571867 12.51498849]\n",
            "Posisi saya di  [40.51098685 22.94818872]  Nilai P best saya  [40.51098685 22.94818872]\n",
            "Posisi saya di  [-41.92945176 -29.65692524]  Nilai P best saya  [-41.92945176 -29.65692524]\n",
            "Posisi saya di  [16.4688678  14.89814618]  Nilai P best saya  [16.4688678  14.89814618]\n",
            "Posisi saya di  [ 48.26822654 -31.51100677]  Nilai P best saya  [ 48.26822654 -31.51100677]\n",
            "Posisi saya di  [-44.16003328 -11.69285055]  Nilai P best saya  [-44.16003328 -11.69285055]\n",
            "Posisi saya di  [22.87364704 37.38555286]  Nilai P best saya  [22.87364704 37.38555286]\n",
            "The best solution is:  [-0.30856194 -0.26802322]  in n_iterations:  10\n"
          ],
          "name": "stdout"
        }
      ]
    },
    {
      "cell_type": "markdown",
      "metadata": {
        "id": "xQRKeQCHbY9s"
      },
      "source": [
        "**Menggunakan PSO untuk memecahkan masalah**\r\n",
        "\r\n",
        "mendfinisikan fungsi fittness \r\n",
        "\r\n",
        "dalam kasus ini fungsi fitness : f(x,y) = x² + y² + 1\r\n",
        "disini setiap partikel - memiliki 2 angka di dalamnya yaitu x : position[0] dan y : position[1]"
      ]
    },
    {
      "cell_type": "code",
      "metadata": {
        "id": "LBykUKOGbee1"
      },
      "source": [
        "def fitness_function(position):\r\n",
        "    return position[0]**2 + position[1]**2 + 1\r\n"
      ],
      "execution_count": 8,
      "outputs": []
    },
    {
      "cell_type": "markdown",
      "metadata": {
        "id": "-XQ1l0UYcPZ3"
      },
      "source": [
        "**Inisialisasi Variabel**"
      ]
    },
    {
      "cell_type": "code",
      "metadata": {
        "id": "yrZeVIMNcTie"
      },
      "source": [
        "W = 0.5\r\n",
        "c1 = 0.5\r\n",
        "c2 = 0.9\r\n",
        "target = 1"
      ],
      "execution_count": 9,
      "outputs": []
    },
    {
      "cell_type": "markdown",
      "metadata": {
        "id": "7YvHzXnpcVkq"
      },
      "source": [
        "**Meminta beberapa input untuk mengatur proses pencarian**"
      ]
    },
    {
      "cell_type": "code",
      "metadata": {
        "colab": {
          "base_uri": "https://localhost:8080/"
        },
        "id": "Hp9smXLEcU35",
        "outputId": "dd972f2e-3ee6-427f-9c8b-1a7459c8fa1b"
      },
      "source": [
        "n_iterations = int(input(\"Inform the number of iterations: \"))\r\n",
        "target_error = float(input(\"Inform the target error: \"))\r\n",
        "n_particles = int(input(\"Inform the number of particles: \"))"
      ],
      "execution_count": 10,
      "outputs": [
        {
          "output_type": "stream",
          "text": [
            "Inform the number of iterations: 10\n",
            "Inform the target error: 0\n",
            "Inform the number of particles: 10\n"
          ],
          "name": "stdout"
        }
      ]
    },
    {
      "cell_type": "markdown",
      "metadata": {
        "id": "pFl3ueqCcgCe"
      },
      "source": [
        "**Inisialisasi variabel untuk menampung partikel, posisi terbaik selama searching**"
      ]
    },
    {
      "cell_type": "code",
      "metadata": {
        "id": "xULD55n1csJC"
      },
      "source": [
        "particle_position_vector = np.array([np.array([(-1) ** (bool(random.getrandbits(1))) * random.random()*50, (-1)**(bool(random.getrandbits(1))) * random.random()*50]) for _ in range(n_particles)])\r\n",
        "pbest_position = particle_position_vector\r\n",
        "pbest_fitness_value = np.array([float('inf') for _ in range(n_particles)])\r\n",
        "gbest_fitness_value = float('inf')\r\n",
        "gbest_position = np.array([float('inf'), float('inf')])\r\n",
        "\r\n",
        "velocity_vector = ([np.array([0, 0]) for _ in range(n_particles)])\r\n",
        "iteration = 0"
      ],
      "execution_count": 11,
      "outputs": []
    },
    {
      "cell_type": "markdown",
      "metadata": {
        "id": "4mGMzuKjc87Q"
      },
      "source": [
        "**Main Loop untuk melakukan pencarian solusi**"
      ]
    },
    {
      "cell_type": "code",
      "metadata": {
        "colab": {
          "base_uri": "https://localhost:8080/"
        },
        "id": "FaHaHyAudDKF",
        "outputId": "e4fd50dd-da5b-4694-a0b9-4e3ac93af79c"
      },
      "source": [
        "while iteration < n_iterations:\r\n",
        "    print(\"iterasi ke \", iteration)\r\n",
        "    for i in range(n_particles):\r\n",
        "        fitness_cadidate = fitness_function(particle_position_vector[i])\r\n",
        "        print(fitness_cadidate, ' ', particle_position_vector[i])\r\n",
        "        \r\n",
        "        if(pbest_fitness_value[i] > fitness_cadidate):\r\n",
        "            pbest_fitness_value[i] = fitness_cadidate\r\n",
        "            pbest_position[i] = particle_position_vector[i]\r\n",
        "            ibest = i\r\n",
        "\r\n",
        "        if(gbest_fitness_value > fitness_cadidate):\r\n",
        "            gbest_fitness_value = fitness_cadidate\r\n",
        "            gbest_position = particle_position_vector[i]\r\n",
        "\r\n",
        "    if(abs(gbest_fitness_value - target) < target_error):\r\n",
        "        break\r\n",
        "    #print(\"pbest di iterasi ke \", iteration, \" = \" pbest_fitness_value[ibest])#,\"dari parkile ke \",ibest )\r\n",
        "    print(\"gbest di iterasi ke \", iteration, \" = \" ,gbest_position )\r\n",
        "    for i in range(n_particles):\r\n",
        "        new_velocity = (W*velocity_vector[i]) + (c1*random.random()) * (pbest_position[i] - particle_position_vector[i]) + (c2*random.random()) * (gbest_position-particle_position_vector[i])\r\n",
        "        new_position = new_velocity + particle_position_vector[i]\r\n",
        "        particle_position_vector[i] = new_position\r\n",
        "    \r\n",
        "    iteration = iteration + 1\r\n",
        "    \r\n",
        "print(\"The best position is \", gbest_position, \"in iteration number \", iteration)"
      ],
      "execution_count": 12,
      "outputs": [
        {
          "output_type": "stream",
          "text": [
            "iterasi ke  0\n",
            "1858.4694203868528   [42.77011484 -5.30911454]\n",
            "1742.6131496580228   [ 34.97081969 -22.77399658]\n",
            "1897.5085470024076   [16.87022484 40.14852501]\n",
            "2782.2892568295806   [22.17522698 47.84922743]\n",
            "1376.651563372211   [-36.47042911  -6.74976769]\n",
            "1282.332615562115   [-35.7956312    0.07350184]\n",
            "444.205691890394   [ 13.55276183 -16.10988326]\n",
            "829.3583386767851   [-28.5564816    3.58966539]\n",
            "914.9006114978686   [ 18.3511372  -24.02366281]\n",
            "1252.5905432613617   [11.13392929 33.58014535]\n",
            "gbest di iterasi ke  0  =  [ 13.55276183 -16.10988326]\n",
            "iterasi ke  1\n",
            "1049.7464372100997   [30.89820598 -9.69779896]\n",
            "1164.0126951354932   [ 27.33092999 -20.39688606]\n",
            "845.0351664429311   [15.93519657 24.29207024]\n",
            "1033.5750094930322   [19.19842416 25.76811051]\n",
            "205.39835145826603   [ -7.50241382 -12.17013304]\n",
            "719.1919573330463   [-26.63850578  -2.92949943]\n",
            "444.205691890394   [ 13.55276183 -16.10988326]\n",
            "181.63873221374797   [-12.91256083  -3.72887452]\n",
            "804.2056417002252   [ 17.36523005 -22.39764333]\n",
            "1027.5820138336671   [11.30927458 29.97803066]\n",
            "gbest di iterasi ke  1  =  [-12.91256083  -3.72887452]\n",
            "iterasi ke  2\n",
            "52.51592872064861   [-5.37579428 -4.75570863]\n",
            "71.35168421097704   [-3.06510552 -7.80748438]\n",
            "367.28169452612894   [ 8.55267457 17.12114051]\n",
            "654.8313016267359   [14.25553655 21.22759947]\n",
            "171.29290727838503   [-9.72668084 -8.69968891]\n",
            "649.2795590076348   [-25.28297508  -3.00844317]\n",
            "116.15576767667466   [  1.74857238 -10.58764668]\n",
            "181.63873221374797   [-12.91256083  -3.72887452]\n",
            "109.81516894415157   [-7.88631567 -6.82797145]\n",
            "79.50065491818624   [-4.95476011  7.34513493]\n",
            "gbest di iterasi ke  2  =  [-5.37579428 -4.75570863]\n",
            "iterasi ke  3\n",
            "52.51592872064861   [-5.37579428 -4.75570863]\n",
            "53.688920700515936   [-4.97336029 -5.28721175]\n",
            "12.271944899293056   [-3.12665935 -1.22308879]\n",
            "21.02561715906372   [1.42287712 4.242763  ]\n",
            "155.0262426066002   [-9.25330567 -8.27058503]\n",
            "327.9978292020931   [-17.7060272   -3.67347653]\n",
            "68.98126895929353   [-1.2249141  -8.15357924]\n",
            "76.36280728061081   [-7.43914247 -4.47459122]\n",
            "99.65799868206477   [-7.50154141 -6.51036675]\n",
            "76.83505570632123   [-4.9613114   7.15684602]\n",
            "gbest di iterasi ke  3  =  [-3.12665935 -1.22308879]\n",
            "iterasi ke  4\n",
            "41.66326054829236   [-4.92606522 -4.04933847]\n",
            "39.33045466563213   [-4.50203912 -4.24995275]\n",
            "12.271944899293056   [-3.12665935 -1.22308879]\n",
            "3.920936632132152   [-1.59273701  0.61977856]\n",
            "21.98266306721805   [-4.0015264  -2.22945049]\n",
            "140.21834191278515   [-11.50206215  -2.63076192]\n",
            "16.79599021333304   [-2.64933112 -2.96260609]\n",
            "56.45534439923888   [-6.44723912 -3.72672136]\n",
            "34.397545373624396   [-4.78994583 -3.23325908]\n",
            "15.479627715632573   [-3.63839645  1.11431548]\n",
            "gbest di iterasi ke  4  =  [-1.59273701  0.61977856]\n",
            "iterasi ke  5\n",
            "13.308668166389124   [-3.14510024 -1.55467446]\n",
            "11.555814686188047   [-2.87130094 -1.52034391]\n",
            "9.482734824693823   [-2.79377048 -0.82315327]\n",
            "3.920936632132152   [-1.59273701  0.61977856]\n",
            "10.275438598518573   [-2.9008771  -0.92755089]\n",
            "66.72031065891929   [-7.97190441 -1.47276978]\n",
            "10.975238090455548   [-2.3859068  -2.06946535]\n",
            "8.595005074518724   [-2.72729648 -0.39605428]\n",
            "8.745470772155155   [-2.69222902 -0.70524723]\n",
            "9.421530451833814   [-2.7583864   0.90157359]\n",
            "gbest di iterasi ke  5  =  [-1.59273701  0.61977856]\n",
            "iterasi ke  6\n",
            "9.517312224246906   [-2.74424765 -0.99318531]\n",
            "4.72616125749763   [-1.92951229  0.05606772]\n",
            "4.617574907284469   [-1.8824911   0.27166552]\n",
            "3.920936632132152   [-1.59273701  0.61977856]\n",
            "7.429116089145241   [-2.4956397  -0.44821709]\n",
            "11.785718453666489   [-3.28351538  0.06515516]\n",
            "5.01924715331365   [-1.93269611 -0.53285353]\n",
            "7.31909339220295   [-2.50597891 -0.19789662]\n",
            "4.319309349220653   [-1.77830851  0.39614162]\n",
            "5.822552842419577   [-2.06937653  0.73500587]\n",
            "gbest di iterasi ke  6  =  [-1.59273701  0.61977856]\n",
            "iterasi ke  7\n",
            "4.2215223570013585   [-1.74975907  0.3998319 ]\n",
            "4.7189436096180515   [-1.92754232  0.05936515]\n",
            "4.1595914329190435   [-1.7127015  0.4756522]\n",
            "3.920936632132152   [-1.59273701  0.61977856]\n",
            "5.2057911073155205   [-2.04924962  0.07979403]\n",
            "8.741175587812137   [-2.77254294  0.23276866]\n",
            "3.9408980313186497   [-1.69048839  0.28835228]\n",
            "6.172083938928286   [-2.27420124  0.00962655]\n",
            "4.217119310956933   [-1.73745931  0.44537003]\n",
            "5.670462226760038   [-2.03526033  0.7267583 ]\n",
            "gbest di iterasi ke  7  =  [-1.59273701  0.61977856]\n",
            "iterasi ke  8\n",
            "4.219648540413495   [-1.74897078  0.40093609]\n",
            "4.096410481604499   [-1.70646011  0.4294233 ]\n",
            "4.080881740607825   [-1.67684085  0.51873549]\n",
            "3.920936632132152   [-1.59273701  0.61977856]\n",
            "4.708016983284667   [-1.91004142  0.24445601]\n",
            "7.451619191854978   [-2.52033302  0.31550069]\n",
            "3.907207518701059   [-1.60981667  0.56186992]\n",
            "5.155390551594662   [-2.0251632   0.23260385]\n",
            "3.963546359857878   [-1.6170671   0.59045774]\n",
            "4.336444653774471   [-1.70792995  0.64762638]\n",
            "gbest di iterasi ke  8  =  [-1.60981667  0.56186992]\n",
            "iterasi ke  9\n",
            "4.045436539363661   [-1.67641131  0.48485222]\n",
            "3.956031735774697   [-1.63756632  0.52383995]\n",
            "3.973890155360433   [-1.63613544  0.54493207]\n",
            "3.919071784392589   [-1.59461349  0.61341634]\n",
            "4.431595846139859   [-1.82131024  0.33826744]\n",
            "5.453242088839302   [-2.06411465  0.43894511]\n",
            "3.907207518701059   [-1.60981667  0.56186992]\n",
            "4.322800820119522   [-1.77027228  0.4346687 ]\n",
            "3.91932123626625   [-1.61139469  0.5680919 ]\n",
            "4.077093373348738   [-1.64958402  0.5966288 ]\n",
            "gbest di iterasi ke  9  =  [-1.60981667  0.56186992]\n",
            "The best position is  [-1.60981667  0.56186992] in iteration number  10\n"
          ],
          "name": "stdout"
        }
      ]
    }
  ]
}