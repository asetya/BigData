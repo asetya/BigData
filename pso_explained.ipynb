{
  "nbformat": 4,
  "nbformat_minor": 0,
  "metadata": {
    "colab": {
      "name": "pso_explained.ipynb",
      "provenance": [],
      "collapsed_sections": [],
      "authorship_tag": "ABX9TyNIo5L+jWqDH0cNqa/oLPgn",
      "include_colab_link": true
    },
    "kernelspec": {
      "name": "python3",
      "display_name": "Python 3"
    }
  },
  "cells": [
    {
      "cell_type": "markdown",
      "metadata": {
        "id": "view-in-github",
        "colab_type": "text"
      },
      "source": [
        "<a href=\"https://colab.research.google.com/github/asetya/BigData/blob/master/pso_explained.ipynb\" target=\"_parent\"><img src=\"https://colab.research.google.com/assets/colab-badge.svg\" alt=\"Open In Colab\"/></a>"
      ]
    },
    {
      "cell_type": "markdown",
      "metadata": {
        "id": "SQnBi439XYNj"
      },
      "source": [
        "**Implementasi Particle Swarm Optimization**\r\n",
        "\r\n",
        "Implementasi ini menggunakan konsep object oriented programming \r\n",
        "\r\n",
        "Asumsi - saudara sudah tahu/paham konsep OOP sebelumnya\r\n",
        "\r\n",
        "Ada beberapa kelas yang akan dibuat  : \r\n",
        "\r\n",
        "partikel \r\n",
        "\r\n",
        "search space\r\n",
        "\r\n",
        "Masalah yang akan diselesaikan pada contoh program ini adalah mencari nilai minimal dari sebuah fungsi : f(x,y) = x² + y² + 1\r\n",
        "\r\n",
        "menurut matematika - kita bisa paham nilai minimum akan dicapai pada x,y = 0,0 -> f(0,0) = 0 + 0 + 1 = 1 \r\n",
        "\r\n",
        "yang dapat dilakukan dengan analisis \r\n",
        "\r\n",
        "Pada implementasi PSO ini - kita akan mencari dengan mencoba coba solusi dengan mencoba coba satu persatu solusi yang mungkin lalu meningkatkan kualitas solusi sedemikian hingga hasilnya makin mendekat nilai target - dalam persoalan ini nilai target diketahui yaitu = 1 \r\n",
        "\r\n",
        "sumber : https://medium.com/analytics-vidhya/implementing-particle-swarm-optimization-pso-algorithm-in-python-9efc2eb179a6\r\n",
        "\r\n",
        "lets begin\r\n",
        "\r\n",
        "import library dan inisialisasi variabel \r\n",
        "\r\n"
      ]
    },
    {
      "cell_type": "code",
      "metadata": {
        "colab": {
          "base_uri": "https://localhost:8080/"
        },
        "id": "Y9ZZojXKYIxS",
        "outputId": "8f612413-40b7-4b40-f28e-8e053bef0785"
      },
      "source": [
        "import random\r\n",
        "import numpy as np \r\n",
        "\r\n",
        "W = 0.5\r\n",
        "c1 = 0.8\r\n",
        "c2 = 0.9 \r\n",
        "target = 1 \r\n",
        "\r\n",
        "n_iterations = int(input(\"Masukan Jumlah Iterasi Maksimum: \"))\r\n",
        "target_error = float(input(\"Masukan terget error yang ingin di capai: \"))\r\n",
        "n_particles = int(input(\"masukan jumlah partikel: \"))"
      ],
      "execution_count": null,
      "outputs": [
        {
          "output_type": "stream",
          "text": [
            "Masukan Jumlah Iterasi Maksimum: 10\n",
            "Masukan terget error yang ingin di capai: 0\n",
            "masukan jumlah partikel: 10\n"
          ],
          "name": "stdout"
        }
      ]
    },
    {
      "cell_type": "markdown",
      "metadata": {
        "id": "SkiRDrMzZu6S"
      },
      "source": [
        "**Membuat kelas partikel**"
      ]
    },
    {
      "cell_type": "code",
      "metadata": {
        "id": "UaYApSA_ZrAo"
      },
      "source": [
        "class Particle():\r\n",
        "    def __init__(self):\r\n",
        "        self.position = np.array([(-1) ** (bool(random.getrandbits(1))) * random.random()*50, (-1)**(bool(random.getrandbits(1))) * random.random()*50])\r\n",
        "        self.pbest_position = self.position\r\n",
        "        self.pbest_value = float('inf')\r\n",
        "        self.velocity = np.array([0,0])\r\n",
        "\r\n",
        "    def __str__(self):\r\n",
        "        print(\"Posisi saya di \", self.position, \" Nilai P best saya \", self.pbest_position)\r\n",
        "    \r\n",
        "    def move(self):\r\n",
        "        self.position = self.position + self.velocity"
      ],
      "execution_count": null,
      "outputs": []
    },
    {
      "cell_type": "markdown",
      "metadata": {
        "id": "bqqgY4gyaKQv"
      },
      "source": [
        "**Membuat kelas search space**\r\n",
        "\r\n",
        "Ruang pencarian di buat dengan masukan target error yang akan di capai (perbedaan minimal antara target dan capaian dari setiap kandidat solusi) \r\n",
        "target dan jumlah partikel \r\n",
        "\r\n",
        "kelas space ini akan memiliki n buah partikel - nilai n diset oleh pengguna\r\n",
        "setiap partikel akan di hitung fittness nya - sesuai dengan rumus fitness dari persoalan yang akan diselesaikan \r\n",
        "\r\n",
        "setiap partikel di bandingkan dengan partikel lain lalu ditentukan mana partikel yang memiliki nilai paling mendekati target - dalam kelas space disebut pbest\r\n",
        "\r\n",
        "\r\n"
      ]
    },
    {
      "cell_type": "code",
      "metadata": {
        "id": "DUo8phZPaQDB"
      },
      "source": [
        "class Space():\r\n",
        "\r\n",
        "    def __init__(self, target, target_error, n_particles):\r\n",
        "        self.target = target\r\n",
        "        self.target_error = target_error\r\n",
        "        self.n_particles = n_particles\r\n",
        "        self.particles = []\r\n",
        "        self.gbest_value = float('inf')\r\n",
        "        self.gbest_position = np.array([random.random()*50, random.random()*50])\r\n",
        "\r\n",
        "    def print_particles(self):\r\n",
        "        for particle in self.particles:\r\n",
        "            particle.__str__()\r\n",
        "   \r\n",
        "    def fitness(self, particle):\r\n",
        "        return particle.position[0] ** 2 + particle.position[1] ** 2 + 1\r\n",
        "\r\n",
        "    def set_pbest(self):\r\n",
        "        for particle in self.particles:\r\n",
        "            fitness_cadidate = self.fitness(particle)\r\n",
        "            if(particle.pbest_value > fitness_cadidate):\r\n",
        "                particle.pbest_value = fitness_cadidate\r\n",
        "                particle.pbest_position = particle.position\r\n",
        "            \r\n",
        "\r\n",
        "    def set_gbest(self):\r\n",
        "        for particle in self.particles:\r\n",
        "            best_fitness_cadidate = self.fitness(particle)\r\n",
        "            if(self.gbest_value > best_fitness_cadidate):\r\n",
        "                self.gbest_value = best_fitness_cadidate\r\n",
        "                self.gbest_position = particle.position\r\n",
        "\r\n",
        "    def move_particles(self):\r\n",
        "        for particle in self.particles:\r\n",
        "            global W\r\n",
        "            new_velocity = (W*particle.velocity) + (c1*random.random()) * (particle.pbest_position - particle.position) + \\\r\n",
        "                            (random.random()*c2) * (self.gbest_position - particle.position)\r\n",
        "            particle.velocity = new_velocity\r\n",
        "            particle.move()\r\n",
        "            \r\n",
        "\r\n"
      ],
      "execution_count": null,
      "outputs": []
    },
    {
      "cell_type": "markdown",
      "metadata": {
        "id": "xneTJfJyal6n"
      },
      "source": [
        "**memanggil search space**\r\n",
        "\r\n",
        "melakukan pencarian solusi dengan menciptakan kelas space sebanyak n iterasi"
      ]
    },
    {
      "cell_type": "code",
      "metadata": {
        "colab": {
          "base_uri": "https://localhost:8080/"
        },
        "id": "GZoGMOzjaqdP",
        "outputId": "a0b68c3e-fa77-49a2-c89a-1d54f745de54"
      },
      "source": [
        "search_space = Space(target, target_error, n_particles)\r\n",
        "particles_vector = [Particle() for _ in range(search_space.n_particles)]\r\n",
        "search_space.particles = particles_vector\r\n",
        "search_space.print_particles()\r\n",
        "\r\n",
        "iteration = 0\r\n",
        "while(iteration < n_iterations):\r\n",
        "    search_space.set_pbest()    \r\n",
        "    search_space.set_gbest()\r\n",
        "\r\n",
        "    if(abs(search_space.gbest_value - search_space.target) <= search_space.target_error):\r\n",
        "        break\r\n",
        "\r\n",
        "    search_space.move_particles()\r\n",
        "    iteration += 1\r\n",
        "    \r\n",
        "print(\"The best solution is: \", search_space.gbest_position, \" in n_iterations: \", iteration)\r\n"
      ],
      "execution_count": null,
      "outputs": [
        {
          "output_type": "stream",
          "text": [
            "Posisi saya di  [ 16.46134241 -43.53850533]  Nilai P best saya  [ 16.46134241 -43.53850533]\n",
            "Posisi saya di  [-16.70787711   1.23382115]  Nilai P best saya  [-16.70787711   1.23382115]\n",
            "Posisi saya di  [14.55465523 47.18166326]  Nilai P best saya  [14.55465523 47.18166326]\n",
            "Posisi saya di  [-2.77571867 12.51498849]  Nilai P best saya  [-2.77571867 12.51498849]\n",
            "Posisi saya di  [40.51098685 22.94818872]  Nilai P best saya  [40.51098685 22.94818872]\n",
            "Posisi saya di  [-41.92945176 -29.65692524]  Nilai P best saya  [-41.92945176 -29.65692524]\n",
            "Posisi saya di  [16.4688678  14.89814618]  Nilai P best saya  [16.4688678  14.89814618]\n",
            "Posisi saya di  [ 48.26822654 -31.51100677]  Nilai P best saya  [ 48.26822654 -31.51100677]\n",
            "Posisi saya di  [-44.16003328 -11.69285055]  Nilai P best saya  [-44.16003328 -11.69285055]\n",
            "Posisi saya di  [22.87364704 37.38555286]  Nilai P best saya  [22.87364704 37.38555286]\n",
            "The best solution is:  [-0.30856194 -0.26802322]  in n_iterations:  10\n"
          ],
          "name": "stdout"
        }
      ]
    }
  ]
}