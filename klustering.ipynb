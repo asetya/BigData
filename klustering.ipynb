{
  "nbformat": 4,
  "nbformat_minor": 0,
  "metadata": {
    "colab": {
      "name": "klustering.ipynb",
      "provenance": [],
      "collapsed_sections": [],
      "authorship_tag": "ABX9TyM+sSnrjEbqIZ+eNVtkWvjn",
      "include_colab_link": true
    },
    "kernelspec": {
      "name": "python3",
      "display_name": "Python 3"
    }
  },
  "cells": [
    {
      "cell_type": "markdown",
      "metadata": {
        "id": "view-in-github",
        "colab_type": "text"
      },
      "source": [
        "<a href=\"https://colab.research.google.com/github/asetya/BigData/blob/master/klustering.ipynb\" target=\"_parent\"><img src=\"https://colab.research.google.com/assets/colab-badge.svg\" alt=\"Open In Colab\"/></a>"
      ]
    },
    {
      "cell_type": "markdown",
      "metadata": {
        "id": "4ZBvo2jLxkBq"
      },
      "source": [
        "**Source Code Mata Kuliah AI - untuk Materi Analisis Kluster**\r\n",
        "Sumber : https://machinelearningmastery.com/clustering-algorithms-with-python/\r\n",
        "\r\n",
        "1. k means \r\n",
        "2. DBSCAN \r\n",
        "3. Aglomerative Clustering "
      ]
    },
    {
      "cell_type": "code",
      "metadata": {
        "colab": {
          "base_uri": "https://localhost:8080/",
          "height": 265
        },
        "id": "98o75LnhyJ5e",
        "outputId": "da6254fa-f2b2-4d19-8be1-d7ee30e96d93"
      },
      "source": [
        "# k-means clustering\r\n",
        "from numpy import unique\r\n",
        "from numpy import where\r\n",
        "from sklearn.datasets import make_classification  # untuk membuat dataset \r\n",
        "from sklearn.cluster import KMeans #import algoritma k means \r\n",
        "from sklearn.metrics import silhouette_samples, silhouette_score\r\n",
        "from matplotlib import pyplot\r\n",
        "# define dataset\r\n",
        "X, _ = make_classification(n_samples=1000, n_features=2, n_informative=2, n_redundant=0, n_clusters_per_class=1, random_state=4)\r\n",
        "# define the model\r\n",
        "model = KMeans(n_clusters=2)\r\n",
        "# fit the model\r\n",
        "model.fit(X)\r\n",
        "# assign a cluster to each example\r\n",
        "yhat = model.predict(X)\r\n",
        "# retrieve unique clusters\r\n",
        "clusters = unique(yhat)\r\n",
        "# create scatter plot for samples from each cluster\r\n",
        "for cluster in clusters:\r\n",
        "\t# get row indexes for samples with this cluster\r\n",
        "\trow_ix = where(yhat == cluster)\r\n",
        "\t# create scatter of these samples\r\n",
        "\tpyplot.scatter(X[row_ix, 0], X[row_ix, 1])\r\n",
        "# show the plot\r\n",
        "pyplot.show()\r\n"
      ],
      "execution_count": 17,
      "outputs": [
        {
          "output_type": "display_data",
          "data": {
            "image/png": "[encoded data removed]",
            "text/plain": [
              "<Figure size 432x288 with 1 Axes>"
            ]
          },
          "metadata": {
            "tags": [],
            "needs_background": "light"
          }
        }
      ]
    },
    {
      "cell_type": "code",
      "metadata": {
        "colab": {
          "base_uri": "https://localhost:8080/"
        },
        "id": "6ShgTaDUyvSR",
        "outputId": "2716d5f5-898e-45e4-c30c-6c1a94df0db9"
      },
      "source": [
        "print('data sebelum di kluster :', X)  #menampilkan data yang di cluster \r\n",
        "print ('hasil pengklusteran : ', yhat) #menampilkan pengelompokan data\r\n",
        "print ('klaslter terdiri dari : ' ,clusters) #menampilkan kluster2 uniknya \r\n",
        "score = silhouette_score(X, yhat, metric='euclidean')\r\n",
        "print('silhoute score : ',score)\r\n",
        "\r\n"
      ],
      "execution_count": 18,
      "outputs": [
        {
          "output_type": "stream",
          "text": [
            "data sebelum di kluster : [[ 1.22515974 -0.95173116]\n",
            " [ 1.01630365 -1.72517506]\n",
            " [ 0.33534004 -1.7248955 ]\n",
            " ...\n",
            " [ 1.54270795 -0.05566478]\n",
            " [ 0.81664566 -1.2509187 ]\n",
            " [ 1.13782254 -1.26151957]]\n",
            "hasil pengklusteran :  [1 4 4 1 2 0 1 2 2 2 0 3 3 0 3 0 0 3 3 3 0 2 4 3 2 3 1 0 1 1 4 1 1 4 0 0 0\n",
            " 3 0 3 0 3 3 3 4 1 0 1 0 3 2 3 2 3 1 1 2 1 4 1 0 0 1 1 3 1 4 3 3 1 1 0 0 0\n",
            " 2 4 3 4 2 1 0 0 0 1 2 4 2 3 0 1 3 2 4 0 1 2 3 3 3 1 2 1 1 3 0 2 3 3 1 4 4\n",
            " 0 3 0 1 0 0 0 0 1 3 2 2 3 2 4 0 2 3 4 4 4 1 4 3 3 0 4 0 0 4 1 1 3 3 0 3 4\n",
            " 2 1 1 2 4 3 1 1 0 1 4 2 4 2 3 1 1 2 1 3 2 1 1 0 4 0 2 1 0 3 0 3 1 2 1 1 1\n",
            " 4 2 1 0 1 1 3 0 0 3 3 3 1 1 4 1 4 0 3 1 3 0 0 1 3 3 4 0 1 1 4 2 1 4 3 1 3\n",
            " 4 2 3 3 2 4 1 3 4 1 3 2 3 1 1 3 1 3 3 3 4 2 2 0 2 2 1 0 0 2 3 2 3 0 3 3 3\n",
            " 0 0 0 3 1 3 0 4 4 0 3 2 3 1 0 3 1 0 3 1 1 3 3 3 3 1 1 2 1 1 0 3 3 1 4 3 3\n",
            " 2 1 3 2 3 0 2 4 0 1 4 1 3 4 0 0 4 3 4 3 0 0 0 0 0 0 3 0 1 1 0 4 0 1 4 1 0\n",
            " 3 0 3 0 1 0 4 3 3 0 1 3 1 2 3 0 3 2 3 1 1 0 3 3 3 0 1 1 3 4 3 3 0 2 2 1 0\n",
            " 0 1 3 0 3 0 3 3 0 0 1 3 0 3 1 3 3 3 4 0 3 0 4 4 3 0 3 4 3 4 3 3 1 1 3 0 0\n",
            " 1 0 3 1 1 2 0 3 0 2 2 2 0 3 4 3 4 0 4 4 0 4 4 1 0 1 4 2 0 4 2 1 3 1 1 3 1\n",
            " 0 0 2 2 2 1 1 3 0 3 1 1 2 1 1 3 3 3 2 1 1 4 3 4 4 2 0 2 2 3 3 3 4 1 4 0 1\n",
            " 1 0 4 4 0 1 0 4 1 2 2 0 1 4 4 3 0 3 2 1 0 0 2 2 3 0 1 1 4 1 4 3 3 1 0 3 2\n",
            " 3 3 0 0 0 0 0 0 0 1 2 0 1 4 3 4 1 2 3 2 1 0 4 2 0 1 1 1 3 3 2 1 3 2 1 1 4\n",
            " 0 3 1 4 2 1 4 0 2 0 1 3 1 1 4 4 0 1 4 1 0 3 2 4 3 3 0 0 3 3 3 4 3 0 3 0 0\n",
            " 1 1 1 4 3 0 4 3 3 0 4 0 2 2 2 1 1 2 4 3 1 3 3 4 1 1 0 3 1 3 0 1 4 0 4 0 2\n",
            " 3 3 1 0 3 0 3 0 2 2 3 2 3 4 3 3 0 3 3 4 0 3 4 3 4 2 2 0 3 1 2 1 2 1 1 3 1\n",
            " 1 1 0 4 1 3 0 2 4 1 0 1 3 0 3 0 1 4 1 0 0 1 1 0 1 4 0 3 2 4 3 4 0 2 4 2 1\n",
            " 2 2 0 3 1 4 1 0 0 2 4 3 3 3 0 4 3 3 0 3 2 1 3 2 3 3 4 0 4 3 0 2 1 1 3 2 2\n",
            " 1 3 4 3 3 0 2 3 2 0 4 1 2 2 2 0 2 1 0 1 1 0 3 3 0 2 0 0 3 3 2 2 0 0 4 3 3\n",
            " 1 4 4 3 0 2 1 1 2 4 4 0 1 2 0 0 1 1 1 3 1 4 3 3 0 1 0 1 1 1 0 2 2 4 2 2 0\n",
            " 1 3 1 3 1 0 3 3 0 0 1 3 1 1 1 3 1 3 3 4 2 0 2 3 2 0 4 1 3 1 1 1 1 1 0 4 3\n",
            " 0 4 1 2 2 0 0 4 2 1 3 3 4 4 1 4 3 0 0 0 1 4 0 2 1 3 1 2 2 3 4 4 1 4 0 2 4\n",
            " 2 3 0 2 1 4 2 2 0 4 3 0 3 3 0 3 0 4 4 3 1 3 3 4 0 2 3 0 4 3 0 3 2 3 2 1 1\n",
            " 3 1 2 3 0 4 3 0 0 1 0 3 3 0 2 0 1 4 3 2 2 3 1 2 2 0 4 1 1 4 0 2 0 1 3 4 0\n",
            " 0 2 4 0 3 0 4 1 4 3 1 1 1 0 0 3 3 2 2 0 1 3 4 3 0 4 0 1 2 3 0 3 0 1 3 2 1\n",
            " 1]\n",
            "klaslter terdiri dari :  [0 1 2 3 4]\n",
            "0.45338695268782936\n"
          ],
          "name": "stdout"
        }
      ]
    },
    {
      "cell_type": "markdown",
      "metadata": {
        "id": "0FvwypPY1r5N"
      },
      "source": [
        "**DB SCAN Klastering**"
      ]
    },
    {
      "cell_type": "code",
      "metadata": {
        "colab": {
          "base_uri": "https://localhost:8080/",
          "height": 265
        },
        "id": "tgIzYONf1yVI",
        "outputId": "e7e52599-51f0-44c4-819e-1d00f21b9618"
      },
      "source": [
        "# dbscan clustering\r\n",
        "\r\n",
        "from numpy import where\r\n",
        "from sklearn.cluster import DBSCAN\r\n",
        "from matplotlib import pyplot\r\n",
        "# define dataset\r\n",
        "#X, _ = make_classification(n_samples=1000, n_features=2, n_informative=2, n_redundant=0, n_clusters_per_class=1, random_state=4)\r\n",
        "# define the model\r\n",
        "model = DBSCAN(eps=0.30, min_samples=9)\r\n",
        "# fit model and predict clusters\r\n",
        "yhat = model.fit_predict(X)\r\n",
        "# retrieve unique clusters\r\n",
        "clusters = unique(yhat)\r\n",
        "# create scatter plot for samples from each cluster\r\n",
        "for cluster in clusters:\r\n",
        "\t# get row indexes for samples with this cluster\r\n",
        "\trow_ix = where(yhat == cluster)\r\n",
        "\t# create scatter of these samples\r\n",
        "\tpyplot.scatter(X[row_ix, 0], X[row_ix, 1])\r\n",
        "# show the plot\r\n",
        "pyplot.show()"
      ],
      "execution_count": 29,
      "outputs": [
        {
          "output_type": "display_data",
          "data": {
            "image/png": "[encoded data removed]",
            "text/plain": [
              "<Figure size 432x288 with 1 Axes>"
            ]
          },
          "metadata": {
            "tags": [],
            "needs_background": "light"
          }
        }
      ]
    },
    {
      "cell_type": "markdown",
      "metadata": {
        "id": "M8x1iTXK2Ptk"
      },
      "source": [
        "Pwngukuran kualitas klustering "
      ]
    },
    {
      "cell_type": "code",
      "metadata": {
        "colab": {
          "base_uri": "https://localhost:8080/"
        },
        "id": "XsnlH01d2Sv7",
        "outputId": "1d621e0a-2542-4fc1-ae17-bb15c1b90a18"
      },
      "source": [
        "print('data sebelum di kluster :', X)  #menampilkan data yang di cluster \r\n",
        "print ('hasil pengklusteran : ', yhat) #menampilkan pengelompokan data\r\n",
        "print ('klaslter terdiri dari : ' ,clusters) #menampilkan kluster2 uniknya \r\n",
        "score = silhouette_score(X, yhat, metric='euclidean')\r\n",
        "print('silhoute score : ',score)\r\n"
      ],
      "execution_count": 30,
      "outputs": [
        {
          "output_type": "stream",
          "text": [
            "data sebelum di kluster : [[ 1.22515974 -0.95173116]\n",
            " [ 1.01630365 -1.72517506]\n",
            " [ 0.33534004 -1.7248955 ]\n",
            " ...\n",
            " [ 1.54270795 -0.05566478]\n",
            " [ 0.81664566 -1.2509187 ]\n",
            " [ 1.13782254 -1.26151957]]\n",
            "hasil pengklusteran :  [ 0  0  0 -1  0  1  0  0  0  0  1  1  1  1  1  1  1  1  1  1  1  0  0  1\n",
            "  0  1  0  1  0  0  0  0  0  0  1  1  1  1  1  1  1  1  1  1  0  0  1  0\n",
            "  1  1  0  1  0  1  0  0  0  0  0  0  1  1  0  0  1  0  0  1  1  0  0  1\n",
            "  1  1  0  0  1  0  1  0  1  1  1  0  0  0  0  1  1  0  1  1  0  1  0  0\n",
            "  1  1  1  0  1  0  0  1  1 -1  1  1  0  0 -1  1  1  1  0  1  1  1  1  0\n",
            "  1  0  0  1  0  0  1 -1  1 -1  0  0  0  0  1  1  1  0  1  1  0  0  0  1\n",
            "  1  1  1 -1 -1  0  0  0  0  1  0  0  1  0 -1  0  0  0  1  0  0  0  0  1\n",
            "  0  0  0  1  0  1 -1  0  1  1  1  1  0  0  0  0  0  0  0  0  1  0  0  1\n",
            "  1  1  1  1  1  0  0  0 -1  0  1  1  0  1  1  1  0  1  1  0  1  0  0 -1\n",
            "  0  0  0  1  0  1  0  0  1  1  1  0  0  1  0  0  1  0  1  0  0  1  0  1\n",
            "  1  1  0  0  0  1  1  0  0  1  1  0  1 -1  1  1  1  1  1  1  1  1  1  0\n",
            "  1  1  0  0  1  1  0  1  0  1  1  0  1  1  0  0  1  1  1  1  0  0  0  0\n",
            "  0  1  1  1  0  0  1  1  0  0  1 -1  1  1 -1  0  1  0  0  0  1 -1  1  1\n",
            "  0  1  0  1  1  1  1  1  1  1  1  1  0  0  1  0  1  0  0  0  1  1  1  1\n",
            "  1  0  1  0  1  1  1  0  1  0  0  1  1  1  1  1  0 -1  1  1  1  1  1  0\n",
            "  0  1  0  1  1  1  0  0  0  1  1  0  1  1  1  1  1  1  1  1  0  1  1  1\n",
            "  0  1  1  1  0  1  1  1  0  0  1  1  1  0  1  0  1  1  0  0  1  1  1  0\n",
            "  1  1  0  0  1  1  1  1  0 -1  0  1  1  0  1  0  1  0  0  1  0  0  0  1\n",
            "  0  0 -1  1  0  0  0  1  0  0  1  0  1  1  0  0  0  0  0  1  1  1  0  0\n",
            "  0  0  0  1  1  1  0  0  0  0  1  0  0  1  1  0  0  1  1  1  0  0  0  1\n",
            "  0  0  1  0  0  1  0  1  0  0 -1  0  1  0  0 -1  1  1  1  0  0  1  1  0\n",
            "  0  1  1  0  0  0  0  0  1  1  0  1  1  0  1  1  1  1  1  1  1  1  1  0\n",
            "  1  1  0  0  1  0  0  0  1  0  0  1  0  0 -1  0  0  0  1  1  0  0  1  0\n",
            "  0  0  0  1  1  0  0  0  0 -1  1 -1  1  0  1  0  0  0  0  1  0  0  0  1\n",
            "  1  0  0  1  1  1  1  1  1  1  0  1  1  1  1  1  0  0  0  0  1  1  0  1\n",
            "  1  1  0  1  1  1  0  0  0  0  0  1  0  1  1  0  0  0  1  1  0  1  1  0\n",
            "  0  1  0  1  0  1  1  0  1  1  1  1  1  0  1  1  0  1 -1  1  1  1  1  1\n",
            " -1  1  1  0  1  0  0  1  1  1  0  0  0  0  0  0  1  0  0  0  1  0  0  1\n",
            "  1  0  0  0 -1  0  1  1  1  1  0 -1  0  1  1  0  0  1  0  0  1  1  0 -1\n",
            "  1  0  1  0  0  0  0  0  1  1  1  0  0  0  1  1  1  0  1  1  1  1 -1  1\n",
            "  1  1  1  0  0  1  0  1  1  0  1  0  1  1  0  0  0  1 -1  0  0  1  0  1\n",
            "  1  1  0  1  0  1  0  0  0  1  0  1 -1  0  1  0  0  1  1  1  1 -1  1  1\n",
            "  1  1  0  0  1  1  0  1  1  0  0  0  1  1  0  0  0 -1 -1  0  1  0  0  1\n",
            "  1  0  0  0  1  0  0  1  1  1  0  1  0  0  0  1  0  0 -1  0  0  1  0  1\n",
            "  0  1  0  1  1  1  1  1  0  1  0  0  0  1  0  1  1 -1  0  1  0  1  0  1\n",
            "  0  0  1  0  0  0  0  0  1 -1  1  1  0  0  0  0  1  1  0  1  0  1  1  0\n",
            "  0  0  0  1  1  1  1  0  0  1  0  0  1  0  0  0  1  0  0  0 -1  1  1  0\n",
            "  0  1  1  0  0  0 -1 -1  1  0  1  1  1  1  1  1  1  0  0  1  0  1  1 -1\n",
            "  1 -1  1  1  0  1  1  1  0  1 -1  0  0  1  0  0  1  1  0  1  1  1  0  1\n",
            "  1  1  1  1  1  0  0  1 -1 -1  1  0  1  1  1  0  0  0  0  1  0  1  0  1\n",
            "  0  1  1 -1 -1  1  1  1  0  0  0  1  0  0  0  1  1  1  1 -1  1  1  0  1\n",
            "  0  1  1  0  1  0  0  1  1  1  1  0  1  0  0  0]\n",
            "klaslter terdiri dari :  [-1  0  1]\n",
            "silhoute score :  0.4230767949856645\n"
          ],
          "name": "stdout"
        }
      ]
    },
    {
      "cell_type": "markdown",
      "metadata": {
        "id": "4z0nFnNq3bY4"
      },
      "source": [
        "**aglomerative klastering**"
      ]
    },
    {
      "cell_type": "code",
      "metadata": {
        "colab": {
          "base_uri": "https://localhost:8080/",
          "height": 265
        },
        "id": "vr2uGA7U3j6V",
        "outputId": "28884507-37a7-4868-abb5-3f7cd9dea277"
      },
      "source": [
        "# agglomerative clustering\r\n",
        "from numpy import unique\r\n",
        "from sklearn.cluster import AgglomerativeClustering\r\n",
        "model = AgglomerativeClustering(n_clusters=5)\r\n",
        "# fit model and predict clusters\r\n",
        "yhat = model.fit_predict(X)\r\n",
        "# retrieve unique clusters\r\n",
        "clusters = unique(yhat)\r\n",
        "# create scatter plot for samples from each cluster\r\n",
        "for cluster in clusters:\r\n",
        "\t# get row indexes for samples with this cluster\r\n",
        "\trow_ix = where(yhat == cluster)\r\n",
        "\t# create scatter of these samples\r\n",
        "\tpyplot.scatter(X[row_ix, 0], X[row_ix, 1])\r\n",
        "# show the plot\r\n",
        "pyplot.show()\r\n"
      ],
      "execution_count": 31,
      "outputs": [
        {
          "output_type": "display_data",
          "data": {
            "image/png": "[encoded data removed]",
            "text/plain": [
              "<Figure size 432x288 with 1 Axes>"
            ]
          },
          "metadata": {
            "tags": [],
            "needs_background": "light"
          }
        }
      ]
    },
    {
      "cell_type": "markdown",
      "metadata": {
        "id": "nUCcQNld32mY"
      },
      "source": [
        "Quality Measure "
      ]
    },
    {
      "cell_type": "code",
      "metadata": {
        "colab": {
          "base_uri": "https://localhost:8080/"
        },
        "id": "QzXzYCh63409",
        "outputId": "f34b16f5-0a68-469a-8f26-9d29d651d0aa"
      },
      "source": [
        "print('data sebelum di kluster :', X)  #menampilkan data yang di cluster \r\n",
        "print ('hasil pengklusteran : ', yhat) #menampilkan pengelompokan data\r\n",
        "print ('klaslter terdiri dari : ' ,clusters) #menampilkan kluster2 uniknya \r\n",
        "score = silhouette_score(X, yhat, metric='euclidean')\r\n",
        "print('silhoute score : ',score)"
      ],
      "execution_count": 28,
      "outputs": [
        {
          "output_type": "stream",
          "text": [
            "data sebelum di kluster : [[ 1.22515974 -0.95173116]\n",
            " [ 1.01630365 -1.72517506]\n",
            " [ 0.33534004 -1.7248955 ]\n",
            " ...\n",
            " [ 1.54270795 -0.05566478]\n",
            " [ 0.81664566 -1.2509187 ]\n",
            " [ 1.13782254 -1.26151957]]\n",
            "hasil pengklusteran :  [4 0 0 0 2 1 0 4 2 2 1 1 1 1 3 1 1 3 3 1 1 2 0 1 2 3 0 1 0 0 0 0 4 0 1 1 1\n",
            " 1 1 3 1 1 3 3 0 4 1 4 1 1 2 3 2 3 4 4 2 0 0 0 1 1 0 4 3 0 0 3 3 0 4 1 1 1\n",
            " 2 0 3 0 3 0 1 1 1 0 2 0 2 3 1 0 3 3 0 1 4 2 3 3 1 0 3 0 4 3 1 2 3 1 4 0 0\n",
            " 1 3 1 4 1 1 1 1 0 3 2 2 3 2 0 1 2 1 0 0 0 4 0 3 1 1 0 1 1 0 4 4 3 3 1 3 0\n",
            " 2 4 4 2 0 3 4 4 1 4 0 2 0 2 3 4 0 2 4 3 2 0 2 1 0 1 2 4 1 3 1 1 4 2 4 4 0\n",
            " 0 2 4 1 4 0 3 1 1 1 3 1 0 4 0 4 0 1 3 4 3 1 1 4 1 1 0 1 0 4 0 2 4 0 3 0 3\n",
            " 0 2 1 3 3 0 0 3 0 4 1 2 3 4 4 3 0 3 3 3 0 4 2 1 3 2 4 1 1 2 1 2 3 1 1 3 3\n",
            " 1 1 1 1 4 3 1 0 0 1 1 2 1 4 1 3 0 1 3 0 4 3 3 1 3 4 4 2 0 4 1 1 3 0 0 1 3\n",
            " 4 0 3 2 3 1 2 0 1 0 0 0 3 0 1 1 0 3 0 3 1 1 1 1 1 1 3 1 4 2 1 0 1 4 0 2 1\n",
            " 1 1 3 1 4 1 0 3 1 1 4 3 0 2 3 1 3 2 3 4 4 1 3 3 3 1 4 4 3 0 1 3 1 2 2 0 1\n",
            " 1 4 1 1 3 1 3 3 1 1 4 3 1 3 4 1 3 3 0 1 1 1 0 0 3 1 1 0 3 0 3 1 0 4 3 1 1\n",
            " 4 1 3 4 4 3 1 3 1 2 2 2 1 3 0 3 0 1 0 0 1 0 0 4 1 4 0 2 1 0 2 4 3 4 4 1 4\n",
            " 1 1 2 2 4 0 0 1 1 3 4 0 2 0 4 3 1 1 2 4 4 0 1 0 0 3 1 2 2 3 3 3 0 4 0 1 4\n",
            " 4 1 0 0 1 4 1 0 0 2 4 1 4 0 0 3 1 3 2 0 1 1 2 2 1 1 0 0 0 0 0 3 3 4 1 3 2\n",
            " 3 3 1 1 1 1 1 1 1 4 3 1 4 0 3 0 2 2 3 2 0 1 0 2 1 4 4 0 3 3 2 4 3 2 4 0 0\n",
            " 1 3 4 0 2 4 0 1 2 1 0 3 4 4 0 0 1 4 0 4 1 3 2 0 3 3 1 1 3 3 3 0 3 1 1 1 1\n",
            " 0 4 4 0 1 1 0 3 3 1 0 1 3 3 2 0 0 2 0 3 0 3 1 0 4 0 1 3 0 3 1 4 0 1 0 1 2\n",
            " 3 3 0 1 3 1 1 1 2 3 1 2 3 0 1 3 1 3 1 0 1 3 0 3 0 4 3 1 1 4 2 4 2 4 4 3 0\n",
            " 0 0 1 0 2 1 1 4 0 0 1 4 1 1 3 1 4 0 4 1 1 4 4 1 4 0 1 3 4 0 3 0 1 2 0 2 4\n",
            " 2 3 1 3 2 0 0 1 1 3 0 3 3 3 1 0 3 3 1 3 2 4 3 2 3 1 0 1 0 1 1 2 0 0 3 2 2\n",
            " 0 1 0 1 3 1 2 3 2 1 0 0 2 3 2 1 2 4 1 0 4 1 3 3 1 2 1 1 3 3 2 2 1 1 0 1 3\n",
            " 4 0 0 1 1 2 4 4 2 0 0 1 4 2 1 1 0 4 4 1 0 0 3 1 1 4 1 4 4 2 1 2 2 0 2 2 1\n",
            " 4 3 4 3 0 1 1 1 1 1 4 3 2 0 0 1 4 3 1 0 2 1 2 1 2 1 0 4 3 4 0 4 0 0 1 0 3\n",
            " 1 0 4 4 2 1 1 0 3 4 3 3 0 0 4 0 3 1 1 1 4 0 1 2 2 3 4 2 2 3 0 0 0 0 1 3 0\n",
            " 2 3 1 2 0 0 2 2 1 0 3 1 1 1 1 3 1 0 0 3 4 3 3 0 1 2 1 1 0 1 1 3 2 3 2 4 4\n",
            " 1 4 2 3 1 0 3 1 1 0 1 3 3 1 3 1 4 0 3 2 3 1 0 3 3 1 0 0 4 0 1 2 1 4 1 0 1\n",
            " 1 2 0 1 3 1 0 4 0 1 4 4 4 1 1 3 1 2 3 1 0 3 0 3 1 0 1 4 2 3 1 1 1 4 3 2 0\n",
            " 0]\n",
            "klaslter terdiri dari :  [0 1 2 3 4]\n",
            "silhoute score :  0.4203743492008119\n"
          ],
          "name": "stdout"
        }
      ]
    }
  ]
}