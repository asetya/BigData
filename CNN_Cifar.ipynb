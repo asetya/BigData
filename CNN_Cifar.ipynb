{
  "nbformat": 4,
  "nbformat_minor": 0,
  "metadata": {
    "colab": {
      "name": "CNN_Cifar.ipynb",
      "provenance": [],
      "collapsed_sections": [],
      "authorship_tag": "ABX9TyNcPq7s74oPvPw6TONvZ20K",
      "include_colab_link": true
    },
    "kernelspec": {
      "name": "python3",
      "display_name": "Python 3"
    },
    "language_info": {
      "name": "python"
    }
  },
  "cells": [
    {
      "cell_type": "markdown",
      "metadata": {
        "id": "view-in-github",
        "colab_type": "text"
      },
      "source": [
        "<a href=\"https://colab.research.google.com/github/asetya/BigData/blob/master/CNN_Cifar.ipynb\" target=\"_parent\"><img src=\"https://colab.research.google.com/assets/colab-badge.svg\" alt=\"Open In Colab\"/></a>"
      ]
    },
    {
      "cell_type": "markdown",
      "metadata": {
        "id": "Bn0HK-n1RZQv"
      },
      "source": [
        "# CNN with CIFAR DATASET "
      ]
    },
    {
      "cell_type": "markdown",
      "metadata": {
        "id": "YEaGkT06RkuV"
      },
      "source": [
        "sumber : https://www.analyticsvidhya.com/blog/2020/02/learn-image-classification-cnn-convolutional-neural-networks-3-datasets/\n",
        "\n",
        "CIFAR-10 adalah dataset citra  yang terdiri dari 60.000 gambar ukuran 32x32 \n",
        "\n",
        "terdiri dari 50.000 training dan 10.000 testing \n",
        "\n",
        "Kita akan mencoba arsitektur CNN sederhana untuk mengelompokan (klasifikasi) gambar menjadi 10 kelas "
      ]
    },
    {
      "cell_type": "markdown",
      "metadata": {
        "id": "Ip1TJoakmPLf"
      },
      "source": [
        "**Download Dataset**"
      ]
    },
    {
      "cell_type": "code",
      "metadata": {
        "colab": {
          "base_uri": "https://localhost:8080/"
        },
        "id": "-qGtNBstRjVL",
        "outputId": "d22d1fe4-afee-46b3-817d-18ff8c6fd611"
      },
      "source": [
        "from keras.datasets import cifar10\n",
        "# loading the dataset \n",
        "(X_train, y_train), (X_test, y_test) = cifar10.load_data()"
      ],
      "execution_count": 1,
      "outputs": [
        {
          "output_type": "stream",
          "text": [
            "Downloading data from https://www.cs.toronto.edu/~kriz/cifar-10-python.tar.gz\n",
            "170500096/170498071 [==============================] - 6s 0us/step\n",
            "170508288/170498071 [==============================] - 6s 0us/step\n"
          ],
          "name": "stdout"
        }
      ]
    },
    {
      "cell_type": "markdown",
      "metadata": {
        "id": "dOn1GFquSbzM"
      },
      "source": [
        "**Import Library** "
      ]
    },
    {
      "cell_type": "code",
      "metadata": {
        "id": "nzoaM2ueSgZD"
      },
      "source": [
        "# keras imports for the dataset and building our neural network\n",
        "\n",
        "from keras.models import Sequential\n",
        "from keras.layers import Dense, Dropout, Conv2D, MaxPool2D, Flatten\n",
        "from keras.utils import np_utils\n",
        "\n"
      ],
      "execution_count": 2,
      "outputs": []
    },
    {
      "cell_type": "markdown",
      "metadata": {
        "id": "gcr_-B3cSoZb"
      },
      "source": [
        "**Menyiapkan dataset** "
      ]
    },
    {
      "cell_type": "code",
      "metadata": {
        "colab": {
          "base_uri": "https://localhost:8080/"
        },
        "id": "6_IHVx87SsC7",
        "outputId": "75c4ae8b-18b2-4f40-de30-0e8e0a43227b"
      },
      "source": [
        "# # building the input vector from the 32x32 pixels\n",
        "X_train = X_train.reshape(X_train.shape[0], 32, 32, 3)\n",
        "X_test = X_test.reshape(X_test.shape[0], 32, 32, 3)\n",
        "X_train = X_train.astype('float32')\n",
        "X_test = X_test.astype('float32')\n",
        "\n",
        "# normalizing the data to help with the training\n",
        "X_train /= 255\n",
        "X_test /= 255\n",
        "\n",
        "# one-hot encoding using keras' numpy-related utilities\n",
        "n_classes = 10\n",
        "print(\"Shape before one-hot encoding: \", y_train.shape)\n",
        "Y_train = np_utils.to_categorical(y_train, n_classes)\n",
        "Y_test = np_utils.to_categorical(y_test, n_classes)\n",
        "print(\"Shape after one-hot encoding: \", Y_train.shape)\n",
        "\n"
      ],
      "execution_count": 3,
      "outputs": [
        {
          "output_type": "stream",
          "text": [
            "Shape before one-hot encoding:  (50000, 1)\n",
            "Shape after one-hot encoding:  (50000, 10)\n"
          ],
          "name": "stdout"
        }
      ]
    },
    {
      "cell_type": "markdown",
      "metadata": {
        "id": "FvophN8_SxkL"
      },
      "source": [
        "**Membuat Model**"
      ]
    },
    {
      "cell_type": "code",
      "metadata": {
        "colab": {
          "base_uri": "https://localhost:8080/"
        },
        "id": "HH7ulOr_Sw3q",
        "outputId": "a3797225-d18f-428b-d95b-d2997f2283b5"
      },
      "source": [
        "# building a linear stack of layers with the sequential model\n",
        "model = Sequential()\n",
        "\n",
        "# convolutional layer\n",
        "model.add(Conv2D(50, kernel_size=(3,3), strides=(1,1), padding='same', activation='relu', input_shape=(32, 32, 3)))\n",
        "\n",
        "# convolutional layer\n",
        "model.add(Conv2D(75, kernel_size=(3,3), strides=(1,1), padding='same', activation='relu'))\n",
        "model.add(MaxPool2D(pool_size=(2,2)))\n",
        "model.add(Dropout(0.25))\n",
        "\n",
        "model.add(Conv2D(125, kernel_size=(3,3), strides=(1,1), padding='same', activation='relu'))\n",
        "model.add(MaxPool2D(pool_size=(2,2)))\n",
        "model.add(Dropout(0.25))\n",
        "\n",
        "# flatten output of conv\n",
        "model.add(Flatten())\n",
        "\n",
        "# hidden layer\n",
        "model.add(Dense(500, activation='relu'))\n",
        "model.add(Dropout(0.4))\n",
        "model.add(Dense(250, activation='relu'))\n",
        "model.add(Dropout(0.3))\n",
        "# output layer\n",
        "model.add(Dense(10, activation='softmax'))\n",
        "\n",
        "# compiling the sequential model\n",
        "model.compile(loss='categorical_crossentropy', metrics=['accuracy'], optimizer='adam')\n",
        "\n",
        "#menampilkan model \n",
        "print(model.summary())\n"
      ],
      "execution_count": 7,
      "outputs": [
        {
          "output_type": "stream",
          "text": [
            "Model: \"sequential_1\"\n",
            "_________________________________________________________________\n",
            "Layer (type)                 Output Shape              Param #   \n",
            "=================================================================\n",
            "conv2d_3 (Conv2D)            (None, 32, 32, 50)        1400      \n",
            "_________________________________________________________________\n",
            "conv2d_4 (Conv2D)            (None, 32, 32, 75)        33825     \n",
            "_________________________________________________________________\n",
            "max_pooling2d_2 (MaxPooling2 (None, 16, 16, 75)        0         \n",
            "_________________________________________________________________\n",
            "dropout_4 (Dropout)          (None, 16, 16, 75)        0         \n",
            "_________________________________________________________________\n",
            "conv2d_5 (Conv2D)            (None, 16, 16, 125)       84500     \n",
            "_________________________________________________________________\n",
            "max_pooling2d_3 (MaxPooling2 (None, 8, 8, 125)         0         \n",
            "_________________________________________________________________\n",
            "dropout_5 (Dropout)          (None, 8, 8, 125)         0         \n",
            "_________________________________________________________________\n",
            "flatten_1 (Flatten)          (None, 8000)              0         \n",
            "_________________________________________________________________\n",
            "dense_3 (Dense)              (None, 500)               4000500   \n",
            "_________________________________________________________________\n",
            "dropout_6 (Dropout)          (None, 500)               0         \n",
            "_________________________________________________________________\n",
            "dense_4 (Dense)              (None, 250)               125250    \n",
            "_________________________________________________________________\n",
            "dropout_7 (Dropout)          (None, 250)               0         \n",
            "_________________________________________________________________\n",
            "dense_5 (Dense)              (None, 10)                2510      \n",
            "=================================================================\n",
            "Total params: 4,247,985\n",
            "Trainable params: 4,247,985\n",
            "Non-trainable params: 0\n",
            "_________________________________________________________________\n",
            "None\n"
          ],
          "name": "stdout"
        }
      ]
    },
    {
      "cell_type": "markdown",
      "metadata": {
        "id": "QYyf5-IHjT45"
      },
      "source": [
        "Model yang dibangun terdiri dari beberapa layer dan dengan jumlah parameter pada masing masing  layer misal untuk layer 1, adalah layer konvolusi 2 dimensi dengan keluaran 32 x 32 x 50. \n",
        "\n",
        "Jika kita lihat pada saat pembangunan model untuk layer 1 \n",
        "\n",
        "\n",
        "\n",
        "```\n",
        "model.add(Conv2D(50, kernel_size=(3,3), strides=(1,1), padding='same', activation='relu', input_shape=(32, 32, 3)))\n",
        "```\n",
        "Jadi di layer ini ada konvolusi 2 dimensi dengan kernek sebanyak 50, masing masing kernel berukuran 3 x 3 dengan stride (lompatan) kernel pada saat konvolusi adalah 1 ke kanan 1 ke bawah (1,1) padding nya same artinya ukuran masukan dan ukuran keluaran sama (32x32) masukannya adalah image 32x32x3 (ukurapn lebar 32, tinggi 32 terdapat 3 sinyal warna R,G dan B) \n",
        "Jumlah parameter = 1400 berasal dari ((3 x 3 x 3)+1) x 50 = 28 x 50 = 1400 \n",
        "3 x 3 ukuran kernel, x 3 karena butuh 3 lapis untuk tiap kernel untuk dikonvolusi dengan lapisan gambar R,G,B di tambah 1 karena untuk setiap konvolusi ada 1 nilai bias yang ditambahkan. \n",
        "\n",
        "\n",
        "\n",
        "\n"
      ]
    },
    {
      "cell_type": "markdown",
      "metadata": {
        "id": "7OR-H1KXS72j"
      },
      "source": [
        "**Melakukan Training dan Validasi**"
      ]
    },
    {
      "cell_type": "code",
      "metadata": {
        "colab": {
          "base_uri": "https://localhost:8080/"
        },
        "id": "qbrSV38oS_u7",
        "outputId": "bd20e97b-7f67-4a64-c81c-6dc304754660"
      },
      "source": [
        "# training the model for 10 epochs\n",
        "model.fit(X_train, Y_train, batch_size=128, epochs=10, validation_data=(X_test, Y_test))"
      ],
      "execution_count": 5,
      "outputs": [
        {
          "output_type": "stream",
          "text": [
            "Epoch 1/10\n",
            "391/391 [==============================] - 376s 927ms/step - loss: 1.8615 - accuracy: 0.3051 - val_loss: 1.1985 - val_accuracy: 0.5792\n",
            "Epoch 2/10\n",
            "391/391 [==============================] - 367s 939ms/step - loss: 1.1458 - accuracy: 0.5886 - val_loss: 0.9073 - val_accuracy: 0.6897\n",
            "Epoch 3/10\n",
            "391/391 [==============================] - 370s 948ms/step - loss: 0.9169 - accuracy: 0.6764 - val_loss: 0.7920 - val_accuracy: 0.7260\n",
            "Epoch 4/10\n",
            "391/391 [==============================] - 367s 938ms/step - loss: 0.7929 - accuracy: 0.7226 - val_loss: 0.7366 - val_accuracy: 0.7509\n",
            "Epoch 5/10\n",
            "391/391 [==============================] - 366s 936ms/step - loss: 0.7043 - accuracy: 0.7523 - val_loss: 0.7001 - val_accuracy: 0.7624\n",
            "Epoch 6/10\n",
            "391/391 [==============================] - 366s 937ms/step - loss: 0.6381 - accuracy: 0.7780 - val_loss: 0.6743 - val_accuracy: 0.7685\n",
            "Epoch 7/10\n",
            "391/391 [==============================] - 365s 935ms/step - loss: 0.5756 - accuracy: 0.8009 - val_loss: 0.6719 - val_accuracy: 0.7695\n",
            "Epoch 8/10\n",
            "391/391 [==============================] - 367s 938ms/step - loss: 0.5313 - accuracy: 0.8125 - val_loss: 0.6627 - val_accuracy: 0.7738\n",
            "Epoch 9/10\n",
            "391/391 [==============================] - 366s 935ms/step - loss: 0.4811 - accuracy: 0.8313 - val_loss: 0.6675 - val_accuracy: 0.7788\n",
            "Epoch 10/10\n",
            "391/391 [==============================] - 364s 932ms/step - loss: 0.4444 - accuracy: 0.8425 - val_loss: 0.6637 - val_accuracy: 0.7811\n"
          ],
          "name": "stdout"
        },
        {
          "output_type": "execute_result",
          "data": {
            "text/plain": [
              "<keras.callbacks.History at 0x7fcce3f455d0>"
            ]
          },
          "metadata": {
            "tags": []
          },
          "execution_count": 5
        }
      ]
    },
    {
      "cell_type": "markdown",
      "metadata": {
        "id": "Za2WooQ3hpiR"
      },
      "source": [
        "Dengan 10 epoch (iterasi) didapati model dengan akurasi training 84.25% dan akurasi validasi terbaik 78.11%\n",
        "\n",
        "additional explanation \n",
        "https://towardsdatascience.com/understanding-and-calculating-the-number-of-parameters-in-convolution-neural-networks-cnns-fc88790d530d"
      ]
    }
  ]
}