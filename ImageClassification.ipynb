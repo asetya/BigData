{
  "nbformat": 4,
  "nbformat_minor": 0,
  "metadata": {
    "colab": {
      "name": "global.ipynb",
      "provenance": [],
      "collapsed_sections": [],
      "toc_visible": true,
      "include_colab_link": true
    },
    "kernelspec": {
      "name": "python3",
      "display_name": "Python 3"
    }
  },
  "cells": [
    {
      "cell_type": "markdown",
      "metadata": {
        "id": "view-in-github",
        "colab_type": "text"
      },
      "source": [
        "<a href=\"https://colab.research.google.com/github/asetya/BigData/blob/master/ImageClassification.ipynb\" target=\"_parent\"><img src=\"https://colab.research.google.com/assets/colab-badge.svg\" alt=\"Open In Colab\"/></a>"
      ]
    },
    {
      "cell_type": "markdown",
      "metadata": {
        "id": "8Oftw1TaJspp"
      },
      "source": [
        "**praktikum mesin learning untuk image recognition menggunakan fitur global **\n",
        "\n",
        "\n",
        "\n",
        "terdapat 2 buah file, file pertama digunakan untuk menulis fungsi fungsi ekstraksi fitur, file kedua untuk melakukan klasifikasi dan evaluasi "
      ]
    },
    {
      "cell_type": "markdown",
      "metadata": {
        "id": "h4INOS2vVYVB"
      },
      "source": [
        "1. buka google colab https://colab.research.google.com/\n",
        "2. buat notebook baru \n",
        "3. buat blok kode program dengan mengklik +code \n",
        "4. jalankan setiap blok kode program dengan mengklik tanda panah ke kanan untuk setiap blok \n"
      ]
    },
    {
      "cell_type": "code",
      "metadata": {
        "id": "7DjUgIelJzqq"
      },
      "source": [
        "from sklearn.preprocessing import LabelEncoder\n",
        "from sklearn.preprocessing import MinMaxScaler\n",
        "import numpy as np\n",
        "import mahotas\n",
        "import cv2\n",
        "import os\n",
        "import h5py"
      ],
      "execution_count": 9,
      "outputs": []
    },
    {
      "cell_type": "markdown",
      "metadata": {
        "id": "YcN7XQnLWNqC"
      },
      "source": [
        "jika terdapat pesan bahwa library mahotas tidak ada seperti di bawah ini :\n",
        " \n",
        "\n",
        "```\n",
        "ModuleNotFoundError                       Traceback (most recent call last)\n",
        "<ipython-input-1-717b2196b28a> in <module>()\n",
        "      2 from sklearn.preprocessing import MinMaxScaler\n",
        "      3 import numpy as np\n",
        "----> 4 import mahotas\n",
        "      5 import cv2\n",
        "      6 import os\n",
        "\n",
        "ModuleNotFoundError: No module named 'mahotas'\n",
        "\n",
        "---------------------------------------------------------------------------\n",
        "NOTE: If your import is failing due to a missing package, you can\n",
        "manually install dependencies using either !pip or !apt.\n",
        "\n",
        "To view examples of installing some common dependencies, click the\n",
        "\"Open Examples\" button below.\n",
        "```\n",
        "\n",
        "\n",
        " (ModuleNotFoundError: No module named 'mahotas')\n",
        " \n",
        " tidak di temukan silakan jalankan blok program di bawah ini, dengan mengaktikan dulu kodenya dengan menghapus tanda #\n",
        "\n",
        "setelah selesai, non aktifkan perintah instal mahotas dan  kembali jalankan blok yang error tadi\n",
        "\n"
      ]
    },
    {
      "cell_type": "code",
      "metadata": {
        "id": "Ichjb3LQXFeS",
        "colab": {
          "base_uri": "https://localhost:8080/"
        },
        "outputId": "ce7fcf90-6cdd-4f63-ab06-8bbb1d0abb98"
      },
      "source": [
        "#!pip install mahotas"
      ],
      "execution_count": 2,
      "outputs": [
        {
          "output_type": "stream",
          "text": [
            "Collecting mahotas\n",
            "\u001b[?25l  Downloading https://files.pythonhosted.org/packages/ce/3b/1f3fe2f86ffdb4a2fbc6baaf4ef0e6cebdd3e127de44ddd188dc2ed0d412/mahotas-1.4.11-cp36-cp36m-manylinux2010_x86_64.whl (5.7MB)\n",
            "\u001b[K     |████████████████████████████████| 5.7MB 4.0MB/s \n",
            "\u001b[?25hRequirement already satisfied: numpy in /usr/local/lib/python3.6/dist-packages (from mahotas) (1.19.5)\n",
            "Installing collected packages: mahotas\n",
            "Successfully installed mahotas-1.4.11\n"
          ],
          "name": "stdout"
        }
      ]
    },
    {
      "cell_type": "markdown",
      "metadata": {
        "id": "sTjQNHCoXJH6"
      },
      "source": [
        "jika terdapat pesan bahwa libray cv2 tidak di temukan silakan jalankan blok program di bawah ini, dengan mengaktikan dulu kodenya dengan menghapus tanda #\n"
      ]
    },
    {
      "cell_type": "code",
      "metadata": {
        "id": "bwSRskUaaQQD",
        "colab": {
          "base_uri": "https://localhost:8080/"
        },
        "outputId": "7643e8f6-520b-4e01-a477-77328895c182"
      },
      "source": [
        "#!pip install opencv-contrib-python==3.4.0.12"
      ],
      "execution_count": 3,
      "outputs": [
        {
          "output_type": "stream",
          "text": [
            "Collecting opencv-contrib-python==3.4.0.12\n",
            "\u001b[?25l  Downloading https://files.pythonhosted.org/packages/d0/ee/fb76784459b35c55740a0b20c7cfbd06752f9f8f96bf0bdcfafe2e8cf363/opencv_contrib_python-3.4.0.12-cp36-cp36m-manylinux1_x86_64.whl (30.5MB)\n",
            "\u001b[K     |████████████████████████████████| 30.5MB 141kB/s \n",
            "\u001b[?25hRequirement already satisfied: numpy>=1.11.3 in /usr/local/lib/python3.6/dist-packages (from opencv-contrib-python==3.4.0.12) (1.19.5)\n",
            "Installing collected packages: opencv-contrib-python\n",
            "  Found existing installation: opencv-contrib-python 4.1.2.30\n",
            "    Uninstalling opencv-contrib-python-4.1.2.30:\n",
            "      Successfully uninstalled opencv-contrib-python-4.1.2.30\n",
            "Successfully installed opencv-contrib-python-3.4.0.12\n"
          ],
          "name": "stdout"
        }
      ]
    },
    {
      "cell_type": "code",
      "metadata": {
        "id": "T5I0qSaJK6Wh"
      },
      "source": [
        ""
      ],
      "execution_count": null,
      "outputs": []
    },
    {
      "cell_type": "markdown",
      "metadata": {
        "id": "c-YVDxrdX7RQ"
      },
      "source": [
        "Hubungkan kode program ini dengan google drive kita\n"
      ]
    },
    {
      "cell_type": "code",
      "metadata": {
        "id": "RWSJpsyKqHjH",
        "colab": {
          "base_uri": "https://localhost:8080/"
        },
        "outputId": "f2f46fce-fb99-4160-c16c-88c8d2971cfc"
      },
      "source": [
        "from google.colab import drive\n",
        "drive.mount('/content/drive')"
      ],
      "execution_count": 4,
      "outputs": [
        {
          "output_type": "stream",
          "text": [
            "Mounted at /content/drive\n"
          ],
          "name": "stdout"
        }
      ]
    },
    {
      "cell_type": "markdown",
      "metadata": {
        "id": "D1Uhl7ri5TPH"
      },
      "source": [
        "output yang diharapkan : \n",
        "\n",
        "Mounted at /content/drive"
      ]
    },
    {
      "cell_type": "markdown",
      "metadata": {
        "id": "zY8RMcZOLDUQ"
      },
      "source": [
        "Copy Dataset dari lokal ke server google colab"
      ]
    },
    {
      "cell_type": "code",
      "metadata": {
        "id": "M85MPr4h15ho"
      },
      "source": [
        "cp /content/drive/My\\ Drive/dataset1.zip /content/"
      ],
      "execution_count": 5,
      "outputs": []
    },
    {
      "cell_type": "markdown",
      "metadata": {
        "id": "M4teLdOLcOhA"
      },
      "source": [
        "**unzip dataset di server google colab**"
      ]
    },
    {
      "cell_type": "code",
      "metadata": {
        "id": "tWcdT3pmb_PO",
        "colab": {
          "base_uri": "https://localhost:8080/"
        },
        "outputId": "d9c655cb-52b7-40c8-ffbc-443167081af5"
      },
      "source": [
        "!unzip /content/dataset1.zip"
      ],
      "execution_count": 6,
      "outputs": [
        {
          "output_type": "stream",
          "text": [
            "Archive:  /content/dataset1.zip\n",
            "   creating: dataset1/dataset1/\n",
            "  inflating: dataset1/dataset1/desktop.ini  \n",
            "   creating: dataset1/dataset1/test/\n",
            "  inflating: dataset1/dataset1/test/1.jpg  \n",
            "  inflating: dataset1/dataset1/test/2.jpg  \n",
            "  inflating: dataset1/dataset1/test/3.jpg  \n",
            "  inflating: dataset1/dataset1/test/76.jpg  \n",
            "  inflating: dataset1/dataset1/test/77.jpg  \n",
            "  inflating: dataset1/dataset1/test/78.jpg  \n",
            "  inflating: dataset1/dataset1/test/79.jpg  \n",
            "  inflating: dataset1/dataset1/test/80.jpg  \n",
            "  inflating: dataset1/dataset1/test/desktop.ini  \n",
            "   creating: dataset1/dataset1/train/\n",
            "   creating: dataset1/dataset1/train/bluebell/\n",
            "  inflating: dataset1/dataset1/train/bluebell/1.jpg  \n",
            "  inflating: dataset1/dataset1/train/bluebell/10.jpg  \n",
            "  inflating: dataset1/dataset1/train/bluebell/11.jpg  \n",
            "  inflating: dataset1/dataset1/train/bluebell/12.jpg  \n",
            "  inflating: dataset1/dataset1/train/bluebell/13.jpg  \n",
            "  inflating: dataset1/dataset1/train/bluebell/14.jpg  \n",
            "  inflating: dataset1/dataset1/train/bluebell/15.jpg  \n",
            "  inflating: dataset1/dataset1/train/bluebell/16.jpg  \n",
            "  inflating: dataset1/dataset1/train/bluebell/17.jpg  \n",
            "  inflating: dataset1/dataset1/train/bluebell/18.jpg  \n",
            "  inflating: dataset1/dataset1/train/bluebell/19.jpg  \n",
            "  inflating: dataset1/dataset1/train/bluebell/2.jpg  \n",
            "  inflating: dataset1/dataset1/train/bluebell/20.jpg  \n",
            "  inflating: dataset1/dataset1/train/bluebell/21.jpg  \n",
            "  inflating: dataset1/dataset1/train/bluebell/22.jpg  \n",
            "  inflating: dataset1/dataset1/train/bluebell/23.jpg  \n",
            "  inflating: dataset1/dataset1/train/bluebell/24.jpg  \n",
            "  inflating: dataset1/dataset1/train/bluebell/25.jpg  \n",
            "  inflating: dataset1/dataset1/train/bluebell/26.jpg  \n",
            "  inflating: dataset1/dataset1/train/bluebell/27.jpg  \n",
            "  inflating: dataset1/dataset1/train/bluebell/28.jpg  \n",
            "  inflating: dataset1/dataset1/train/bluebell/29.jpg  \n",
            "  inflating: dataset1/dataset1/train/bluebell/3.jpg  \n",
            "  inflating: dataset1/dataset1/train/bluebell/30.jpg  \n",
            "  inflating: dataset1/dataset1/train/bluebell/31.jpg  \n",
            "  inflating: dataset1/dataset1/train/bluebell/32.jpg  \n",
            "  inflating: dataset1/dataset1/train/bluebell/33.jpg  \n",
            "  inflating: dataset1/dataset1/train/bluebell/34.jpg  \n",
            "  inflating: dataset1/dataset1/train/bluebell/35.jpg  \n",
            "  inflating: dataset1/dataset1/train/bluebell/36.jpg  \n",
            "  inflating: dataset1/dataset1/train/bluebell/37.jpg  \n",
            "  inflating: dataset1/dataset1/train/bluebell/38.jpg  \n",
            "  inflating: dataset1/dataset1/train/bluebell/39.jpg  \n",
            "  inflating: dataset1/dataset1/train/bluebell/4.jpg  \n",
            "  inflating: dataset1/dataset1/train/bluebell/40.jpg  \n",
            "  inflating: dataset1/dataset1/train/bluebell/41.jpg  \n",
            "  inflating: dataset1/dataset1/train/bluebell/42.jpg  \n",
            "  inflating: dataset1/dataset1/train/bluebell/43.jpg  \n",
            "  inflating: dataset1/dataset1/train/bluebell/44.jpg  \n",
            "  inflating: dataset1/dataset1/train/bluebell/45.jpg  \n",
            "  inflating: dataset1/dataset1/train/bluebell/46.jpg  \n",
            "  inflating: dataset1/dataset1/train/bluebell/47.jpg  \n",
            "  inflating: dataset1/dataset1/train/bluebell/48.jpg  \n",
            "  inflating: dataset1/dataset1/train/bluebell/49.jpg  \n",
            "  inflating: dataset1/dataset1/train/bluebell/5.jpg  \n",
            "  inflating: dataset1/dataset1/train/bluebell/50.jpg  \n",
            "  inflating: dataset1/dataset1/train/bluebell/51.jpg  \n",
            "  inflating: dataset1/dataset1/train/bluebell/52.jpg  \n",
            "  inflating: dataset1/dataset1/train/bluebell/53.jpg  \n",
            "  inflating: dataset1/dataset1/train/bluebell/54.jpg  \n",
            "  inflating: dataset1/dataset1/train/bluebell/55.jpg  \n",
            "  inflating: dataset1/dataset1/train/bluebell/56.jpg  \n",
            "  inflating: dataset1/dataset1/train/bluebell/57.jpg  \n",
            "  inflating: dataset1/dataset1/train/bluebell/58.jpg  \n",
            "  inflating: dataset1/dataset1/train/bluebell/59.jpg  \n",
            "  inflating: dataset1/dataset1/train/bluebell/6.jpg  \n",
            "  inflating: dataset1/dataset1/train/bluebell/60.jpg  \n",
            "  inflating: dataset1/dataset1/train/bluebell/61.jpg  \n",
            "  inflating: dataset1/dataset1/train/bluebell/62.jpg  \n",
            "  inflating: dataset1/dataset1/train/bluebell/63.jpg  \n",
            "  inflating: dataset1/dataset1/train/bluebell/64.jpg  \n",
            "  inflating: dataset1/dataset1/train/bluebell/65.jpg  \n",
            "  inflating: dataset1/dataset1/train/bluebell/66.jpg  \n",
            "  inflating: dataset1/dataset1/train/bluebell/67.jpg  \n",
            "  inflating: dataset1/dataset1/train/bluebell/68.jpg  \n",
            "  inflating: dataset1/dataset1/train/bluebell/69.jpg  \n",
            "  inflating: dataset1/dataset1/train/bluebell/7.jpg  \n",
            "  inflating: dataset1/dataset1/train/bluebell/70.jpg  \n",
            "  inflating: dataset1/dataset1/train/bluebell/71.jpg  \n",
            "  inflating: dataset1/dataset1/train/bluebell/72.jpg  \n",
            "  inflating: dataset1/dataset1/train/bluebell/73.jpg  \n",
            "  inflating: dataset1/dataset1/train/bluebell/74.jpg  \n",
            "  inflating: dataset1/dataset1/train/bluebell/75.jpg  \n",
            "  inflating: dataset1/dataset1/train/bluebell/76.jpg  \n",
            "  inflating: dataset1/dataset1/train/bluebell/77.jpg  \n",
            "  inflating: dataset1/dataset1/train/bluebell/78.jpg  \n",
            "  inflating: dataset1/dataset1/train/bluebell/79.jpg  \n",
            "  inflating: dataset1/dataset1/train/bluebell/8.jpg  \n",
            "  inflating: dataset1/dataset1/train/bluebell/80.jpg  \n",
            "  inflating: dataset1/dataset1/train/bluebell/9.jpg  \n",
            "  inflating: dataset1/dataset1/train/bluebell/desktop.ini  \n",
            "   creating: dataset1/dataset1/train/buttercup/\n",
            "  inflating: dataset1/dataset1/train/buttercup/1.jpg  \n",
            "  inflating: dataset1/dataset1/train/buttercup/10.jpg  \n",
            "  inflating: dataset1/dataset1/train/buttercup/11.jpg  \n",
            "  inflating: dataset1/dataset1/train/buttercup/12.jpg  \n",
            "  inflating: dataset1/dataset1/train/buttercup/13.jpg  \n",
            "  inflating: dataset1/dataset1/train/buttercup/14.jpg  \n",
            "  inflating: dataset1/dataset1/train/buttercup/15.jpg  \n",
            "  inflating: dataset1/dataset1/train/buttercup/16.jpg  \n",
            "  inflating: dataset1/dataset1/train/buttercup/17.jpg  \n",
            "  inflating: dataset1/dataset1/train/buttercup/18.jpg  \n",
            "  inflating: dataset1/dataset1/train/buttercup/19.jpg  \n",
            "  inflating: dataset1/dataset1/train/buttercup/2.jpg  \n",
            "  inflating: dataset1/dataset1/train/buttercup/20.jpg  \n",
            "  inflating: dataset1/dataset1/train/buttercup/21.jpg  \n",
            "  inflating: dataset1/dataset1/train/buttercup/22.jpg  \n",
            "  inflating: dataset1/dataset1/train/buttercup/23.jpg  \n",
            "  inflating: dataset1/dataset1/train/buttercup/24.jpg  \n",
            "  inflating: dataset1/dataset1/train/buttercup/25.jpg  \n",
            "  inflating: dataset1/dataset1/train/buttercup/26.jpg  \n",
            "  inflating: dataset1/dataset1/train/buttercup/27.jpg  \n",
            "  inflating: dataset1/dataset1/train/buttercup/28.jpg  \n",
            "  inflating: dataset1/dataset1/train/buttercup/29.jpg  \n",
            "  inflating: dataset1/dataset1/train/buttercup/3.jpg  \n",
            "  inflating: dataset1/dataset1/train/buttercup/30.jpg  \n",
            "  inflating: dataset1/dataset1/train/buttercup/31.jpg  \n",
            "  inflating: dataset1/dataset1/train/buttercup/32.jpg  \n",
            "  inflating: dataset1/dataset1/train/buttercup/33.jpg  \n",
            "  inflating: dataset1/dataset1/train/buttercup/34.jpg  \n",
            "  inflating: dataset1/dataset1/train/buttercup/35.jpg  \n",
            "  inflating: dataset1/dataset1/train/buttercup/36.jpg  \n",
            "  inflating: dataset1/dataset1/train/buttercup/37.jpg  \n",
            "  inflating: dataset1/dataset1/train/buttercup/38.jpg  \n",
            "  inflating: dataset1/dataset1/train/buttercup/39.jpg  \n",
            "  inflating: dataset1/dataset1/train/buttercup/4.jpg  \n",
            "  inflating: dataset1/dataset1/train/buttercup/40.jpg  \n",
            "  inflating: dataset1/dataset1/train/buttercup/41.jpg  \n",
            "  inflating: dataset1/dataset1/train/buttercup/42.jpg  \n",
            "  inflating: dataset1/dataset1/train/buttercup/43.jpg  \n",
            "  inflating: dataset1/dataset1/train/buttercup/44.jpg  \n",
            "  inflating: dataset1/dataset1/train/buttercup/45.jpg  \n",
            "  inflating: dataset1/dataset1/train/buttercup/46.jpg  \n",
            "  inflating: dataset1/dataset1/train/buttercup/47.jpg  \n",
            "  inflating: dataset1/dataset1/train/buttercup/48.jpg  \n",
            "  inflating: dataset1/dataset1/train/buttercup/49.jpg  \n",
            "  inflating: dataset1/dataset1/train/buttercup/5.jpg  \n",
            "  inflating: dataset1/dataset1/train/buttercup/50.jpg  \n",
            "  inflating: dataset1/dataset1/train/buttercup/51.jpg  \n",
            "  inflating: dataset1/dataset1/train/buttercup/52.jpg  \n",
            "  inflating: dataset1/dataset1/train/buttercup/53.jpg  \n",
            "  inflating: dataset1/dataset1/train/buttercup/54.jpg  \n",
            "  inflating: dataset1/dataset1/train/buttercup/55.jpg  \n",
            "  inflating: dataset1/dataset1/train/buttercup/56.jpg  \n",
            "  inflating: dataset1/dataset1/train/buttercup/57.jpg  \n",
            "  inflating: dataset1/dataset1/train/buttercup/58.jpg  \n",
            "  inflating: dataset1/dataset1/train/buttercup/59.jpg  \n",
            "  inflating: dataset1/dataset1/train/buttercup/6.jpg  \n",
            "  inflating: dataset1/dataset1/train/buttercup/60.jpg  \n",
            "  inflating: dataset1/dataset1/train/buttercup/61.jpg  \n",
            "  inflating: dataset1/dataset1/train/buttercup/62.jpg  \n",
            "  inflating: dataset1/dataset1/train/buttercup/63.jpg  \n",
            "  inflating: dataset1/dataset1/train/buttercup/64.jpg  \n",
            "  inflating: dataset1/dataset1/train/buttercup/65.jpg  \n",
            "  inflating: dataset1/dataset1/train/buttercup/66.jpg  \n",
            "  inflating: dataset1/dataset1/train/buttercup/67.jpg  \n",
            "  inflating: dataset1/dataset1/train/buttercup/68.jpg  \n",
            "  inflating: dataset1/dataset1/train/buttercup/69.jpg  \n",
            "  inflating: dataset1/dataset1/train/buttercup/7.jpg  \n",
            "  inflating: dataset1/dataset1/train/buttercup/70.jpg  \n",
            "  inflating: dataset1/dataset1/train/buttercup/71.jpg  \n",
            "  inflating: dataset1/dataset1/train/buttercup/72.jpg  \n",
            "  inflating: dataset1/dataset1/train/buttercup/73.jpg  \n",
            "  inflating: dataset1/dataset1/train/buttercup/74.jpg  \n",
            "  inflating: dataset1/dataset1/train/buttercup/75.jpg  \n",
            "  inflating: dataset1/dataset1/train/buttercup/76.jpg  \n",
            "  inflating: dataset1/dataset1/train/buttercup/77.jpg  \n",
            "  inflating: dataset1/dataset1/train/buttercup/78.jpg  \n",
            "  inflating: dataset1/dataset1/train/buttercup/79.jpg  \n",
            "  inflating: dataset1/dataset1/train/buttercup/8.jpg  \n",
            "  inflating: dataset1/dataset1/train/buttercup/80.jpg  \n",
            "  inflating: dataset1/dataset1/train/buttercup/9.jpg  \n",
            "  inflating: dataset1/dataset1/train/buttercup/desktop.ini  \n",
            "   creating: dataset1/dataset1/train/coltsfoot/\n",
            "  inflating: dataset1/dataset1/train/coltsfoot/1.jpg  \n",
            "  inflating: dataset1/dataset1/train/coltsfoot/10.jpg  \n",
            "  inflating: dataset1/dataset1/train/coltsfoot/11.jpg  \n",
            "  inflating: dataset1/dataset1/train/coltsfoot/12.jpg  \n",
            "  inflating: dataset1/dataset1/train/coltsfoot/13.jpg  \n",
            "  inflating: dataset1/dataset1/train/coltsfoot/14.jpg  \n",
            "  inflating: dataset1/dataset1/train/coltsfoot/15.jpg  \n",
            "  inflating: dataset1/dataset1/train/coltsfoot/16.jpg  \n",
            "  inflating: dataset1/dataset1/train/coltsfoot/17.jpg  \n",
            "  inflating: dataset1/dataset1/train/coltsfoot/18.jpg  \n",
            "  inflating: dataset1/dataset1/train/coltsfoot/19.jpg  \n",
            "  inflating: dataset1/dataset1/train/coltsfoot/2.jpg  \n",
            "  inflating: dataset1/dataset1/train/coltsfoot/20.jpg  \n",
            "  inflating: dataset1/dataset1/train/coltsfoot/21.jpg  \n",
            "  inflating: dataset1/dataset1/train/coltsfoot/22.jpg  \n",
            "  inflating: dataset1/dataset1/train/coltsfoot/23.jpg  \n",
            "  inflating: dataset1/dataset1/train/coltsfoot/24.jpg  \n",
            "  inflating: dataset1/dataset1/train/coltsfoot/25.jpg  \n",
            "  inflating: dataset1/dataset1/train/coltsfoot/26.jpg  \n",
            "  inflating: dataset1/dataset1/train/coltsfoot/27.jpg  \n",
            "  inflating: dataset1/dataset1/train/coltsfoot/28.jpg  \n",
            "  inflating: dataset1/dataset1/train/coltsfoot/29.jpg  \n",
            "  inflating: dataset1/dataset1/train/coltsfoot/3.jpg  \n",
            "  inflating: dataset1/dataset1/train/coltsfoot/30.jpg  \n",
            "  inflating: dataset1/dataset1/train/coltsfoot/31.jpg  \n",
            "  inflating: dataset1/dataset1/train/coltsfoot/32.jpg  \n",
            "  inflating: dataset1/dataset1/train/coltsfoot/33.jpg  \n",
            "  inflating: dataset1/dataset1/train/coltsfoot/34.jpg  \n",
            "  inflating: dataset1/dataset1/train/coltsfoot/35.jpg  \n",
            "  inflating: dataset1/dataset1/train/coltsfoot/36.jpg  \n",
            "  inflating: dataset1/dataset1/train/coltsfoot/37.jpg  \n",
            "  inflating: dataset1/dataset1/train/coltsfoot/38.jpg  \n",
            "  inflating: dataset1/dataset1/train/coltsfoot/39.jpg  \n",
            "  inflating: dataset1/dataset1/train/coltsfoot/4.jpg  \n",
            "  inflating: dataset1/dataset1/train/coltsfoot/40.jpg  \n",
            "  inflating: dataset1/dataset1/train/coltsfoot/41.jpg  \n",
            "  inflating: dataset1/dataset1/train/coltsfoot/42.jpg  \n",
            "  inflating: dataset1/dataset1/train/coltsfoot/43.jpg  \n",
            "  inflating: dataset1/dataset1/train/coltsfoot/44.jpg  \n",
            "  inflating: dataset1/dataset1/train/coltsfoot/45.jpg  \n",
            "  inflating: dataset1/dataset1/train/coltsfoot/46.jpg  \n",
            "  inflating: dataset1/dataset1/train/coltsfoot/47.jpg  \n",
            "  inflating: dataset1/dataset1/train/coltsfoot/48.jpg  \n",
            "  inflating: dataset1/dataset1/train/coltsfoot/49.jpg  \n",
            "  inflating: dataset1/dataset1/train/coltsfoot/5.jpg  \n",
            "  inflating: dataset1/dataset1/train/coltsfoot/50.jpg  \n",
            "  inflating: dataset1/dataset1/train/coltsfoot/51.jpg  \n",
            "  inflating: dataset1/dataset1/train/coltsfoot/52.jpg  \n",
            "  inflating: dataset1/dataset1/train/coltsfoot/53.jpg  \n",
            "  inflating: dataset1/dataset1/train/coltsfoot/54.jpg  \n",
            "  inflating: dataset1/dataset1/train/coltsfoot/55.jpg  \n",
            "  inflating: dataset1/dataset1/train/coltsfoot/56.jpg  \n",
            "  inflating: dataset1/dataset1/train/coltsfoot/57.jpg  \n",
            "  inflating: dataset1/dataset1/train/coltsfoot/58.jpg  \n",
            "  inflating: dataset1/dataset1/train/coltsfoot/59.jpg  \n",
            "  inflating: dataset1/dataset1/train/coltsfoot/6.jpg  \n",
            "  inflating: dataset1/dataset1/train/coltsfoot/60.jpg  \n",
            "  inflating: dataset1/dataset1/train/coltsfoot/61.jpg  \n",
            "  inflating: dataset1/dataset1/train/coltsfoot/62.jpg  \n",
            "  inflating: dataset1/dataset1/train/coltsfoot/63.jpg  \n",
            "  inflating: dataset1/dataset1/train/coltsfoot/64.jpg  \n",
            "  inflating: dataset1/dataset1/train/coltsfoot/65.jpg  \n",
            "  inflating: dataset1/dataset1/train/coltsfoot/66.jpg  \n",
            "  inflating: dataset1/dataset1/train/coltsfoot/67.jpg  \n",
            "  inflating: dataset1/dataset1/train/coltsfoot/68.jpg  \n",
            "  inflating: dataset1/dataset1/train/coltsfoot/69.jpg  \n",
            "  inflating: dataset1/dataset1/train/coltsfoot/7.jpg  \n",
            "  inflating: dataset1/dataset1/train/coltsfoot/70.jpg  \n",
            "  inflating: dataset1/dataset1/train/coltsfoot/71.jpg  \n",
            "  inflating: dataset1/dataset1/train/coltsfoot/72.jpg  \n",
            "  inflating: dataset1/dataset1/train/coltsfoot/73.jpg  \n",
            "  inflating: dataset1/dataset1/train/coltsfoot/74.jpg  \n",
            "  inflating: dataset1/dataset1/train/coltsfoot/75.jpg  \n",
            "  inflating: dataset1/dataset1/train/coltsfoot/76.jpg  \n",
            "  inflating: dataset1/dataset1/train/coltsfoot/77.jpg  \n",
            "  inflating: dataset1/dataset1/train/coltsfoot/78.jpg  \n",
            "  inflating: dataset1/dataset1/train/coltsfoot/79.jpg  \n",
            "  inflating: dataset1/dataset1/train/coltsfoot/8.jpg  \n",
            "  inflating: dataset1/dataset1/train/coltsfoot/80.jpg  \n",
            "  inflating: dataset1/dataset1/train/coltsfoot/9.jpg  \n",
            "  inflating: dataset1/dataset1/train/coltsfoot/desktop.ini  \n",
            "  inflating: dataset1/dataset1/train/desktop.ini  \n"
          ],
          "name": "stdout"
        }
      ]
    },
    {
      "cell_type": "markdown",
      "metadata": {
        "id": "KCTeZzui5jUU"
      },
      "source": [
        "output yang diharapkan : \n",
        "\n",
        "\n",
        "\n",
        "```\n",
        "Archive:  /content/dataset1.zip\n",
        "  inflating: dataset1/desktop.ini    \n",
        "  inflating: dataset1/test/desktop.ini  \n",
        "   creating: dataset1/train/\n",
        "   creating: dataset1/train/bluebell/\n",
        "  inflating: dataset1/train/bluebell/1.jpg  \n",
        "  inflating: dataset1/train/bluebell/10.jpg  \n",
        "  inflating: dataset1/train/bluebell/11.jpg  \n",
        "  inflating: dataset1/train/bluebell/12.jpg  \n",
        "  inflating: dataset1/train/bluebell/13.jpg  \n",
        "  inflating: dataset1/train/bluebell/14.jpg  \n",
        "  inflating: dataset1/train/bluebell/15.jpg  \n",
        "  inflating: dataset1/train/bluebell/16.jpg  \n",
        "  ....\n",
        "```\n",
        "\n"
      ]
    },
    {
      "cell_type": "markdown",
      "metadata": {
        "id": "uHR0bX89Xl_q"
      },
      "source": [
        "tentukan jumlah image per kelas, ukuran standard, nama folder di mana data training disimpan, output dan jumlah bins untuk histogram "
      ]
    },
    {
      "cell_type": "code",
      "metadata": {
        "id": "vP5RJSBDLGxZ",
        "colab": {
          "base_uri": "https://localhost:8080/"
        },
        "outputId": "fdfbf574-9ebd-43f1-ef83-b407f9efbff6"
      },
      "source": [
        "images_per_class = 80\n",
        "fixed_size       = tuple((500, 500))\n",
        "train_path       = \"dataset1/dataset1/train\"\n",
        "h5_data          = 'output/data.h5'\n",
        "h5_labels        = 'output/labels.h5'\n",
        "bins             = 8\n",
        "print(\"jumlah image per kelas : \", images_per_class, \"train path : \", train_path, \"; file h5 untuk label : \",h5_labels, \";jumlah bins dalam histogram :\", bins)"
      ],
      "execution_count": 7,
      "outputs": [
        {
          "output_type": "stream",
          "text": [
            "jumlah image per kelas :  80 train path :  dataset1/dataset1/train ; file h5 untuk label :  output/labels.h5 ;jumlah bins dalam histogram : 8\n"
          ],
          "name": "stdout"
        }
      ]
    },
    {
      "cell_type": "markdown",
      "metadata": {
        "id": "mrX5-Ccv6T8U"
      },
      "source": [
        "output yang diharapkan : \n",
        "\n",
        "jumlah image per kelas :  80 train path :  dataset1/train ; file h5 untuk label :  output/labels.h5 ;jumlah bins dalam histogram : 8"
      ]
    },
    {
      "cell_type": "markdown",
      "metadata": {
        "id": "YrbwN9GYYNjD"
      },
      "source": [
        "jalankan perintah untuk membuat direktori output"
      ]
    },
    {
      "cell_type": "code",
      "metadata": {
        "id": "g7GnkIiKYMYD",
        "colab": {
          "base_uri": "https://localhost:8080/"
        },
        "outputId": "3dfab060-60fb-4f15-fdcd-3f953a1649a9"
      },
      "source": [
        "output_path=\"output\"\n",
        "if not os.path.exists(output_path ):\n",
        "    os.makedirs(output_path )\n",
        "print(output_path)"
      ],
      "execution_count": 10,
      "outputs": [
        {
          "output_type": "stream",
          "text": [
            "output\n"
          ],
          "name": "stdout"
        }
      ]
    },
    {
      "cell_type": "markdown",
      "metadata": {
        "id": "TVRoEMZu7WRV"
      },
      "source": [
        "output yang di harapkan \n",
        "\n",
        "output"
      ]
    },
    {
      "cell_type": "markdown",
      "metadata": {
        "id": "goED1RLCLXLE"
      },
      "source": [
        "Fungsi untuk mengektraksi fitur hu moments"
      ]
    },
    {
      "cell_type": "code",
      "metadata": {
        "id": "T2CXhkB9Laug"
      },
      "source": [
        "def fd_hu_moments(image):\n",
        "    image = cv2.cvtColor(image, cv2.COLOR_BGR2GRAY)\n",
        "    feature = cv2.HuMoments(cv2.moments(image)).flatten()\n",
        "    return feature"
      ],
      "execution_count": 11,
      "outputs": []
    },
    {
      "cell_type": "markdown",
      "metadata": {
        "id": "qbOT31hXeOi7"
      },
      "source": [
        "**fungsi untuk mencari haralick feature**"
      ]
    },
    {
      "cell_type": "code",
      "metadata": {
        "id": "588GF0-NdkmV"
      },
      "source": [
        "def fd_haralick(image):\n",
        "    # convert the image to grayscale\n",
        "    gray = cv2.cvtColor(image, cv2.COLOR_BGR2GRAY)\n",
        "    # compute the haralick texture feature vector\n",
        "    haralick = mahotas.features.haralick(gray).mean(axis=0)\n",
        "    # return the result\n",
        "    return haralick\n"
      ],
      "execution_count": 12,
      "outputs": []
    },
    {
      "cell_type": "markdown",
      "metadata": {
        "id": "k5ZBmy1IeZMK"
      },
      "source": [
        "**Fungsi untuk ekstraksi histogram**"
      ]
    },
    {
      "cell_type": "code",
      "metadata": {
        "id": "tJVySuddeNlL"
      },
      "source": [
        "def fd_histogram(image, mask=None):\n",
        "    # convert the image to HSV color-space\n",
        "    image = cv2.cvtColor(image, cv2.COLOR_BGR2HSV)\n",
        "    # compute the color histogram\n",
        "    hist  = cv2.calcHist([image], [0, 1, 2], None, [bins, bins, bins], [0, 256, 0, 256, 0, 256])\n",
        "    # normalize the histogram\n",
        "    cv2.normalize(hist, hist)\n",
        "    # return the histogram\n",
        "    return hist.flatten()"
      ],
      "execution_count": 13,
      "outputs": []
    },
    {
      "cell_type": "markdown",
      "metadata": {
        "id": "n5x_3OcReiyx"
      },
      "source": [
        "**Program utama untuk membaca semua image pada training dataset dan mengekstraksi fitur hu moments, haralick fitur dan histogram colour dari masing masing image**\n"
      ]
    },
    {
      "cell_type": "markdown",
      "metadata": {
        "id": "dPRu-DoyZdxz"
      },
      "source": [
        "1. membaca daftar sub folder pada path dimana dataset training berada : train_path       = \"dataset1/train\"\n",
        "2. jika di perhatikan di dalam folder train ada beberapa folder dan 1 file "
      ]
    },
    {
      "cell_type": "code",
      "metadata": {
        "id": "9PaAQcDVe7p1",
        "colab": {
          "base_uri": "https://localhost:8080/"
        },
        "outputId": "42b6c4b4-83de-4bd4-e06b-5640ae0dd56a"
      },
      "source": [
        "train_labels = os.listdir(train_path)\n",
        "print(train_labels)\n",
        "# sort the training labels\n",
        "train_labels.sort()\n",
        "print(train_labels)\n",
        "\n",
        "# empty lists to hold feature vectors and labels\n",
        "global_features = []\n",
        "labels          = []"
      ],
      "execution_count": 14,
      "outputs": [
        {
          "output_type": "stream",
          "text": [
            "['bluebell', 'coltsfoot', 'buttercup', 'desktop.ini']\n",
            "['bluebell', 'buttercup', 'coltsfoot', 'desktop.ini']\n"
          ],
          "name": "stdout"
        }
      ]
    },
    {
      "cell_type": "markdown",
      "metadata": {
        "id": "xEh5HHOI7kcU"
      },
      "source": [
        "output yang diharapkan : \n",
        "\n",
        "\n",
        "```\n",
        "['buttercup', 'coltsfoot', 'bluebell', 'desktop.ini']\n",
        "['bluebell', 'buttercup', 'coltsfoot', 'desktop.ini']\n",
        "```\n",
        "\n"
      ]
    },
    {
      "cell_type": "markdown",
      "metadata": {
        "id": "6nT-EeeMZ8gb"
      },
      "source": [
        "3. Kode program untuk perulangan sebanyak train_labels (jumlah sub folder pada train_path \n",
        "4. pastikan yang di dalam folder train adalah folder - bukan file\n",
        "5. ulangi untuk semua image dalam setiap folder sampai dengan maksimal sebanyak variabel image_perclass \n",
        "6. untuk setiap image - ubah ukuran menjadi ukuran standard dengan perintah resize \n",
        "7. ekstrak fitur haralic, hu dan histogram dari setiap image \n",
        "8. gabungkan semua fitur global menjadi 1 lalu simpan variabel global_feature \n",
        "9. untuk setiap perulangan selesai - simpan variabel global_features ke dalam array global_features sebagai baris baru dengan perintah append"
      ]
    },
    {
      "cell_type": "code",
      "metadata": {
        "id": "PPEqV2xgIGFM",
        "colab": {
          "base_uri": "https://localhost:8080/"
        },
        "outputId": "958ec350-f81e-4dd1-9959-9ce589281af9"
      },
      "source": [
        "for training_name in train_labels:\n",
        "  dir = os.path.join(train_path, training_name)\n",
        "  if os.path.isdir(dir):\n",
        "    print(dir)\n",
        "    print(\" adalah folder\")\n",
        "    current_label = training_name\n",
        "    for x in range(1,images_per_class+1):\n",
        "          # get the image file name\n",
        "          file = dir + \"/\" + str(x) + \".jpg\"\n",
        "\n",
        "          # read the image and resize it to a fixed-size\n",
        "          image = cv2.imread(file)\n",
        "          image = cv2.resize(image, fixed_size)\n",
        "\n",
        "          ####################################\n",
        "          # Global Feature extraction\n",
        "          ####################################\n",
        "          fv_hu_moments = fd_hu_moments(image)\n",
        "          fv_haralick   = fd_haralick(image)\n",
        "          fv_histogram  = fd_histogram(image)\n",
        "\n",
        "          ###################################\n",
        "          # Concatenate global features\n",
        "          ###################################\n",
        "          global_feature = np.hstack([fv_histogram, fv_haralick, fv_hu_moments])\n",
        "\n",
        "          # update the list of labels and feature vectors\n",
        "          labels.append(current_label)\n",
        "          global_features.append(global_feature)\n",
        "    print(\"[STATUS] processed folder: {}\".format(current_label))\n",
        " \n",
        "\n",
        "\n",
        "  \n",
        "\n"
      ],
      "execution_count": 15,
      "outputs": [
        {
          "output_type": "stream",
          "text": [
            "dataset1/dataset1/train/bluebell\n",
            " adalah folder\n",
            "[STATUS] processed folder: bluebell\n",
            "dataset1/dataset1/train/buttercup\n",
            " adalah folder\n",
            "[STATUS] processed folder: buttercup\n",
            "dataset1/dataset1/train/coltsfoot\n",
            " adalah folder\n",
            "[STATUS] processed folder: coltsfoot\n"
          ],
          "name": "stdout"
        }
      ]
    },
    {
      "cell_type": "markdown",
      "metadata": {
        "id": "QioOQdjU8Vwu"
      },
      "source": [
        "output yang diharapkan : \n",
        "\n",
        "\n",
        "\n",
        "```\n",
        "dataset1/train/bluebell\n",
        " adalah folder\n",
        "[STATUS] processed folder: bluebell\n",
        "dataset1/train/buttercup\n",
        " adalah folder\n",
        "[STATUS] processed folder: buttercup\n",
        "dataset1/train/coltsfoot\n",
        " adalah folder\n",
        "[STATUS] processed folder: coltsfoot\n",
        "```\n",
        "\n"
      ]
    },
    {
      "cell_type": "markdown",
      "metadata": {
        "id": "ba8L2IyjfjZE"
      },
      "source": [
        "**End Loop Training untuk seluruh sub folder **\n",
        "\n",
        "\n",
        "tampilkan ukuran vektor global features \n",
        "\n",
        "tampilkan array training labels "
      ]
    },
    {
      "cell_type": "code",
      "metadata": {
        "id": "F4CeazKwbpAd",
        "colab": {
          "base_uri": "https://localhost:8080/"
        },
        "outputId": "53b6831f-fd4d-457f-afe3-6c9b0afc23f8"
      },
      "source": [
        "# get the overall feature vector size\n",
        "print(\"[STATUS] feature vector size {}\".format(np.array(global_features).shape))\n",
        "\n",
        "# get the overall training label size\n",
        "print(\"[STATUS] training Labels {}\".format(np.array(labels).shape))\n",
        "\n"
      ],
      "execution_count": 16,
      "outputs": [
        {
          "output_type": "stream",
          "text": [
            "[STATUS] feature vector size (240, 532)\n",
            "[STATUS] training Labels (240,)\n"
          ],
          "name": "stdout"
        }
      ]
    },
    {
      "cell_type": "markdown",
      "metadata": {
        "id": "oQCVFN5Q8odk"
      },
      "source": [
        "[STATUS] feature vector size (240, 532)\n",
        "[STATUS] training Labels (240,)"
      ]
    },
    {
      "cell_type": "markdown",
      "metadata": {
        "id": "eOkZddW-btJR"
      },
      "source": [
        "Encoding target label "
      ]
    },
    {
      "cell_type": "code",
      "metadata": {
        "id": "_uR4u6A6buCK",
        "colab": {
          "base_uri": "https://localhost:8080/"
        },
        "outputId": "a4da3a66-11c0-4026-9a09-95ca6371fc25"
      },
      "source": [
        "# encode the target labels\n",
        "targetNames = np.unique(labels)\n",
        "le          = LabelEncoder()\n",
        "target      = le.fit_transform(labels)\n",
        "print(\"[STATUS] training labels encoded...\")\n",
        "\n"
      ],
      "execution_count": 17,
      "outputs": [
        {
          "output_type": "stream",
          "text": [
            "[STATUS] training labels encoded...\n"
          ],
          "name": "stdout"
        }
      ]
    },
    {
      "cell_type": "markdown",
      "metadata": {
        "id": "WTqJgs4o8w5k"
      },
      "source": [
        "output di harapkan \n",
        "\n",
        "[STATUS] training labels encoded..."
      ]
    },
    {
      "cell_type": "markdown",
      "metadata": {
        "id": "9-haCR5Cbycq"
      },
      "source": [
        "Standarisasi nilai vektor menjadi 0 sampai dengan 1 untuk semua data "
      ]
    },
    {
      "cell_type": "code",
      "metadata": {
        "id": "GN-NxxaVbzXy",
        "colab": {
          "base_uri": "https://localhost:8080/"
        },
        "outputId": "72c46f28-61a7-4fe1-8748-8bec1f267dd4"
      },
      "source": [
        "# scale features in the range (0-1)\n",
        "scaler            = MinMaxScaler(feature_range=(0, 1))\n",
        "rescaled_features = scaler.fit_transform(global_features)\n",
        "print(\"[STATUS] feature vector normalized...\")\n",
        "\n",
        "print(\"[STATUS] target labels: {}\".format(target))\n",
        "print(\"[STATUS] target labels shape: {}\".format(target.shape))\n",
        "\n"
      ],
      "execution_count": 18,
      "outputs": [
        {
          "output_type": "stream",
          "text": [
            "[STATUS] feature vector normalized...\n",
            "[STATUS] target labels: [0 0 0 0 0 0 0 0 0 0 0 0 0 0 0 0 0 0 0 0 0 0 0 0 0 0 0 0 0 0 0 0 0 0 0 0 0\n",
            " 0 0 0 0 0 0 0 0 0 0 0 0 0 0 0 0 0 0 0 0 0 0 0 0 0 0 0 0 0 0 0 0 0 0 0 0 0\n",
            " 0 0 0 0 0 0 1 1 1 1 1 1 1 1 1 1 1 1 1 1 1 1 1 1 1 1 1 1 1 1 1 1 1 1 1 1 1\n",
            " 1 1 1 1 1 1 1 1 1 1 1 1 1 1 1 1 1 1 1 1 1 1 1 1 1 1 1 1 1 1 1 1 1 1 1 1 1\n",
            " 1 1 1 1 1 1 1 1 1 1 1 1 2 2 2 2 2 2 2 2 2 2 2 2 2 2 2 2 2 2 2 2 2 2 2 2 2\n",
            " 2 2 2 2 2 2 2 2 2 2 2 2 2 2 2 2 2 2 2 2 2 2 2 2 2 2 2 2 2 2 2 2 2 2 2 2 2\n",
            " 2 2 2 2 2 2 2 2 2 2 2 2 2 2 2 2 2 2]\n",
            "[STATUS] target labels shape: (240,)\n"
          ],
          "name": "stdout"
        }
      ]
    },
    {
      "cell_type": "markdown",
      "metadata": {
        "id": "SXM-3oZh86QE"
      },
      "source": [
        "outout di harapkan : \n",
        "\n",
        "\n",
        "\n",
        "```\n",
        "[STATUS] feature vector normalized...\n",
        "[STATUS] target labels: [0 0 0 0 0 0 0 0 0 0 0 0 0 0 0 0 0 0 0 0 0 0 0 0 0 0 0 0 0 0 0 0 0 0 0 0 0\n",
        " 0 0 0 0 0 0 0 0 0 0 0 0 0 0 0 0 0 0 0 0 0 0 0 0 0 0 0 0 0 0 0 0 0 0 0 0 0\n",
        " 0 0 0 0 0 0 1 1 1 1 1 1 1 1 1 1 1 1 1 1 1 1 1 1 1 1 1 1 1 1 1 1 1 1 1 1 1\n",
        " 1 1 1 1 1 1 1 1 1 1 1 1 1 1 1 1 1 1 1 1 1 1 1 1 1 1 1 1 1 1 1 1 1 1 1 1 1\n",
        " 1 1 1 1 1 1 1 1 1 1 1 1 2 2 2 2 2 2 2 2 2 2 2 2 2 2 2 2 2 2 2 2 2 2 2 2 2\n",
        " 2 2 2 2 2 2 2 2 2 2 2 2 2 2 2 2 2 2 2 2 2 2 2 2 2 2 2 2 2 2 2 2 2 2 2 2 2\n",
        " 2 2 2 2 2 2 2 2 2 2 2 2 2 2 2 2 2 2 0 0 0 0 0 0 0 0 0 0 0 0 0 0 0 0 0 0 0\n",
        " 0 0 0 0 0 0 0 0 0 0 0 0 0 0 0 0 0 0 0 0 0 0 0 0 0 0 0 0 0 0 0 0 0 0 0 0 0\n",
        " 0 0 0 0 0 0 0 0 0 0 0 0 0 0 0 0 0 0 0 0 0 0 0 0 1 1 1 1 1 1 1 1 1 1 1 1 1\n",
        " 1 1 1 1 1 1 1 1 1 1 1 1 1 1 1 1 1 1 1 1 1 1 1 1 1 1 1 1 1 1 1 1 1 1 1 1 1\n",
        " 1 1 1 1 1 1 1 1 1 1 1 1 1 1 1 1 1 1 1 1 1 1 1 1 1 1 1 1 1 1 2 2 2 2 2 2 2\n",
        " 2 2 2 2 2 2 2 2 2 2 2 2 2 2 2 2 2 2 2 2 2 2 2 2 2 2 2 2 2 2 2 2 2 2 2 2 2\n",
        " 2 2 2 2 2 2 2 2 2 2 2 2 2 2 2 2 2 2 2 2 2 2 2 2 2 2 2 2 2 2 2 2 2 2 2 2 0\n",
        " 0 0 0 0 0 0 0 0 0 0 0 0 0 0 0 0 0 0 0 0 0 0 0 0 0 0 0 0 0 0 0 0 0 0 0 0 0\n",
        " 0 0 0 0 0 0 0 0 0 0 0 0 0 0 0 0 0 0 0 0 0 0 0 0 0 0 0 0 0 0 0 0 0 0 0 0 0\n",
        " 0 0 0 0 0 1 1 1 1 1 1 1 1 1 1 1 1 1 1 1 1 1 1 1 1 1 1 1 1 1 1 1 1 1 1 1 1\n",
        " 1 1 1 1 1 1 1 1 1 1 1 1 1 1 1 1 1 1 1 1 1 1 1 1 1 1 1 1 1 1 1 1 1 1 1 1 1\n",
        " 1 1 1 1 1 1 1 1 1 1 1 2 2 2 2 2 2 2 2 2 2 2 2 2 2 2 2 2 2 2 2 2 2 2 2 2 2\n",
        " 2 2 2 2 2 2 2 2 2 2 2 2 2 2 2 2 2 2 2 2 2 2 2 2 2 2 2 2 2 2 2 2 2 2 2 2 2\n",
        " 2 2 2 2 2 2 2 2 2 2 2 2 2 2 2 2 2]\n",
        "[STATUS] target labels shape: (240,)\n",
        "```\n",
        "\n"
      ]
    },
    {
      "cell_type": "markdown",
      "metadata": {
        "id": "4PVkUpEOb4h6"
      },
      "source": [
        "simpan semua data ke lam file h5 dan disimpan dalam folder yang telah diset pada bagian awal program ini"
      ]
    },
    {
      "cell_type": "code",
      "metadata": {
        "id": "HLCF9foNb5X6",
        "colab": {
          "base_uri": "https://localhost:8080/"
        },
        "outputId": "efd8ed05-b883-437d-a75e-baca643d1122"
      },
      "source": [
        "# save the feature vector using HDF5\n",
        "h5f_data = h5py.File(h5_data, 'w')\n",
        "h5f_data.create_dataset('dataset_1', data=np.array(rescaled_features))\n",
        "\n",
        "h5f_label = h5py.File(h5_labels, 'w')\n",
        "h5f_label.create_dataset('dataset_1', data=np.array(target))\n",
        "\n",
        "h5f_data.close()\n",
        "h5f_label.close()\n",
        "\n",
        "print(\"[STATUS] end of Feature Extraction..\")    \n"
      ],
      "execution_count": 19,
      "outputs": [
        {
          "output_type": "stream",
          "text": [
            "[STATUS] end of Feature Extraction..\n"
          ],
          "name": "stdout"
        }
      ]
    },
    {
      "cell_type": "markdown",
      "metadata": {
        "id": "wYyHOOzP9Jod"
      },
      "source": [
        "Output di harapkan : \n",
        "\n",
        "[STATUS] end of Feature Extraction.."
      ]
    },
    {
      "cell_type": "markdown",
      "metadata": {
        "id": "2LIgZ7cxtZ33"
      },
      "source": [
        "# **Kode Program Lanjutan di bawah ini adalah untuk melakukan training dan Testing terhadap fitur yang sudah di ekstraks untuk beberapa algoritma klasifikasi **"
      ]
    },
    {
      "cell_type": "markdown",
      "metadata": {
        "id": "NHv_LRoYtwhU"
      },
      "source": [
        "Import tambahan library yang diperlukan "
      ]
    },
    {
      "cell_type": "code",
      "metadata": {
        "id": "3Uu2WkMQtvYe",
        "colab": {
          "base_uri": "https://localhost:8080/"
        },
        "outputId": "0b09065c-1aef-4824-e07b-10b11d0b2e6a"
      },
      "source": [
        "\n",
        "import glob\n",
        "import warnings\n",
        "from matplotlib import pyplot\n",
        "from sklearn.model_selection import train_test_split, cross_val_score\n",
        "from sklearn.model_selection import KFold, StratifiedKFold\n",
        "from sklearn.metrics import confusion_matrix, accuracy_score, classification_report\n",
        "from sklearn.linear_model import LogisticRegression\n",
        "from sklearn.tree import DecisionTreeClassifier\n",
        "from sklearn.ensemble import RandomForestClassifier\n",
        "from sklearn.neighbors import KNeighborsClassifier\n",
        "from sklearn.discriminant_analysis import LinearDiscriminantAnalysis\n",
        "from sklearn.naive_bayes import GaussianNB\n",
        "from sklearn.svm import SVC\n",
        "from sklearn.externals import joblib\n",
        "warnings.filterwarnings('ignore')"
      ],
      "execution_count": 20,
      "outputs": [
        {
          "output_type": "stream",
          "text": [
            "/usr/local/lib/python3.6/dist-packages/sklearn/externals/joblib/__init__.py:15: FutureWarning: sklearn.externals.joblib is deprecated in 0.21 and will be removed in 0.23. Please import this functionality directly from joblib, which can be installed with: pip install joblib. If this warning is raised when loading pickled models, you may need to re-serialize those models with scikit-learn 0.21+.\n",
            "  warnings.warn(msg, category=FutureWarning)\n"
          ],
          "name": "stderr"
        }
      ]
    },
    {
      "cell_type": "markdown",
      "metadata": {
        "id": "wHCP4h7B1Uxt"
      },
      "source": [
        "Mengeset variabel yang dapat ditune\n",
        "jika lanjutan ini di file terpisah dapat di tambahkan : \n",
        "\n",
        "\n",
        "```\n",
        "# This is formatted as code\n",
        "train_path = \"dataset/train\"\n",
        "h5_data    = 'output/data.h5'\n",
        "h5_labels  = 'output/labels.h5'\n",
        "```\n",
        "\n"
      ]
    },
    {
      "cell_type": "code",
      "metadata": {
        "id": "Nmb1SSgS1Z0L"
      },
      "source": [
        "# tunable-parameters\n",
        "#--------------------\n",
        "num_trees = 100\n",
        "test_size = 0.10\n",
        "seed      = 9\n",
        "scoring    = \"accuracy\"\n",
        "test_path  = \"dataset1/dataset1/test\"\n"
      ],
      "execution_count": 21,
      "outputs": []
    },
    {
      "cell_type": "markdown",
      "metadata": {
        "id": "Rapf2xoK1uNz"
      },
      "source": [
        "Menambahkan folder test jika belum ada "
      ]
    },
    {
      "cell_type": "code",
      "metadata": {
        "id": "rzrcWEgT1zOs"
      },
      "source": [
        "if not os.path.exists(test_path):\n",
        "    os.makedirs(test_path)"
      ],
      "execution_count": 22,
      "outputs": []
    },
    {
      "cell_type": "markdown",
      "metadata": {
        "id": "OpXgqSK21607"
      },
      "source": [
        "Menginisialisasi model klasifier \n"
      ]
    },
    {
      "cell_type": "code",
      "metadata": {
        "id": "ja3nnwLi2Efs",
        "colab": {
          "base_uri": "https://localhost:8080/"
        },
        "outputId": "b3ec2bfb-6b8d-4852-9dc6-928fe3da7636"
      },
      "source": [
        "models = []\n",
        "models.append(('LR', LogisticRegression(random_state=seed)))\n",
        "models.append(('LDA', LinearDiscriminantAnalysis()))\n",
        "models.append(('KNN', KNeighborsClassifier()))\n",
        "models.append(('CART', DecisionTreeClassifier(random_state=seed)))\n",
        "models.append(('RF', RandomForestClassifier(n_estimators=num_trees, random_state=seed)))\n",
        "models.append(('NB', GaussianNB()))\n",
        "models.append(('SVM', SVC(random_state=seed)))\n",
        "\n",
        "# variables to hold the results and names\n",
        "results = []\n",
        "names   = []\n",
        "print (models)"
      ],
      "execution_count": 23,
      "outputs": [
        {
          "output_type": "stream",
          "text": [
            "[('LR', LogisticRegression(C=1.0, class_weight=None, dual=False, fit_intercept=True,\n",
            "                   intercept_scaling=1, l1_ratio=None, max_iter=100,\n",
            "                   multi_class='auto', n_jobs=None, penalty='l2',\n",
            "                   random_state=9, solver='lbfgs', tol=0.0001, verbose=0,\n",
            "                   warm_start=False)), ('LDA', LinearDiscriminantAnalysis(n_components=None, priors=None, shrinkage=None,\n",
            "                           solver='svd', store_covariance=False, tol=0.0001)), ('KNN', KNeighborsClassifier(algorithm='auto', leaf_size=30, metric='minkowski',\n",
            "                     metric_params=None, n_jobs=None, n_neighbors=5, p=2,\n",
            "                     weights='uniform')), ('CART', DecisionTreeClassifier(ccp_alpha=0.0, class_weight=None, criterion='gini',\n",
            "                       max_depth=None, max_features=None, max_leaf_nodes=None,\n",
            "                       min_impurity_decrease=0.0, min_impurity_split=None,\n",
            "                       min_samples_leaf=1, min_samples_split=2,\n",
            "                       min_weight_fraction_leaf=0.0, presort='deprecated',\n",
            "                       random_state=9, splitter='best')), ('RF', RandomForestClassifier(bootstrap=True, ccp_alpha=0.0, class_weight=None,\n",
            "                       criterion='gini', max_depth=None, max_features='auto',\n",
            "                       max_leaf_nodes=None, max_samples=None,\n",
            "                       min_impurity_decrease=0.0, min_impurity_split=None,\n",
            "                       min_samples_leaf=1, min_samples_split=2,\n",
            "                       min_weight_fraction_leaf=0.0, n_estimators=100,\n",
            "                       n_jobs=None, oob_score=False, random_state=9, verbose=0,\n",
            "                       warm_start=False)), ('NB', GaussianNB(priors=None, var_smoothing=1e-09)), ('SVM', SVC(C=1.0, break_ties=False, cache_size=200, class_weight=None, coef0=0.0,\n",
            "    decision_function_shape='ovr', degree=3, gamma='scale', kernel='rbf',\n",
            "    max_iter=-1, probability=False, random_state=9, shrinking=True, tol=0.001,\n",
            "    verbose=False))]\n"
          ],
          "name": "stdout"
        }
      ]
    },
    {
      "cell_type": "markdown",
      "metadata": {
        "id": "9fdm5CVL4CR8"
      },
      "source": [
        "Output yang diharapkan :\n",
        "\n",
        "```\n",
        "# This is formatted as code\n",
        "\n",
        "[('LR', LogisticRegression(C=1.0, class_weight=None, dual=False, fit_intercept=True,\n",
        "                   intercept_scaling=1, l1_ratio=None, max_iter=100,\n",
        "                   multi_class='auto', n_jobs=None, penalty='l2',\n",
        "                   random_state=9, solver='lbfgs', tol=0.0001, verbose=0,\n",
        "                   warm_start=False)), ('LDA', LinearDiscriminantAnalysis(n_components=None, priors=None, shrinkage=None,\n",
        "                           solver='svd', store_covariance=False, tol=0.0001)),\n",
        "                            ('KNN', KNeighborsClassifier(algorithm='auto', leaf_size=30, metric='minkowski',\n",
        "                     metric_params=None, n_jobs=None, n_neighbors=5, p=2,\n",
        "                     weights='uniform')), ('CART', DecisionTreeClassifier(ccp_alpha=0.0, class_weight=None, criterion='gini',\n",
        "                       max_depth=None, max_features=None, max_leaf_nodes=None,\n",
        "                       min_impurity_decrease=0.0, min_impurity_split=None,\n",
        "                       min_samples_leaf=1, min_samples_split=2,\n",
        "                       min_weight_fraction_leaf=0.0, presort='deprecated',\n",
        "                       random_state=9, splitter='best')), ('RF', RandomForestClassifier(bootstrap=True, ccp_alpha=0.0, class_weight=None,\n",
        "                       criterion='gini', max_depth=None, max_features='auto',\n",
        "                       max_leaf_nodes=None, max_samples=None,\n",
        "                       min_impurity_decrease=0.0, min_impurity_split=None,\n",
        "                       min_samples_leaf=1, min_samples_split=2,\n",
        "                       min_weight_fraction_leaf=0.0, n_estimators=100,\n",
        "                       n_jobs=None, oob_score=False, random_state=9, verbose=0,\n",
        "                       warm_start=False)), ('NB', GaussianNB(priors=None, var_smoothing=1e-09)), ('SVM', SVC(C=1.0, break_ties=False, cache_size=200, class_weight=None, coef0=0.0,\n",
        "    decision_function_shape='ovr', degree=3, gamma='scale', kernel='rbf',\n",
        "    max_iter=-1, probability=False, random_state=9, shrinking=True, tol=0.001,\n",
        "    verbose=False))]\n",
        "```\n",
        "\n",
        "\n",
        "\n",
        "```\n",
        "# This is formatted as code\n",
        "```\n",
        "\n"
      ]
    },
    {
      "cell_type": "markdown",
      "metadata": {
        "id": "k-Llacu02Gcb"
      },
      "source": [
        "Membaca file h5 dimana hasil ekstraki fitur disimpan \n",
        "ini tidak perlu jika program lanjutan ini tidak menjadi file terpisah \n"
      ]
    },
    {
      "cell_type": "code",
      "metadata": {
        "id": "CEQyi6Sh2WV7",
        "colab": {
          "base_uri": "https://localhost:8080/"
        },
        "outputId": "fbeafe07-bf21-4d2f-a191-92f31240c021"
      },
      "source": [
        "h5f_data  = h5py.File(h5_data, 'r')\n",
        "h5f_label = h5py.File(h5_labels, 'r')\n",
        "\n",
        "print(h5f_data)\n",
        "print(h5f_label)"
      ],
      "execution_count": 24,
      "outputs": [
        {
          "output_type": "stream",
          "text": [
            "<HDF5 file \"data.h5\" (mode r)>\n",
            "<HDF5 file \"labels.h5\" (mode r)>\n"
          ],
          "name": "stdout"
        }
      ]
    },
    {
      "cell_type": "markdown",
      "metadata": {
        "id": "k4_aFoUx9kV9"
      },
      "source": [
        "outr=put diharapkan : \n",
        "\n",
        "\n",
        "\n",
        "```\n",
        "<HDF5 file \"data.h5\" (mode r)>\n",
        "<HDF5 file \"labels.h5\" (mode r)>\n",
        "```\n",
        "\n"
      ]
    },
    {
      "cell_type": "markdown",
      "metadata": {
        "id": "Nb30tkzw2bqD"
      },
      "source": [
        "menyimpan fitur "
      ]
    },
    {
      "cell_type": "code",
      "metadata": {
        "id": "s6K_3Iuu2fGT",
        "colab": {
          "base_uri": "https://localhost:8080/"
        },
        "outputId": "1ca93962-4bf5-4bf0-e220-5514c8fa9b7c"
      },
      "source": [
        "global_features_string = h5f_data['dataset_1']\n",
        "global_labels_string   = h5f_label['dataset_1']\n",
        "\n",
        "global_features = np.array(global_features_string)\n",
        "global_labels   = np.array(global_labels_string)\n",
        "\n",
        "print(global_features)\n",
        "print(global_labels_string)\n",
        "\n"
      ],
      "execution_count": 25,
      "outputs": [
        {
          "output_type": "stream",
          "text": [
            "[[1.02277289e-02 6.41539399e-02 3.80293751e-01 ... 8.69740569e-01\n",
            "  6.21634972e-02 8.80157045e-01]\n",
            " [2.70794117e-05 2.24351000e-02 1.26657213e-02 ... 8.69741443e-01\n",
            "  6.21926975e-02 8.80154788e-01]\n",
            " [0.00000000e+00 3.14553867e-02 1.64679193e-02 ... 8.69741419e-01\n",
            "  6.21939464e-02 8.80158524e-01]\n",
            " ...\n",
            " [6.83042966e-03 1.17875410e-02 1.00131224e-02 ... 8.69668780e-01\n",
            "  5.76707307e-02 8.80238908e-01]\n",
            " [1.42973036e-02 3.31645389e-02 2.45463253e-02 ... 8.69637236e-01\n",
            "  6.18151726e-02 8.80100514e-01]\n",
            " [1.60889028e-03 9.45723423e-04 3.74527032e-03 ... 8.69873367e-01\n",
            "  6.80346632e-02 8.80016124e-01]]\n",
            "<HDF5 dataset \"dataset_1\": shape (240,), type \"<i8\">\n"
          ],
          "name": "stdout"
        }
      ]
    },
    {
      "cell_type": "markdown",
      "metadata": {
        "id": "GttNdPlf9tF0"
      },
      "source": [
        "output diharapkan : \n",
        "\n",
        "\n",
        "```\n",
        "[[1.02277289e-02 6.41539399e-02 3.80293751e-01 ... 8.69740569e-01\n",
        "  6.21634972e-02 8.80157045e-01]\n",
        " [2.70794117e-05 2.24351000e-02 1.26657213e-02 ... 8.69741443e-01\n",
        "  6.21926975e-02 8.80154788e-01]\n",
        " [0.00000000e+00 3.14553867e-02 1.64679193e-02 ... 8.69741419e-01\n",
        "  6.21939464e-02 8.80158524e-01]\n",
        " ...\n",
        " [6.83042966e-03 1.17875410e-02 1.00131224e-02 ... 8.69668780e-01\n",
        "  5.76707307e-02 8.80238908e-01]\n",
        " [1.42973036e-02 3.31645389e-02 2.45463253e-02 ... 8.69637236e-01\n",
        "  6.18151726e-02 8.80100514e-01]\n",
        " [1.60889028e-03 9.45723423e-04 3.74527032e-03 ... 8.69873367e-01\n",
        "  6.80346632e-02 8.80016124e-01]]\n",
        "<HDF5 dataset \"dataset_1\": shape (720,), type \"<i8\">\n",
        "```\n",
        "\n"
      ]
    },
    {
      "cell_type": "markdown",
      "metadata": {
        "id": "kBtRXMzX2oum"
      },
      "source": [
        "Menutup file h5 \n",
        "ini tidak perlu di eksekusi jika tadi tidak di buka "
      ]
    },
    {
      "cell_type": "code",
      "metadata": {
        "id": "MKZUmAOG2oLz"
      },
      "source": [
        "h5f_data.close()\n",
        "h5f_label.close()"
      ],
      "execution_count": 26,
      "outputs": []
    },
    {
      "cell_type": "markdown",
      "metadata": {
        "id": "YcDKh3EE3Inz"
      },
      "source": [
        "menampilkan ukuran fitur dan label dari hasil ekstraksi fitur global images "
      ]
    },
    {
      "cell_type": "code",
      "metadata": {
        "id": "D4SlnaP03Qmq",
        "colab": {
          "base_uri": "https://localhost:8080/"
        },
        "outputId": "6a58d4eb-ca67-428c-83da-c1d2981d7838"
      },
      "source": [
        "# verify the shape of the feature vector and labels\n",
        "print(\"[STATUS] features shape: {}\".format(global_features.shape))\n",
        "print(\"[STATUS] labels shape: {}\".format(global_labels.shape))"
      ],
      "execution_count": 27,
      "outputs": [
        {
          "output_type": "stream",
          "text": [
            "[STATUS] features shape: (240, 532)\n",
            "[STATUS] labels shape: (240,)\n"
          ],
          "name": "stdout"
        }
      ]
    },
    {
      "cell_type": "markdown",
      "metadata": {
        "id": "zO1lnw_i3SJb"
      },
      "source": [
        "melakukan pembagian dataset menjadi train dan testing dataset "
      ]
    },
    {
      "cell_type": "code",
      "metadata": {
        "id": "zcx7_RME3c0i",
        "colab": {
          "base_uri": "https://localhost:8080/"
        },
        "outputId": "1a95d8c7-56f6-4eaa-d9e8-eadc9499eed2"
      },
      "source": [
        "(trainDataGlobal, testDataGlobal, trainLabelsGlobal, testLabelsGlobal) = train_test_split(np.array(global_features),\n",
        "                                                                                          np.array(global_labels),\n",
        "                                                                                          test_size=test_size,\n",
        "                                                                                          random_state=seed)\n",
        "\n",
        "print(\"[STATUS] splitted train and test data...\")\n",
        "print(\"Train data  : {}\".format(trainDataGlobal.shape))\n",
        "print(\"Test data   : {}\".format(testDataGlobal.shape))\n",
        "print(\"Train labels: {}\".format(trainLabelsGlobal.shape))\n",
        "print(\"Test labels : {}\".format(testLabelsGlobal.shape))"
      ],
      "execution_count": 28,
      "outputs": [
        {
          "output_type": "stream",
          "text": [
            "[STATUS] splitted train and test data...\n",
            "Train data  : (216, 532)\n",
            "Test data   : (24, 532)\n",
            "Train labels: (216,)\n",
            "Test labels : (24,)\n"
          ],
          "name": "stdout"
        }
      ]
    },
    {
      "cell_type": "markdown",
      "metadata": {
        "id": "xH20HJ_t3d_6"
      },
      "source": [
        "output yang diharapkan : \n",
        "\n",
        "[STATUS] splitted train and test data...\n",
        "\n",
        "Train data  : (216, 532)\n",
        "\n",
        "Test data   : (24, 532)\n",
        "\n",
        "Train labels: (216,)\n",
        "\n",
        "Test labels : (24,)"
      ]
    },
    {
      "cell_type": "markdown",
      "metadata": {
        "id": "s8G7n1dP3jld"
      },
      "source": [
        "Melatih model dan menghitung akurasi dari masing masing model yang berbeda klasiifier "
      ]
    },
    {
      "cell_type": "code",
      "metadata": {
        "id": "BLO2kSAu3zKL",
        "colab": {
          "base_uri": "https://localhost:8080/"
        },
        "outputId": "8791799f-eab6-4145-c472-20d3dcf7009c"
      },
      "source": [
        "for name, model in models:\n",
        "    kfold = KFold(n_splits=10, random_state=seed)\n",
        "    cv_results = cross_val_score(model, trainDataGlobal, trainLabelsGlobal, cv=kfold, scoring=scoring)\n",
        "    results.append(cv_results)\n",
        "    names.append(name)\n",
        "    msg = \"%s: %f (%f)\" % (name, cv_results.mean(), cv_results.std())\n",
        "    print(msg)"
      ],
      "execution_count": 29,
      "outputs": [
        {
          "output_type": "stream",
          "text": [
            "LR: 0.883550 (0.053308)\n",
            "LDA: 0.480952 (0.102552)\n",
            "KNN: 0.800000 (0.095534)\n",
            "CART: 0.847186 (0.042528)\n",
            "RF: 0.934848 (0.037270)\n",
            "NB: 0.786147 (0.127983)\n",
            "SVM: 0.879004 (0.044374)\n"
          ],
          "name": "stdout"
        }
      ]
    },
    {
      "cell_type": "markdown",
      "metadata": {
        "id": "pq2sAs3x31m7"
      },
      "source": [
        "output yang diharapkan : \n",
        "\n",
        "\n",
        "\n",
        "```\n",
        "LR: 0.986130 (0.016064)\n",
        "LDA: 0.983005 (0.023373)\n",
        "KNN: 0.841034 (0.041933)\n",
        "CART: 1.000000 (0.000000)\n",
        "RF: 0.996923 (0.009231)\n",
        "NB: 0.870433 (0.019381)\n",
        "SVM: 0.970721 (0.018744)\n",
        "```\n",
        "\n"
      ]
    },
    {
      "cell_type": "markdown",
      "metadata": {
        "id": "cOQ73hDB-C5E"
      },
      "source": [
        "Plot akurasi dan deviasi dalam box plot diagram \n",
        "\n"
      ]
    },
    {
      "cell_type": "code",
      "metadata": {
        "id": "CuZBycnY-MQs",
        "colab": {
          "base_uri": "https://localhost:8080/",
          "height": 294
        },
        "outputId": "332fa5a0-09db-4fe2-b8f5-2cad92995b83"
      },
      "source": [
        "# boxplot algorithm comparison\n",
        "fig = pyplot.figure()\n",
        "fig.suptitle('Machine Learning algorithm comparison')\n",
        "ax = fig.add_subplot(111)\n",
        "pyplot.boxplot(results)\n",
        "ax.set_xticklabels(names)\n",
        "pyplot.show()\n"
      ],
      "execution_count": 30,
      "outputs": [
        {
          "output_type": "display_data",
          "data": {
            "image/png": "[encoded data removed]",
            "text/plain": [
              "<Figure size 432x288 with 1 Axes>"
            ]
          },
          "metadata": {
            "tags": [],
            "needs_background": "light"
          }
        }
      ]
    },
    {
      "cell_type": "markdown",
      "metadata": {
        "id": "jUVdFldb-P6M"
      },
      "source": [
        "output yang diharapkan  adalah blok plot "
      ]
    },
    {
      "cell_type": "markdown",
      "metadata": {
        "id": "LDPV2tkm-pXz"
      },
      "source": [
        "membuat model random forest \n"
      ]
    },
    {
      "cell_type": "code",
      "metadata": {
        "id": "5ShD8qfS-vRd",
        "colab": {
          "base_uri": "https://localhost:8080/"
        },
        "outputId": "5307cd85-a1ba-4066-9673-725023958789"
      },
      "source": [
        "import matplotlib.pyplot as plt\n",
        "\n",
        "# create the model - Random Forests\n",
        "clf  = RandomForestClassifier(n_estimators=num_trees, random_state=seed)\n",
        "\n",
        "# fit the training data to the model\n",
        "clf.fit(trainDataGlobal, trainLabelsGlobal)\n"
      ],
      "execution_count": 32,
      "outputs": [
        {
          "output_type": "execute_result",
          "data": {
            "text/plain": [
              "RandomForestClassifier(bootstrap=True, ccp_alpha=0.0, class_weight=None,\n",
              "                       criterion='gini', max_depth=None, max_features='auto',\n",
              "                       max_leaf_nodes=None, max_samples=None,\n",
              "                       min_impurity_decrease=0.0, min_impurity_split=None,\n",
              "                       min_samples_leaf=1, min_samples_split=2,\n",
              "                       min_weight_fraction_leaf=0.0, n_estimators=100,\n",
              "                       n_jobs=None, oob_score=False, random_state=9, verbose=0,\n",
              "                       warm_start=False)"
            ]
          },
          "metadata": {
            "tags": []
          },
          "execution_count": 32
        }
      ]
    },
    {
      "cell_type": "markdown",
      "metadata": {
        "id": "XGaCr1Pi-5OR"
      },
      "source": [
        "output yanmg diharapkan : \n",
        "\n",
        "\n",
        "\n",
        "```\n",
        "RandomForestClassifier(bootstrap=True, ccp_alpha=0.0, class_weight=None,\n",
        "                       criterion='gini', max_depth=None, max_features='auto',\n",
        "                       max_leaf_nodes=None, max_samples=None,\n",
        "                       min_impurity_decrease=0.0, min_impurity_split=None,\n",
        "                       min_samples_leaf=1, min_samples_split=2,\n",
        "                       min_weight_fraction_leaf=0.0, n_estimators=100,\n",
        "                       n_jobs=None, oob_score=False, random_state=9, verbose=0,\n",
        "                       warm_start=False)\n",
        "```\n",
        "\n"
      ]
    },
    {
      "cell_type": "code",
      "metadata": {
        "id": "USsgyz1__FAl"
      },
      "source": [
        "melakukan testing pada image yang ada di dalam test folder \n"
      ],
      "execution_count": null,
      "outputs": []
    },
    {
      "cell_type": "code",
      "metadata": {
        "id": "253All3w_P50",
        "colab": {
          "base_uri": "https://localhost:8080/"
        },
        "outputId": "6816ba20-4590-42c5-bb8a-4b2363d7d820"
      },
      "source": [
        "test_path\n",
        "\n",
        "for file in glob.glob(test_path + \"/*.jpg\"):\n",
        "  print(file)\n"
      ],
      "execution_count": 33,
      "outputs": [
        {
          "output_type": "stream",
          "text": [
            "dataset1/dataset1/test/77.jpg\n",
            "dataset1/dataset1/test/80.jpg\n",
            "dataset1/dataset1/test/78.jpg\n",
            "dataset1/dataset1/test/3.jpg\n",
            "dataset1/dataset1/test/1.jpg\n",
            "dataset1/dataset1/test/2.jpg\n",
            "dataset1/dataset1/test/76.jpg\n",
            "dataset1/dataset1/test/79.jpg\n"
          ],
          "name": "stdout"
        }
      ]
    },
    {
      "cell_type": "code",
      "metadata": {
        "id": "_sO5RaXprqvQ"
      },
      "source": [
        "global_features1=[]\n",
        "for file in glob.glob(test_path + \"/*.jpg\"):\n",
        "    # read the image\n",
        "    image = cv2.imread(file)\n",
        "\n",
        "    # resize the image\n",
        "    image = cv2.resize(image, fixed_size)\n",
        "\n",
        "    ####################################\n",
        "    # Global Feature extraction\n",
        "    ####################################\n",
        "    fv_hu_moments = fd_hu_moments(image)\n",
        "    fv_haralick   = fd_haralick(image)\n",
        "    fv_histogram  = fd_histogram(image)\n",
        "\n",
        "    ###################################\n",
        "    # Concatenate global features\n",
        "    ###################################\n",
        "    global_feature = np.hstack([fv_histogram, fv_haralick, fv_hu_moments])\n",
        "    \n",
        "    global_features1.append(global_feature)"
      ],
      "execution_count": 38,
      "outputs": []
    },
    {
      "cell_type": "code",
      "metadata": {
        "id": "Zoq63kevuUCM",
        "colab": {
          "base_uri": "https://localhost:8080/",
          "height": 167
        },
        "outputId": "49d73fe0-faae-4a87-dd27-46436417f1fe"
      },
      "source": [
        "global_features1.shape()"
      ],
      "execution_count": 39,
      "outputs": [
        {
          "output_type": "error",
          "ename": "AttributeError",
          "evalue": "ignored",
          "traceback": [
            "\u001b[0;31m---------------------------------------------------------------------------\u001b[0m",
            "\u001b[0;31mAttributeError\u001b[0m                            Traceback (most recent call last)",
            "\u001b[0;32m<ipython-input-39-65c02c6dc13d>\u001b[0m in \u001b[0;36m<module>\u001b[0;34m()\u001b[0m\n\u001b[0;32m----> 1\u001b[0;31m \u001b[0mglobal_features1\u001b[0m\u001b[0;34m.\u001b[0m\u001b[0mshape\u001b[0m\u001b[0;34m(\u001b[0m\u001b[0;34m)\u001b[0m\u001b[0;34m\u001b[0m\u001b[0;34m\u001b[0m\u001b[0m\n\u001b[0m",
            "\u001b[0;31mAttributeError\u001b[0m: 'list' object has no attribute 'shape'"
          ]
        }
      ]
    },
    {
      "cell_type": "code",
      "metadata": {
        "id": "sIJ2GpY2uM_r",
        "colab": {
          "base_uri": "https://localhost:8080/",
          "height": 1000
        },
        "outputId": "a1690763-b2aa-4f9a-831a-c928e94c6900"
      },
      "source": [
        "# scale features in the range (0-1)\n",
        "scaler = MinMaxScaler(feature_range=(0, 1))\n",
        "rescaled_feature = scaler.fit_transform(global_feature)\n",
        "\n",
        "# predict label of test image\n",
        "prediction = clf.predict(rescaled_feature.reshape(1,-1))[0]\n",
        "\n",
        "    # show predicted label on image\n",
        "cv2.putText(image, train_labels[prediction], (20,30), cv2.FONT_HERSHEY_SIMPLEX, 1.0, (0,255,255), 3)\n",
        "\n",
        "    # display the output image\n",
        "plt.imshow(cv2.cvtColor(image, cv2.COLOR_BGR2RGB))\n",
        "plt.show()"
      ],
      "execution_count": 35,
      "outputs": [
        {
          "output_type": "error",
          "ename": "ValueError",
          "evalue": "ignored",
          "traceback": [
            "\u001b[0;31m---------------------------------------------------------------------------\u001b[0m",
            "\u001b[0;31mValueError\u001b[0m                                Traceback (most recent call last)",
            "\u001b[0;32m<ipython-input-35-f08982d46b03>\u001b[0m in \u001b[0;36m<module>\u001b[0;34m()\u001b[0m\n\u001b[1;32m      1\u001b[0m \u001b[0;31m# scale features in the range (0-1)\u001b[0m\u001b[0;34m\u001b[0m\u001b[0;34m\u001b[0m\u001b[0;34m\u001b[0m\u001b[0m\n\u001b[1;32m      2\u001b[0m \u001b[0mscaler\u001b[0m \u001b[0;34m=\u001b[0m \u001b[0mMinMaxScaler\u001b[0m\u001b[0;34m(\u001b[0m\u001b[0mfeature_range\u001b[0m\u001b[0;34m=\u001b[0m\u001b[0;34m(\u001b[0m\u001b[0;36m0\u001b[0m\u001b[0;34m,\u001b[0m \u001b[0;36m1\u001b[0m\u001b[0;34m)\u001b[0m\u001b[0;34m)\u001b[0m\u001b[0;34m\u001b[0m\u001b[0;34m\u001b[0m\u001b[0m\n\u001b[0;32m----> 3\u001b[0;31m \u001b[0mrescaled_feature\u001b[0m \u001b[0;34m=\u001b[0m \u001b[0mscaler\u001b[0m\u001b[0;34m.\u001b[0m\u001b[0mfit_transform\u001b[0m\u001b[0;34m(\u001b[0m\u001b[0mglobal_feature\u001b[0m\u001b[0;34m)\u001b[0m\u001b[0;34m\u001b[0m\u001b[0;34m\u001b[0m\u001b[0m\n\u001b[0m\u001b[1;32m      4\u001b[0m \u001b[0;34m\u001b[0m\u001b[0m\n\u001b[1;32m      5\u001b[0m \u001b[0;31m# predict label of test image\u001b[0m\u001b[0;34m\u001b[0m\u001b[0;34m\u001b[0m\u001b[0;34m\u001b[0m\u001b[0m\n",
            "\u001b[0;32m/usr/local/lib/python3.6/dist-packages/sklearn/base.py\u001b[0m in \u001b[0;36mfit_transform\u001b[0;34m(self, X, y, **fit_params)\u001b[0m\n\u001b[1;32m    569\u001b[0m         \u001b[0;32mif\u001b[0m \u001b[0my\u001b[0m \u001b[0;32mis\u001b[0m \u001b[0;32mNone\u001b[0m\u001b[0;34m:\u001b[0m\u001b[0;34m\u001b[0m\u001b[0;34m\u001b[0m\u001b[0m\n\u001b[1;32m    570\u001b[0m             \u001b[0;31m# fit method of arity 1 (unsupervised transformation)\u001b[0m\u001b[0;34m\u001b[0m\u001b[0;34m\u001b[0m\u001b[0;34m\u001b[0m\u001b[0m\n\u001b[0;32m--> 571\u001b[0;31m             \u001b[0;32mreturn\u001b[0m \u001b[0mself\u001b[0m\u001b[0;34m.\u001b[0m\u001b[0mfit\u001b[0m\u001b[0;34m(\u001b[0m\u001b[0mX\u001b[0m\u001b[0;34m,\u001b[0m \u001b[0;34m**\u001b[0m\u001b[0mfit_params\u001b[0m\u001b[0;34m)\u001b[0m\u001b[0;34m.\u001b[0m\u001b[0mtransform\u001b[0m\u001b[0;34m(\u001b[0m\u001b[0mX\u001b[0m\u001b[0;34m)\u001b[0m\u001b[0;34m\u001b[0m\u001b[0;34m\u001b[0m\u001b[0m\n\u001b[0m\u001b[1;32m    572\u001b[0m         \u001b[0;32melse\u001b[0m\u001b[0;34m:\u001b[0m\u001b[0;34m\u001b[0m\u001b[0;34m\u001b[0m\u001b[0m\n\u001b[1;32m    573\u001b[0m             \u001b[0;31m# fit method of arity 2 (supervised transformation)\u001b[0m\u001b[0;34m\u001b[0m\u001b[0;34m\u001b[0m\u001b[0;34m\u001b[0m\u001b[0m\n",
            "\u001b[0;32m/usr/local/lib/python3.6/dist-packages/sklearn/preprocessing/_data.py\u001b[0m in \u001b[0;36mfit\u001b[0;34m(self, X, y)\u001b[0m\n\u001b[1;32m    337\u001b[0m         \u001b[0;31m# Reset internal state before fitting\u001b[0m\u001b[0;34m\u001b[0m\u001b[0;34m\u001b[0m\u001b[0;34m\u001b[0m\u001b[0m\n\u001b[1;32m    338\u001b[0m         \u001b[0mself\u001b[0m\u001b[0;34m.\u001b[0m\u001b[0m_reset\u001b[0m\u001b[0;34m(\u001b[0m\u001b[0;34m)\u001b[0m\u001b[0;34m\u001b[0m\u001b[0;34m\u001b[0m\u001b[0m\n\u001b[0;32m--> 339\u001b[0;31m         \u001b[0;32mreturn\u001b[0m \u001b[0mself\u001b[0m\u001b[0;34m.\u001b[0m\u001b[0mpartial_fit\u001b[0m\u001b[0;34m(\u001b[0m\u001b[0mX\u001b[0m\u001b[0;34m,\u001b[0m \u001b[0my\u001b[0m\u001b[0;34m)\u001b[0m\u001b[0;34m\u001b[0m\u001b[0;34m\u001b[0m\u001b[0m\n\u001b[0m\u001b[1;32m    340\u001b[0m \u001b[0;34m\u001b[0m\u001b[0m\n\u001b[1;32m    341\u001b[0m     \u001b[0;32mdef\u001b[0m \u001b[0mpartial_fit\u001b[0m\u001b[0;34m(\u001b[0m\u001b[0mself\u001b[0m\u001b[0;34m,\u001b[0m \u001b[0mX\u001b[0m\u001b[0;34m,\u001b[0m \u001b[0my\u001b[0m\u001b[0;34m=\u001b[0m\u001b[0;32mNone\u001b[0m\u001b[0;34m)\u001b[0m\u001b[0;34m:\u001b[0m\u001b[0;34m\u001b[0m\u001b[0;34m\u001b[0m\u001b[0m\n",
            "\u001b[0;32m/usr/local/lib/python3.6/dist-packages/sklearn/preprocessing/_data.py\u001b[0m in \u001b[0;36mpartial_fit\u001b[0;34m(self, X, y)\u001b[0m\n\u001b[1;32m    371\u001b[0m         X = check_array(X,\n\u001b[1;32m    372\u001b[0m                         \u001b[0mestimator\u001b[0m\u001b[0;34m=\u001b[0m\u001b[0mself\u001b[0m\u001b[0;34m,\u001b[0m \u001b[0mdtype\u001b[0m\u001b[0;34m=\u001b[0m\u001b[0mFLOAT_DTYPES\u001b[0m\u001b[0;34m,\u001b[0m\u001b[0;34m\u001b[0m\u001b[0;34m\u001b[0m\u001b[0m\n\u001b[0;32m--> 373\u001b[0;31m                         force_all_finite=\"allow-nan\")\n\u001b[0m\u001b[1;32m    374\u001b[0m \u001b[0;34m\u001b[0m\u001b[0m\n\u001b[1;32m    375\u001b[0m         \u001b[0mdata_min\u001b[0m \u001b[0;34m=\u001b[0m \u001b[0mnp\u001b[0m\u001b[0;34m.\u001b[0m\u001b[0mnanmin\u001b[0m\u001b[0;34m(\u001b[0m\u001b[0mX\u001b[0m\u001b[0;34m,\u001b[0m \u001b[0maxis\u001b[0m\u001b[0;34m=\u001b[0m\u001b[0;36m0\u001b[0m\u001b[0;34m)\u001b[0m\u001b[0;34m\u001b[0m\u001b[0;34m\u001b[0m\u001b[0m\n",
            "\u001b[0;32m/usr/local/lib/python3.6/dist-packages/sklearn/utils/validation.py\u001b[0m in \u001b[0;36mcheck_array\u001b[0;34m(array, accept_sparse, accept_large_sparse, dtype, order, copy, force_all_finite, ensure_2d, allow_nd, ensure_min_samples, ensure_min_features, warn_on_dtype, estimator)\u001b[0m\n\u001b[1;32m    554\u001b[0m                     \u001b[0;34m\"Reshape your data either using array.reshape(-1, 1) if \"\u001b[0m\u001b[0;34m\u001b[0m\u001b[0;34m\u001b[0m\u001b[0m\n\u001b[1;32m    555\u001b[0m                     \u001b[0;34m\"your data has a single feature or array.reshape(1, -1) \"\u001b[0m\u001b[0;34m\u001b[0m\u001b[0;34m\u001b[0m\u001b[0m\n\u001b[0;32m--> 556\u001b[0;31m                     \"if it contains a single sample.\".format(array))\n\u001b[0m\u001b[1;32m    557\u001b[0m \u001b[0;34m\u001b[0m\u001b[0m\n\u001b[1;32m    558\u001b[0m         \u001b[0;31m# in the future np.flexible dtypes will be handled like object dtypes\u001b[0m\u001b[0;34m\u001b[0m\u001b[0;34m\u001b[0m\u001b[0;34m\u001b[0m\u001b[0m\n",
            "\u001b[0;31mValueError\u001b[0m: Expected 2D array, got 1D array instead:\narray=[ 1.46519346e-03  1.39313471e-03  7.75831938e-02  1.65879115e-01\n  9.36522782e-02  7.06175203e-03  5.98087162e-03  7.07832515e-01\n  1.10489991e-03  2.76224990e-03  4.66700122e-02  6.44925311e-02\n  2.28185859e-02  5.76469535e-03  1.53725210e-03  1.68136947e-04\n  8.16665182e-04  2.95440643e-03  2.93278880e-02  5.01528494e-02\n  2.83430852e-02  5.86077385e-03  6.00489089e-04  2.40195641e-05\n  9.12743446e-04  3.17058247e-03  3.03126890e-02  4.83994223e-02\n  1.43156601e-02  2.64215196e-04  0.00000000e+00  0.00000000e+00\n  7.92645616e-04  3.41077801e-03  1.85671225e-02  1.56367365e-02\n  9.12743446e-04  2.40195641e-05  0.00000000e+00  0.00000000e+00\n  4.32352157e-04  2.49803462e-03  6.22106716e-03  1.53725210e-03\n  4.80391282e-05  0.00000000e+00  0.00000000e+00  0.00000000e+00\n  2.88234762e-04  8.64704314e-04  1.20097818e-03  1.68136947e-04\n  0.00000000e+00  0.00000000e+00  0.00000000e+00  0.00000000e+00\n  7.20586919e-04  6.48528221e-04  2.64215196e-04  0.00000000e+00\n  0.00000000e+00  0.00000000e+00  0.00000000e+00  0.00000000e+00\n  6.00489089e-04  2.59411288e-03  5.09214774e-02  2.66617164e-02\n  9.70390346e-03  4.20342386e-03  2.85832817e-03  3.78067940e-02\n  5.86077385e-03  1.23220365e-02  9.88405049e-02  5.08253984e-02\n  2.43558381e-02  9.51174740e-03  1.58529123e-03  1.92156513e-04\n  1.99602582e-02  4.29710001e-02  8.47170055e-02  8.46449435e-02\n  5.08253984e-02  1.04244910e-02  1.32107607e-03  0.00000000e+00\n  2.82229874e-02  8.44768062e-02  1.17647827e-01  1.38544843e-01\n  5.04891239e-02  2.32989760e-03  4.80391282e-05  0.00000000e+00\n  3.00244559e-02  1.04917459e-01  2.07408935e-01  1.94870725e-01\n  2.20499597e-02  7.20586904e-05  0.00000000e+00  0.00000000e+00\n  2.29146648e-02  1.12867929e-01  2.65296072e-01  1.26270846e-01\n  2.71421066e-03  0.00000000e+00  0.00000000e+00  0.00000000e+00\n  1.70298703e-02  9.11062062e-02  1.57544315e-01  4.01126705e-02\n  1.20097822e-04  0.00000000e+00  0.00000000e+00  0.00000000e+00\n  2.46200524e-02  6.40841946e-02  4.48445268e-02  2.59411288e-03\n  0.00000000e+00  0.00000000e+00  0.00000000e+00  0.00000000e+00\n  2.16176079e-04  1.84950640e-03  9.92008019e-03  3.31469974e-03\n  3.36273899e-03  1.70538900e-03  1.36911520e-03  8.38042572e-02\n  1.84950640e-03  1.84950640e-03  1.72940863e-03  1.68136947e-04\n  0.00000000e+00  0.00000000e+00  0.00000000e+00  7.20586904e-05\n  1.41715433e-03  3.12254328e-04  0.00000000e+00  0.00000000e+00\n  0.00000000e+00  0.00000000e+00  0.00000000e+00  0.00000000e+00\n  1.05686078e-03  1.20097822e-04  0.00000000e+00  0.00000000e+00\n  0.00000000e+00  0.00000000e+00  0.00000000e+00  0.00000000e+00\n  1.92156513e-04  2.40195641e-05  0.00000000e+00  0.00000000e+00\n  0.00000000e+00  0.00000000e+00  0.00000000e+00  0.00000000e+00\n  0.00000000e+00  0.00000000e+00  0.00000000e+00  0.00000000e+00\n  0.00000000e+00  0.00000000e+00  0.00000000e+00  0.00000000e+00\n  4.80391282e-05  0.00000000e+00  0.00000000e+00  0.00000000e+00\n  0.00000000e+00  0.00000000e+00  0.00000000e+00  0.00000000e+00\n  2.40195641e-05  0.00000000e+00  0.00000000e+00  0.00000000e+00\n  0.00000000e+00  0.00000000e+00  0.00000000e+00  0.00000000e+00\n  1.44117381e-04  1.39313471e-03  2.43077986e-02  2.92558298e-02\n  1.12651754e-02  9.36762989e-03  1.08568426e-02  1.25694379e-01\n  1.29705644e-03  3.00244545e-03  1.19137038e-02  2.63734814e-02\n  3.37715074e-02  3.47322896e-02  3.08651403e-02  5.38758822e-02\n  7.92645616e-04  2.54607387e-03  6.55734120e-03  2.25063320e-02\n  5.40920570e-02  8.66625905e-02  9.66307074e-02  7.63822123e-02\n  6.96567353e-04  1.20097818e-03  4.32352163e-03  1.56127168e-02\n  5.33714704e-02  1.11378722e-01  1.33548781e-01  5.13298102e-02\n  3.60293459e-04  6.48528221e-04  2.28185859e-03  1.06406668e-02\n  4.46523689e-02  7.58537799e-02  4.93602045e-02  2.11372157e-03\n  1.92156513e-04  1.92156513e-04  7.44606485e-04  3.02646519e-03\n  7.56616285e-03  6.91763451e-03  5.28430392e-04  0.00000000e+00\n  9.60782563e-05  2.40195641e-05  1.20097822e-04  3.84313025e-04\n  7.20586904e-05  0.00000000e+00  0.00000000e+00  0.00000000e+00\n  4.80391282e-05  0.00000000e+00  4.80391282e-05  0.00000000e+00\n  0.00000000e+00  0.00000000e+00  0.00000000e+00  0.00000000e+00\n  4.80391282e-05  6.96567353e-04  2.04166286e-02  6.83356598e-02\n  2.49082875e-02  9.29557160e-03  6.67743897e-03  2.69979909e-02\n  2.40195641e-05  8.16665182e-04  1.08328238e-02  2.60612275e-02\n  3.11053358e-02  1.47239929e-02  6.77351700e-03  4.58773691e-03\n  0.00000000e+00  5.76469523e-04  5.42842131e-03  1.41955623e-02\n  1.93357486e-02  1.18176257e-02  4.25146287e-03  1.29705644e-03\n  0.00000000e+00  2.40195644e-04  2.54607387e-03  6.50930172e-03\n  5.06812800e-03  1.96960429e-03  4.32352157e-04  2.40195641e-05\n  0.00000000e+00  1.20097822e-04  6.96567353e-04  7.92645616e-04\n  8.88723880e-04  1.92156513e-04  2.40195641e-05  0.00000000e+00\n  0.00000000e+00  0.00000000e+00  4.80391282e-05  7.20586904e-05\n  0.00000000e+00  2.40195641e-05  0.00000000e+00  0.00000000e+00\n  0.00000000e+00  0.00000000e+00  0.00000000e+00  0.00000000e+00\n  0.00000000e+00  0.00000000e+00  0.00000000e+00  0.00000000e+00\n  0.00000000e+00  0.00000000e+00  0.00000000e+00  0.00000000e+00\n  0.00000000e+00  0.00000000e+00  0.00000000e+00  0.00000000e+00\n  0.00000000e+00  4.80391289e-04  1.18896840e-02  1.03212066e-01\n  3.15857269e-02  2.25783908e-03  1.24901731e-03  5.62057784e-03\n  4.80391282e-05  5.28430392e-04  2.85832817e-03  3.24264122e-03\n  3.79509106e-03  9.60782563e-05  0.00000000e+00  2.40195641e-05\n  0.00000000e+00  1.68136947e-04  1.68136947e-04  0.00000000e+00\n  0.00000000e+00  0.00000000e+00  0.00000000e+00  0.00000000e+00\n  0.00000000e+00  0.00000000e+00  0.00000000e+00  0.00000000e+00\n  0.00000000e+00  0.00000000e+00  0.00000000e+00  0.00000000e+00\n  0.00000000e+00  0.00000000e+00  0.00000000e+00  0.00000000e+00\n  0.00000000e+00  0.00000000e+00  0.00000000e+00  0.00000000e+00\n  0.00000000e+00  0.00000000e+00  0.00000000e+00  0.00000000e+00\n  0.00000000e+00  0.00000000e+00  0.00000000e+00  0.00000000e+00\n  0.00000000e+00  0.00000000e+00  0.00000000e+00  0.00000000e+00\n  0.00000000e+00  0.00000000e+00  0.00000000e+00  0.00000000e+00\n  0.00000000e+00  0.00000000e+00  0.00000000e+00  0.00000000e+00\n  0.00000000e+00  0.00000000e+00  0.00000000e+00  0.00000000e+00\n  0.00000000e+00  0.00000000e+00  0.00000000e+00  0.00000000e+00\n  0.00000000e+00  0.00000000e+00  0.00000000e+00  0.00000000e+00\n  0.00000000e+00  0.00000000e+00  0.00000000e+00  0.00000000e+00\n  0.00000000e+00  0.00000000e+00  0.00000000e+00  0.00000000e+00\n  0.00000000e+00  0.00000000e+00  0.00000000e+00  0.00000000e+00\n  0.00000000e+00  0.00000000e+00  0.00000000e+00  0.00000000e+00\n  0.00000000e+00  0.00000000e+00  0.00000000e+00  0.00000000e+00\n  0.00000000e+00  0.00000000e+00  0.00000000e+00  0.00000000e+00\n  0.00000000e+00  0.00000000e+00  0.00000000e+00  0.00000000e+00\n  0.00000000e+00  0.00000000e+00  0.00000000e+00  0.00000000e+00\n  0.00000000e+00  0.00000000e+00  0.00000000e+00  0.00000000e+00\n  0.00000000e+00  0.00000000e+00  0.00000000e+00  0.00000000e+00\n  0.00000000e+00  0.00000000e+00  0.00000000e+00  0.00000000e+00\n  0.00000000e+00  0.00000000e+00  0.00000000e+00  0.00000000e+00\n  0.00000000e+00  0.00000000e+00  0.00000000e+00  0.00000000e+00\n  0.00000000e+00  0.00000000e+00  0.00000000e+00  0.00000000e+00\n  0.00000000e+00  0.00000000e+00  0.00000000e+00  0.00000000e+00\n  0.00000000e+00  0.00000000e+00  0.00000000e+00  0.00000000e+00\n  0.00000000e+00  0.00000000e+00  0.00000000e+00  0.00000000e+00\n  0.00000000e+00  0.00000000e+00  0.00000000e+00  0.00000000e+00\n  0.00000000e+00  0.00000000e+00  0.00000000e+00  0.00000000e+00\n  0.00000000e+00  0.00000000e+00  0.00000000e+00  0.00000000e+00\n  0.00000000e+00  0.00000000e+00  0.00000000e+00  0.00000000e+00\n  0.00000000e+00  0.00000000e+00  0.00000000e+00  0.00000000e+00\n  0.00000000e+00  0.00000000e+00  0.00000000e+00  0.00000000e+00\n  0.00000000e+00  0.00000000e+00  0.00000000e+00  0.00000000e+00\n  0.00000000e+00  0.00000000e+00  0.00000000e+00  0.00000000e+00\n  0.00000000e+00  0.00000000e+00  0.00000000e+00  0.00000000e+00\n  0.00000000e+00  0.00000000e+00  0.00000000e+00  0.00000000e+00\n  0.00000000e+00  0.00000000e+00  0.00000000e+00  0.00000000e+00\n  0.00000000e+00  0.00000000e+00  0.00000000e+00  0.00000000e+00\n  0.00000000e+00  0.00000000e+00  0.00000000e+00  0.00000000e+00\n  1.04977232e-02  3.27348238e+02  9.64642105e-01  4.62936886e+03\n  2.39225193e-01  2.41735735e+02  1.81901272e+04  7.97436976e+00\n  1.22015107e+01  2.23515131e-04  4.83212476e+00 -2.78176360e-01\n  9.89145003e-01  1.32396543e-03  3.42420061e-08  1.23889487e-10\n  6.84617162e-11  4.30085093e-21  9.87384062e-15 -4.61046673e-21].\nReshape your data either using array.reshape(-1, 1) if your data has a single feature or array.reshape(1, -1) if it contains a single sample."
          ]
        }
      ]
    },
    {
      "cell_type": "code",
      "metadata": {
        "id": "ygb2bErb_Kcc",
        "colab": {
          "base_uri": "https://localhost:8080/",
          "height": 1000
        },
        "outputId": "714b8104-c231-4ea4-96ee-2fecddc81b3b"
      },
      "source": [
        "for file in glob.glob(test_path + \"/*.jpg\"):\n",
        "    # read the image\n",
        "    image = cv2.imread(file)\n",
        "\n",
        "    # resize the image\n",
        "    image = cv2.resize(image, fixed_size)\n",
        "\n",
        "    ####################################\n",
        "    # Global Feature extraction\n",
        "    ####################################\n",
        "    fv_hu_moments = fd_hu_moments(image)\n",
        "    fv_haralick   = fd_haralick(image)\n",
        "    fv_histogram  = fd_histogram(image)\n",
        "\n",
        "    ###################################\n",
        "    # Concatenate global features\n",
        "    ###################################\n",
        "    global_feature = np.hstack([fv_histogram, fv_haralick, fv_hu_moments])\n",
        "\n",
        "# scale features in the range (0-1)\n",
        "scaler = MinMaxScaler(feature_range=(0, 1))\n",
        "rescaled_feature = scaler.fit_transform(global_feature)\n",
        "\n",
        "# predict label of test image\n",
        "prediction = clf.predict(rescaled_feature.reshape(1,-1))[0]\n",
        "\n",
        "    # show predicted label on image\n",
        "cv2.putText(image, train_labels[prediction], (20,30), cv2.FONT_HERSHEY_SIMPLEX, 1.0, (0,255,255), 3)\n",
        "\n",
        "    # display the output image\n",
        "plt.imshow(cv2.cvtColor(image, cv2.COLOR_BGR2RGB))\n",
        "plt.show()"
      ],
      "execution_count": 36,
      "outputs": [
        {
          "output_type": "error",
          "ename": "ValueError",
          "evalue": "ignored",
          "traceback": [
            "\u001b[0;31m---------------------------------------------------------------------------\u001b[0m",
            "\u001b[0;31mValueError\u001b[0m                                Traceback (most recent call last)",
            "\u001b[0;32m<ipython-input-36-41f075ba7379>\u001b[0m in \u001b[0;36m<module>\u001b[0;34m()\u001b[0m\n\u001b[1;32m     20\u001b[0m \u001b[0;31m# scale features in the range (0-1)\u001b[0m\u001b[0;34m\u001b[0m\u001b[0;34m\u001b[0m\u001b[0;34m\u001b[0m\u001b[0m\n\u001b[1;32m     21\u001b[0m \u001b[0mscaler\u001b[0m \u001b[0;34m=\u001b[0m \u001b[0mMinMaxScaler\u001b[0m\u001b[0;34m(\u001b[0m\u001b[0mfeature_range\u001b[0m\u001b[0;34m=\u001b[0m\u001b[0;34m(\u001b[0m\u001b[0;36m0\u001b[0m\u001b[0;34m,\u001b[0m \u001b[0;36m1\u001b[0m\u001b[0;34m)\u001b[0m\u001b[0;34m)\u001b[0m\u001b[0;34m\u001b[0m\u001b[0;34m\u001b[0m\u001b[0m\n\u001b[0;32m---> 22\u001b[0;31m \u001b[0mrescaled_feature\u001b[0m \u001b[0;34m=\u001b[0m \u001b[0mscaler\u001b[0m\u001b[0;34m.\u001b[0m\u001b[0mfit_transform\u001b[0m\u001b[0;34m(\u001b[0m\u001b[0mglobal_feature\u001b[0m\u001b[0;34m)\u001b[0m\u001b[0;34m\u001b[0m\u001b[0;34m\u001b[0m\u001b[0m\n\u001b[0m\u001b[1;32m     23\u001b[0m \u001b[0;34m\u001b[0m\u001b[0m\n\u001b[1;32m     24\u001b[0m \u001b[0;31m# predict label of test image\u001b[0m\u001b[0;34m\u001b[0m\u001b[0;34m\u001b[0m\u001b[0;34m\u001b[0m\u001b[0m\n",
            "\u001b[0;32m/usr/local/lib/python3.6/dist-packages/sklearn/base.py\u001b[0m in \u001b[0;36mfit_transform\u001b[0;34m(self, X, y, **fit_params)\u001b[0m\n\u001b[1;32m    569\u001b[0m         \u001b[0;32mif\u001b[0m \u001b[0my\u001b[0m \u001b[0;32mis\u001b[0m \u001b[0;32mNone\u001b[0m\u001b[0;34m:\u001b[0m\u001b[0;34m\u001b[0m\u001b[0;34m\u001b[0m\u001b[0m\n\u001b[1;32m    570\u001b[0m             \u001b[0;31m# fit method of arity 1 (unsupervised transformation)\u001b[0m\u001b[0;34m\u001b[0m\u001b[0;34m\u001b[0m\u001b[0;34m\u001b[0m\u001b[0m\n\u001b[0;32m--> 571\u001b[0;31m             \u001b[0;32mreturn\u001b[0m \u001b[0mself\u001b[0m\u001b[0;34m.\u001b[0m\u001b[0mfit\u001b[0m\u001b[0;34m(\u001b[0m\u001b[0mX\u001b[0m\u001b[0;34m,\u001b[0m \u001b[0;34m**\u001b[0m\u001b[0mfit_params\u001b[0m\u001b[0;34m)\u001b[0m\u001b[0;34m.\u001b[0m\u001b[0mtransform\u001b[0m\u001b[0;34m(\u001b[0m\u001b[0mX\u001b[0m\u001b[0;34m)\u001b[0m\u001b[0;34m\u001b[0m\u001b[0;34m\u001b[0m\u001b[0m\n\u001b[0m\u001b[1;32m    572\u001b[0m         \u001b[0;32melse\u001b[0m\u001b[0;34m:\u001b[0m\u001b[0;34m\u001b[0m\u001b[0;34m\u001b[0m\u001b[0m\n\u001b[1;32m    573\u001b[0m             \u001b[0;31m# fit method of arity 2 (supervised transformation)\u001b[0m\u001b[0;34m\u001b[0m\u001b[0;34m\u001b[0m\u001b[0;34m\u001b[0m\u001b[0m\n",
            "\u001b[0;32m/usr/local/lib/python3.6/dist-packages/sklearn/preprocessing/_data.py\u001b[0m in \u001b[0;36mfit\u001b[0;34m(self, X, y)\u001b[0m\n\u001b[1;32m    337\u001b[0m         \u001b[0;31m# Reset internal state before fitting\u001b[0m\u001b[0;34m\u001b[0m\u001b[0;34m\u001b[0m\u001b[0;34m\u001b[0m\u001b[0m\n\u001b[1;32m    338\u001b[0m         \u001b[0mself\u001b[0m\u001b[0;34m.\u001b[0m\u001b[0m_reset\u001b[0m\u001b[0;34m(\u001b[0m\u001b[0;34m)\u001b[0m\u001b[0;34m\u001b[0m\u001b[0;34m\u001b[0m\u001b[0m\n\u001b[0;32m--> 339\u001b[0;31m         \u001b[0;32mreturn\u001b[0m \u001b[0mself\u001b[0m\u001b[0;34m.\u001b[0m\u001b[0mpartial_fit\u001b[0m\u001b[0;34m(\u001b[0m\u001b[0mX\u001b[0m\u001b[0;34m,\u001b[0m \u001b[0my\u001b[0m\u001b[0;34m)\u001b[0m\u001b[0;34m\u001b[0m\u001b[0;34m\u001b[0m\u001b[0m\n\u001b[0m\u001b[1;32m    340\u001b[0m \u001b[0;34m\u001b[0m\u001b[0m\n\u001b[1;32m    341\u001b[0m     \u001b[0;32mdef\u001b[0m \u001b[0mpartial_fit\u001b[0m\u001b[0;34m(\u001b[0m\u001b[0mself\u001b[0m\u001b[0;34m,\u001b[0m \u001b[0mX\u001b[0m\u001b[0;34m,\u001b[0m \u001b[0my\u001b[0m\u001b[0;34m=\u001b[0m\u001b[0;32mNone\u001b[0m\u001b[0;34m)\u001b[0m\u001b[0;34m:\u001b[0m\u001b[0;34m\u001b[0m\u001b[0;34m\u001b[0m\u001b[0m\n",
            "\u001b[0;32m/usr/local/lib/python3.6/dist-packages/sklearn/preprocessing/_data.py\u001b[0m in \u001b[0;36mpartial_fit\u001b[0;34m(self, X, y)\u001b[0m\n\u001b[1;32m    371\u001b[0m         X = check_array(X,\n\u001b[1;32m    372\u001b[0m                         \u001b[0mestimator\u001b[0m\u001b[0;34m=\u001b[0m\u001b[0mself\u001b[0m\u001b[0;34m,\u001b[0m \u001b[0mdtype\u001b[0m\u001b[0;34m=\u001b[0m\u001b[0mFLOAT_DTYPES\u001b[0m\u001b[0;34m,\u001b[0m\u001b[0;34m\u001b[0m\u001b[0;34m\u001b[0m\u001b[0m\n\u001b[0;32m--> 373\u001b[0;31m                         force_all_finite=\"allow-nan\")\n\u001b[0m\u001b[1;32m    374\u001b[0m \u001b[0;34m\u001b[0m\u001b[0m\n\u001b[1;32m    375\u001b[0m         \u001b[0mdata_min\u001b[0m \u001b[0;34m=\u001b[0m \u001b[0mnp\u001b[0m\u001b[0;34m.\u001b[0m\u001b[0mnanmin\u001b[0m\u001b[0;34m(\u001b[0m\u001b[0mX\u001b[0m\u001b[0;34m,\u001b[0m \u001b[0maxis\u001b[0m\u001b[0;34m=\u001b[0m\u001b[0;36m0\u001b[0m\u001b[0;34m)\u001b[0m\u001b[0;34m\u001b[0m\u001b[0;34m\u001b[0m\u001b[0m\n",
            "\u001b[0;32m/usr/local/lib/python3.6/dist-packages/sklearn/utils/validation.py\u001b[0m in \u001b[0;36mcheck_array\u001b[0;34m(array, accept_sparse, accept_large_sparse, dtype, order, copy, force_all_finite, ensure_2d, allow_nd, ensure_min_samples, ensure_min_features, warn_on_dtype, estimator)\u001b[0m\n\u001b[1;32m    554\u001b[0m                     \u001b[0;34m\"Reshape your data either using array.reshape(-1, 1) if \"\u001b[0m\u001b[0;34m\u001b[0m\u001b[0;34m\u001b[0m\u001b[0m\n\u001b[1;32m    555\u001b[0m                     \u001b[0;34m\"your data has a single feature or array.reshape(1, -1) \"\u001b[0m\u001b[0;34m\u001b[0m\u001b[0;34m\u001b[0m\u001b[0m\n\u001b[0;32m--> 556\u001b[0;31m                     \"if it contains a single sample.\".format(array))\n\u001b[0m\u001b[1;32m    557\u001b[0m \u001b[0;34m\u001b[0m\u001b[0m\n\u001b[1;32m    558\u001b[0m         \u001b[0;31m# in the future np.flexible dtypes will be handled like object dtypes\u001b[0m\u001b[0;34m\u001b[0m\u001b[0;34m\u001b[0m\u001b[0;34m\u001b[0m\u001b[0m\n",
            "\u001b[0;31mValueError\u001b[0m: Expected 2D array, got 1D array instead:\narray=[ 1.46519346e-03  1.39313471e-03  7.75831938e-02  1.65879115e-01\n  9.36522782e-02  7.06175203e-03  5.98087162e-03  7.07832515e-01\n  1.10489991e-03  2.76224990e-03  4.66700122e-02  6.44925311e-02\n  2.28185859e-02  5.76469535e-03  1.53725210e-03  1.68136947e-04\n  8.16665182e-04  2.95440643e-03  2.93278880e-02  5.01528494e-02\n  2.83430852e-02  5.86077385e-03  6.00489089e-04  2.40195641e-05\n  9.12743446e-04  3.17058247e-03  3.03126890e-02  4.83994223e-02\n  1.43156601e-02  2.64215196e-04  0.00000000e+00  0.00000000e+00\n  7.92645616e-04  3.41077801e-03  1.85671225e-02  1.56367365e-02\n  9.12743446e-04  2.40195641e-05  0.00000000e+00  0.00000000e+00\n  4.32352157e-04  2.49803462e-03  6.22106716e-03  1.53725210e-03\n  4.80391282e-05  0.00000000e+00  0.00000000e+00  0.00000000e+00\n  2.88234762e-04  8.64704314e-04  1.20097818e-03  1.68136947e-04\n  0.00000000e+00  0.00000000e+00  0.00000000e+00  0.00000000e+00\n  7.20586919e-04  6.48528221e-04  2.64215196e-04  0.00000000e+00\n  0.00000000e+00  0.00000000e+00  0.00000000e+00  0.00000000e+00\n  6.00489089e-04  2.59411288e-03  5.09214774e-02  2.66617164e-02\n  9.70390346e-03  4.20342386e-03  2.85832817e-03  3.78067940e-02\n  5.86077385e-03  1.23220365e-02  9.88405049e-02  5.08253984e-02\n  2.43558381e-02  9.51174740e-03  1.58529123e-03  1.92156513e-04\n  1.99602582e-02  4.29710001e-02  8.47170055e-02  8.46449435e-02\n  5.08253984e-02  1.04244910e-02  1.32107607e-03  0.00000000e+00\n  2.82229874e-02  8.44768062e-02  1.17647827e-01  1.38544843e-01\n  5.04891239e-02  2.32989760e-03  4.80391282e-05  0.00000000e+00\n  3.00244559e-02  1.04917459e-01  2.07408935e-01  1.94870725e-01\n  2.20499597e-02  7.20586904e-05  0.00000000e+00  0.00000000e+00\n  2.29146648e-02  1.12867929e-01  2.65296072e-01  1.26270846e-01\n  2.71421066e-03  0.00000000e+00  0.00000000e+00  0.00000000e+00\n  1.70298703e-02  9.11062062e-02  1.57544315e-01  4.01126705e-02\n  1.20097822e-04  0.00000000e+00  0.00000000e+00  0.00000000e+00\n  2.46200524e-02  6.40841946e-02  4.48445268e-02  2.59411288e-03\n  0.00000000e+00  0.00000000e+00  0.00000000e+00  0.00000000e+00\n  2.16176079e-04  1.84950640e-03  9.92008019e-03  3.31469974e-03\n  3.36273899e-03  1.70538900e-03  1.36911520e-03  8.38042572e-02\n  1.84950640e-03  1.84950640e-03  1.72940863e-03  1.68136947e-04\n  0.00000000e+00  0.00000000e+00  0.00000000e+00  7.20586904e-05\n  1.41715433e-03  3.12254328e-04  0.00000000e+00  0.00000000e+00\n  0.00000000e+00  0.00000000e+00  0.00000000e+00  0.00000000e+00\n  1.05686078e-03  1.20097822e-04  0.00000000e+00  0.00000000e+00\n  0.00000000e+00  0.00000000e+00  0.00000000e+00  0.00000000e+00\n  1.92156513e-04  2.40195641e-05  0.00000000e+00  0.00000000e+00\n  0.00000000e+00  0.00000000e+00  0.00000000e+00  0.00000000e+00\n  0.00000000e+00  0.00000000e+00  0.00000000e+00  0.00000000e+00\n  0.00000000e+00  0.00000000e+00  0.00000000e+00  0.00000000e+00\n  4.80391282e-05  0.00000000e+00  0.00000000e+00  0.00000000e+00\n  0.00000000e+00  0.00000000e+00  0.00000000e+00  0.00000000e+00\n  2.40195641e-05  0.00000000e+00  0.00000000e+00  0.00000000e+00\n  0.00000000e+00  0.00000000e+00  0.00000000e+00  0.00000000e+00\n  1.44117381e-04  1.39313471e-03  2.43077986e-02  2.92558298e-02\n  1.12651754e-02  9.36762989e-03  1.08568426e-02  1.25694379e-01\n  1.29705644e-03  3.00244545e-03  1.19137038e-02  2.63734814e-02\n  3.37715074e-02  3.47322896e-02  3.08651403e-02  5.38758822e-02\n  7.92645616e-04  2.54607387e-03  6.55734120e-03  2.25063320e-02\n  5.40920570e-02  8.66625905e-02  9.66307074e-02  7.63822123e-02\n  6.96567353e-04  1.20097818e-03  4.32352163e-03  1.56127168e-02\n  5.33714704e-02  1.11378722e-01  1.33548781e-01  5.13298102e-02\n  3.60293459e-04  6.48528221e-04  2.28185859e-03  1.06406668e-02\n  4.46523689e-02  7.58537799e-02  4.93602045e-02  2.11372157e-03\n  1.92156513e-04  1.92156513e-04  7.44606485e-04  3.02646519e-03\n  7.56616285e-03  6.91763451e-03  5.28430392e-04  0.00000000e+00\n  9.60782563e-05  2.40195641e-05  1.20097822e-04  3.84313025e-04\n  7.20586904e-05  0.00000000e+00  0.00000000e+00  0.00000000e+00\n  4.80391282e-05  0.00000000e+00  4.80391282e-05  0.00000000e+00\n  0.00000000e+00  0.00000000e+00  0.00000000e+00  0.00000000e+00\n  4.80391282e-05  6.96567353e-04  2.04166286e-02  6.83356598e-02\n  2.49082875e-02  9.29557160e-03  6.67743897e-03  2.69979909e-02\n  2.40195641e-05  8.16665182e-04  1.08328238e-02  2.60612275e-02\n  3.11053358e-02  1.47239929e-02  6.77351700e-03  4.58773691e-03\n  0.00000000e+00  5.76469523e-04  5.42842131e-03  1.41955623e-02\n  1.93357486e-02  1.18176257e-02  4.25146287e-03  1.29705644e-03\n  0.00000000e+00  2.40195644e-04  2.54607387e-03  6.50930172e-03\n  5.06812800e-03  1.96960429e-03  4.32352157e-04  2.40195641e-05\n  0.00000000e+00  1.20097822e-04  6.96567353e-04  7.92645616e-04\n  8.88723880e-04  1.92156513e-04  2.40195641e-05  0.00000000e+00\n  0.00000000e+00  0.00000000e+00  4.80391282e-05  7.20586904e-05\n  0.00000000e+00  2.40195641e-05  0.00000000e+00  0.00000000e+00\n  0.00000000e+00  0.00000000e+00  0.00000000e+00  0.00000000e+00\n  0.00000000e+00  0.00000000e+00  0.00000000e+00  0.00000000e+00\n  0.00000000e+00  0.00000000e+00  0.00000000e+00  0.00000000e+00\n  0.00000000e+00  0.00000000e+00  0.00000000e+00  0.00000000e+00\n  0.00000000e+00  4.80391289e-04  1.18896840e-02  1.03212066e-01\n  3.15857269e-02  2.25783908e-03  1.24901731e-03  5.62057784e-03\n  4.80391282e-05  5.28430392e-04  2.85832817e-03  3.24264122e-03\n  3.79509106e-03  9.60782563e-05  0.00000000e+00  2.40195641e-05\n  0.00000000e+00  1.68136947e-04  1.68136947e-04  0.00000000e+00\n  0.00000000e+00  0.00000000e+00  0.00000000e+00  0.00000000e+00\n  0.00000000e+00  0.00000000e+00  0.00000000e+00  0.00000000e+00\n  0.00000000e+00  0.00000000e+00  0.00000000e+00  0.00000000e+00\n  0.00000000e+00  0.00000000e+00  0.00000000e+00  0.00000000e+00\n  0.00000000e+00  0.00000000e+00  0.00000000e+00  0.00000000e+00\n  0.00000000e+00  0.00000000e+00  0.00000000e+00  0.00000000e+00\n  0.00000000e+00  0.00000000e+00  0.00000000e+00  0.00000000e+00\n  0.00000000e+00  0.00000000e+00  0.00000000e+00  0.00000000e+00\n  0.00000000e+00  0.00000000e+00  0.00000000e+00  0.00000000e+00\n  0.00000000e+00  0.00000000e+00  0.00000000e+00  0.00000000e+00\n  0.00000000e+00  0.00000000e+00  0.00000000e+00  0.00000000e+00\n  0.00000000e+00  0.00000000e+00  0.00000000e+00  0.00000000e+00\n  0.00000000e+00  0.00000000e+00  0.00000000e+00  0.00000000e+00\n  0.00000000e+00  0.00000000e+00  0.00000000e+00  0.00000000e+00\n  0.00000000e+00  0.00000000e+00  0.00000000e+00  0.00000000e+00\n  0.00000000e+00  0.00000000e+00  0.00000000e+00  0.00000000e+00\n  0.00000000e+00  0.00000000e+00  0.00000000e+00  0.00000000e+00\n  0.00000000e+00  0.00000000e+00  0.00000000e+00  0.00000000e+00\n  0.00000000e+00  0.00000000e+00  0.00000000e+00  0.00000000e+00\n  0.00000000e+00  0.00000000e+00  0.00000000e+00  0.00000000e+00\n  0.00000000e+00  0.00000000e+00  0.00000000e+00  0.00000000e+00\n  0.00000000e+00  0.00000000e+00  0.00000000e+00  0.00000000e+00\n  0.00000000e+00  0.00000000e+00  0.00000000e+00  0.00000000e+00\n  0.00000000e+00  0.00000000e+00  0.00000000e+00  0.00000000e+00\n  0.00000000e+00  0.00000000e+00  0.00000000e+00  0.00000000e+00\n  0.00000000e+00  0.00000000e+00  0.00000000e+00  0.00000000e+00\n  0.00000000e+00  0.00000000e+00  0.00000000e+00  0.00000000e+00\n  0.00000000e+00  0.00000000e+00  0.00000000e+00  0.00000000e+00\n  0.00000000e+00  0.00000000e+00  0.00000000e+00  0.00000000e+00\n  0.00000000e+00  0.00000000e+00  0.00000000e+00  0.00000000e+00\n  0.00000000e+00  0.00000000e+00  0.00000000e+00  0.00000000e+00\n  0.00000000e+00  0.00000000e+00  0.00000000e+00  0.00000000e+00\n  0.00000000e+00  0.00000000e+00  0.00000000e+00  0.00000000e+00\n  0.00000000e+00  0.00000000e+00  0.00000000e+00  0.00000000e+00\n  0.00000000e+00  0.00000000e+00  0.00000000e+00  0.00000000e+00\n  0.00000000e+00  0.00000000e+00  0.00000000e+00  0.00000000e+00\n  0.00000000e+00  0.00000000e+00  0.00000000e+00  0.00000000e+00\n  0.00000000e+00  0.00000000e+00  0.00000000e+00  0.00000000e+00\n  0.00000000e+00  0.00000000e+00  0.00000000e+00  0.00000000e+00\n  0.00000000e+00  0.00000000e+00  0.00000000e+00  0.00000000e+00\n  0.00000000e+00  0.00000000e+00  0.00000000e+00  0.00000000e+00\n  0.00000000e+00  0.00000000e+00  0.00000000e+00  0.00000000e+00\n  0.00000000e+00  0.00000000e+00  0.00000000e+00  0.00000000e+00\n  1.04977232e-02  3.27348238e+02  9.64642105e-01  4.62936886e+03\n  2.39225193e-01  2.41735735e+02  1.81901272e+04  7.97436976e+00\n  1.22015107e+01  2.23515131e-04  4.83212476e+00 -2.78176360e-01\n  9.89145003e-01  1.32396543e-03  3.42420061e-08  1.23889487e-10\n  6.84617162e-11  4.30085093e-21  9.87384062e-15 -4.61046673e-21].\nReshape your data either using array.reshape(-1, 1) if your data has a single feature or array.reshape(1, -1) if it contains a single sample."
          ]
        }
      ]
    }
  ]
}