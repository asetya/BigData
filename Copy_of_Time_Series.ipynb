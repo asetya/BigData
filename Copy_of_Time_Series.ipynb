{
  "nbformat": 4,
  "nbformat_minor": 0,
  "metadata": {
    "colab": {
      "name": "Copy of Time_Series",
      "provenance": [],
      "collapsed_sections": [],
      "authorship_tag": "ABX9TyNZ4HBCfw0vTXVWIJl39K+V",
      "include_colab_link": true
    },
    "kernelspec": {
      "name": "python3",
      "display_name": "Python 3"
    }
  },
  "cells": [
    {
      "cell_type": "markdown",
      "metadata": {
        "id": "view-in-github",
        "colab_type": "text"
      },
      "source": [
        "<a href=\"https://colab.research.google.com/github/asetya/BigData/blob/master/Copy_of_Time_Series.ipynb\" target=\"_parent\"><img src=\"https://colab.research.google.com/assets/colab-badge.svg\" alt=\"Open In Colab\"/></a>"
      ]
    },
    {
      "cell_type": "markdown",
      "metadata": {
        "id": "okUFqlrGGZDh",
        "colab_type": "text"
      },
      "source": [
        "**Praktikum Prediksi Time Series** \n",
        "\n",
        "Arief Setyanto \n",
        "\n",
        "Data runtun waktu merupakan data yang berurutan, dimana urutan berpengaruh artinya jika urutannya di balik data akan memiliki makna yang berbeda. \n",
        "Data sequensial ada cukup banyak misalnya data harga saham harian, data suara, data text yang misalkan berbunyi \"saya makan tahu\", jika di balik \"tahu makan saya\" maka maknanya akan berubah. \n",
        "\n",
        "Dalam tulisan ini di buat sebuah contoh data runtun waktu dari tahun 15 Juli 2010 sampai 15 Juli 2020 - saat tutorial ini dibuat dari data fluktuasi harga saham yang dapat di download di sini : https://ca.finance.yahoo.com/quote/%5Evix/history?ltr=1\n",
        "\n",
        "Tentunya jika anda memiliki data lain dengan mudah bisa disesuaikan. \n",
        "Materi ini di adaptasi dari : https://mc.ai/an-introduction-on-time-series-forecasting-with-simple-neura-networks-lstm/\n",
        "dengan beberapa catatan penyesuaian : \n",
        "1. untuk spliting data saya tidak menggunakan library Timestamp dari  Library Panda\n",
        "2. Untuk data training dan data testing tidak dilakukan pengacakan random karena sifat data time series yang tergantung urutan waktu maka pengacakan menjadi tidak masuk akal - (silakan lihat tutorial aslinya) jika dipakai pengacakan hasil forecasting akan menjadi buruk\n",
        "\n",
        "\n",
        "\n",
        "Import Library "
      ]
    },
    {
      "cell_type": "code",
      "metadata": {
        "id": "QGWl83EDRFGA",
        "colab_type": "code",
        "colab": {}
      },
      "source": [
        "import pandas as pd\n",
        "import numpy as np\n",
        "%matplotlib inline\n",
        "import matplotlib.pyplot as plt\n",
        "from sklearn.preprocessing import MinMaxScaler\n",
        "from sklearn.metrics import r2_score\n",
        "from keras.models import Sequential\n",
        "from keras.layers import Dense\n",
        "from keras.callbacks import EarlyStopping\n",
        "from keras.optimizers import Adam\n",
        "from keras.layers import LSTM"
      ],
      "execution_count": null,
      "outputs": []
    },
    {
      "cell_type": "markdown",
      "metadata": {
        "id": "IFHCbhxsIe7-",
        "colab_type": "text"
      },
      "source": [
        "Siapkan tempat untuk menyimpan file di google colab- jika anda menggunakan tutorial ini d komputer lokal, langkah ini tidak perlu "
      ]
    },
    {
      "cell_type": "code",
      "metadata": {
        "id": "EQauVx9DTIn4",
        "colab_type": "code",
        "colab": {
          "base_uri": "https://localhost:8080/",
          "height": 122
        },
        "outputId": "6290dea2-8d3f-480e-f7e4-5aa2b690f37a"
      },
      "source": [
        "from google.colab import drive\n",
        "drive.mount('/content/drive')"
      ],
      "execution_count": null,
      "outputs": [
        {
          "output_type": "stream",
          "text": [
            "Go to this URL in a browser: https://accounts.google.com/o/oauth2/auth?client_id=947318989803-6bn6qk8qdgf4n4g3pfee6491hc0brc4i.apps.googleusercontent.com&redirect_uri=urn%3aietf%3awg%3aoauth%3a2.0%3aoob&response_type=code&scope=email%20https%3a%2f%2fwww.googleapis.com%2fauth%2fdocs.test%20https%3a%2f%2fwww.googleapis.com%2fauth%2fdrive%20https%3a%2f%2fwww.googleapis.com%2fauth%2fdrive.photos.readonly%20https%3a%2f%2fwww.googleapis.com%2fauth%2fpeopleapi.readonly\n",
            "\n",
            "Enter your authorization code:\n",
            "··········\n",
            "Mounted at /content/drive\n"
          ],
          "name": "stdout"
        }
      ]
    },
    {
      "cell_type": "markdown",
      "metadata": {
        "id": "lI1Ma-MXIoyH",
        "colab_type": "text"
      },
      "source": [
        "Mengcopy file data dari lokal ke google colab "
      ]
    },
    {
      "cell_type": "code",
      "metadata": {
        "id": "5D2tfhuNUEtl",
        "colab_type": "code",
        "colab": {}
      },
      "source": [
        "!cp /content/drive/My\\ Drive/20102020VIX.csv /content/\n"
      ],
      "execution_count": null,
      "outputs": []
    },
    {
      "cell_type": "markdown",
      "metadata": {
        "id": "NcJfdJS-IuPl",
        "colab_type": "text"
      },
      "source": [
        "Mambaca file csv (jika anda memiliki file dengan format lain dapat disesuaikan) "
      ]
    },
    {
      "cell_type": "code",
      "metadata": {
        "id": "lE-Wg2wRRlfJ",
        "colab_type": "code",
        "colab": {}
      },
      "source": [
        "df = pd.read_csv(\"20102020VIX.csv\")"
      ],
      "execution_count": null,
      "outputs": []
    },
    {
      "cell_type": "markdown",
      "metadata": {
        "id": "iF_thog3I3kG",
        "colab_type": "text"
      },
      "source": [
        "Menampilkan data data pada dataframe (df) kita"
      ]
    },
    {
      "cell_type": "code",
      "metadata": {
        "id": "PuxxgcVAUglt",
        "colab_type": "code",
        "colab": {
          "base_uri": "https://localhost:8080/",
          "height": 235
        },
        "outputId": "35ae6187-a0a1-4d40-cf6b-a1feedce888c"
      },
      "source": [
        "df.head()"
      ],
      "execution_count": null,
      "outputs": [
        {
          "output_type": "execute_result",
          "data": {
            "text/html": [
              "<div>\n",
              "<style scoped>\n",
              "    .dataframe tbody tr th:only-of-type {\n",
              "        vertical-align: middle;\n",
              "    }\n",
              "\n",
              "    .dataframe tbody tr th {\n",
              "        vertical-align: top;\n",
              "    }\n",
              "\n",
              "    .dataframe thead th {\n",
              "        text-align: right;\n",
              "    }\n",
              "</style>\n",
              "<table border=\"1\" class=\"dataframe\">\n",
              "  <thead>\n",
              "    <tr style=\"text-align: right;\">\n",
              "      <th></th>\n",
              "      <th>Adj Close</th>\n",
              "    </tr>\n",
              "    <tr>\n",
              "      <th>Date</th>\n",
              "      <th></th>\n",
              "    </tr>\n",
              "  </thead>\n",
              "  <tbody>\n",
              "    <tr>\n",
              "      <th>2010-07-15</th>\n",
              "      <td>25.139999</td>\n",
              "    </tr>\n",
              "    <tr>\n",
              "      <th>2010-07-16</th>\n",
              "      <td>26.250000</td>\n",
              "    </tr>\n",
              "    <tr>\n",
              "      <th>2010-07-19</th>\n",
              "      <td>25.969999</td>\n",
              "    </tr>\n",
              "    <tr>\n",
              "      <th>2010-07-20</th>\n",
              "      <td>23.930000</td>\n",
              "    </tr>\n",
              "    <tr>\n",
              "      <th>2010-07-21</th>\n",
              "      <td>25.639999</td>\n",
              "    </tr>\n",
              "  </tbody>\n",
              "</table>\n",
              "</div>"
            ],
            "text/plain": [
              "            Adj Close\n",
              "Date                 \n",
              "2010-07-15  25.139999\n",
              "2010-07-16  26.250000\n",
              "2010-07-19  25.969999\n",
              "2010-07-20  23.930000\n",
              "2010-07-21  25.639999"
            ]
          },
          "metadata": {
            "tags": []
          },
          "execution_count": 168
        }
      ]
    },
    {
      "cell_type": "markdown",
      "metadata": {
        "id": "TjhssrcIJAM0",
        "colab_type": "text"
      },
      "source": [
        "Membuang kolom yang tidak diperlukan "
      ]
    },
    {
      "cell_type": "code",
      "metadata": {
        "id": "sHA942CAZF7r",
        "colab_type": "code",
        "colab": {
          "base_uri": "https://localhost:8080/",
          "height": 450
        },
        "outputId": "95dcdafc-e8e1-4667-e332-4b880b452a32"
      },
      "source": [
        "df.drop(['Open', 'High', 'Low', 'Close', 'Volume'], axis=1, inplace=True)\n",
        "df['Date'] = pd.to_datetime(df['Date'])\n",
        "ind_df = df.set_index(['Date'], drop=True)\n",
        "ind_df\n"
      ],
      "execution_count": null,
      "outputs": [
        {
          "output_type": "execute_result",
          "data": {
            "text/html": [
              "<div>\n",
              "<style scoped>\n",
              "    .dataframe tbody tr th:only-of-type {\n",
              "        vertical-align: middle;\n",
              "    }\n",
              "\n",
              "    .dataframe tbody tr th {\n",
              "        vertical-align: top;\n",
              "    }\n",
              "\n",
              "    .dataframe thead th {\n",
              "        text-align: right;\n",
              "    }\n",
              "</style>\n",
              "<table border=\"1\" class=\"dataframe\">\n",
              "  <thead>\n",
              "    <tr style=\"text-align: right;\">\n",
              "      <th></th>\n",
              "      <th>Adj Close</th>\n",
              "    </tr>\n",
              "    <tr>\n",
              "      <th>Date</th>\n",
              "      <th></th>\n",
              "    </tr>\n",
              "  </thead>\n",
              "  <tbody>\n",
              "    <tr>\n",
              "      <th>2010-07-15</th>\n",
              "      <td>25.139999</td>\n",
              "    </tr>\n",
              "    <tr>\n",
              "      <th>2010-07-16</th>\n",
              "      <td>26.250000</td>\n",
              "    </tr>\n",
              "    <tr>\n",
              "      <th>2010-07-19</th>\n",
              "      <td>25.969999</td>\n",
              "    </tr>\n",
              "    <tr>\n",
              "      <th>2010-07-20</th>\n",
              "      <td>23.930000</td>\n",
              "    </tr>\n",
              "    <tr>\n",
              "      <th>2010-07-21</th>\n",
              "      <td>25.639999</td>\n",
              "    </tr>\n",
              "    <tr>\n",
              "      <th>...</th>\n",
              "      <td>...</td>\n",
              "    </tr>\n",
              "    <tr>\n",
              "      <th>2020-07-08</th>\n",
              "      <td>28.080000</td>\n",
              "    </tr>\n",
              "    <tr>\n",
              "      <th>2020-07-09</th>\n",
              "      <td>29.260000</td>\n",
              "    </tr>\n",
              "    <tr>\n",
              "      <th>2020-07-10</th>\n",
              "      <td>27.290001</td>\n",
              "    </tr>\n",
              "    <tr>\n",
              "      <th>2020-07-13</th>\n",
              "      <td>32.189999</td>\n",
              "    </tr>\n",
              "    <tr>\n",
              "      <th>2020-07-14</th>\n",
              "      <td>29.520000</td>\n",
              "    </tr>\n",
              "  </tbody>\n",
              "</table>\n",
              "<p>2517 rows × 1 columns</p>\n",
              "</div>"
            ],
            "text/plain": [
              "            Adj Close\n",
              "Date                 \n",
              "2010-07-15  25.139999\n",
              "2010-07-16  26.250000\n",
              "2010-07-19  25.969999\n",
              "2010-07-20  23.930000\n",
              "2010-07-21  25.639999\n",
              "...               ...\n",
              "2020-07-08  28.080000\n",
              "2020-07-09  29.260000\n",
              "2020-07-10  27.290001\n",
              "2020-07-13  32.189999\n",
              "2020-07-14  29.520000\n",
              "\n",
              "[2517 rows x 1 columns]"
            ]
          },
          "metadata": {
            "tags": []
          },
          "execution_count": 148
        }
      ]
    },
    {
      "cell_type": "markdown",
      "metadata": {
        "id": "V84KevusJHy8",
        "colab_type": "text"
      },
      "source": [
        "Mengurutkan data berdasarkan indexnya - pada bagian program sebelumnya di tentukan indeksnya adalah date\n",
        "\n",
        "Memplot kolom 'Adj Close' secara berurutan berdasarkan waktu"
      ]
    },
    {
      "cell_type": "code",
      "metadata": {
        "id": "3UhNOEr6ZSQY",
        "colab_type": "code",
        "colab": {
          "base_uri": "https://localhost:8080/",
          "height": 367
        },
        "outputId": "fd35c4b5-45cd-4196-82dd-9f656cfd259d"
      },
      "source": [
        "nd_df = ind_df.sort_index()\n",
        "plt.figure(figsize=(10, 6))\n",
        "ind_df['Adj Close'].plot();"
      ],
      "execution_count": null,
      "outputs": [
        {
          "output_type": "display_data",
          "data": {
            "image/png": "[encoded data removed]",
            "text/plain": [
              "<Figure size 720x432 with 1 Axes>"
            ]
          },
          "metadata": {
            "tags": [],
            "needs_background": "light"
          }
        }
      ]
    },
    {
      "cell_type": "markdown",
      "metadata": {
        "id": "nH54hBx_JcLM",
        "colab_type": "text"
      },
      "source": [
        "Memisahkan dataset menjadai data latih (train) dan data uji (test) \n",
        "\n",
        "Dalam contoh ini batas tanggalnya adalah 2017-07-21 - tanggal ini bisa anda tentukan sendiri \n",
        "\n",
        "dilanjutkan dengan memplot pada grafik runtun waktu - yang berwarnba biru adalah data latih sedangkan orange adalah data test. \n"
      ]
    },
    {
      "cell_type": "code",
      "metadata": {
        "id": "G5tbYnrIZUVI",
        "colab_type": "code",
        "colab": {
          "base_uri": "https://localhost:8080/",
          "height": 286
        },
        "outputId": "e7bb92a2-8ec7-4fe8-bb6b-ae806f0859cd"
      },
      "source": [
        "#split_date = pd.Timestamp('2018-01-01')\n",
        "#df  = df['Adj Close']\n",
        "df = df.set_index(['Date'], drop=True)\n",
        "train = df.loc[:'2017-07-21']\n",
        "test = df.loc['2017-07-22':]\n",
        "plt.figure(figsize=(10, 6))\n",
        "ax = train.plot()\n",
        "test.plot(ax=ax)\n",
        "plt.legend(['train', 'test']);"
      ],
      "execution_count": null,
      "outputs": [
        {
          "output_type": "display_data",
          "data": {
            "text/plain": [
              "<Figure size 720x432 with 0 Axes>"
            ]
          },
          "metadata": {
            "tags": []
          }
        },
        {
          "output_type": "display_data",
          "data": {
            "image/png": "[encoded data removed]",
            "text/plain": [
              "<Figure size 432x288 with 1 Axes>"
            ]
          },
          "metadata": {
            "tags": [],
            "needs_background": "light"
          }
        }
      ]
    },
    {
      "cell_type": "markdown",
      "metadata": {
        "id": "w8RUpkd0KWyt",
        "colab_type": "text"
      },
      "source": [
        "menampilkan ukuran (shape dari data train) "
      ]
    },
    {
      "cell_type": "code",
      "metadata": {
        "id": "vRbDiHd-jmu2",
        "colab_type": "code",
        "colab": {
          "base_uri": "https://localhost:8080/",
          "height": 34
        },
        "outputId": "6eace7b7-2800-4610-c800-9bf409ced257"
      },
      "source": [
        "train.shape"
      ],
      "execution_count": null,
      "outputs": [
        {
          "output_type": "execute_result",
          "data": {
            "text/plain": [
              "(1768, 1)"
            ]
          },
          "metadata": {
            "tags": []
          },
          "execution_count": 169
        }
      ]
    },
    {
      "cell_type": "markdown",
      "metadata": {
        "id": "FhjlPfcqKbcE",
        "colab_type": "text"
      },
      "source": [
        "Menampilkan ukuran (shape) dari data uji "
      ]
    },
    {
      "cell_type": "code",
      "metadata": {
        "id": "vZlnCE38Kho0",
        "colab_type": "code",
        "colab": {}
      },
      "source": [
        "test.shape"
      ],
      "execution_count": null,
      "outputs": []
    },
    {
      "cell_type": "markdown",
      "metadata": {
        "id": "HFi82ZJbKjfr",
        "colab_type": "text"
      },
      "source": [
        "Mengatur skala menggunakan scaler menjadi antara -1 sampai dengan 1 untuk data training maupun data testing \n"
      ]
    },
    {
      "cell_type": "code",
      "metadata": {
        "id": "9qUHv0XrjX1c",
        "colab_type": "code",
        "colab": {}
      },
      "source": [
        "scaler = MinMaxScaler(feature_range=(-1, 1))\n",
        "train_sc = scaler.fit_transform(train)\n",
        "test_sc = scaler.transform(test)"
      ],
      "execution_count": null,
      "outputs": []
    },
    {
      "cell_type": "markdown",
      "metadata": {
        "id": "TXfvSEArKw9p",
        "colab_type": "text"
      },
      "source": [
        "menampilkan shape dari data training setelah di atur ulang skalanya"
      ]
    },
    {
      "cell_type": "code",
      "metadata": {
        "id": "egFyc33hB-6I",
        "colab_type": "code",
        "colab": {
          "base_uri": "https://localhost:8080/",
          "height": 34
        },
        "outputId": "6acbd928-9f2c-498f-aeef-aaf813e0b584"
      },
      "source": [
        "train_sc.shape\n"
      ],
      "execution_count": null,
      "outputs": [
        {
          "output_type": "execute_result",
          "data": {
            "text/plain": [
              "(1768, 1)"
            ]
          },
          "metadata": {
            "tags": []
          },
          "execution_count": 153
        }
      ]
    },
    {
      "cell_type": "code",
      "metadata": {
        "id": "a1EnEOFlCIk6",
        "colab_type": "code",
        "colab": {
          "base_uri": "https://localhost:8080/",
          "height": 34
        },
        "outputId": "48753602-1c46-4080-9c25-b03acc71f7e6"
      },
      "source": [
        "test_sc.shape"
      ],
      "execution_count": null,
      "outputs": [
        {
          "output_type": "execute_result",
          "data": {
            "text/plain": [
              "(749, 1)"
            ]
          },
          "metadata": {
            "tags": []
          },
          "execution_count": 154
        }
      ]
    },
    {
      "cell_type": "code",
      "metadata": {
        "id": "MJ_4jmc7mCy-",
        "colab_type": "code",
        "colab": {}
      },
      "source": [
        "#np.random.shuffle(train_sc)"
      ],
      "execution_count": null,
      "outputs": []
    },
    {
      "cell_type": "markdown",
      "metadata": {
        "id": "d3jJ_BUIK7Zk",
        "colab_type": "text"
      },
      "source": [
        "Mengatur X_train dan y_train untuk melatih sistem menggunakan Neural Network "
      ]
    },
    {
      "cell_type": "code",
      "metadata": {
        "id": "gHkKVPFVmIaZ",
        "colab_type": "code",
        "colab": {}
      },
      "source": [
        "X_train = train_sc[:-1]\n",
        "y_train = train_sc[1:]"
      ],
      "execution_count": null,
      "outputs": []
    },
    {
      "cell_type": "code",
      "metadata": {
        "id": "nvE1a1YKCX6h",
        "colab_type": "code",
        "colab": {
          "base_uri": "https://localhost:8080/",
          "height": 102
        },
        "outputId": "54fb94df-e1b0-49ec-8f90-5c5beee960de"
      },
      "source": [
        "X_train[0:5]"
      ],
      "execution_count": null,
      "outputs": [
        {
          "output_type": "execute_result",
          "data": {
            "text/plain": [
              "array([[-0.51086962],\n",
              "       [-0.60455487],\n",
              "       [-0.36387164],\n",
              "       [-0.79037267],\n",
              "       [-0.73395445]])"
            ]
          },
          "metadata": {
            "tags": []
          },
          "execution_count": 145
        }
      ]
    },
    {
      "cell_type": "code",
      "metadata": {
        "id": "O-9l5XmtCh7Z",
        "colab_type": "code",
        "colab": {
          "base_uri": "https://localhost:8080/",
          "height": 102
        },
        "outputId": "a310883b-992b-4811-8569-b3e34abf36f3"
      },
      "source": [
        "y_train[0:5]"
      ],
      "execution_count": null,
      "outputs": [
        {
          "output_type": "execute_result",
          "data": {
            "text/plain": [
              "array([[-0.60455487],\n",
              "       [-0.36387164],\n",
              "       [-0.79037267],\n",
              "       [-0.73395445],\n",
              "       [-0.59161491]])"
            ]
          },
          "metadata": {
            "tags": []
          },
          "execution_count": 146
        }
      ]
    },
    {
      "cell_type": "markdown",
      "metadata": {
        "id": "vIf5IHs5LEkv",
        "colab_type": "text"
      },
      "source": [
        "Membuat Arsitektur Neural Network dan memberikan pelatihan untuk mencari parameter terbaiknya dengan epoch (iterasi maksimum) sebanyak 100 \n"
      ]
    },
    {
      "cell_type": "code",
      "metadata": {
        "id": "-JE57so8mPOE",
        "colab_type": "code",
        "colab": {
          "base_uri": "https://localhost:8080/",
          "height": 952
        },
        "outputId": "f7b38d83-661e-4178-d54d-76e982245b8a"
      },
      "source": [
        "nn_model = Sequential()\n",
        "nn_model.add(Dense(12, input_dim=1, activation='relu'))\n",
        "nn_model.add(Dense(1))\n",
        "nn_model.compile(loss='mean_squared_error', optimizer='adam')\n",
        "early_stop = EarlyStopping(monitor='loss', patience=2, verbose=1)\n",
        "history = nn_model.fit(X_train, y_train, epochs=100, batch_size=1, verbose=1, callbacks=[early_stop], shuffle=False)"
      ],
      "execution_count": null,
      "outputs": [
        {
          "output_type": "stream",
          "text": [
            "Epoch 1/100\n",
            "1767/1767 [==============================] - 1s 818us/step - loss: 0.0104\n",
            "Epoch 2/100\n",
            "1767/1767 [==============================] - 1s 812us/step - loss: 0.0066\n",
            "Epoch 3/100\n",
            "1767/1767 [==============================] - 1s 810us/step - loss: 0.0063\n",
            "Epoch 4/100\n",
            "1767/1767 [==============================] - 1s 806us/step - loss: 0.0063\n",
            "Epoch 5/100\n",
            "1767/1767 [==============================] - 1s 799us/step - loss: 0.0062\n",
            "Epoch 6/100\n",
            "1767/1767 [==============================] - 1s 822us/step - loss: 0.0062\n",
            "Epoch 7/100\n",
            "1767/1767 [==============================] - 1s 816us/step - loss: 0.0062\n",
            "Epoch 8/100\n",
            "1767/1767 [==============================] - 1s 811us/step - loss: 0.0062\n",
            "Epoch 9/100\n",
            "1767/1767 [==============================] - 1s 818us/step - loss: 0.0061\n",
            "Epoch 10/100\n",
            "1767/1767 [==============================] - 1s 822us/step - loss: 0.0061\n",
            "Epoch 11/100\n",
            "1767/1767 [==============================] - 1s 817us/step - loss: 0.0061\n",
            "Epoch 12/100\n",
            "1767/1767 [==============================] - 1s 817us/step - loss: 0.0061\n",
            "Epoch 13/100\n",
            "1767/1767 [==============================] - 1s 823us/step - loss: 0.0061\n",
            "Epoch 14/100\n",
            "1767/1767 [==============================] - 1s 838us/step - loss: 0.0061\n",
            "Epoch 15/100\n",
            "1767/1767 [==============================] - 1s 814us/step - loss: 0.0061\n",
            "Epoch 16/100\n",
            "1767/1767 [==============================] - 1s 818us/step - loss: 0.0061\n",
            "Epoch 17/100\n",
            "1767/1767 [==============================] - 1s 812us/step - loss: 0.0061\n",
            "Epoch 18/100\n",
            "1767/1767 [==============================] - 1s 819us/step - loss: 0.0061\n",
            "Epoch 19/100\n",
            "1767/1767 [==============================] - 1s 816us/step - loss: 0.0061\n",
            "Epoch 20/100\n",
            "1767/1767 [==============================] - 1s 805us/step - loss: 0.0061\n",
            "Epoch 21/100\n",
            "1767/1767 [==============================] - 1s 811us/step - loss: 0.0061\n",
            "Epoch 22/100\n",
            "1767/1767 [==============================] - 1s 808us/step - loss: 0.0061\n",
            "Epoch 23/100\n",
            "1767/1767 [==============================] - 1s 818us/step - loss: 0.0061\n",
            "Epoch 24/100\n",
            "1767/1767 [==============================] - 1s 817us/step - loss: 0.0061\n",
            "Epoch 25/100\n",
            "1767/1767 [==============================] - 1s 808us/step - loss: 0.0061\n",
            "Epoch 26/100\n",
            "1767/1767 [==============================] - 1s 815us/step - loss: 0.0061\n",
            "Epoch 27/100\n",
            "1767/1767 [==============================] - 1s 816us/step - loss: 0.0061\n",
            "Epoch 00027: early stopping\n"
          ],
          "name": "stdout"
        }
      ]
    },
    {
      "cell_type": "markdown",
      "metadata": {
        "id": "YD_uJNueLVB3",
        "colab_type": "text"
      },
      "source": [
        "Membuat X_test dan Y_test dari data uji yang sudah diatur skalanya"
      ]
    },
    {
      "cell_type": "code",
      "metadata": {
        "colab_type": "code",
        "id": "iOmJJ0HenE1G",
        "colab": {}
      },
      "source": [
        "X_test = test_sc[:-1]\n",
        "y_test = test_sc[1:]"
      ],
      "execution_count": null,
      "outputs": []
    },
    {
      "cell_type": "markdown",
      "metadata": {
        "id": "5pwH0ZmuLebM",
        "colab_type": "text"
      },
      "source": [
        "Menggunakan model untuk memprediksi y_train dan y_test lalu menampillan skornya"
      ]
    },
    {
      "cell_type": "code",
      "metadata": {
        "id": "Maqfy7BGm57S",
        "colab_type": "code",
        "colab": {
          "base_uri": "https://localhost:8080/",
          "height": 51
        },
        "outputId": "27a516d1-b8b3-47e4-ca92-0ea9627145d4"
      },
      "source": [
        "y_pred_test_nn = nn_model.predict(X_test)\n",
        "y_train_pred_nn = nn_model.predict(X_train)\n",
        "print(\"The R2 score on the Train set is:\\t{:0.3f}\".format(r2_score(y_train, y_train_pred_nn)))\n",
        "print(\"The R2 score on the Test set is:\\t{:0.3f}\".format(r2_score(y_test, y_pred_test_nn)))"
      ],
      "execution_count": null,
      "outputs": [
        {
          "output_type": "stream",
          "text": [
            "The R2 score on the Train set is:\t0.907\n",
            "The R2 score on the Test set is:\t0.860\n"
          ],
          "name": "stdout"
        }
      ]
    },
    {
      "cell_type": "markdown",
      "metadata": {
        "id": "GtwXJaRxLrIj",
        "colab_type": "text"
      },
      "source": [
        "Mengubah matrix masukan X_train untuk dimensinya disesuaikan dengan masukan yang diminta oleh LSTM "
      ]
    },
    {
      "cell_type": "code",
      "metadata": {
        "id": "MFBnVt4kBPPq",
        "colab_type": "code",
        "colab": {
          "base_uri": "https://localhost:8080/",
          "height": 51
        },
        "outputId": "a63a8940-ea59-4b76-db24-6c60d1af4067"
      },
      "source": [
        "\n",
        "\n",
        "X_train_lmse = X_train.reshape(X_train.shape[0], X_train.shape[1], 1)\n",
        "X_test_lmse = X_test.reshape(X_test.shape[0], X_test.shape[1], 1)\n",
        "\n",
        "print('Train shape: ', X_train_lmse.shape)\n",
        "print('Test shape: ', X_test_lmse.shape)"
      ],
      "execution_count": null,
      "outputs": [
        {
          "output_type": "stream",
          "text": [
            "Train shape:  (1767, 1, 1)\n",
            "Test shape:  (748, 1, 1)\n"
          ],
          "name": "stdout"
        }
      ]
    },
    {
      "cell_type": "markdown",
      "metadata": {
        "id": "m4lPD4VeLzcF",
        "colab_type": "text"
      },
      "source": [
        "Membuat arsitektur LSTM dan melatih LTSM menggunakan x_train_lmse - yang sudah disesuaikan dimensinya "
      ]
    },
    {
      "cell_type": "code",
      "metadata": {
        "id": "HYDodjeeoHPo",
        "colab_type": "code",
        "colab": {
          "base_uri": "https://localhost:8080/",
          "height": 595
        },
        "outputId": "1253ad6e-e874-40eb-e596-7f28991660a6"
      },
      "source": [
        "lstm_model = Sequential()\n",
        "lstm_model.add(LSTM(7, input_shape=(1, X_train.shape[1]), activation='relu', kernel_initializer='lecun_uniform', return_sequences=False))\n",
        "lstm_model.add(Dense(1))\n",
        "lstm_model.compile(loss='mean_squared_error', optimizer='adam')\n",
        "early_stop = EarlyStopping(monitor='loss', patience=2, verbose=1)\n",
        "print(lstm_model)\n",
        "history_lstm_model = lstm_model.fit(X_train_lmse, y_train, epochs=100, batch_size=1, verbose=1, shuffle=False, callbacks=[early_stop])"
      ],
      "execution_count": null,
      "outputs": [
        {
          "output_type": "stream",
          "text": [
            "<keras.engine.sequential.Sequential object at 0x7f7104c33208>\n",
            "Epoch 1/100\n",
            "1767/1767 [==============================] - 3s 2ms/step - loss: 0.0203\n",
            "Epoch 2/100\n",
            "1767/1767 [==============================] - 2s 1ms/step - loss: 0.0079\n",
            "Epoch 3/100\n",
            "1767/1767 [==============================] - 2s 1ms/step - loss: 0.0063\n",
            "Epoch 4/100\n",
            "1767/1767 [==============================] - 2s 1ms/step - loss: 0.0062\n",
            "Epoch 5/100\n",
            "1767/1767 [==============================] - 2s 1ms/step - loss: 0.0061\n",
            "Epoch 6/100\n",
            "1767/1767 [==============================] - 2s 1ms/step - loss: 0.0061\n",
            "Epoch 7/100\n",
            "1767/1767 [==============================] - 2s 1ms/step - loss: 0.0061\n",
            "Epoch 8/100\n",
            "1767/1767 [==============================] - 2s 1ms/step - loss: 0.0061\n",
            "Epoch 9/100\n",
            "1767/1767 [==============================] - 2s 1ms/step - loss: 0.0061\n",
            "Epoch 10/100\n",
            "1767/1767 [==============================] - 2s 1ms/step - loss: 0.0061\n",
            "Epoch 11/100\n",
            "1767/1767 [==============================] - 2s 1ms/step - loss: 0.0061\n",
            "Epoch 12/100\n",
            "1767/1767 [==============================] - 2s 1ms/step - loss: 0.0061\n",
            "Epoch 13/100\n",
            "1767/1767 [==============================] - 2s 1ms/step - loss: 0.0061\n",
            "Epoch 14/100\n",
            "1767/1767 [==============================] - 2s 1ms/step - loss: 0.0061\n",
            "Epoch 15/100\n",
            "1767/1767 [==============================] - 2s 1ms/step - loss: 0.0061\n",
            "Epoch 16/100\n",
            "1767/1767 [==============================] - 2s 1ms/step - loss: 0.0061\n",
            "Epoch 00016: early stopping\n"
          ],
          "name": "stdout"
        }
      ]
    },
    {
      "cell_type": "markdown",
      "metadata": {
        "id": "o8bee8_hMAlb",
        "colab_type": "text"
      },
      "source": [
        "Menggunakan model yang diperoleh untuk memprediksi y_yest dan y_train serta menampilkan hasilnya "
      ]
    },
    {
      "cell_type": "code",
      "metadata": {
        "id": "x97-kJaRE41a",
        "colab_type": "code",
        "colab": {
          "base_uri": "https://localhost:8080/",
          "height": 51
        },
        "outputId": "c8137c92-6678-4500-d4fc-a0047e6344e6"
      },
      "source": [
        "y_pred_test_lstm = lstm_model.predict(X_test_lmse)\n",
        "y_train_pred_lstm = lstm_model.predict(X_train_lmse)\n",
        "print(\"The R2 score on the Train set is:\\t{:0.3f}\".format(r2_score(y_train, y_train_pred_lstm)))\n",
        "print(\"The R2 score on the Test set is:\\t{:0.3f}\".format(r2_score(y_test, y_pred_test_lstm)))"
      ],
      "execution_count": null,
      "outputs": [
        {
          "output_type": "stream",
          "text": [
            "The R2 score on the Train set is:\t0.906\n",
            "The R2 score on the Test set is:\t0.907\n"
          ],
          "name": "stdout"
        }
      ]
    },
    {
      "cell_type": "markdown",
      "metadata": {
        "id": "zWpCby3mMIl6",
        "colab_type": "text"
      },
      "source": [
        "Membandingkan kedua alghortima (NN dan LSTM) dengan mengecek MSE (mean square error) yang diperoleh "
      ]
    },
    {
      "cell_type": "code",
      "metadata": {
        "id": "MS09K6dkE_Rn",
        "colab_type": "code",
        "colab": {
          "base_uri": "https://localhost:8080/",
          "height": 85
        },
        "outputId": "d1d0dba1-1a41-4b49-ee65-ad366f0dd9ca"
      },
      "source": [
        "nn_test_mse = nn_model.evaluate(X_test, y_test, batch_size=1)\n",
        "lstm_test_mse = lstm_model.evaluate(X_test_lmse, y_test, batch_size=1)\n",
        "print('NN: %f'%nn_test_mse)\n",
        "print('LSTM: %f'%lstm_test_mse)"
      ],
      "execution_count": null,
      "outputs": [
        {
          "output_type": "stream",
          "text": [
            "748/748 [==============================] - 0s 405us/step\n",
            "748/748 [==============================] - 0s 576us/step\n",
            "NN: 0.039347\n",
            "LSTM: 0.026051\n"
          ],
          "name": "stdout"
        }
      ]
    },
    {
      "cell_type": "markdown",
      "metadata": {
        "id": "svQF7jKzMQws",
        "colab_type": "text"
      },
      "source": [
        "Menggunakan model dan di test menggunakan data testing menggunakan model NN dan LSTM yang sudah dilatih pada tahap sebelumnya"
      ]
    },
    {
      "cell_type": "code",
      "metadata": {
        "id": "d47X-FHtFFL3",
        "colab_type": "code",
        "colab": {}
      },
      "source": [
        "nn_y_pred_test = nn_model.predict(X_test)\n",
        "lstm_y_pred_test = lstm_model.predict(X_test_lmse)"
      ],
      "execution_count": null,
      "outputs": []
    },
    {
      "cell_type": "markdown",
      "metadata": {
        "id": "DnqFtwjuMUyS",
        "colab_type": "text"
      },
      "source": [
        "Menampilkan (plot) hasil forecasting dan data asli untyuk forecasting dengan NN "
      ]
    },
    {
      "cell_type": "code",
      "metadata": {
        "id": "4yDXRz27FKVX",
        "colab_type": "code",
        "colab": {
          "base_uri": "https://localhost:8080/",
          "height": 404
        },
        "outputId": "339d8f8b-36d2-4fef-9d91-10c7072e3891"
      },
      "source": [
        "plt.figure(figsize=(10, 6))\n",
        "plt.plot(y_test, label='True')\n",
        "plt.plot(y_pred_test_nn, label='NN')\n",
        "plt.title(\"NN's Prediction\")\n",
        "plt.xlabel('Observation')\n",
        "plt.ylabel('Adj Close Scaled')\n",
        "plt.legend()\n",
        "plt.show();"
      ],
      "execution_count": null,
      "outputs": [
        {
          "output_type": "display_data",
          "data": {
            "image/png": "[encoded data removed]",
            "text/plain": [
              "<Figure size 720x432 with 1 Axes>"
            ]
          },
          "metadata": {
            "tags": [],
            "needs_background": "light"
          }
        }
      ]
    },
    {
      "cell_type": "markdown",
      "metadata": {
        "id": "fHiT0KGtMhJL",
        "colab_type": "text"
      },
      "source": [
        "Menampilkan (plot) hasil forecasting dan data asli untyuk forecasting dengan LSTM"
      ]
    },
    {
      "cell_type": "code",
      "metadata": {
        "id": "F00-O11YFVNm",
        "colab_type": "code",
        "colab": {
          "base_uri": "https://localhost:8080/",
          "height": 404
        },
        "outputId": "db7884f9-57c7-496d-c974-12dcd0cdcdcb"
      },
      "source": [
        "plt.figure(figsize=(10, 6))\n",
        "plt.plot(y_test, label='True')\n",
        "plt.plot(y_pred_test_lstm, label='LSTM')\n",
        "plt.title(\"LSTM's Prediction\")\n",
        "plt.xlabel('Observation')\n",
        "plt.ylabel('Adj Close scaled')\n",
        "plt.legend()\n",
        "plt.show()"
      ],
      "execution_count": null,
      "outputs": [
        {
          "output_type": "display_data",
          "data": {
            "image/png": "[encoded data removed]",
            "text/plain": [
              "<Figure size 720x432 with 1 Axes>"
            ]
          },
          "metadata": {
            "tags": [],
            "needs_background": "light"
          }
        }
      ]
    },
    {
      "cell_type": "markdown",
      "metadata": {
        "id": "5sN11PsiGXCG",
        "colab_type": "text"
      },
      "source": [
        ""
      ]
    }
  ]
}